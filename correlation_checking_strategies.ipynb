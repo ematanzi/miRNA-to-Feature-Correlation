{
 "cells": [
  {
   "cell_type": "markdown",
   "id": "4aaaa00b",
   "metadata": {},
   "source": [
    "# Correlation Checking Strategies"
   ]
  },
  {
   "cell_type": "markdown",
   "id": "64841f3f",
   "metadata": {},
   "source": [
    "## Pre-processing"
   ]
  },
  {
   "cell_type": "markdown",
   "id": "ef5b3b1b",
   "metadata": {},
   "source": [
    "### Installing Requirements and import libraries"
   ]
  },
  {
   "cell_type": "code",
   "execution_count": 17,
   "id": "91f00166",
   "metadata": {},
   "outputs": [
    {
     "name": "stdout",
     "output_type": "stream",
     "text": [
      "Requirement already satisfied: numpy in c:\\users\\e1204\\anaconda3\\lib\\site-packages (from -r requirements.txt (line 1)) (1.26.4)Note: you may need to restart the kernel to use updated packages.\n",
      "\n",
      "Requirement already satisfied: pandas in c:\\users\\e1204\\anaconda3\\lib\\site-packages (from -r requirements.txt (line 2)) (2.1.4)\n",
      "Requirement already satisfied: scikit-learn in c:\\users\\e1204\\anaconda3\\lib\\site-packages (from -r requirements.txt (line 3)) (1.2.2)\n",
      "Requirement already satisfied: matplotlib in c:\\users\\e1204\\anaconda3\\lib\\site-packages (from -r requirements.txt (line 4)) (3.8.0)\n",
      "Requirement already satisfied: seaborn in c:\\users\\e1204\\anaconda3\\lib\\site-packages (from -r requirements.txt (line 5)) (0.12.2)\n",
      "Requirement already satisfied: jupyter in c:\\users\\e1204\\anaconda3\\lib\\site-packages (from -r requirements.txt (line 6)) (1.0.0)\n",
      "Requirement already satisfied: scipy in c:\\users\\e1204\\anaconda3\\lib\\site-packages (from -r requirements.txt (line 7)) (1.11.4)\n",
      "Requirement already satisfied: shap in c:\\users\\e1204\\anaconda3\\lib\\site-packages (from -r requirements.txt (line 8)) (0.48.0)\n",
      "Requirement already satisfied: tqdm-joblib in c:\\users\\e1204\\anaconda3\\lib\\site-packages (from -r requirements.txt (line 9)) (0.0.4)\n",
      "Requirement already satisfied: python-dateutil>=2.8.2 in c:\\users\\e1204\\anaconda3\\lib\\site-packages (from pandas->-r requirements.txt (line 2)) (2.8.2)\n",
      "Requirement already satisfied: pytz>=2020.1 in c:\\users\\e1204\\anaconda3\\lib\\site-packages (from pandas->-r requirements.txt (line 2)) (2023.3.post1)\n",
      "Requirement already satisfied: tzdata>=2022.1 in c:\\users\\e1204\\anaconda3\\lib\\site-packages (from pandas->-r requirements.txt (line 2)) (2023.3)\n",
      "Requirement already satisfied: joblib>=1.1.1 in c:\\users\\e1204\\anaconda3\\lib\\site-packages (from scikit-learn->-r requirements.txt (line 3)) (1.2.0)\n",
      "Requirement already satisfied: threadpoolctl>=2.0.0 in c:\\users\\e1204\\anaconda3\\lib\\site-packages (from scikit-learn->-r requirements.txt (line 3)) (2.2.0)\n",
      "Requirement already satisfied: contourpy>=1.0.1 in c:\\users\\e1204\\anaconda3\\lib\\site-packages (from matplotlib->-r requirements.txt (line 4)) (1.2.0)\n",
      "Requirement already satisfied: cycler>=0.10 in c:\\users\\e1204\\anaconda3\\lib\\site-packages (from matplotlib->-r requirements.txt (line 4)) (0.11.0)\n",
      "Requirement already satisfied: fonttools>=4.22.0 in c:\\users\\e1204\\anaconda3\\lib\\site-packages (from matplotlib->-r requirements.txt (line 4)) (4.25.0)\n",
      "Requirement already satisfied: kiwisolver>=1.0.1 in c:\\users\\e1204\\anaconda3\\lib\\site-packages (from matplotlib->-r requirements.txt (line 4)) (1.4.4)\n",
      "Requirement already satisfied: packaging>=20.0 in c:\\users\\e1204\\anaconda3\\lib\\site-packages (from matplotlib->-r requirements.txt (line 4)) (23.1)\n",
      "Requirement already satisfied: pillow>=6.2.0 in c:\\users\\e1204\\anaconda3\\lib\\site-packages (from matplotlib->-r requirements.txt (line 4)) (10.2.0)\n",
      "Requirement already satisfied: pyparsing>=2.3.1 in c:\\users\\e1204\\anaconda3\\lib\\site-packages (from matplotlib->-r requirements.txt (line 4)) (3.0.9)\n",
      "Requirement already satisfied: notebook in c:\\users\\e1204\\anaconda3\\lib\\site-packages (from jupyter->-r requirements.txt (line 6)) (6.5.4)\n",
      "Requirement already satisfied: qtconsole in c:\\users\\e1204\\anaconda3\\lib\\site-packages (from jupyter->-r requirements.txt (line 6)) (5.4.2)\n",
      "Requirement already satisfied: jupyter-console in c:\\users\\e1204\\anaconda3\\lib\\site-packages (from jupyter->-r requirements.txt (line 6)) (6.6.3)\n",
      "Requirement already satisfied: nbconvert in c:\\users\\e1204\\anaconda3\\lib\\site-packages (from jupyter->-r requirements.txt (line 6)) (7.10.0)\n",
      "Requirement already satisfied: ipykernel in c:\\users\\e1204\\anaconda3\\lib\\site-packages (from jupyter->-r requirements.txt (line 6)) (6.28.0)\n",
      "Requirement already satisfied: ipywidgets in c:\\users\\e1204\\anaconda3\\lib\\site-packages (from jupyter->-r requirements.txt (line 6)) (7.6.5)\n",
      "Requirement already satisfied: tqdm>=4.27.0 in c:\\users\\e1204\\anaconda3\\lib\\site-packages (from shap->-r requirements.txt (line 8)) (4.65.0)\n",
      "Requirement already satisfied: slicer==0.0.8 in c:\\users\\e1204\\anaconda3\\lib\\site-packages (from shap->-r requirements.txt (line 8)) (0.0.8)\n",
      "Requirement already satisfied: numba>=0.54 in c:\\users\\e1204\\anaconda3\\lib\\site-packages (from shap->-r requirements.txt (line 8)) (0.59.0)\n",
      "Requirement already satisfied: cloudpickle in c:\\users\\e1204\\anaconda3\\lib\\site-packages (from shap->-r requirements.txt (line 8)) (2.2.1)\n",
      "Requirement already satisfied: typing-extensions in c:\\users\\e1204\\anaconda3\\lib\\site-packages (from shap->-r requirements.txt (line 8)) (4.9.0)\n",
      "Requirement already satisfied: llvmlite<0.43,>=0.42.0dev0 in c:\\users\\e1204\\anaconda3\\lib\\site-packages (from numba>=0.54->shap->-r requirements.txt (line 8)) (0.42.0)\n",
      "Requirement already satisfied: six>=1.5 in c:\\users\\e1204\\anaconda3\\lib\\site-packages (from python-dateutil>=2.8.2->pandas->-r requirements.txt (line 2)) (1.16.0)\n",
      "Requirement already satisfied: colorama in c:\\users\\e1204\\anaconda3\\lib\\site-packages (from tqdm>=4.27.0->shap->-r requirements.txt (line 8)) (0.4.6)\n",
      "Requirement already satisfied: comm>=0.1.1 in c:\\users\\e1204\\anaconda3\\lib\\site-packages (from ipykernel->jupyter->-r requirements.txt (line 6)) (0.1.2)\n",
      "Requirement already satisfied: debugpy>=1.6.5 in c:\\users\\e1204\\anaconda3\\lib\\site-packages (from ipykernel->jupyter->-r requirements.txt (line 6)) (1.6.7)\n",
      "Requirement already satisfied: ipython>=7.23.1 in c:\\users\\e1204\\anaconda3\\lib\\site-packages (from ipykernel->jupyter->-r requirements.txt (line 6)) (8.20.0)\n",
      "Requirement already satisfied: jupyter-client>=6.1.12 in c:\\users\\e1204\\anaconda3\\lib\\site-packages (from ipykernel->jupyter->-r requirements.txt (line 6)) (7.4.9)\n",
      "Requirement already satisfied: jupyter-core!=5.0.*,>=4.12 in c:\\users\\e1204\\anaconda3\\lib\\site-packages (from ipykernel->jupyter->-r requirements.txt (line 6)) (5.5.0)\n",
      "Requirement already satisfied: matplotlib-inline>=0.1 in c:\\users\\e1204\\anaconda3\\lib\\site-packages (from ipykernel->jupyter->-r requirements.txt (line 6)) (0.1.6)\n",
      "Requirement already satisfied: nest-asyncio in c:\\users\\e1204\\anaconda3\\lib\\site-packages (from ipykernel->jupyter->-r requirements.txt (line 6)) (1.6.0)\n",
      "Requirement already satisfied: psutil in c:\\users\\e1204\\anaconda3\\lib\\site-packages (from ipykernel->jupyter->-r requirements.txt (line 6)) (5.9.0)\n",
      "Requirement already satisfied: pyzmq>=24 in c:\\users\\e1204\\anaconda3\\lib\\site-packages (from ipykernel->jupyter->-r requirements.txt (line 6)) (24.0.1)\n",
      "Requirement already satisfied: tornado>=6.1 in c:\\users\\e1204\\anaconda3\\lib\\site-packages (from ipykernel->jupyter->-r requirements.txt (line 6)) (6.3.3)\n",
      "Requirement already satisfied: traitlets>=5.4.0 in c:\\users\\e1204\\anaconda3\\lib\\site-packages (from ipykernel->jupyter->-r requirements.txt (line 6)) (5.7.1)\n",
      "Requirement already satisfied: ipython-genutils~=0.2.0 in c:\\users\\e1204\\anaconda3\\lib\\site-packages (from ipywidgets->jupyter->-r requirements.txt (line 6)) (0.2.0)\n",
      "Requirement already satisfied: nbformat>=4.2.0 in c:\\users\\e1204\\anaconda3\\lib\\site-packages (from ipywidgets->jupyter->-r requirements.txt (line 6)) (5.9.2)\n",
      "Requirement already satisfied: widgetsnbextension~=3.5.0 in c:\\users\\e1204\\anaconda3\\lib\\site-packages (from ipywidgets->jupyter->-r requirements.txt (line 6)) (3.5.2)\n",
      "Requirement already satisfied: jupyterlab-widgets>=1.0.0 in c:\\users\\e1204\\anaconda3\\lib\\site-packages (from ipywidgets->jupyter->-r requirements.txt (line 6)) (3.0.9)\n",
      "Requirement already satisfied: prompt-toolkit>=3.0.30 in c:\\users\\e1204\\anaconda3\\lib\\site-packages (from jupyter-console->jupyter->-r requirements.txt (line 6)) (3.0.43)\n",
      "Requirement already satisfied: pygments in c:\\users\\e1204\\anaconda3\\lib\\site-packages (from jupyter-console->jupyter->-r requirements.txt (line 6)) (2.15.1)\n",
      "Requirement already satisfied: beautifulsoup4 in c:\\users\\e1204\\anaconda3\\lib\\site-packages (from nbconvert->jupyter->-r requirements.txt (line 6)) (4.12.2)\n",
      "Requirement already satisfied: bleach!=5.0.0 in c:\\users\\e1204\\anaconda3\\lib\\site-packages (from nbconvert->jupyter->-r requirements.txt (line 6)) (4.1.0)\n",
      "Requirement already satisfied: defusedxml in c:\\users\\e1204\\anaconda3\\lib\\site-packages (from nbconvert->jupyter->-r requirements.txt (line 6)) (0.7.1)\n",
      "Requirement already satisfied: jinja2>=3.0 in c:\\users\\e1204\\anaconda3\\lib\\site-packages (from nbconvert->jupyter->-r requirements.txt (line 6)) (3.1.3)\n",
      "Requirement already satisfied: jupyterlab-pygments in c:\\users\\e1204\\anaconda3\\lib\\site-packages (from nbconvert->jupyter->-r requirements.txt (line 6)) (0.1.2)\n",
      "Requirement already satisfied: markupsafe>=2.0 in c:\\users\\e1204\\anaconda3\\lib\\site-packages (from nbconvert->jupyter->-r requirements.txt (line 6)) (2.1.3)\n",
      "Requirement already satisfied: mistune<4,>=2.0.3 in c:\\users\\e1204\\anaconda3\\lib\\site-packages (from nbconvert->jupyter->-r requirements.txt (line 6)) (2.0.4)\n",
      "Requirement already satisfied: nbclient>=0.5.0 in c:\\users\\e1204\\anaconda3\\lib\\site-packages (from nbconvert->jupyter->-r requirements.txt (line 6)) (0.8.0)\n",
      "Requirement already satisfied: pandocfilters>=1.4.1 in c:\\users\\e1204\\anaconda3\\lib\\site-packages (from nbconvert->jupyter->-r requirements.txt (line 6)) (1.5.0)\n",
      "Requirement already satisfied: tinycss2 in c:\\users\\e1204\\anaconda3\\lib\\site-packages (from nbconvert->jupyter->-r requirements.txt (line 6)) (1.2.1)\n",
      "Requirement already satisfied: argon2-cffi in c:\\users\\e1204\\anaconda3\\lib\\site-packages (from notebook->jupyter->-r requirements.txt (line 6)) (21.3.0)\n",
      "Requirement already satisfied: Send2Trash>=1.8.0 in c:\\users\\e1204\\anaconda3\\lib\\site-packages (from notebook->jupyter->-r requirements.txt (line 6)) (1.8.2)\n",
      "Requirement already satisfied: terminado>=0.8.3 in c:\\users\\e1204\\anaconda3\\lib\\site-packages (from notebook->jupyter->-r requirements.txt (line 6)) (0.17.1)\n",
      "Requirement already satisfied: prometheus-client in c:\\users\\e1204\\anaconda3\\lib\\site-packages (from notebook->jupyter->-r requirements.txt (line 6)) (0.14.1)\n",
      "Requirement already satisfied: nbclassic>=0.4.7 in c:\\users\\e1204\\anaconda3\\lib\\site-packages (from notebook->jupyter->-r requirements.txt (line 6)) (1.0.0)\n",
      "Requirement already satisfied: qtpy>=2.0.1 in c:\\users\\e1204\\anaconda3\\lib\\site-packages (from qtconsole->jupyter->-r requirements.txt (line 6)) (2.4.1)\n",
      "Requirement already satisfied: webencodings in c:\\users\\e1204\\anaconda3\\lib\\site-packages (from bleach!=5.0.0->nbconvert->jupyter->-r requirements.txt (line 6)) (0.5.1)\n",
      "Requirement already satisfied: decorator in c:\\users\\e1204\\anaconda3\\lib\\site-packages (from ipython>=7.23.1->ipykernel->jupyter->-r requirements.txt (line 6)) (5.1.1)\n",
      "Requirement already satisfied: jedi>=0.16 in c:\\users\\e1204\\anaconda3\\lib\\site-packages (from ipython>=7.23.1->ipykernel->jupyter->-r requirements.txt (line 6)) (0.18.1)\n",
      "Requirement already satisfied: stack-data in c:\\users\\e1204\\anaconda3\\lib\\site-packages (from ipython>=7.23.1->ipykernel->jupyter->-r requirements.txt (line 6)) (0.2.0)\n",
      "Requirement already satisfied: entrypoints in c:\\users\\e1204\\anaconda3\\lib\\site-packages (from jupyter-client>=6.1.12->ipykernel->jupyter->-r requirements.txt (line 6)) (0.4)\n",
      "Requirement already satisfied: platformdirs>=2.5 in c:\\users\\e1204\\anaconda3\\lib\\site-packages (from jupyter-core!=5.0.*,>=4.12->ipykernel->jupyter->-r requirements.txt (line 6)) (3.10.0)\n",
      "Requirement already satisfied: pywin32>=300 in c:\\users\\e1204\\anaconda3\\lib\\site-packages (from jupyter-core!=5.0.*,>=4.12->ipykernel->jupyter->-r requirements.txt (line 6)) (305.1)\n",
      "Requirement already satisfied: jupyter-server>=1.8 in c:\\users\\e1204\\anaconda3\\lib\\site-packages (from nbclassic>=0.4.7->notebook->jupyter->-r requirements.txt (line 6)) (2.10.0)\n",
      "Requirement already satisfied: notebook-shim>=0.2.3 in c:\\users\\e1204\\anaconda3\\lib\\site-packages (from nbclassic>=0.4.7->notebook->jupyter->-r requirements.txt (line 6)) (0.2.3)\n",
      "Requirement already satisfied: fastjsonschema in c:\\users\\e1204\\anaconda3\\lib\\site-packages (from nbformat>=4.2.0->ipywidgets->jupyter->-r requirements.txt (line 6)) (2.16.2)\n",
      "Requirement already satisfied: jsonschema>=2.6 in c:\\users\\e1204\\anaconda3\\lib\\site-packages (from nbformat>=4.2.0->ipywidgets->jupyter->-r requirements.txt (line 6)) (4.19.2)\n",
      "Requirement already satisfied: wcwidth in c:\\users\\e1204\\anaconda3\\lib\\site-packages (from prompt-toolkit>=3.0.30->jupyter-console->jupyter->-r requirements.txt (line 6)) (0.2.5)\n",
      "Requirement already satisfied: pywinpty>=1.1.0 in c:\\users\\e1204\\anaconda3\\lib\\site-packages (from terminado>=0.8.3->notebook->jupyter->-r requirements.txt (line 6)) (2.0.10)\n",
      "Requirement already satisfied: argon2-cffi-bindings in c:\\users\\e1204\\anaconda3\\lib\\site-packages (from argon2-cffi->notebook->jupyter->-r requirements.txt (line 6)) (21.2.0)\n",
      "Requirement already satisfied: soupsieve>1.2 in c:\\users\\e1204\\anaconda3\\lib\\site-packages (from beautifulsoup4->nbconvert->jupyter->-r requirements.txt (line 6)) (2.5)\n",
      "Requirement already satisfied: parso<0.9.0,>=0.8.0 in c:\\users\\e1204\\anaconda3\\lib\\site-packages (from jedi>=0.16->ipython>=7.23.1->ipykernel->jupyter->-r requirements.txt (line 6)) (0.8.3)\n",
      "Requirement already satisfied: attrs>=22.2.0 in c:\\users\\e1204\\anaconda3\\lib\\site-packages (from jsonschema>=2.6->nbformat>=4.2.0->ipywidgets->jupyter->-r requirements.txt (line 6)) (23.1.0)\n",
      "Requirement already satisfied: jsonschema-specifications>=2023.03.6 in c:\\users\\e1204\\anaconda3\\lib\\site-packages (from jsonschema>=2.6->nbformat>=4.2.0->ipywidgets->jupyter->-r requirements.txt (line 6)) (2023.7.1)\n",
      "Requirement already satisfied: referencing>=0.28.4 in c:\\users\\e1204\\anaconda3\\lib\\site-packages (from jsonschema>=2.6->nbformat>=4.2.0->ipywidgets->jupyter->-r requirements.txt (line 6)) (0.30.2)\n",
      "Requirement already satisfied: rpds-py>=0.7.1 in c:\\users\\e1204\\anaconda3\\lib\\site-packages (from jsonschema>=2.6->nbformat>=4.2.0->ipywidgets->jupyter->-r requirements.txt (line 6)) (0.10.6)\n",
      "Requirement already satisfied: anyio>=3.1.0 in c:\\users\\e1204\\anaconda3\\lib\\site-packages (from jupyter-server>=1.8->nbclassic>=0.4.7->notebook->jupyter->-r requirements.txt (line 6)) (4.2.0)\n",
      "Requirement already satisfied: jupyter-events>=0.6.0 in c:\\users\\e1204\\anaconda3\\lib\\site-packages (from jupyter-server>=1.8->nbclassic>=0.4.7->notebook->jupyter->-r requirements.txt (line 6)) (0.8.0)\n",
      "Requirement already satisfied: jupyter-server-terminals in c:\\users\\e1204\\anaconda3\\lib\\site-packages (from jupyter-server>=1.8->nbclassic>=0.4.7->notebook->jupyter->-r requirements.txt (line 6)) (0.4.4)\n",
      "Requirement already satisfied: overrides in c:\\users\\e1204\\anaconda3\\lib\\site-packages (from jupyter-server>=1.8->nbclassic>=0.4.7->notebook->jupyter->-r requirements.txt (line 6)) (7.4.0)\n",
      "Requirement already satisfied: websocket-client in c:\\users\\e1204\\anaconda3\\lib\\site-packages (from jupyter-server>=1.8->nbclassic>=0.4.7->notebook->jupyter->-r requirements.txt (line 6)) (0.58.0)\n",
      "Requirement already satisfied: cffi>=1.0.1 in c:\\users\\e1204\\anaconda3\\lib\\site-packages (from argon2-cffi-bindings->argon2-cffi->notebook->jupyter->-r requirements.txt (line 6)) (1.16.0)\n",
      "Requirement already satisfied: executing in c:\\users\\e1204\\anaconda3\\lib\\site-packages (from stack-data->ipython>=7.23.1->ipykernel->jupyter->-r requirements.txt (line 6)) (0.8.3)\n",
      "Requirement already satisfied: asttokens in c:\\users\\e1204\\anaconda3\\lib\\site-packages (from stack-data->ipython>=7.23.1->ipykernel->jupyter->-r requirements.txt (line 6)) (2.0.5)\n",
      "Requirement already satisfied: pure-eval in c:\\users\\e1204\\anaconda3\\lib\\site-packages (from stack-data->ipython>=7.23.1->ipykernel->jupyter->-r requirements.txt (line 6)) (0.2.2)\n",
      "Requirement already satisfied: idna>=2.8 in c:\\users\\e1204\\anaconda3\\lib\\site-packages (from anyio>=3.1.0->jupyter-server>=1.8->nbclassic>=0.4.7->notebook->jupyter->-r requirements.txt (line 6)) (3.4)\n",
      "Requirement already satisfied: sniffio>=1.1 in c:\\users\\e1204\\anaconda3\\lib\\site-packages (from anyio>=3.1.0->jupyter-server>=1.8->nbclassic>=0.4.7->notebook->jupyter->-r requirements.txt (line 6)) (1.3.0)\n",
      "Requirement already satisfied: pycparser in c:\\users\\e1204\\anaconda3\\lib\\site-packages (from cffi>=1.0.1->argon2-cffi-bindings->argon2-cffi->notebook->jupyter->-r requirements.txt (line 6)) (2.21)\n",
      "Requirement already satisfied: python-json-logger>=2.0.4 in c:\\users\\e1204\\anaconda3\\lib\\site-packages (from jupyter-events>=0.6.0->jupyter-server>=1.8->nbclassic>=0.4.7->notebook->jupyter->-r requirements.txt (line 6)) (2.0.7)\n",
      "Requirement already satisfied: pyyaml>=5.3 in c:\\users\\e1204\\anaconda3\\lib\\site-packages (from jupyter-events>=0.6.0->jupyter-server>=1.8->nbclassic>=0.4.7->notebook->jupyter->-r requirements.txt (line 6)) (6.0.1)\n",
      "Requirement already satisfied: rfc3339-validator in c:\\users\\e1204\\anaconda3\\lib\\site-packages (from jupyter-events>=0.6.0->jupyter-server>=1.8->nbclassic>=0.4.7->notebook->jupyter->-r requirements.txt (line 6)) (0.1.4)\n",
      "Requirement already satisfied: rfc3986-validator>=0.1.1 in c:\\users\\e1204\\anaconda3\\lib\\site-packages (from jupyter-events>=0.6.0->jupyter-server>=1.8->nbclassic>=0.4.7->notebook->jupyter->-r requirements.txt (line 6)) (0.1.1)\n",
      "Requirement already satisfied: fqdn in c:\\users\\e1204\\anaconda3\\lib\\site-packages (from jsonschema[format-nongpl]>=4.18.0->jupyter-events>=0.6.0->jupyter-server>=1.8->nbclassic>=0.4.7->notebook->jupyter->-r requirements.txt (line 6)) (1.5.1)\n",
      "Requirement already satisfied: isoduration in c:\\users\\e1204\\anaconda3\\lib\\site-packages (from jsonschema[format-nongpl]>=4.18.0->jupyter-events>=0.6.0->jupyter-server>=1.8->nbclassic>=0.4.7->notebook->jupyter->-r requirements.txt (line 6)) (20.11.0)\n",
      "Requirement already satisfied: jsonpointer>1.13 in c:\\users\\e1204\\anaconda3\\lib\\site-packages (from jsonschema[format-nongpl]>=4.18.0->jupyter-events>=0.6.0->jupyter-server>=1.8->nbclassic>=0.4.7->notebook->jupyter->-r requirements.txt (line 6)) (2.1)\n",
      "Requirement already satisfied: uri-template in c:\\users\\e1204\\anaconda3\\lib\\site-packages (from jsonschema[format-nongpl]>=4.18.0->jupyter-events>=0.6.0->jupyter-server>=1.8->nbclassic>=0.4.7->notebook->jupyter->-r requirements.txt (line 6)) (1.3.0)\n",
      "Requirement already satisfied: webcolors>=1.11 in c:\\users\\e1204\\anaconda3\\lib\\site-packages (from jsonschema[format-nongpl]>=4.18.0->jupyter-events>=0.6.0->jupyter-server>=1.8->nbclassic>=0.4.7->notebook->jupyter->-r requirements.txt (line 6)) (24.11.1)\n",
      "Requirement already satisfied: arrow>=0.15.0 in c:\\users\\e1204\\anaconda3\\lib\\site-packages (from isoduration->jsonschema[format-nongpl]>=4.18.0->jupyter-events>=0.6.0->jupyter-server>=1.8->nbclassic>=0.4.7->notebook->jupyter->-r requirements.txt (line 6)) (1.2.3)\n"
     ]
    }
   ],
   "source": [
    "pip install -r requirements.txt"
   ]
  },
  {
   "cell_type": "code",
   "execution_count": 18,
   "id": "3d46eedb",
   "metadata": {},
   "outputs": [],
   "source": [
    "import os\n",
    "import pandas as pd\n",
    "import numpy as np\n",
    "from collections import OrderedDict\n",
    "from sklearn.linear_model import LassoCV\n",
    "from sklearn.preprocessing import StandardScaler\n",
    "from sklearn.decomposition import PCA\n",
    "from tqdm import tqdm\n",
    "from sklearn.metrics import r2_score, mean_squared_error\n",
    "from sklearn.model_selection import train_test_split, StratifiedKFold, GridSearchCV, cross_validate\n",
    "from sklearn.compose import ColumnTransformer\n",
    "from sklearn.pipeline import Pipeline\n",
    "from sklearn.metrics import classification_report, confusion_matrix\n",
    "from sklearn.metrics import accuracy_score, f1_score\n",
    "from sklearn.ensemble import RandomForestClassifier\n",
    "from sklearn.impute import SimpleImputer\n",
    "from sklearn.preprocessing import OneHotEncoder\n",
    "from typing import List, Dict, Optional\n",
    "from numpy.linalg import pinv\n",
    "from sklearn.metrics import pairwise_distances\n",
    "from sklearn.linear_model import Lasso\n",
    "import shap"
   ]
  },
  {
   "cell_type": "markdown",
   "id": "2082131a",
   "metadata": {},
   "source": [
    "### Defining some useful function"
   ]
  },
  {
   "cell_type": "markdown",
   "id": "a13a827e",
   "metadata": {},
   "source": [
    "### Matrices Extraction"
   ]
  },
  {
   "cell_type": "markdown",
   "id": "64a94677",
   "metadata": {},
   "source": [
    "#### Extracting dataframes from .csv files"
   ]
  },
  {
   "cell_type": "code",
   "execution_count": 19,
   "id": "39a3e4f5",
   "metadata": {},
   "outputs": [],
   "source": [
    "def extract_matrix_from_csv(file_path):\n",
    "    df = pd.read_csv(file_path, header=None)\n",
    "    matrix = df.values\n",
    "    return matrix\n",
    "\n",
    "def save_matrix_to_csv(matrix, output_path):\n",
    "    df = pd.DataFrame(matrix)\n",
    "    df.to_csv(output_path, index=False, header=False)"
   ]
  },
  {
   "cell_type": "code",
   "execution_count": 20,
   "id": "ce02e1b0",
   "metadata": {},
   "outputs": [
    {
     "name": "stderr",
     "output_type": "stream",
     "text": [
      "C:\\Users\\e1204\\AppData\\Local\\Temp\\ipykernel_4280\\3658579915.py:2: DtypeWarning: Columns (1,2,3,4,5,6,7,8,9,10,11,12,13,14,15,16,17,18,19,20,21,22,23,24,25,26,27,28,29,30,31,32,33,34,35,36,37,38,39,40,41,42,43,44,45,46,47,48,49,50,51,52,53,54,55,56,57,58,59,60,61,62,63,64,65,66,67,68,69,70,71,72,73,74,75,76,77,78,79,80,81,82,83,84,85,86,87,88,89,90,91,92,93,94,95,96,97,98,99,100,101,102,103,104,105,106,107,108,109,110,111,112,113,114,115,116,117,118,119,120,121,122,123,124,125,126,127,128,129,130,131,132,133,134,135,136,137,138,139,140,141,142,143,144,145,146,147,148,149,150,151,152,153,154,155,156,157,158,159,160,161,162,163,164,165,166,167,168,169,170,171,172,173,174,175,176,177,178,179,180,181,182,183,184,185,186,187,188,189,190,191,192,193,194,195,196,197,198,199,200,201,202,203,204,205,206,207,208,209,210,211,212,213,214,215,216,217,218,219,220,221,222,223,224,225,226,227,228,229,230,231,232,233,234,235,236,237,238,239,240,241,242,243,244,245,246,247,248,249,250,251,252,253,254,255,256,257,258,259,260,261,262,263,264,265,266,267,268,269,270,271,272,273,274,275,276,277,278,279,280,281,282,283,284,285,286,287,288,289,290,291,292,293,294,295,296,297,298,299,300,301,302,303,304,305,306,307,308,309,310,311,312,313,314,315,316,317,318,319,320,321,322,323,324,325,326,327,328,329,330,331,332,333,334,335,336,337,338,339,340,341,342,343,344,345,346,347,348,349,350,351,352,353,354,355,356,357,358,359,360,361,362,363,364,365,366,367,368,369,370,371,372,373,374,375,376,377,378,379,380,381,382,383,384,385,386,387,388,389,390,391,392,393,394,395,396,397,398,399,400,401,402,403,404,405,406,407,408,409,410,411,412,413,414,415,416,417,418,419,420,421,422,423,424,425,426,427,428,429,430,431,432,433,434,435,436,437,438,439,440,441,442,443,444,445,446,447,448,449,450,451,452,453,454,455,456,457,458,459,460,461,462,463,464,465,466,467,468,469,470,471,472,473,474,475,476,477,478,479,480,481,482,483,484,485,486,487,488,489,490,491,492,493,494,495,496,497,498,499,500,501,502,503,504,505,506,507,508,509,510,511,512,513,514,515,516,517,518,519,520,521,522,523,524,525,526,527,528,529,530,531,532,533,534,535,536,537,538,539,540,541,542,543,544,545,546,547,548,549,550,551,552,553,554,555,556,557,558,559,560,561,562,563,564,565,566,567,568,569,570,571,572,573,574,575,576,577,578,579,580,581,582,583,584,585,586,587,588,589,590,591,592,593,594,595,596,597,598,599,600,601,602,603,604,605,606,607,608,609,610,611,612,613,614,615,616,617,618,619,620,621,622,623,624,625,626,627,628,629,630,631,632,633,634,635,636,637,638,639,640,641,642,643,644,645,646,647,648,649,650,651,652,653,654,655,656,657,658,659,660,661,662,663,664,665,666,667,668,669,670,671,672,673,674,675,676,677,678,679,680,681,682,683,684,685,686,687,688,689,690,691,692,693,694,695,696,697,698,699,700,701,702,703,704,705,706,707,708,709,710,711,712,713,714,715,716,717,718,719,720,721,722,723,724,725,726,727,728,729,730,731,732,733,734,735,736,737,738,739,740,741,742,743,744,745,746,747,748,749,750,751,752,753,754,755,756,757,758,759,760,761,762,763,764,765,766,767,768,769,770,771,772,773,774,775,776,777,778,779,780,781,782,783,784,785,786,787,788,789,790,791,792,793,794,795,796,797,798,799,800,801,802,803,804,805,806,807,808,809,810,811,812,813,814,815,816,817,818,819,820,821,822,823,824,825,826,827,828,829,830,831,832,833,834,835,836,837,838,839,840,841,842,843,844,845,846,847,848,849,850,851,852,853,854,855,856,857,858,859,860,861,862,863,864,865,866,867,868,869,870,871,872,873,874,875,876,877,878,879,880,881,882,883,884,885,886,887,888,889,890,891,892,893,894,895,896,897,898,899,900,901,902,903,904,905,906,907,908,909,910,911,912,913,914,915,916,917,918,919,920,921,922,923,924,925,926,927,928,929,930,931,932,933,934,935,936,937,938,939,940,941,942,943,944,945,946,947,948,949,950,951,952,953,954,955,956,957,958,959,960,961,962,963,964,965,966,967,968,969,970,971,972,973,974,975,976,977,978,979,980,981,982,983,984,985,986,987,988,989,990,991,992,993,994,995,996,997,998,999,1000,1001,1002,1003,1004,1005,1006,1007,1008,1009,1010,1011,1012,1013,1014,1015,1016,1017,1018,1019,1020,1021,1022,1023,1024,1025,1026,1027,1028,1029,1030,1031,1032,1033,1034,1035,1036,1037,1038,1039,1040,1041,1042,1043,1044,1045,1046,1047,1048,1049,1050,1051,1052,1053,1054,1055,1056,1057,1058,1059,1060,1061,1062,1063,1064,1065,1066,1067,1068,1069,1070,1071,1072,1073,1074,1075,1076,1077,1078,1079,1080,1081,1082,1083,1084,1085,1086,1087,1088,1089,1090,1091,1092,1093,1094,1095,1096,1097,1098,1099,1100,1101,1102,1103,1104,1105,1106,1107,1108,1109,1110,1111,1112,1113,1114,1115,1116,1117,1118,1119,1120,1121,1122,1123,1124,1125,1126,1127,1128,1129,1130,1131,1132,1133,1134,1135,1136,1137,1138,1139,1140,1141,1142,1143,1144,1145,1146,1147,1148,1149,1150,1151,1152,1153,1154,1155,1156,1157,1158,1159,1160,1161,1162,1163,1164,1165,1166,1167,1168,1169,1170,1171,1172,1173,1174,1175,1176,1177,1178,1179,1180,1181,1182,1183,1184,1185,1186,1187,1188,1189,1190,1191,1192,1193,1194,1195,1196,1197,1198,1199,1200,1201,1202,1203,1204,1205,1206,1207,1208,1209,1210,1211,1212,1213,1214,1215,1216,1217,1218,1219,1220,1221,1222,1223,1224,1225,1226,1227,1228,1229,1230,1231,1232,1233,1234,1235,1236,1237,1238,1239,1240,1241,1242,1243,1244,1245,1246,1247,1248,1249,1250,1251,1252,1253,1254,1255,1256,1257,1258,1259,1260,1261,1262,1263,1264,1265,1266,1267,1268,1269,1270,1271,1272,1273,1274,1275,1276,1277,1278,1279,1280,1281,1282,1283,1284,1285,1286,1287,1288,1289,1290,1291,1292,1293,1294,1295,1296,1297,1298,1299,1300,1301,1302,1303,1304,1305,1306,1307,1308,1309,1310,1311,1312,1313,1314,1315,1316,1317,1318,1319,1320,1321,1322,1323,1324,1325,1326,1327,1328,1329,1330,1331,1332,1333,1334,1335,1336,1337,1338,1339,1340,1341,1342,1343,1344,1345,1346,1347,1348,1349,1350,1351,1352,1353,1354,1355,1356,1357,1358,1359,1360,1361,1362,1363,1364,1365,1366,1367,1368,1369,1370,1371,1372,1373,1374,1375,1376,1377,1378,1379,1380,1381,1382,1383,1384,1385,1386,1387,1388,1389,1390,1391,1392,1393,1394,1395,1396,1397,1398,1399,1400,1401,1402,1403,1404,1405,1406,1407,1408,1409,1410,1411,1412,1413,1414,1415,1416,1417,1418,1419,1420,1421,1422,1423,1424,1425,1426,1427,1428,1429,1430,1431,1432,1433,1434,1435,1436,1437,1438,1439,1440,1441,1442,1443,1444,1445,1446,1447,1448,1449,1450,1451,1452,1453,1454,1455,1456,1457,1458,1459,1460,1461,1462,1463,1464,1465,1466,1467,1468,1469,1470,1471,1472,1473,1474,1475,1476,1477,1478,1479,1480,1481,1482,1483,1484,1485,1486,1487,1488,1489,1490,1491,1492,1493,1494,1495,1496,1497,1498,1499,1500,1501,1502,1503,1504,1505,1506,1507,1508,1509,1510,1511,1512,1513,1514,1515,1516,1517,1518,1519,1520,1521,1522,1523,1524,1525,1526,1527,1528,1529,1530,1531,1532,1533,1534,1535,1536,1537,1538,1539,1540,1541,1542,1543,1544,1545,1546,1547,1548,1549,1550,1551,1552,1553,1554,1555,1556,1557,1558,1559,1560,1561,1562,1563,1564,1565,1566,1567,1568,1569,1570,1571,1572,1573,1574,1575,1576,1577,1578,1579,1580,1581,1582,1583,1584,1585,1586,1587,1588,1589,1590,1591,1592,1593,1594,1595,1596,1597,1598,1599,1600,1601,1602,1603,1604,1605,1606,1607,1608,1609,1610,1611,1612,1613,1614,1615,1616,1617,1618,1619,1620,1621,1622,1623,1624,1625,1626,1627,1628,1629,1630,1631,1632,1633,1634,1635,1636,1637,1638,1639,1640,1641,1642,1643,1644,1645,1646,1647,1648,1649,1650,1651,1652,1653,1654,1655,1656,1657,1658,1659,1660,1661,1662,1663,1664,1665,1666,1667,1668,1669,1670,1671,1672,1673,1674,1675,1676,1677,1678,1679,1680,1681,1682,1683,1684,1685,1686,1687,1688,1689,1690,1691,1692,1693,1694,1695,1696,1697,1698,1699,1700,1701,1702,1703,1704,1705,1706,1707,1708,1709,1710,1711,1712,1713,1714,1715,1716,1717,1718,1719,1720,1721,1722,1723,1724,1725,1726,1727,1728,1729,1730,1731,1732,1733,1734,1735,1736,1737,1738,1739,1740,1741,1742,1743,1744,1745,1746,1747,1748,1749,1750,1751,1752,1753,1754,1755,1756,1757,1758,1759,1760,1761,1762,1763,1764,1765,1766,1767,1768,1769,1770,1771,1772,1773,1774,1775,1776,1777,1778,1779,1780,1781,1782,1783,1784,1785,1786,1787,1788,1789,1790,1791,1792,1793,1794,1795,1796,1797,1798,1799,1800,1801,1802,1803,1804,1805,1806,1807,1808,1809,1810,1811,1812,1813,1814,1815,1816,1817,1818,1819,1820,1821,1822,1823,1824,1825,1826,1827,1828,1829,1830,1831,1832,1833,1834,1835,1836,1837,1838,1839,1840,1841,1842,1843,1844,1845,1846,1847,1848,1849,1850,1851,1852,1853,1854,1855,1856,1857,1858,1859,1860,1861,1862,1863,1864,1865,1866,1867,1868,1869,1870,1871,1872,1873,1874,1875,1876,1877,1878,1879,1880,1881,1882,1883,1884,1885,1886,1887,1888,1889,1890,1891,1892,1893,1894,1895,1896,1897,1898,1899,1900,1901,1902,1903,1904,1905,1906,1907,1908,1909,1910,1911,1912,1913,1914,1915,1916,1917,1918,1919,1920,1921,1922,1923,1924,1925,1926,1927,1928,1929,1930,1931,1932,1933,1934,1935,1936,1937,1938,1939,1940,1941,1942,1943,1944,1945,1946,1947,1948,1949,1950,1951,1952,1953,1954,1955,1956,1957,1958,1959,1960,1961,1962,1963,1964,1965,1966,1967,1968,1969,1970,1971,1972,1973,1974,1975,1976,1977,1978,1979,1980,1981,1982,1983,1984,1985,1986,1987,1988,1989,1990,1991,1992,1993,1994,1995,1996,1997,1998,1999,2000,2001,2002,2003,2004,2005,2006,2007,2008,2009,2010,2011,2012,2013,2014,2015,2016,2017,2018,2019,2020,2021,2022,2023,2024,2025,2026,2027,2028,2029,2030,2031,2032,2033,2034,2035,2036,2037,2038,2039,2040,2041,2042,2043,2044,2045,2046,2047,2048,2049,2050,2051,2052,2053,2054,2055,2056,2057,2058,2059,2060,2061,2062,2063,2064,2065,2066,2067,2068,2069,2070,2071,2072,2073,2074,2075,2076,2077,2078,2079,2080,2081,2082,2083,2084,2085,2086,2087,2088,2089,2090,2091,2092,2093,2094,2095,2096,2097,2098,2099,2100,2101,2102,2103,2104,2105,2106,2107,2108,2109,2110,2111,2112,2113,2114,2115,2116,2117,2118,2119,2120,2121,2122,2123,2124,2125,2126,2127,2128,2129,2130,2131,2132,2133,2134,2135,2136,2137,2138,2139,2140,2141,2142,2143,2144,2145,2146,2147,2148,2149,2150,2151,2152,2153,2154,2155,2156,2157,2158,2159,2160,2161,2162,2163,2164,2165,2166,2167,2168,2169,2170,2171,2172,2173,2174,2175,2176,2177,2178,2179,2180,2181,2182,2183,2184,2185,2186,2187,2188,2189,2190,2191,2192,2193,2194,2195,2196,2197,2198,2199,2200,2201,2202,2203,2204,2205,2206,2207,2208,2209,2210,2211,2212,2213,2214,2215,2216,2217,2218,2219,2220,2221,2222,2223,2224,2225,2226,2227,2228,2229,2230,2231,2232,2233,2234,2235,2236,2237,2238,2239,2240,2241,2242,2243,2244,2245,2246,2247,2248,2249,2250,2251,2252,2253,2254,2255,2256,2257,2258,2259,2260,2261,2262,2263,2264,2265,2266,2267,2268,2269,2270,2271,2272,2273,2274,2275,2276,2277,2278,2279,2280,2281,2282,2283,2284,2285,2286,2287,2288,2289,2290,2291,2292,2293,2294,2295,2296,2297,2298,2299,2300,2301,2302,2303,2304,2305,2306,2307,2308,2309,2310,2311,2312,2313,2314,2315,2316,2317,2318,2319,2320,2321,2322,2323,2324,2325,2326,2327,2328,2329,2330,2331,2332,2333,2334,2335,2336,2337,2338,2339,2340,2341,2342,2343,2344,2345,2346,2347,2348,2349,2350,2351,2352,2353,2354,2355,2356,2357,2358,2359,2360,2361,2362,2363,2364,2365,2366,2367,2368,2369,2370,2371,2372,2373,2374,2375,2376,2377,2378,2379,2380,2381,2382,2383,2384,2385,2386,2387,2388,2389,2390,2391,2392,2393,2394,2395,2396,2397,2398,2399,2400,2401,2402,2403,2404,2405,2406,2407,2408,2409,2410,2411,2412,2413,2414,2415,2416,2417,2418,2419,2420,2421,2422,2423,2424,2425,2426,2427,2428,2429,2430,2431,2432,2433,2434,2435,2436,2437,2438,2439,2440,2441,2442,2443,2444,2445,2446,2447,2448,2449,2450,2451,2452,2453,2454,2455,2456,2457,2458,2459,2460,2461,2462,2463,2464,2465,2466,2467,2468,2469,2470,2471,2472,2473,2474,2475,2476,2477,2478,2479,2480,2481,2482,2483,2484,2485,2486,2487,2488,2489,2490,2491,2492,2493,2494,2495,2496,2497,2498,2499,2500,2501,2502,2503,2504,2505,2506,2507,2508,2509,2510,2511,2512,2513,2514,2515,2516,2517,2518,2519,2520,2521,2522,2523,2524,2525,2526,2527,2528,2529,2530,2531,2532,2533,2534,2535,2536,2537,2538,2539,2540,2541,2542,2543,2544,2545,2546,2547,2548,2549,2550,2551,2552,2553,2554,2555,2556,2557,2558,2559,2560,2561,2562,2563,2564,2565,2566,2567,2568,2569,2570,2571,2572,2573,2574,2575,2576,2577,2578,2579,2580,2581,2582,2583,2584,2585,2587,2589,2591,2592,2593,2594,2595,2596,2597,2598,2599,2600,2601,2602,2603,2604,2605,2606,2607,2608,2609) have mixed types. Specify dtype option on import or set low_memory=False.\n",
      "  df = pd.read_csv(file_path, header=None)\n"
     ]
    }
   ],
   "source": [
    "df_concat_final = extract_matrix_from_csv('data/raw/df_concat_final.csv')\n",
    "\n",
    "feature_imporance_prod_final = extract_matrix_from_csv('data/raw/feature_importance_prod_final.csv')\n",
    "\n",
    "graph_embeddings = extract_matrix_from_csv('data/raw/graph_embeddings.csv')\n",
    "\n",
    "subj_embeddings_train = extract_matrix_from_csv('data/raw/subj_embeddings_train.csv')"
   ]
  },
  {
   "cell_type": "markdown",
   "id": "83dfdb19",
   "metadata": {},
   "source": [
    "#### Extract the P matrix"
   ]
  },
  {
   "cell_type": "code",
   "execution_count": 21,
   "id": "bed00aac",
   "metadata": {},
   "outputs": [],
   "source": [
    "df = pd.read_csv('data/raw/subj_embeddings_train.csv')\n"
   ]
  },
  {
   "cell_type": "code",
   "execution_count": 22,
   "id": "9212ae47",
   "metadata": {},
   "outputs": [
    {
     "name": "stdout",
     "output_type": "stream",
     "text": [
      "['AD_0001', 'AD_0002', 'AD_0003', 'AD_0005', 'AD_0006', 'AD_0007', 'AD_0008', 'AD_0009', 'AD_0010', 'AD_0011', 'AD_0012', 'AD_0013', 'AD_0014', 'AD_0015', 'AD_0016', 'AD_0020', 'AD_0021', 'AD_0023', 'AD_0024', 'AD_0026', 'AD_0028', 'AD_0029', 'AD_0031', 'AD_0032', 'AD_0033', 'AD_0034', 'AD_0035', 'AD_0036', 'AD_0037', 'AD_0038', 'AD_0039', 'AD_0040', 'AD_0041', 'AD_0042', 'AD_0043', 'AD_0044', 'AD_0045', 'AD_0046', 'AD_0048', 'AD_0050', 'AD_0051', 'AD_0052', 'AD_0054', 'AD_0056', 'AD_0057', 'AD_0058', 'AD_0059', 'AD_0060', 'AD_0061', 'AD_0062', 'AD_0063', 'AD_0066', 'AD_0067', 'AD_0068', 'AD_0070', 'AD_0071', 'AD_0072', 'AD_0073', 'AD_0074', 'AD_0075', 'AD_0077', 'AD_0079', 'AD_0081', 'AD_0082', 'AD_0083', 'AD_0084', 'AD_0085', 'AD_0086', 'AD_0087', 'AD_0089', 'AD_0091', 'AD_0092', 'AD_0093', 'AD_0094', 'AD_0098', 'AD_0100', 'AD_0101', 'AD_0103', 'AD_0104', 'AD_0105', 'AD_0106', 'AD_0107', 'AD_0108', 'AD_0109', 'AD_0110', 'AD_0111', 'AD_0112', 'AD_0113', 'AD_0114', 'AD_0115', 'AD_0116', 'AD_0117', 'AD_0118', 'AD_0121', 'AD_0122', 'AD_0123', 'AD_0124', 'AD_0125', 'AD_0126', 'AD_0127', 'AD_0128', 'AD_0129', 'AD_0130', 'AD_0131', 'AD_0132', 'AD_0133', 'AD_0134', 'AD_0136', 'AD_0137', 'AD_0138', 'AD_0139', 'AD_0140', 'AD_0141', 'AD_0142', 'AD_0143', 'AD_0144', 'AD_0145', 'AD_0146', 'AD_0147', 'AD_0149', 'AD_0152', 'AD_0153', 'AD_0155', 'AD_0156', 'AD_0157', 'AD_0158', 'AD_0160', 'AD_0161', 'AD_0163', 'AD_0164', 'AD_0165', 'AD_0166', 'AD_0167', 'AD_0168', 'AD_0169', 'AD_0170', 'AD_0171', 'AD_0172', 'AD_0173', 'AD_0174', 'AD_0175', 'AD_0177', 'AD_0178', 'AD_0179', 'AD_0180', 'AD_0181', 'AD_0182', 'AD_0183', 'AD_0184', 'AD_0185', 'AD_0187', 'AD_0188', 'AD_0189', 'AD_0190', 'AD_0191', 'AD_0192', 'AD_0193', 'AD_0194', 'AD_0195', 'AD_0196', 'AD_0197', 'AD_0198', 'AD_0199', 'AD_0201', 'AD_0203', 'AD_0204', 'AD_0206', 'AD_0207', 'AD_0209', 'AD_0210', 'AD_0211', 'AD_0212', 'AD_0213', 'AD_0214', 'AD_0216', 'AD_0217', 'AD_0218', 'AD_0220', 'AD_0221', 'AD_0222', 'AD_0223', 'AD_0224', 'AD_0225', 'AD_0226', 'AD_0228', 'AD_0229', 'AD_0231', 'AD_0232', 'AD_0233', 'AD_0237', 'AD_0239', 'AD_0240', 'AD_0241', 'AD_0243', 'AD_0244', 'AD_0246', 'AD_0247', 'AD_0248', 'AD_0250', 'AD_0251', 'AD_0252', 'AD_0253', 'AD_0254', 'AD_0255', 'AD_0256', 'AD_0257', 'AD_0259', 'AD_0261', 'AD_0262', 'AD_0263', 'AD_0264', 'AD_0265', 'AD_0266', 'AD_0268', 'AD_0269', 'AD_0271', 'AD_0272', 'AD_0273', 'AD_0274', 'AD_0275', 'AD_0276', 'AD_0278', 'AD_0279', 'AD_0280', 'AD_0281', 'AD_0282', 'AD_0283', 'AD_0284', 'AD_0285', 'AD_0286', 'AD_0287', 'AD_0289', 'AD_0290', 'AD_0291', 'AD_0292', 'AD_0294', 'AD_0295', 'AD_0296', 'AD_0298', 'AD_0299', 'AD_0300', 'AD_0301', 'AD_0302', 'AD_0304', 'AD_0305', 'AD_0306', 'AD_0307', 'AD_0308', 'AD_0309', 'AD_0310', 'AD_0311', 'AD_0312', 'AD_0313', 'AD_0314', 'AD_0315', 'AD_0316', 'AD_0318', 'AD_0319', 'AD_0320', 'AD_0321', 'AD_0322', 'AD_0323', 'AD_0324', 'AD_0325', 'AD_0326', 'AD_0327', 'AD_0328', 'AD_0329', 'AD_0330', 'AD_0331', 'AD_0332', 'AD_0333', 'AD_0334', 'AD_0335', 'AD_0336', 'AD_0337', 'AD_0338', 'AD_0339', 'AD_0340', 'AD_0341', 'AD_0343', 'AD_0344', 'AD_0345', 'AD_0346', 'AD_0347', 'AD_0348', 'AD_0349', 'AD_0350', 'AD_0351', 'AD_0352', 'AD_0353', 'AD_0354', 'AD_0355', 'AD_0356', 'AD_0357', 'AD_0358', 'AD_0359', 'AD_0360', 'AD_0361', 'AD_0364', 'AD_0365', 'AD_0366', 'AD_0367', 'AD_0368', 'AD_0369', 'AD_0370', 'AD_0372', 'AD_0373', 'AD_0374', 'AD_0376', 'AD_0377', 'AD_0378', 'AD_0379', 'AD_0380', 'AD_0381', 'AD_0383', 'AD_0384', 'AD_0385', 'AD_0386', 'AD_0387', 'AD_0388', 'AD_0389', 'AD_0391', 'AD_0393', 'AD_0394', 'AD_0395', 'AD_0396', 'AD_0397', 'AD_0398', 'AD_0399', 'AD_0400', 'AD_0401', 'AD_0402', 'AD_0404', 'AD_0405', 'AD_0406', 'AD_0407', 'AD_0409', 'AD_0410', 'AD_0411', 'AD_0413', 'AD_0414', 'AD_0415', 'AD_0417', 'AD_0418', 'AD_0419', 'AD_0420', 'AD_0421', 'AD_0423', 'AD_0424', 'AD_0425', 'AD_0427', 'AD_0429', 'AD_0430', 'AD_0431', 'AD_0432', 'AD_0433', 'AD_0434', 'AD_0436', 'AD_0438', 'AD_0440', 'AD_0441', 'AD_0443', 'AD_0444', 'AD_0445', 'AD_0446', 'AD_0447', 'AD_0448', 'AD_0449', 'AD_0450', 'AD_0451', 'AD_0452', 'AD_0454', 'AD_0455', 'AD_0456', 'AD_0459', 'AD_0460', 'AD_0461', 'AD_0462', 'AD_0465', 'AD_0466', 'AD_0467', 'AD_0468', 'AD_0469', 'AD_0470', 'AD_0471', 'AD_0472', 'AD_0473', 'AD_0474', 'AD_0476', 'AD_0477', 'AD_0478', 'AD_0479', 'AD_0480', 'AD_0481', 'AD_0482', 'AD_0483', 'AD_0484', 'AD_0485', 'AD_0487', 'AD_0489', 'AD_0490', 'AD_0491', 'AD_0493', 'AD_0495', 'AD_0496', 'AD_0497', 'AD_0498', 'AD_0499', 'AD_0500', 'AD_0501', 'AD_0502', 'AD_0503', 'AD_0504', 'AD_0505', 'AD_0506', 'AD_0507', 'AD_0508', 'AD_0509', 'AD_0510', 'AD_0512', 'AD_0513', 'AD_0515', 'AD_0516', 'AD_0517', 'AD_0518', 'AD_0519', 'AD_0521', 'AD_0522', 'AD_0523', 'AD_0526', 'AD_0527', 'AD_0528', 'AD_0529', 'AD_0530', 'AD_0531', 'AD_0532', 'AD_0533', 'AD_0534', 'AD_0535', 'AD_0536', 'AD_0537', 'AD_0538', 'AD_0539', 'AD_0540', 'AD_0542', 'AD_0543', 'AD_0545', 'AD_0546', 'AD_0547', 'AD_0548', 'AD_0549', 'AD_0550', 'AD_0551', 'AD_0552', 'AD_0553', 'AD_0554', 'AD_0555', 'AD_0557', 'AD_0558', 'AD_0559', 'AD_0560', 'AD_0561', 'AD_0562', 'AD_0563', 'AD_0564', 'AD_0565', 'AD_0566', 'AD_0567', 'AD_0568', 'AD_0569', 'AD_0570', 'AD_0571', 'AD_0572', 'AD_0573', 'AD_0574', 'AD_0575', 'AD_0576', 'AD_0577', 'AD_0580', 'AD_0581', 'AD_0582', 'AD_0583', 'AD_0584', 'AD_0586', 'AD_0587', 'AD_0588', 'AD_0589', 'AD_0590', 'AD_0591', 'AD_0592', 'AD_0593', 'AD_0594', 'AD_0595', 'AD_0596', 'AD_0597', 'AD_0598', 'AD_0599', 'AD_0600', 'AD_0601', 'AD_0602', 'AD_0603', 'AD_0605', 'AD_0607', 'AD_0609', 'AD_0610', 'AD_0611', 'AD_0612', 'AD_0613', 'AD_0614', 'AD_0616', 'AD_0617', 'AD_0618', 'AD_0620', 'AD_0621', 'AD_0623', 'AD_0624', 'AD_0625', 'AD_0627', 'AD_0628', 'AD_0629', 'AD_0630', 'AD_0631', 'AD_0632', 'AD_0633', 'AD_0634', 'AD_0635', 'AD_0636', 'AD_0638', 'AD_0639', 'AD_0641', 'AD_0642', 'AD_0643', 'AD_0644', 'AD_0645', 'AD_0646', 'AD_0650', 'AD_0652', 'AD_0655', 'AD_0656', 'AD_0657', 'AD_0658', 'AD_0659', 'AD_0661', 'AD_0662', 'AD_0663', 'AD_0664', 'AD_0666', 'AD_0667', 'AD_0668', 'AD_0669', 'AD_0671', 'AD_0672', 'AD_0674', 'AD_0676', 'AD_0678', 'AD_0679', 'AD_0681', 'AD_0682', 'AD_0683', 'AD_0684', 'AD_0685', 'AD_0686', 'AD_0687', 'AD_0688', 'AD_0689', 'AD_0690', 'AD_0691', 'AD_0693', 'AD_0694', 'AD_0695', 'AD_0696', 'AD_0697', 'AD_0698', 'AD_0699', 'AD_0700', 'AD_0702', 'AD_0703', 'AD_0704', 'AD_0705', 'AD_0707', 'AD_0709', 'AD_0710', 'AD_0711', 'AD_0712', 'AD_0713', 'AD_0714', 'AD_0715', 'AD_0716', 'AD_0718', 'AD_0720', 'AD_0721', 'AD_0722', 'AD_0723', 'AD_0724', 'AD_0726', 'AD_0727', 'AD_0728', 'AD_0729', 'AD_0730', 'AD_0731', 'AD_0732', 'AD_0734', 'AD_0735', 'AD_0737', 'AD_0739', 'AD_0740', 'AD_0742', 'AD_0743', 'AD_0744', 'AD_0745', 'AD_0747', 'AD_0748', 'AD_0750', 'AD_0751', 'AD_0752', 'AD_0753', 'AD_0754', 'AD_0755', 'AD_0756', 'AD_0758', 'AD_0759', 'AD_0761', 'AD_0762', 'AD_0763', 'AD_0764', 'AD_0766', 'AD_0768', 'AD_0769', 'AD_0770', 'AD_0771', 'AD_0772', 'AD_0774', 'AD_0775', 'AD_0777', 'AD_0778', 'AD_0780', 'AD_0783', 'AD_0784', 'AD_0785', 'AD_0786', 'AD_0787', 'AD_0788', 'AD_0789', 'AD_0790', 'AD_0791', 'AD_0792', 'AD_0793', 'AD_0795', 'AD_0796', 'AD_0798', 'AD_0799', 'AD_0800', 'AD_0801', 'AD_0802', 'AD_0803', 'AD_0804', 'AD_0805', 'AD_0807', 'AD_0808', 'AD_0809', 'AD_0810', 'AD_0811', 'AD_0813', 'AD_0814', 'AD_0815', 'AD_0816', 'AD_0817', 'AD_0818', 'AD_0819', 'AD_0822', 'AD_0823', 'AD_0824', 'AD_0825', 'AD_0826', 'AD_0827', 'AD_0828', 'AD_0829', 'AD_0830', 'AD_0831', 'AD_0833', 'AD_0836', 'AD_0837', 'AD_0839', 'AD_0840', 'AD_0842', 'AD_0843', 'AD_0844', 'AD_0845', 'AD_0847', 'AD_0848', 'AD_0849', 'AD_0850', 'AD_0852', 'AD_0853', 'AD_0854', 'AD_0855', 'AD_0856', 'AD_0858', 'AD_0859', 'AD_0860', 'AD_0862', 'AD_0863', 'AD_0864', 'AD_0865', 'AD_0866', 'AD_0868', 'AD_0869', 'AD_0870', 'AD_0871', 'AD_0872', 'AD_0873', 'AD_0874', 'AD_0876', 'AD_0877', 'AD_0878', 'AD_0879', 'AD_0880', 'AD_0882', 'AD_0883', 'AD_0884', 'AD_0885', 'AD_0886', 'AD_0887', 'AD_0888', 'AD_0889', 'AD_0890', 'AD_0892', 'AD_0894', 'AD_0895', 'AD_0897', 'AD_0898', 'AD_0899', 'AD_0900', 'AD_0902', 'AD_0903', 'AD_0906', 'AD_0907', 'AD_0908', 'AD_0910', 'AD_0911', 'AD_0912', 'AD_0913', 'AD_0914', 'AD_0915', 'AD_0916', 'AD_0917', 'AD_0919', 'AD_0920', 'AD_0923', 'AD_0924', 'AD_0925', 'AD_0926', 'AD_0927', 'AD_0929', 'AD_0932', 'AD_0933', 'AD_0935', 'AD_0936', 'AD_0937', 'AD_0938', 'AD_0939', 'AD_0941', 'AD_0942', 'AD_0943', 'AD_0944', 'AD_0946', 'AD_0948', 'AD_0950', 'AD_0951', 'AD_0952', 'AD_0954', 'AD_0955', 'AD_0956', 'AD_0958', 'AD_0959', 'AD_0962', 'AD_0963', 'AD_0965', 'AD_0966', 'AD_0968', 'AD_0972', 'AD_0973', 'AD_0974', 'AD_0976', 'AD_0977', 'AD_0979', 'AD_0980', 'AD_0981', 'AD_0982', 'AD_0983', 'AD_0984', 'AD_0985', 'AD_0986', 'AD_0987', 'AD_0988', 'AD_0989', 'AD_0991', 'AD_0992', 'AD_0994', 'AD_0995', 'AD_0997', 'AD_0998', 'AD_0999', 'AD_1000', 'AD_1001', 'AD_1002', 'AD_1003', 'AD_1005', 'AD_1006', 'AD_1007', 'AD_1009', 'AD_1010', 'AD_1011', 'AD_1012', 'AD_1013', 'AD_1014', 'AD_1015', 'AD_1016', 'AD_1017', 'AD_1018', 'AD_1019', 'AD_1020', 'AD_1021', 'MCI_0001', 'MCI_0002', 'MCI_0003', 'MCI_0004', 'MCI_0005', 'MCI_0006', 'MCI_0007', 'MCI_0008', 'MCI_0009', 'MCI_0010', 'MCI_0011', 'MCI_0012', 'MCI_0013', 'MCI_0014', 'MCI_0015', 'MCI_0016', 'MCI_0017', 'MCI_0018', 'MCI_0019', 'MCI_0020', 'MCI_0021', 'MCI_0022', 'MCI_0023', 'MCI_0024', 'MCI_0025', 'MCI_0026', 'MCI_0027', 'MCI_0028', 'MCI_0029', 'MCI_0030', 'MCI_0031', 'MCI_0032', 'NC_0001', 'NC_0002', 'NC_0003', 'NC_0004', 'NC_0005', 'NC_0006', 'NC_0007', 'NC_0008', 'NC_0009', 'NC_0010', 'NC_0011', 'NC_0012', 'NC_0013', 'NC_0014', 'NC_0015', 'NC_0016', 'NC_0017', 'NC_0018', 'NC_0019', 'NC_0020', 'NC_0021', 'NC_0022', 'NC_0023', 'NC_0024', 'NC_0025', 'NC_0026', 'NC_0027', 'NC_0028', 'NC_0029', 'NC_0030', 'NC_0031', 'NC_0032', 'NC_0033', 'NC_0034', 'NC_0035', 'NC_0036', 'NC_0037', 'NC_0038', 'NC_0039', 'NC_0040', 'NC_0041', 'NC_0042', 'NC_0043', 'NC_0044', 'NC_0045', 'NC_0046', 'NC_0047', 'NC_0048', 'NC_0049', 'NC_0050', 'NC_0051', 'NC_0052', 'NC_0053', 'NC_0054', 'NC_0055', 'NC_0056', 'NC_0057', 'NC_0058', 'NC_0059', 'NC_0060', 'NC_0061', 'NC_0062', 'NC_0063', 'NC_0064', 'NC_0065', 'NC_0066', 'NC_0067', 'NC_0068', 'NC_0069', 'NC_0070', 'NC_0071', 'NC_0072', 'NC_0073', 'NC_0074', 'NC_0075', 'NC_0076', 'NC_0077', 'NC_0078', 'NC_0079', 'NC_0080', 'NC_0081', 'NC_0082', 'NC_0083', 'NC_0084', 'NC_0085', 'NC_0086', 'NC_0087', 'NC_0088', 'NC_0089', 'NC_0090', 'NC_0091', 'NC_0092', 'NC_0093', 'NC_0094', 'NC_0095', 'NC_0096', 'NC_0097', 'NC_0098', 'NC_0099', 'NC_0100', 'NC_0101', 'NC_0102', 'NC_0103', 'NC_0104', 'NC_0105', 'NC_0106', 'NC_0107', 'NC_0108', 'NC_0109', 'NC_0110', 'NC_0111', 'NC_0112', 'NC_0113', 'NC_0114', 'NC_0115', 'NC_0116', 'NC_0117', 'NC_0118', 'NC_0119', 'NC_0120', 'NC_0121', 'NC_0122', 'NC_0123', 'NC_0124', 'NC_0125', 'NC_0126', 'NC_0127', 'NC_0128', 'NC_0129', 'NC_0130', 'NC_0131', 'NC_0132', 'NC_0133', 'NC_0134', 'NC_0135', 'NC_0136', 'NC_0137', 'NC_0138', 'NC_0139', 'NC_0140', 'NC_0141', 'NC_0142', 'NC_0143', 'NC_0144', 'NC_0145', 'NC_0146', 'NC_0147', 'NC_0148', 'NC_0149', 'NC_0150', 'NC_0151', 'NC_0152', 'NC_0153', 'NC_0154', 'NC_0155', 'NC_0156', 'NC_0157', 'NC_0158', 'NC_0159', 'NC_0160', 'NC_0161', 'NC_0162', 'NC_0163', 'NC_0164', 'NC_0165', 'NC_0166', 'NC_0167', 'NC_0168', 'NC_0169', 'NC_0170', 'NC_0171', 'NC_0172', 'NC_0173', 'NC_0174', 'NC_0175', 'NC_0176', 'NC_0177', 'NC_0178', 'NC_0179', 'NC_0180', 'NC_0181', 'NC_0182', 'NC_0183', 'NC_0184', 'NC_0185', 'NC_0186', 'NC_0187', 'NC_0188', 'NC_0189', 'NC_0190', 'NC_0191', 'NC_0192', 'NC_0193', 'NC_0194', 'NC_0195', 'NC_0196', 'NC_0197', 'NC_0198', 'NC_0199', 'NC_0200', 'NC_0201', 'NC_0202', 'NC_0203', 'NC_0204', 'NC_0205', 'NC_0206', 'NC_0207', 'NC_0208', 'NC_0209', 'NC_0210', 'NC_0211', 'NC_0212', 'NC_0213', 'NC_0214', 'NC_0215', 'NC_0216', 'NC_0217', 'NC_0218', 'NC_0219', 'NC_0220', 'NC_0221', 'NC_0222', 'NC_0223', 'NC_0224', 'NC_0225', 'NC_0226', 'NC_0227', 'NC_0228', 'NC_0229', 'NC_0230', 'NC_0231', 'NC_0232', 'NC_0233', 'NC_0234', 'NC_0235', 'NC_0236', 'NC_0237', 'NC_0238', 'NC_0239', 'NC_0240', 'NC_0241', 'NC_0242', 'NC_0243', 'NC_0244', 'NC_0245', 'NC_0246', 'NC_0247', 'NC_0248', 'NC_0249', 'NC_0250', 'NC_0251', 'NC_0252', 'NC_0253', 'NC_0254', 'NC_0255', 'NC_0256', 'NC_0257', 'NC_0258', 'NC_0259', 'NC_0260', 'NC_0261', 'NC_0262', 'NC_0263', 'NC_0264', 'NC_0265', 'NC_0266', 'NC_0267', 'NC_0268', 'NC_0269', 'NC_0270', 'NC_0271', 'NC_0272', 'NC_0273', 'NC_0274', 'NC_0275', 'NC_0276', 'NC_0277', 'NC_0278', 'NC_0279', 'NC_0280', 'NC_0281', 'NC_0282', 'NC_0283', 'NC_0284', 'NC_0285', 'NC_0286', 'NC_0287', 'NC_0288', 'MCI-C_001', 'MCI-C_002', 'MCI-C_003', 'MCI-C_004', 'MCI-C_005', 'MCI-C_006', 'MCI-C_007', 'MCI-C_008', 'MCI-C_009', 'MCI-C_010', 'MCI-C_011', 'MCI-C_012', 'MCI-C_013', 'MCI-C_014', 'MCI-C_015', 'MCI-C_016', 'MCI-C_017', 'MCI-C_018', 'MCI-C_019', 'MCI-C_020', 'MCI-C_021', 'MCI-C_022', 'MCI-C_023', 'MCI-C_024', 'MCI-C_025', 'MCI-C_026', 'MCI-C_027', 'MCI-C_028', 'MCI-C_029', 'MCI-C_030', 'MCI-C_031', 'MCI-C_032', 'MCI-C_033', 'MCI-C_034', 'MCI-C_035', 'MCI-C_036', 'MCI-C_037', 'MCI-C_038', 'MCI-C_039', 'MCI-C_040', 'MCI-C_041', 'MCI-C_042', 'MCI-C_043', 'MCI-C_044', 'MCI-C_045', 'MCI-C_046', 'MCI-C_047', 'MCI-C_048', 'MCI-C_049', 'MCI-C_050', 'MCI-C_051', 'MCI-C_052', 'MCI-C_053', 'MCI-C_054', 'MCI-C_055', 'MCI-C_056', 'MCI-C_057', 'MCI-C_058', 'MCI-C_059', 'MCI-C_060', 'MCI-C_061', 'MCI-C_062', 'MCI-C_063', 'MCI-C_064', 'MCI-C_065', 'MCI-C_066', 'MCI-C_067', 'MCI-C_068', 'MCI-C_069', 'MCI-C_070', 'MCI-C_071', 'MCI-C_072', 'MCI-C_073', 'MCI-C_074', 'MCI-C_075', 'MCI-C_076', 'MCI-C_077', 'MCI-C_078', 'MCI-C_079', 'MCI-C_080', 'MCI-C_081', 'MCI-C_082', 'MCI-C_083', 'AD_1', 'AD_2', 'AD_3', 'AD_4', 'AD_5', 'Control_1', 'Control_2', 'Control_3', 'Control_4', 'Control_5', 'Control_6', 'Control_7', 'Control_8', 'Control_9', 'Control_10', 'Control_11', 'Control_12', 'AD_6', 'AD_7', 'AD_8', 'AD_9', 'AD_10', 'AD_11', 'AD_12', 'AD_13', 'AD_14', 'AD_15', 'AD_16', 'AD_17']\n"
     ]
    }
   ],
   "source": [
    "# save the values of the first column as a list\n",
    "P_patients = df.iloc[:, 0].tolist()\n",
    "\n",
    "print(P_patients)  "
   ]
  },
  {
   "cell_type": "code",
   "execution_count": 23,
   "id": "baf9d203",
   "metadata": {},
   "outputs": [],
   "source": [
    "# compute P as the ndarray of df\n",
    "P = df.values[:, 1:]"
   ]
  },
  {
   "cell_type": "markdown",
   "id": "63a960ca",
   "metadata": {},
   "source": [
    "#### Extract the X matrix"
   ]
  },
  {
   "cell_type": "code",
   "execution_count": 24,
   "id": "47ef6d5b",
   "metadata": {},
   "outputs": [],
   "source": [
    "df = pd.read_csv('data/raw/df_concat_final.csv') \n",
    "\n",
    "# rename the first column of df\n",
    "df.rename(columns={df.columns[0]: 'patient_id'}, inplace=True)\n",
    "\n",
    "patient_info_list = ['patient_id', 'country', 'age', 'sex', 'sex', 'apoe4', 'disease']\n",
    "\n",
    "df_subset = df[patient_info_list]\n",
    "\n",
    "# remove the extra column named 'sex' (there are two columns with the same name and same values)\n",
    "df_subset = df_subset.loc[:, ~df_subset.columns.duplicated()]\n",
    "\n",
    "df_subset.to_csv('data/result/patient_info.csv', index=False)"
   ]
  },
  {
   "cell_type": "code",
   "execution_count": 25,
   "id": "323f512c",
   "metadata": {},
   "outputs": [
    {
     "name": "stdout",
     "output_type": "stream",
     "text": [
      "['AD_0001', 'AD_0002', 'AD_0003', 'AD_0005', 'AD_0006', 'AD_0007', 'AD_0008', 'AD_0009', 'AD_0010', 'AD_0011', 'AD_0012', 'AD_0013', 'AD_0014', 'AD_0015', 'AD_0016', 'AD_0020', 'AD_0021', 'AD_0023', 'AD_0024', 'AD_0026', 'AD_0028', 'AD_0029', 'AD_0031', 'AD_0032', 'AD_0033', 'AD_0034', 'AD_0035', 'AD_0036', 'AD_0037', 'AD_0038', 'AD_0039', 'AD_0040', 'AD_0041', 'AD_0042', 'AD_0043', 'AD_0044', 'AD_0045', 'AD_0046', 'AD_0048', 'AD_0050', 'AD_0051', 'AD_0052', 'AD_0054', 'AD_0056', 'AD_0057', 'AD_0058', 'AD_0059', 'AD_0060', 'AD_0061', 'AD_0062', 'AD_0063', 'AD_0066', 'AD_0067', 'AD_0068', 'AD_0070', 'AD_0071', 'AD_0072', 'AD_0073', 'AD_0074', 'AD_0075', 'AD_0077', 'AD_0079', 'AD_0081', 'AD_0082', 'AD_0083', 'AD_0084', 'AD_0085', 'AD_0086', 'AD_0087', 'AD_0089', 'AD_0091', 'AD_0092', 'AD_0093', 'AD_0094', 'AD_0098', 'AD_0100', 'AD_0101', 'AD_0103', 'AD_0104', 'AD_0105', 'AD_0106', 'AD_0107', 'AD_0108', 'AD_0109', 'AD_0110', 'AD_0111', 'AD_0112', 'AD_0113', 'AD_0114', 'AD_0115', 'AD_0116', 'AD_0117', 'AD_0118', 'AD_0121', 'AD_0122', 'AD_0123', 'AD_0124', 'AD_0125', 'AD_0126', 'AD_0127', 'AD_0128', 'AD_0129', 'AD_0130', 'AD_0131', 'AD_0132', 'AD_0133', 'AD_0134', 'AD_0136', 'AD_0137', 'AD_0138', 'AD_0139', 'AD_0140', 'AD_0141', 'AD_0142', 'AD_0143', 'AD_0144', 'AD_0145', 'AD_0146', 'AD_0147', 'AD_0149', 'AD_0152', 'AD_0153', 'AD_0155', 'AD_0156', 'AD_0157', 'AD_0158', 'AD_0160', 'AD_0161', 'AD_0163', 'AD_0164', 'AD_0165', 'AD_0166', 'AD_0167', 'AD_0168', 'AD_0169', 'AD_0170', 'AD_0171', 'AD_0172', 'AD_0173', 'AD_0174', 'AD_0175', 'AD_0177', 'AD_0178', 'AD_0179', 'AD_0180', 'AD_0181', 'AD_0182', 'AD_0183', 'AD_0184', 'AD_0185', 'AD_0187', 'AD_0188', 'AD_0189', 'AD_0190', 'AD_0191', 'AD_0192', 'AD_0193', 'AD_0194', 'AD_0195', 'AD_0196', 'AD_0197', 'AD_0198', 'AD_0199', 'AD_0201', 'AD_0203', 'AD_0204', 'AD_0206', 'AD_0207', 'AD_0209', 'AD_0210', 'AD_0211', 'AD_0212', 'AD_0213', 'AD_0214', 'AD_0216', 'AD_0217', 'AD_0218', 'AD_0220', 'AD_0221', 'AD_0222', 'AD_0223', 'AD_0224', 'AD_0225', 'AD_0226', 'AD_0228', 'AD_0229', 'AD_0231', 'AD_0232', 'AD_0233', 'AD_0237', 'AD_0239', 'AD_0240', 'AD_0241', 'AD_0243', 'AD_0244', 'AD_0246', 'AD_0247', 'AD_0248', 'AD_0250', 'AD_0251', 'AD_0252', 'AD_0253', 'AD_0254', 'AD_0255', 'AD_0256', 'AD_0257', 'AD_0259', 'AD_0261', 'AD_0262', 'AD_0263', 'AD_0264', 'AD_0265', 'AD_0266', 'AD_0268', 'AD_0269', 'AD_0271', 'AD_0272', 'AD_0273', 'AD_0274', 'AD_0275', 'AD_0276', 'AD_0278', 'AD_0279', 'AD_0280', 'AD_0281', 'AD_0282', 'AD_0283', 'AD_0284', 'AD_0285', 'AD_0286', 'AD_0287', 'AD_0289', 'AD_0290', 'AD_0291', 'AD_0292', 'AD_0294', 'AD_0295', 'AD_0296', 'AD_0298', 'AD_0299', 'AD_0300', 'AD_0301', 'AD_0302', 'AD_0304', 'AD_0305', 'AD_0306', 'AD_0307', 'AD_0308', 'AD_0309', 'AD_0310', 'AD_0311', 'AD_0312', 'AD_0313', 'AD_0314', 'AD_0315', 'AD_0316', 'AD_0318', 'AD_0319', 'AD_0320', 'AD_0321', 'AD_0322', 'AD_0323', 'AD_0324', 'AD_0325', 'AD_0326', 'AD_0327', 'AD_0328', 'AD_0329', 'AD_0330', 'AD_0331', 'AD_0332', 'AD_0333', 'AD_0334', 'AD_0335', 'AD_0336', 'AD_0337', 'AD_0338', 'AD_0339', 'AD_0340', 'AD_0341', 'AD_0343', 'AD_0344', 'AD_0345', 'AD_0346', 'AD_0347', 'AD_0348', 'AD_0349', 'AD_0350', 'AD_0351', 'AD_0352', 'AD_0353', 'AD_0354', 'AD_0355', 'AD_0356', 'AD_0357', 'AD_0358', 'AD_0359', 'AD_0360', 'AD_0361', 'AD_0364', 'AD_0365', 'AD_0366', 'AD_0367', 'AD_0368', 'AD_0369', 'AD_0370', 'AD_0372', 'AD_0373', 'AD_0374', 'AD_0376', 'AD_0377', 'AD_0378', 'AD_0379', 'AD_0380', 'AD_0381', 'AD_0383', 'AD_0384', 'AD_0385', 'AD_0386', 'AD_0387', 'AD_0388', 'AD_0389', 'AD_0391', 'AD_0393', 'AD_0394', 'AD_0395', 'AD_0396', 'AD_0397', 'AD_0398', 'AD_0399', 'AD_0400', 'AD_0401', 'AD_0402', 'AD_0404', 'AD_0405', 'AD_0406', 'AD_0407', 'AD_0409', 'AD_0410', 'AD_0411', 'AD_0413', 'AD_0414', 'AD_0415', 'AD_0417', 'AD_0418', 'AD_0419', 'AD_0420', 'AD_0421', 'AD_0423', 'AD_0424', 'AD_0425', 'AD_0427', 'AD_0429', 'AD_0430', 'AD_0431', 'AD_0432', 'AD_0433', 'AD_0434', 'AD_0436', 'AD_0438', 'AD_0440', 'AD_0441', 'AD_0443', 'AD_0444', 'AD_0445', 'AD_0446', 'AD_0447', 'AD_0448', 'AD_0449', 'AD_0450', 'AD_0451', 'AD_0452', 'AD_0454', 'AD_0455', 'AD_0456', 'AD_0459', 'AD_0460', 'AD_0461', 'AD_0462', 'AD_0465', 'AD_0466', 'AD_0467', 'AD_0468', 'AD_0469', 'AD_0470', 'AD_0471', 'AD_0472', 'AD_0473', 'AD_0474', 'AD_0476', 'AD_0477', 'AD_0478', 'AD_0479', 'AD_0480', 'AD_0481', 'AD_0482', 'AD_0483', 'AD_0484', 'AD_0485', 'AD_0487', 'AD_0489', 'AD_0490', 'AD_0491', 'AD_0493', 'AD_0495', 'AD_0496', 'AD_0497', 'AD_0498', 'AD_0499', 'AD_0500', 'AD_0501', 'AD_0502', 'AD_0503', 'AD_0504', 'AD_0505', 'AD_0506', 'AD_0507', 'AD_0508', 'AD_0509', 'AD_0510', 'AD_0512', 'AD_0513', 'AD_0515', 'AD_0516', 'AD_0517', 'AD_0518', 'AD_0519', 'AD_0521', 'AD_0522', 'AD_0523', 'AD_0526', 'AD_0527', 'AD_0528', 'AD_0529', 'AD_0530', 'AD_0531', 'AD_0532', 'AD_0533', 'AD_0534', 'AD_0535', 'AD_0536', 'AD_0537', 'AD_0538', 'AD_0539', 'AD_0540', 'AD_0542', 'AD_0543', 'AD_0545', 'AD_0546', 'AD_0547', 'AD_0548', 'AD_0549', 'AD_0550', 'AD_0551', 'AD_0552', 'AD_0553', 'AD_0554', 'AD_0555', 'AD_0557', 'AD_0558', 'AD_0559', 'AD_0560', 'AD_0561', 'AD_0562', 'AD_0563', 'AD_0564', 'AD_0565', 'AD_0566', 'AD_0567', 'AD_0568', 'AD_0569', 'AD_0570', 'AD_0571', 'AD_0572', 'AD_0573', 'AD_0574', 'AD_0575', 'AD_0576', 'AD_0577', 'AD_0580', 'AD_0581', 'AD_0582', 'AD_0583', 'AD_0584', 'AD_0586', 'AD_0587', 'AD_0588', 'AD_0589', 'AD_0590', 'AD_0591', 'AD_0592', 'AD_0593', 'AD_0594', 'AD_0595', 'AD_0596', 'AD_0597', 'AD_0598', 'AD_0599', 'AD_0600', 'AD_0601', 'AD_0602', 'AD_0603', 'AD_0605', 'AD_0607', 'AD_0609', 'AD_0610', 'AD_0611', 'AD_0612', 'AD_0613', 'AD_0614', 'AD_0616', 'AD_0617', 'AD_0618', 'AD_0620', 'AD_0621', 'AD_0623', 'AD_0624', 'AD_0625', 'AD_0627', 'AD_0628', 'AD_0629', 'AD_0630', 'AD_0631', 'AD_0632', 'AD_0633', 'AD_0634', 'AD_0635', 'AD_0636', 'AD_0638', 'AD_0639', 'AD_0641', 'AD_0642', 'AD_0643', 'AD_0644', 'AD_0645', 'AD_0646', 'AD_0650', 'AD_0652', 'AD_0655', 'AD_0656', 'AD_0657', 'AD_0658', 'AD_0659', 'AD_0661', 'AD_0662', 'AD_0663', 'AD_0664', 'AD_0666', 'AD_0667', 'AD_0668', 'AD_0669', 'AD_0671', 'AD_0672', 'AD_0674', 'AD_0676', 'AD_0678', 'AD_0679', 'AD_0681', 'AD_0682', 'AD_0683', 'AD_0684', 'AD_0685', 'AD_0686', 'AD_0687', 'AD_0688', 'AD_0689', 'AD_0690', 'AD_0691', 'AD_0693', 'AD_0694', 'AD_0695', 'AD_0696', 'AD_0697', 'AD_0698', 'AD_0699', 'AD_0700', 'AD_0702', 'AD_0703', 'AD_0704', 'AD_0705', 'AD_0707', 'AD_0709', 'AD_0710', 'AD_0711', 'AD_0712', 'AD_0713', 'AD_0714', 'AD_0715', 'AD_0716', 'AD_0718', 'AD_0720', 'AD_0721', 'AD_0722', 'AD_0723', 'AD_0724', 'AD_0726', 'AD_0727', 'AD_0728', 'AD_0729', 'AD_0730', 'AD_0731', 'AD_0732', 'AD_0734', 'AD_0735', 'AD_0737', 'AD_0739', 'AD_0740', 'AD_0742', 'AD_0743', 'AD_0744', 'AD_0745', 'AD_0747', 'AD_0748', 'AD_0750', 'AD_0751', 'AD_0752', 'AD_0753', 'AD_0754', 'AD_0755', 'AD_0756', 'AD_0758', 'AD_0759', 'AD_0761', 'AD_0762', 'AD_0763', 'AD_0764', 'AD_0766', 'AD_0768', 'AD_0769', 'AD_0770', 'AD_0771', 'AD_0772', 'AD_0774', 'AD_0775', 'AD_0777', 'AD_0778', 'AD_0780', 'AD_0783', 'AD_0784', 'AD_0785', 'AD_0786', 'AD_0787', 'AD_0788', 'AD_0789', 'AD_0790', 'AD_0791', 'AD_0792', 'AD_0793', 'AD_0795', 'AD_0796', 'AD_0798', 'AD_0799', 'AD_0800', 'AD_0801', 'AD_0802', 'AD_0803', 'AD_0804', 'AD_0805', 'AD_0807', 'AD_0808', 'AD_0809', 'AD_0810', 'AD_0811', 'AD_0813', 'AD_0814', 'AD_0815', 'AD_0816', 'AD_0817', 'AD_0818', 'AD_0819', 'AD_0822', 'AD_0823', 'AD_0824', 'AD_0825', 'AD_0826', 'AD_0827', 'AD_0828', 'AD_0829', 'AD_0830', 'AD_0831', 'AD_0833', 'AD_0836', 'AD_0837', 'AD_0839', 'AD_0840', 'AD_0842', 'AD_0843', 'AD_0844', 'AD_0845', 'AD_0847', 'AD_0848', 'AD_0849', 'AD_0850', 'AD_0852', 'AD_0853', 'AD_0854', 'AD_0855', 'AD_0856', 'AD_0858', 'AD_0859', 'AD_0860', 'AD_0862', 'AD_0863', 'AD_0864', 'AD_0865', 'AD_0866', 'AD_0868', 'AD_0869', 'AD_0870', 'AD_0871', 'AD_0872', 'AD_0873', 'AD_0874', 'AD_0876', 'AD_0877', 'AD_0878', 'AD_0879', 'AD_0880', 'AD_0882', 'AD_0883', 'AD_0884', 'AD_0885', 'AD_0886', 'AD_0887', 'AD_0888', 'AD_0889', 'AD_0890', 'AD_0892', 'AD_0894', 'AD_0895', 'AD_0897', 'AD_0898', 'AD_0899', 'AD_0900', 'AD_0902', 'AD_0903', 'AD_0906', 'AD_0907', 'AD_0908', 'AD_0910', 'AD_0911', 'AD_0912', 'AD_0913', 'AD_0914', 'AD_0915', 'AD_0916', 'AD_0917', 'AD_0919', 'AD_0920', 'AD_0923', 'AD_0924', 'AD_0925', 'AD_0926', 'AD_0927', 'AD_0929', 'AD_0932', 'AD_0933', 'AD_0935', 'AD_0936', 'AD_0937', 'AD_0938', 'AD_0939', 'AD_0941', 'AD_0942', 'AD_0943', 'AD_0944', 'AD_0946', 'AD_0948', 'AD_0950', 'AD_0951', 'AD_0952', 'AD_0954', 'AD_0955', 'AD_0956', 'AD_0958', 'AD_0959', 'AD_0962', 'AD_0963', 'AD_0965', 'AD_0966', 'AD_0968', 'AD_0972', 'AD_0973', 'AD_0974', 'AD_0976', 'AD_0977', 'AD_0979', 'AD_0980', 'AD_0981', 'AD_0982', 'AD_0983', 'AD_0984', 'AD_0985', 'AD_0986', 'AD_0987', 'AD_0988', 'AD_0989', 'AD_0991', 'AD_0992', 'AD_0994', 'AD_0995', 'AD_0997', 'AD_0998', 'AD_0999', 'AD_1000', 'AD_1001', 'AD_1002', 'AD_1003', 'AD_1005', 'AD_1006', 'AD_1007', 'AD_1009', 'AD_1010', 'AD_1011', 'AD_1012', 'AD_1013', 'AD_1014', 'AD_1015', 'AD_1016', 'AD_1017', 'AD_1018', 'AD_1019', 'AD_1020', 'AD_1021', 'MCI_0001', 'MCI_0002', 'MCI_0003', 'MCI_0004', 'MCI_0005', 'MCI_0006', 'MCI_0007', 'MCI_0008', 'MCI_0009', 'MCI_0010', 'MCI_0011', 'MCI_0012', 'MCI_0013', 'MCI_0014', 'MCI_0015', 'MCI_0016', 'MCI_0017', 'MCI_0018', 'MCI_0019', 'MCI_0020', 'MCI_0021', 'MCI_0022', 'MCI_0023', 'MCI_0024', 'MCI_0025', 'MCI_0026', 'MCI_0027', 'MCI_0028', 'MCI_0029', 'MCI_0030', 'MCI_0031', 'MCI_0032', 'NC_0001', 'NC_0002', 'NC_0003', 'NC_0004', 'NC_0005', 'NC_0006', 'NC_0007', 'NC_0008', 'NC_0009', 'NC_0010', 'NC_0011', 'NC_0012', 'NC_0013', 'NC_0014', 'NC_0015', 'NC_0016', 'NC_0017', 'NC_0018', 'NC_0019', 'NC_0020', 'NC_0021', 'NC_0022', 'NC_0023', 'NC_0024', 'NC_0025', 'NC_0026', 'NC_0027', 'NC_0028', 'NC_0029', 'NC_0030', 'NC_0031', 'NC_0032', 'NC_0033', 'NC_0034', 'NC_0035', 'NC_0036', 'NC_0037', 'NC_0038', 'NC_0039', 'NC_0040', 'NC_0041', 'NC_0042', 'NC_0043', 'NC_0044', 'NC_0045', 'NC_0046', 'NC_0047', 'NC_0048', 'NC_0049', 'NC_0050', 'NC_0051', 'NC_0052', 'NC_0053', 'NC_0054', 'NC_0055', 'NC_0056', 'NC_0057', 'NC_0058', 'NC_0059', 'NC_0060', 'NC_0061', 'NC_0062', 'NC_0063', 'NC_0064', 'NC_0065', 'NC_0066', 'NC_0067', 'NC_0068', 'NC_0069', 'NC_0070', 'NC_0071', 'NC_0072', 'NC_0073', 'NC_0074', 'NC_0075', 'NC_0076', 'NC_0077', 'NC_0078', 'NC_0079', 'NC_0080', 'NC_0081', 'NC_0082', 'NC_0083', 'NC_0084', 'NC_0085', 'NC_0086', 'NC_0087', 'NC_0088', 'NC_0089', 'NC_0090', 'NC_0091', 'NC_0092', 'NC_0093', 'NC_0094', 'NC_0095', 'NC_0096', 'NC_0097', 'NC_0098', 'NC_0099', 'NC_0100', 'NC_0101', 'NC_0102', 'NC_0103', 'NC_0104', 'NC_0105', 'NC_0106', 'NC_0107', 'NC_0108', 'NC_0109', 'NC_0110', 'NC_0111', 'NC_0112', 'NC_0113', 'NC_0114', 'NC_0115', 'NC_0116', 'NC_0117', 'NC_0118', 'NC_0119', 'NC_0120', 'NC_0121', 'NC_0122', 'NC_0123', 'NC_0124', 'NC_0125', 'NC_0126', 'NC_0127', 'NC_0128', 'NC_0129', 'NC_0130', 'NC_0131', 'NC_0132', 'NC_0133', 'NC_0134', 'NC_0135', 'NC_0136', 'NC_0137', 'NC_0138', 'NC_0139', 'NC_0140', 'NC_0141', 'NC_0142', 'NC_0143', 'NC_0144', 'NC_0145', 'NC_0146', 'NC_0147', 'NC_0148', 'NC_0149', 'NC_0150', 'NC_0151', 'NC_0152', 'NC_0153', 'NC_0154', 'NC_0155', 'NC_0156', 'NC_0157', 'NC_0158', 'NC_0159', 'NC_0160', 'NC_0161', 'NC_0162', 'NC_0163', 'NC_0164', 'NC_0165', 'NC_0166', 'NC_0167', 'NC_0168', 'NC_0169', 'NC_0170', 'NC_0171', 'NC_0172', 'NC_0173', 'NC_0174', 'NC_0175', 'NC_0176', 'NC_0177', 'NC_0178', 'NC_0179', 'NC_0180', 'NC_0181', 'NC_0182', 'NC_0183', 'NC_0184', 'NC_0185', 'NC_0186', 'NC_0187', 'NC_0188', 'NC_0189', 'NC_0190', 'NC_0191', 'NC_0192', 'NC_0193', 'NC_0194', 'NC_0195', 'NC_0196', 'NC_0197', 'NC_0198', 'NC_0199', 'NC_0200', 'NC_0201', 'NC_0202', 'NC_0203', 'NC_0204', 'NC_0205', 'NC_0206', 'NC_0207', 'NC_0208', 'NC_0209', 'NC_0210', 'NC_0211', 'NC_0212', 'NC_0213', 'NC_0214', 'NC_0215', 'NC_0216', 'NC_0217', 'NC_0218', 'NC_0219', 'NC_0220', 'NC_0221', 'NC_0222', 'NC_0223', 'NC_0224', 'NC_0225', 'NC_0226', 'NC_0227', 'NC_0228', 'NC_0229', 'NC_0230', 'NC_0231', 'NC_0232', 'NC_0233', 'NC_0234', 'NC_0235', 'NC_0236', 'NC_0237', 'NC_0238', 'NC_0239', 'NC_0240', 'NC_0241', 'NC_0242', 'NC_0243', 'NC_0244', 'NC_0245', 'NC_0246', 'NC_0247', 'NC_0248', 'NC_0249', 'NC_0250', 'NC_0251', 'NC_0252', 'NC_0253', 'NC_0254', 'NC_0255', 'NC_0256', 'NC_0257', 'NC_0258', 'NC_0259', 'NC_0260', 'NC_0261', 'NC_0262', 'NC_0263', 'NC_0264', 'NC_0265', 'NC_0266', 'NC_0267', 'NC_0268', 'NC_0269', 'NC_0270', 'NC_0271', 'NC_0272', 'NC_0273', 'NC_0274', 'NC_0275', 'NC_0276', 'NC_0277', 'NC_0278', 'NC_0279', 'NC_0280', 'NC_0281', 'NC_0282', 'NC_0283', 'NC_0284', 'NC_0285', 'NC_0286', 'NC_0287', 'NC_0288', 'MCI-C_001', 'MCI-C_002', 'MCI-C_003', 'MCI-C_004', 'MCI-C_005', 'MCI-C_006', 'MCI-C_007', 'MCI-C_008', 'MCI-C_009', 'MCI-C_010', 'MCI-C_011', 'MCI-C_012', 'MCI-C_013', 'MCI-C_014', 'MCI-C_015', 'MCI-C_016', 'MCI-C_017', 'MCI-C_018', 'MCI-C_019', 'MCI-C_020', 'MCI-C_021', 'MCI-C_022', 'MCI-C_023', 'MCI-C_024', 'MCI-C_025', 'MCI-C_026', 'MCI-C_027', 'MCI-C_028', 'MCI-C_029', 'MCI-C_030', 'MCI-C_031', 'MCI-C_032', 'MCI-C_033', 'MCI-C_034', 'MCI-C_035', 'MCI-C_036', 'MCI-C_037', 'MCI-C_038', 'MCI-C_039', 'MCI-C_040', 'MCI-C_041', 'MCI-C_042', 'MCI-C_043', 'MCI-C_044', 'MCI-C_045', 'MCI-C_046', 'MCI-C_047', 'MCI-C_048', 'MCI-C_049', 'MCI-C_050', 'MCI-C_051', 'MCI-C_052', 'MCI-C_053', 'MCI-C_054', 'MCI-C_055', 'MCI-C_056', 'MCI-C_057', 'MCI-C_058', 'MCI-C_059', 'MCI-C_060', 'MCI-C_061', 'MCI-C_062', 'MCI-C_063', 'MCI-C_064', 'MCI-C_065', 'MCI-C_066', 'MCI-C_067', 'MCI-C_068', 'MCI-C_069', 'MCI-C_070', 'MCI-C_071', 'MCI-C_072', 'MCI-C_073', 'MCI-C_074', 'MCI-C_075', 'MCI-C_076', 'MCI-C_077', 'MCI-C_078', 'MCI-C_079', 'MCI-C_080', 'MCI-C_081', 'MCI-C_082', 'MCI-C_083', 'AD_1', 'AD_2', 'AD_3', 'AD_4', 'AD_5', 'Control_1', 'Control_2', 'Control_3', 'Control_4', 'Control_5', 'Control_6', 'Control_7', 'Control_8', 'Control_9', 'Control_10', 'Control_11', 'Control_12', 'AD_6', 'AD_7', 'AD_8', 'AD_9', 'AD_10', 'AD_11', 'AD_12', 'AD_13', 'AD_14', 'AD_15', 'AD_16', 'AD_17']\n"
     ]
    }
   ],
   "source": [
    "# save the values of the first column as a list\n",
    "X_patients = df_subset.iloc[:, 0].tolist()\n",
    "print(X_patients)"
   ]
  },
  {
   "cell_type": "code",
   "execution_count": 26,
   "id": "6024dcc8",
   "metadata": {},
   "outputs": [
    {
     "name": "stdout",
     "output_type": "stream",
     "text": [
      "(1256, 2604)\n"
     ]
    }
   ],
   "source": [
    "# remove the columns in df being in patient_info_list\n",
    "df = df.drop(columns=patient_info_list)\n",
    "\n",
    "print(df.shape)"
   ]
  },
  {
   "cell_type": "code",
   "execution_count": 27,
   "id": "2971ec31",
   "metadata": {},
   "outputs": [
    {
     "name": "stdout",
     "output_type": "stream",
     "text": [
      "['country', 'age', 'sex', 'apoe4', 'disease']\n"
     ]
    }
   ],
   "source": [
    "# save the names of the remaining columns as a list\n",
    "X_features = df_subset.columns[1:].tolist()\n",
    "print(X_features)"
   ]
  },
  {
   "cell_type": "code",
   "execution_count": 28,
   "id": "ef03f834",
   "metadata": {},
   "outputs": [],
   "source": [
    "# get the list of columns containing at least one NaN value\n",
    "nan_columns = df.columns[df.isnull().any()].tolist()\n",
    "\n",
    "# save the column names in df being in nan_columns in a list\n",
    "nan_columns_list = nan_columns.copy()\n",
    "\n",
    "# remove the columns in df being in nan_columns\n",
    "df = df.drop(columns=nan_columns)\n",
    "\n",
    "X = df.values"
   ]
  },
  {
   "cell_type": "code",
   "execution_count": 29,
   "id": "d122a317",
   "metadata": {},
   "outputs": [
    {
     "name": "stdout",
     "output_type": "stream",
     "text": [
      "['hsa-let-7a-5p', 'hsa-let-7b-5p', 'hsa-let-7c-5p', 'hsa-let-7d-5p', 'hsa-let-7e-5p', 'hsa-let-7f-5p', 'hsa-miR-15a-5p', 'hsa-miR-16-5p', 'hsa-miR-17-5p', 'hsa-miR-17-3p', 'hsa-miR-18a-5p', 'hsa-miR-19a-3p', 'hsa-miR-19b-3p', 'hsa-miR-20a-5p', 'hsa-miR-21-5p', 'hsa-miR-22-3p', 'hsa-miR-23a-3p', 'hsa-miR-24-1-5p', 'hsa-miR-24-3p', 'hsa-miR-25-3p', 'hsa-miR-26a-5p', 'hsa-miR-26b-5p', 'hsa-miR-27a-3p', 'hsa-miR-28-5p', 'hsa-miR-29a-3p', 'hsa-miR-30a-5p', 'hsa-miR-30a-3p', 'hsa-miR-31-5p', 'hsa-miR-32-5p', 'hsa-miR-33a-5p', 'hsa-miR-92a-3p', 'hsa-miR-93-5p', 'hsa-miR-95-3p', 'hsa-miR-96-5p', 'hsa-miR-98-5p', 'hsa-miR-99a-5p', 'hsa-miR-100-5p', 'hsa-miR-101-3p', 'hsa-miR-29b-3p', 'hsa-miR-103a-3p', 'hsa-miR-105-5p', 'hsa-miR-106a-5p', 'hsa-miR-107', 'hsa-miR-192-5p', 'hsa-miR-196a-5p', 'hsa-miR-197-3p', 'hsa-miR-198', 'hsa-miR-199a-5p', 'hsa-miR-199a-3p', 'hsa-miR-208a-3p', 'hsa-miR-129-5p', 'hsa-miR-148a-3p', 'hsa-miR-30c-5p', 'hsa-miR-30d-5p', 'hsa-miR-139-5p', 'hsa-miR-147a', 'hsa-miR-7-5p', 'hsa-miR-10a-5p', 'hsa-miR-10b-5p', 'hsa-miR-34a-5p', 'hsa-miR-181a-5p', 'hsa-miR-181b-5p', 'hsa-miR-181c-5p', 'hsa-miR-182-5p', 'hsa-miR-182-3p', 'hsa-miR-183-5p', 'hsa-miR-187-3p', 'hsa-miR-199b-5p', 'hsa-miR-203a-3p', 'hsa-miR-204-5p', 'hsa-miR-205-5p', 'hsa-miR-210-3p', 'hsa-miR-211-5p', 'hsa-miR-212-3p', 'hsa-miR-181a-3p', 'hsa-miR-214-3p', 'hsa-miR-215-5p', 'hsa-miR-216a-5p', 'hsa-miR-218-5p', 'hsa-miR-219a-5p', 'hsa-miR-221-3p', 'hsa-miR-222-3p', 'hsa-miR-223-3p', 'hsa-miR-224-5p', 'hsa-miR-200b-3p', 'hsa-let-7g-5p', 'hsa-let-7i-5p', 'hsa-miR-1-3p', 'hsa-miR-15b-5p', 'hsa-miR-23b-3p', 'hsa-miR-27b-3p', 'hsa-miR-30b-5p', 'hsa-miR-122-5p', 'hsa-miR-124-3p', 'hsa-miR-125b-5p', 'hsa-miR-128-3p', 'hsa-miR-130a-3p', 'hsa-miR-132-3p', 'hsa-miR-133a-3p', 'hsa-miR-135a-5p', 'hsa-miR-138-5p', 'hsa-miR-140-5p', 'hsa-miR-141-3p', 'hsa-miR-142-5p', 'hsa-miR-142-3p', 'hsa-miR-143-3p', 'hsa-miR-144-3p', 'hsa-miR-145-5p', 'hsa-miR-152-3p', 'hsa-miR-153-3p', 'hsa-miR-191-5p', 'hsa-miR-9-5p', 'hsa-miR-9-3p', 'hsa-miR-125a-5p', 'hsa-miR-126-5p', 'hsa-miR-126-3p', 'hsa-miR-127-3p', 'hsa-miR-134-5p', 'hsa-miR-136-5p', 'hsa-miR-146a-5p', 'hsa-miR-149-5p', 'hsa-miR-150-5p', 'hsa-miR-154-5p', 'hsa-miR-154-3p', 'hsa-miR-184', 'hsa-miR-185-5p', 'hsa-miR-186-5p', 'hsa-miR-188-5p', 'hsa-miR-190a-5p', 'hsa-miR-193a-3p', 'hsa-miR-194-5p', 'hsa-miR-195-5p', 'hsa-miR-206', 'hsa-miR-200c-3p', 'hsa-miR-155-5p', 'hsa-miR-106b-5p', 'hsa-miR-29c-3p', 'hsa-miR-200a-3p', 'hsa-miR-302a-5p', 'hsa-miR-302a-3p', 'hsa-miR-34b-5p', 'hsa-miR-34c-5p', 'hsa-miR-299-3p', 'hsa-miR-301a-3p', 'hsa-miR-99b-5p', 'hsa-miR-296-5p', 'hsa-miR-130b-3p', 'hsa-miR-30e-5p', 'hsa-miR-30e-3p', 'hsa-miR-361-5p', 'hsa-miR-362-5p', 'hsa-miR-363-3p', 'hsa-miR-365a-3p', 'hsa-miR-302b-5p', 'hsa-miR-302b-3p', 'hsa-miR-302c-5p', 'hsa-miR-302c-3p', 'hsa-miR-302d-3p', 'hsa-miR-367-3p', 'hsa-miR-376c-3p', 'hsa-miR-369-3p', 'hsa-miR-370-3p', 'hsa-miR-371a-3p', 'hsa-miR-372-3p', 'hsa-miR-373-5p', 'hsa-miR-373-3p', 'hsa-miR-374a-5p', 'hsa-miR-376a-3p', 'hsa-miR-377-3p', 'hsa-miR-378a-5p', 'hsa-miR-378a-3p', 'hsa-miR-379-5p', 'hsa-miR-380-5p', 'hsa-miR-380-3p', 'hsa-miR-381-3p', 'hsa-miR-382-5p', 'hsa-miR-383-5p', 'hsa-miR-340-3p', 'hsa-miR-330-3p', 'hsa-miR-328-3p', 'hsa-miR-342-3p', 'hsa-miR-337-3p', 'hsa-miR-323a-3p', 'hsa-miR-326', 'hsa-miR-151a-3p', 'hsa-miR-135b-5p', 'hsa-miR-148b-3p', 'hsa-miR-331-3p', 'hsa-miR-324-5p', 'hsa-miR-324-3p', 'hsa-miR-338-3p', 'hsa-miR-339-5p', 'hsa-miR-335-5p', 'hsa-miR-133b', 'hsa-miR-325', 'hsa-miR-345-5p', 'hsa-miR-346', 'hsa-miR-384', 'hsa-miR-196b-5p', 'hsa-miR-422a', 'hsa-miR-423-3p', 'hsa-miR-424-5p', 'hsa-miR-425-3p', 'hsa-miR-18b-5p', 'hsa-miR-20b-5p', 'hsa-miR-448', 'hsa-miR-429', 'hsa-miR-449a', 'hsa-miR-450a-5p', 'hsa-miR-191-3p', 'hsa-miR-200a-5p', 'hsa-miR-369-5p', 'hsa-miR-431-5p', 'hsa-miR-433-3p', 'hsa-miR-329-3p', 'hsa-miR-323b-5p', 'hsa-miR-452-5p', 'hsa-miR-452-3p', 'hsa-miR-409-5p', 'hsa-miR-409-3p', 'hsa-miR-412-3p', 'hsa-miR-410-3p', 'hsa-miR-376b-3p', 'hsa-miR-483-3p', 'hsa-miR-484', 'hsa-miR-485-5p', 'hsa-miR-485-3p', 'hsa-miR-486-5p', 'hsa-miR-487a-3p', 'hsa-miR-488-5p', 'hsa-miR-489-3p', 'hsa-miR-490-3p', 'hsa-miR-491-5p', 'hsa-miR-511-5p', 'hsa-miR-146b-5p', 'hsa-miR-202-5p', 'hsa-miR-202-3p', 'hsa-miR-492', 'hsa-miR-493-5p', 'hsa-miR-432-5p', 'hsa-miR-432-3p', 'hsa-miR-494-3p', 'hsa-miR-495-3p', 'hsa-miR-496', 'hsa-miR-193b-3p', 'hsa-miR-497-5p', 'hsa-miR-181d-5p', 'hsa-miR-512-5p', 'hsa-miR-512-3p', 'hsa-miR-515-5p', 'hsa-miR-515-3p', 'hsa-miR-519e-5p', 'hsa-miR-519e-3p', 'hsa-miR-520f-3p', 'hsa-miR-519c-5p', 'hsa-miR-519c-3p', 'hsa-miR-520a-5p', 'hsa-miR-520a-3p', 'hsa-miR-526b-5p', 'hsa-miR-526b-3p', 'hsa-miR-519b-3p', 'hsa-miR-525-5p', 'hsa-miR-525-3p', 'hsa-miR-523-3p', 'hsa-miR-518f-5p', 'hsa-miR-518f-3p', 'hsa-miR-518b', 'hsa-miR-520c-3p', 'hsa-miR-518c-5p', 'hsa-miR-518c-3p', 'hsa-miR-524-5p', 'hsa-miR-524-3p', 'hsa-miR-517-5p', 'hsa-miR-517a-3p', 'hsa-miR-519d-3p', 'hsa-miR-521', 'hsa-miR-520d-5p', 'hsa-miR-520d-3p', 'hsa-miR-517b-3p', 'hsa-miR-520g-3p', 'hsa-miR-516b-5p', 'hsa-miR-516b-3p', 'hsa-miR-518e-3p', 'hsa-miR-527', 'hsa-miR-518a-3p', 'hsa-miR-518d-3p', 'hsa-miR-517c-3p', 'hsa-miR-520h', 'hsa-miR-522-3p', 'hsa-miR-519a-3p', 'hsa-miR-499a-5p', 'hsa-miR-500a-3p', 'hsa-miR-501-5p', 'hsa-miR-502-5p', 'hsa-miR-503-5p', 'hsa-miR-504-5p', 'hsa-miR-505-3p', 'hsa-miR-513a-5p', 'hsa-miR-506-3p', 'hsa-miR-507', 'hsa-miR-508-3p', 'hsa-miR-509-3p', 'hsa-miR-510-5p', 'hsa-miR-514a-3p', 'hsa-miR-532-5p', 'hsa-miR-299-5p', 'hsa-miR-18a-3p', 'hsa-miR-455-5p', 'hsa-miR-493-3p', 'hsa-miR-539-5p', 'hsa-miR-544a', 'hsa-miR-545-3p', 'hsa-miR-487b-3p', 'hsa-miR-551a', 'hsa-miR-552-3p', 'hsa-miR-553', 'hsa-miR-554', 'hsa-miR-92b-3p', 'hsa-miR-555', 'hsa-miR-556-5p', 'hsa-miR-557', 'hsa-miR-558', 'hsa-miR-559', 'hsa-miR-561-3p', 'hsa-miR-562', 'hsa-miR-563', 'hsa-miR-564', 'hsa-miR-566', 'hsa-miR-567', 'hsa-miR-568', 'hsa-miR-551b-3p', 'hsa-miR-569', 'hsa-miR-570-3p', 'hsa-miR-571', 'hsa-miR-572', 'hsa-miR-573', 'hsa-miR-574-3p', 'hsa-miR-575', 'hsa-miR-576-5p', 'hsa-miR-577', 'hsa-miR-578', 'hsa-miR-579-3p', 'hsa-miR-580-3p', 'hsa-miR-581', 'hsa-miR-582-5p', 'hsa-miR-583', 'hsa-miR-584-5p', 'hsa-miR-585-3p', 'hsa-miR-548a-3p', 'hsa-miR-586', 'hsa-miR-587', 'hsa-miR-548b-3p', 'hsa-miR-588', 'hsa-miR-589-3p', 'hsa-miR-550a-3p', 'hsa-miR-590-5p', 'hsa-miR-591', 'hsa-miR-592', 'hsa-miR-593-5p', 'hsa-miR-595', 'hsa-miR-596', 'hsa-miR-597-5p', 'hsa-miR-598-3p', 'hsa-miR-599', 'hsa-miR-600', 'hsa-miR-601', 'hsa-miR-602', 'hsa-miR-603', 'hsa-miR-604', 'hsa-miR-605-5p', 'hsa-miR-606', 'hsa-miR-607', 'hsa-miR-608', 'hsa-miR-609', 'hsa-miR-610', 'hsa-miR-611', 'hsa-miR-612', 'hsa-miR-613', 'hsa-miR-614', 'hsa-miR-615-3p', 'hsa-miR-616-5p', 'hsa-miR-548c-3p', 'hsa-miR-617', 'hsa-miR-618', 'hsa-miR-619-3p', 'hsa-miR-620', 'hsa-miR-621', 'hsa-miR-622', 'hsa-miR-623', 'hsa-miR-624-5p', 'hsa-miR-625-5p', 'hsa-miR-626', 'hsa-miR-627-5p', 'hsa-miR-628-3p', 'hsa-miR-629-3p', 'hsa-miR-630', 'hsa-miR-631', 'hsa-miR-33b-5p', 'hsa-miR-632', 'hsa-miR-633', 'hsa-miR-634', 'hsa-miR-635', 'hsa-miR-636', 'hsa-miR-637', 'hsa-miR-638', 'hsa-miR-639', 'hsa-miR-640', 'hsa-miR-641', 'hsa-miR-642a-5p', 'hsa-miR-643', 'hsa-miR-644a', 'hsa-miR-645', 'hsa-miR-646', 'hsa-miR-647', 'hsa-miR-648', 'hsa-miR-649', 'hsa-miR-650', 'hsa-miR-651-5p', 'hsa-miR-652-3p', 'hsa-miR-548d-3p', 'hsa-miR-661', 'hsa-miR-662', 'hsa-miR-663a', 'hsa-miR-449b-5p', 'hsa-miR-653-5p', 'hsa-miR-411-5p', 'hsa-miR-654-5p', 'hsa-miR-655-3p', 'hsa-miR-656-3p', 'hsa-miR-657', 'hsa-miR-658', 'hsa-miR-659-3p', 'hsa-miR-660-5p', 'hsa-miR-421', 'hsa-miR-542-5p', 'hsa-miR-363-5p', 'hsa-miR-376a-5p', 'hsa-miR-542-3p', 'hsa-miR-425-5p', 'hsa-miR-758-3p', 'hsa-miR-671-5p', 'hsa-miR-668-3p', 'hsa-miR-767-5p', 'hsa-miR-767-3p', 'hsa-miR-454-5p', 'hsa-miR-454-3p', 'hsa-miR-769-5p', 'hsa-miR-769-3p', 'hsa-miR-766-3p', 'hsa-miR-765', 'hsa-miR-770-5p', 'hsa-miR-802', 'hsa-miR-675-5p', 'hsa-miR-297', 'hsa-let-7a-3p', 'hsa-let-7b-3p', 'hsa-let-7d-3p', 'hsa-let-7e-3p', 'hsa-let-7f-1-3p', 'hsa-let-7f-2-3p', 'hsa-miR-15a-3p', 'hsa-miR-16-1-3p', 'hsa-miR-19a-5p', 'hsa-miR-19b-1-5p', 'hsa-miR-19b-2-5p', 'hsa-miR-20a-3p', 'hsa-miR-21-3p', 'hsa-miR-22-5p', 'hsa-miR-23a-5p', 'hsa-miR-24-2-5p', 'hsa-miR-25-5p', 'hsa-miR-26a-1-3p', 'hsa-miR-26b-3p', 'hsa-miR-27a-5p', 'hsa-miR-28-3p', 'hsa-miR-29a-5p', 'hsa-miR-31-3p', 'hsa-miR-32-3p', 'hsa-miR-33a-3p', 'hsa-miR-92a-1-5p', 'hsa-miR-92a-2-5p', 'hsa-miR-93-3p', 'hsa-miR-96-3p', 'hsa-miR-99a-3p', 'hsa-miR-100-3p', 'hsa-miR-101-5p', 'hsa-miR-29b-1-5p', 'hsa-miR-29b-2-5p', 'hsa-miR-105-3p', 'hsa-miR-106a-3p', 'hsa-miR-16-2-3p', 'hsa-miR-192-3p', 'hsa-miR-129-1-3p', 'hsa-miR-148a-5p', 'hsa-miR-30c-2-3p', 'hsa-miR-30d-3p', 'hsa-miR-139-3p', 'hsa-miR-7-1-3p', 'hsa-miR-7-2-3p', 'hsa-miR-10a-3p', 'hsa-miR-10b-3p', 'hsa-miR-34a-3p', 'hsa-miR-181a-2-3p', 'hsa-miR-181c-3p', 'hsa-miR-183-3p', 'hsa-miR-187-5p', 'hsa-miR-196a-3p', 'hsa-miR-199b-3p', 'hsa-miR-214-5p', 'hsa-miR-218-1-3p', 'hsa-miR-218-2-3p', 'hsa-miR-219a-1-3p', 'hsa-miR-221-5p', 'hsa-miR-222-5p', 'hsa-miR-223-5p', 'hsa-miR-200b-5p', 'hsa-let-7g-3p', 'hsa-let-7i-3p', 'hsa-miR-15b-3p', 'hsa-miR-23b-5p', 'hsa-miR-27b-5p', 'hsa-miR-30b-3p', 'hsa-miR-122-3p', 'hsa-miR-124-5p', 'hsa-miR-125b-1-3p', 'hsa-miR-130a-5p', 'hsa-miR-132-5p', 'hsa-miR-135a-3p', 'hsa-miR-138-2-3p', 'hsa-miR-140-3p', 'hsa-miR-141-5p', 'hsa-miR-143-5p', 'hsa-miR-144-5p', 'hsa-miR-145-3p', 'hsa-miR-125a-3p', 'hsa-miR-125b-2-3p', 'hsa-miR-127-5p', 'hsa-miR-129-2-3p', 'hsa-miR-136-3p', 'hsa-miR-138-1-3p', 'hsa-miR-146a-3p', 'hsa-miR-149-3p', 'hsa-miR-150-3p', 'hsa-miR-185-3p', 'hsa-miR-186-3p', 'hsa-miR-188-3p', 'hsa-miR-193a-5p', 'hsa-miR-195-3p', 'hsa-miR-200c-5p', 'hsa-miR-155-3p', 'hsa-miR-194-3p', 'hsa-miR-106b-3p', 'hsa-miR-29c-5p', 'hsa-miR-30c-1-3p', 'hsa-miR-219a-2-3p', 'hsa-miR-34b-3p', 'hsa-miR-34c-3p', 'hsa-miR-99b-3p', 'hsa-miR-296-3p', 'hsa-miR-130b-5p', 'hsa-miR-26a-2-3p', 'hsa-miR-361-3p', 'hsa-miR-362-3p', 'hsa-miR-302d-5p', 'hsa-miR-367-5p', 'hsa-miR-371a-5p', 'hsa-miR-374a-3p', 'hsa-miR-377-5p', 'hsa-miR-379-3p', 'hsa-miR-340-5p', 'hsa-miR-330-5p', 'hsa-miR-342-5p', 'hsa-miR-337-5p', 'hsa-miR-323a-5p', 'hsa-miR-151a-5p', 'hsa-miR-135b-3p', 'hsa-miR-148b-5p', 'hsa-miR-331-5p', 'hsa-miR-338-5p', 'hsa-miR-339-3p', 'hsa-miR-335-3p', 'hsa-miR-423-5p', 'hsa-miR-424-3p', 'hsa-miR-18b-3p', 'hsa-miR-20b-3p', 'hsa-miR-431-3p', 'hsa-miR-483-5p', 'hsa-miR-486-3p', 'hsa-miR-488-3p', 'hsa-miR-490-5p', 'hsa-miR-491-3p', 'hsa-miR-146b-3p', 'hsa-miR-193b-5p', 'hsa-miR-497-3p', 'hsa-miR-516a-5p', 'hsa-miR-499a-3p', 'hsa-miR-500a-5p', 'hsa-miR-501-3p', 'hsa-miR-502-3p', 'hsa-miR-505-5p', 'hsa-miR-513a-3p', 'hsa-miR-508-5p', 'hsa-miR-509-5p', 'hsa-miR-532-3p', 'hsa-miR-455-3p', 'hsa-miR-545-5p', 'hsa-miR-92b-5p', 'hsa-miR-556-3p', 'hsa-miR-551b-5p', 'hsa-miR-574-5p', 'hsa-miR-576-3p', 'hsa-miR-582-3p', 'hsa-miR-548b-5p', 'hsa-miR-589-5p', 'hsa-miR-550a-5p', 'hsa-miR-590-3p', 'hsa-miR-593-3p', 'hsa-miR-548a-5p', 'hsa-miR-615-5p', 'hsa-miR-616-3p', 'hsa-miR-548c-5p', 'hsa-miR-624-3p', 'hsa-miR-625-3p', 'hsa-miR-628-5p', 'hsa-miR-629-5p', 'hsa-miR-33b-3p', 'hsa-miR-548d-5p', 'hsa-miR-411-3p', 'hsa-miR-654-3p', 'hsa-miR-671-3p', 'hsa-miR-298', 'hsa-miR-891a-5p', 'hsa-miR-300', 'hsa-miR-892a', 'hsa-miR-450b-5p', 'hsa-miR-450b-3p', 'hsa-miR-874-3p', 'hsa-miR-890', 'hsa-miR-891b', 'hsa-miR-888-5p', 'hsa-miR-888-3p', 'hsa-miR-892b', 'hsa-miR-541-5p', 'hsa-miR-541-3p', 'hsa-miR-889-3p', 'hsa-miR-875-5p', 'hsa-miR-875-3p', 'hsa-miR-876-5p', 'hsa-miR-876-3p', 'hsa-miR-708-5p', 'hsa-miR-708-3p', 'hsa-miR-744-5p', 'hsa-miR-744-3p', 'hsa-miR-885-5p', 'hsa-miR-885-3p', 'hsa-miR-877-5p', 'hsa-miR-877-3p', 'hsa-miR-887-3p', 'hsa-miR-665', 'hsa-miR-873-5p', 'hsa-miR-543', 'hsa-miR-374b-5p', 'hsa-miR-374b-3p', 'hsa-miR-760', 'hsa-miR-301b-3p', 'hsa-miR-216b-5p', 'hsa-miR-208b-3p', 'hsa-miR-920', 'hsa-miR-921', 'hsa-miR-922', 'hsa-miR-924', 'hsa-miR-509-3-5p', 'hsa-miR-933', 'hsa-miR-934', 'hsa-miR-935', 'hsa-miR-936', 'hsa-miR-937-3p', 'hsa-miR-938', 'hsa-miR-939-5p', 'hsa-miR-940', 'hsa-miR-941', 'hsa-miR-942-5p', 'hsa-miR-943', 'hsa-miR-944', 'hsa-miR-523-5p', 'hsa-miR-518e-5p', 'hsa-miR-522-5p', 'hsa-miR-519a-5p', 'hsa-miR-519b-5p', 'hsa-miR-520c-5p', 'hsa-miR-518d-5p', 'hsa-miR-518a-5p', 'hsa-miR-1224-5p', 'hsa-miR-1224-3p', 'hsa-miR-1225-5p', 'hsa-miR-1225-3p', 'hsa-miR-1226-5p', 'hsa-miR-1226-3p', 'hsa-miR-1227-3p', 'hsa-miR-1228-5p', 'hsa-miR-1228-3p', 'hsa-miR-1229-3p', 'hsa-miR-1231', 'hsa-miR-1233-3p', 'hsa-miR-1234-3p', 'hsa-miR-1236-3p', 'hsa-miR-1237-3p', 'hsa-miR-1238-3p', 'hsa-miR-513b-5p', 'hsa-miR-513c-5p', 'hsa-miR-1264', 'hsa-miR-320b', 'hsa-miR-320c', 'hsa-miR-1296-5p', 'hsa-miR-1323', 'hsa-miR-1271-5p', 'hsa-miR-1301-3p', 'hsa-miR-1185-5p', 'hsa-miR-1283', 'hsa-miR-1298-5p', 'hsa-miR-1178-3p', 'hsa-miR-1179', 'hsa-miR-1180-3p', 'hsa-miR-1181', 'hsa-miR-1182', 'hsa-miR-1183', 'hsa-miR-1184', 'hsa-miR-1200', 'hsa-miR-1202', 'hsa-miR-1203', 'hsa-miR-663b', 'hsa-miR-1204', 'hsa-miR-1205', 'hsa-miR-1206', 'hsa-miR-1207-5p', 'hsa-miR-1207-3p', 'hsa-miR-1208', 'hsa-miR-548e-3p', 'hsa-miR-548j-5p', 'hsa-miR-1285-3p', 'hsa-miR-1286', 'hsa-miR-1287-5p', 'hsa-miR-1289', 'hsa-miR-1291', 'hsa-miR-548k', 'hsa-miR-1293', 'hsa-miR-1294', 'hsa-miR-1295a', 'hsa-miR-1297', 'hsa-miR-1299', 'hsa-miR-548l', 'hsa-miR-1302', 'hsa-miR-1303', 'hsa-miR-1304-5p', 'hsa-miR-1305', 'hsa-miR-1243', 'hsa-miR-548f-3p', 'hsa-miR-1244', 'hsa-miR-1245a', 'hsa-miR-1246', 'hsa-miR-1247-5p', 'hsa-miR-1248', 'hsa-miR-1249-3p', 'hsa-miR-1250-5p', 'hsa-miR-1251-5p', 'hsa-miR-1253', 'hsa-miR-1254', 'hsa-miR-1255a', 'hsa-miR-1256', 'hsa-miR-1257', 'hsa-miR-1258', 'hsa-miR-1260a', 'hsa-miR-548g-3p', 'hsa-miR-1261', 'hsa-miR-1262', 'hsa-miR-1263', 'hsa-miR-548n', 'hsa-miR-548m', 'hsa-miR-1265', 'hsa-miR-548o-3p', 'hsa-miR-1266-5p', 'hsa-miR-1267', 'hsa-miR-1268a', 'hsa-miR-1269a', 'hsa-miR-1270', 'hsa-miR-1272', 'hsa-miR-1273a', 'hsa-miR-548h-5p', 'hsa-miR-1275', 'hsa-miR-1276', 'hsa-miR-302e', 'hsa-miR-302f', 'hsa-miR-1277-3p', 'hsa-miR-548p', 'hsa-miR-548i', 'hsa-miR-1278', 'hsa-miR-1279', 'hsa-miR-1281', 'hsa-miR-1282', 'hsa-miR-1284', 'hsa-miR-1288-3p', 'hsa-miR-1292-5p', 'hsa-miR-1252-5p', 'hsa-miR-1255b-5p', 'hsa-miR-664a-5p', 'hsa-miR-664a-3p', 'hsa-miR-1306-3p', 'hsa-miR-1307-3p', 'hsa-miR-1321', 'hsa-miR-1322', 'hsa-miR-1197', 'hsa-miR-1324', 'hsa-miR-320d', 'hsa-miR-1825', 'hsa-miR-1827', 'hsa-miR-516a-3p', 'hsa-miR-1468-5p', 'hsa-miR-675-3p', 'hsa-miR-1469', 'hsa-miR-1470', 'hsa-miR-1471', 'hsa-miR-1537-3p', 'hsa-miR-1538', 'hsa-miR-1539', 'hsa-miR-103b', 'hsa-miR-1908-5p', 'hsa-miR-1909-5p', 'hsa-miR-1909-3p', 'hsa-miR-1910-5p', 'hsa-miR-1911-5p', 'hsa-miR-1911-3p', 'hsa-miR-1913', 'hsa-miR-1914-5p', 'hsa-miR-1914-3p', 'hsa-miR-1915-5p', 'hsa-miR-1915-3p', 'hsa-miR-103a-2-5p', 'hsa-miR-205-3p', 'hsa-miR-224-3p', 'hsa-miR-365a-5p', 'hsa-miR-196b-3p', 'hsa-miR-449b-3p', 'hsa-miR-2113', 'hsa-miR-1972', 'hsa-miR-1973', 'hsa-miR-1976', 'hsa-miR-2052', 'hsa-miR-2053', 'hsa-miR-2054', 'hsa-miR-2110', 'hsa-let-7a-2-3p', 'hsa-miR-151b', 'hsa-miR-449c-5p', 'hsa-miR-762', 'hsa-miR-670-5p', 'hsa-miR-761', 'hsa-miR-764', 'hsa-miR-759', 'hsa-miR-2114-5p', 'hsa-miR-2114-3p', 'hsa-miR-2115-5p', 'hsa-miR-2115-3p', 'hsa-miR-2116-5p', 'hsa-miR-2116-3p', 'hsa-miR-2117', 'hsa-miR-548q', 'hsa-miR-2276-3p', 'hsa-miR-2277-3p', 'hsa-miR-2278', 'hsa-miR-711', 'hsa-miR-718', 'hsa-miR-2681-5p', 'hsa-miR-2681-3p', 'hsa-miR-2682-5p', 'hsa-miR-2682-3p', 'hsa-miR-449c-3p', 'hsa-miR-2861', 'hsa-miR-2909', 'hsa-miR-3115', 'hsa-miR-3116', 'hsa-miR-3117-3p', 'hsa-miR-3118', 'hsa-miR-3119', 'hsa-miR-3120-3p', 'hsa-miR-3121-3p', 'hsa-miR-3122', 'hsa-miR-3123', 'hsa-miR-3124-5p', 'hsa-miR-548s', 'hsa-miR-3125', 'hsa-miR-3126-5p', 'hsa-miR-3127-5p', 'hsa-miR-3128', 'hsa-miR-3129-5p', 'hsa-miR-3130-3p', 'hsa-miR-3130-5p', 'hsa-miR-3131', 'hsa-miR-3132', 'hsa-miR-3133', 'hsa-miR-378b', 'hsa-miR-3134', 'hsa-miR-3135a', 'hsa-miR-466', 'hsa-miR-3136-5p', 'hsa-miR-544b', 'hsa-miR-3137', 'hsa-miR-3138', 'hsa-miR-3139', 'hsa-miR-3140-3p', 'hsa-miR-548t-5p', 'hsa-miR-3141', 'hsa-miR-3142', 'hsa-miR-3143', 'hsa-miR-548u', 'hsa-miR-3144-5p', 'hsa-miR-3144-3p', 'hsa-miR-3145-3p', 'hsa-miR-1273c', 'hsa-miR-3146', 'hsa-miR-3147', 'hsa-miR-548v', 'hsa-miR-3148', 'hsa-miR-3149', 'hsa-miR-3150a-3p', 'hsa-miR-3151-5p', 'hsa-miR-3152-3p', 'hsa-miR-3153', 'hsa-miR-3074-3p', 'hsa-miR-3154', 'hsa-miR-3155a', 'hsa-miR-3156-5p', 'hsa-miR-3157-5p', 'hsa-miR-3158-3p', 'hsa-miR-3159', 'hsa-miR-3160-3p', 'hsa-miR-3161', 'hsa-miR-3162-5p', 'hsa-miR-3163', 'hsa-miR-3164', 'hsa-miR-3165', 'hsa-miR-3166', 'hsa-miR-1260b', 'hsa-miR-3167', 'hsa-miR-3168', 'hsa-miR-3169', 'hsa-miR-3170', 'hsa-miR-3171', 'hsa-miR-3173-3p', 'hsa-miR-1193', 'hsa-miR-323b-3p', 'hsa-miR-3174', 'hsa-miR-3175', 'hsa-miR-3176', 'hsa-miR-3177-3p', 'hsa-miR-3178', 'hsa-miR-3179', 'hsa-miR-3180-5p', 'hsa-miR-3180-3p', 'hsa-miR-548w', 'hsa-miR-3181', 'hsa-miR-3182', 'hsa-miR-3183', 'hsa-miR-3184-5p', 'hsa-miR-3185', 'hsa-miR-3065-5p', 'hsa-miR-3186-5p', 'hsa-miR-3186-3p', 'hsa-miR-3187-3p', 'hsa-miR-3188', 'hsa-miR-3189-3p', 'hsa-miR-320e', 'hsa-miR-3190-5p', 'hsa-miR-3191-3p', 'hsa-miR-3192-5p', 'hsa-miR-3193', 'hsa-miR-3194-5p', 'hsa-miR-3195', 'hsa-miR-3196', 'hsa-miR-548x-3p', 'hsa-miR-3197', 'hsa-miR-3198', 'hsa-miR-3199', 'hsa-miR-3200-3p', 'hsa-miR-3201', 'hsa-miR-514b-5p', 'hsa-miR-514b-3p', 'hsa-miR-3202', 'hsa-miR-1273d', 'hsa-miR-3126-3p', 'hsa-miR-3065-3p', 'hsa-miR-4295', 'hsa-miR-4296', 'hsa-miR-4297', 'hsa-miR-378c', 'hsa-miR-4293', 'hsa-miR-4294', 'hsa-miR-4301', 'hsa-miR-4299', 'hsa-miR-4298', 'hsa-miR-4300', 'hsa-miR-4304', 'hsa-miR-4302', 'hsa-miR-4303', 'hsa-miR-4305', 'hsa-miR-4306', 'hsa-miR-4309', 'hsa-miR-4307', 'hsa-miR-4308', 'hsa-miR-4310', 'hsa-miR-4311', 'hsa-miR-4312', 'hsa-miR-4313', 'hsa-miR-4315', 'hsa-miR-4316', 'hsa-miR-4314', 'hsa-miR-4318', 'hsa-miR-4319', 'hsa-miR-4320', 'hsa-miR-4317', 'hsa-miR-4322', 'hsa-miR-4321', 'hsa-miR-4323', 'hsa-miR-4324', 'hsa-miR-4256', 'hsa-miR-4257', 'hsa-miR-4258', 'hsa-miR-4259', 'hsa-miR-4260', 'hsa-miR-4253', 'hsa-miR-4251', 'hsa-miR-4254', 'hsa-miR-4255', 'hsa-miR-4252', 'hsa-miR-4325', 'hsa-miR-4326', 'hsa-miR-4327', 'hsa-miR-4261', 'hsa-miR-4265', 'hsa-miR-4266', 'hsa-miR-4267', 'hsa-miR-4262', 'hsa-miR-2355-5p', 'hsa-miR-4268', 'hsa-miR-4269', 'hsa-miR-4263', 'hsa-miR-4264', 'hsa-miR-4270', 'hsa-miR-4271', 'hsa-miR-4272', 'hsa-miR-4273', 'hsa-miR-4276', 'hsa-miR-4275', 'hsa-miR-4274', 'hsa-miR-4281', 'hsa-miR-4277', 'hsa-miR-4279', 'hsa-miR-4278', 'hsa-miR-4280', 'hsa-miR-4282', 'hsa-miR-4285', 'hsa-miR-4283', 'hsa-miR-4284', 'hsa-miR-4286', 'hsa-miR-4287', 'hsa-miR-4288', 'hsa-miR-4292', 'hsa-miR-4289', 'hsa-miR-4290', 'hsa-miR-4291', 'hsa-miR-4329', 'hsa-miR-4330', 'hsa-miR-500b-5p', 'hsa-miR-4328', 'hsa-miR-2277-5p', 'hsa-miR-3200-5p', 'hsa-miR-2355-3p', 'hsa-miR-3605-5p', 'hsa-miR-3605-3p', 'hsa-miR-3606-5p', 'hsa-miR-3607-5p', 'hsa-miR-3607-3p', 'hsa-miR-3609', 'hsa-miR-3610', 'hsa-miR-3611', 'hsa-miR-3612', 'hsa-miR-3613-5p', 'hsa-miR-3613-3p', 'hsa-miR-3614-5p', 'hsa-miR-3614-3p', 'hsa-miR-3615', 'hsa-miR-3616-5p', 'hsa-miR-3616-3p', 'hsa-miR-3617-5p', 'hsa-miR-3618', 'hsa-miR-3619-5p', 'hsa-miR-23c', 'hsa-miR-3620-3p', 'hsa-miR-3621', 'hsa-miR-3622a-5p', 'hsa-miR-3622a-3p', 'hsa-miR-3622b-5p', 'hsa-miR-3622b-3p', 'hsa-miR-3646', 'hsa-miR-3648', 'hsa-miR-3649', 'hsa-miR-3650', 'hsa-miR-3651', 'hsa-miR-3652', 'hsa-miR-3653-3p', 'hsa-miR-3654', 'hsa-miR-3655', 'hsa-miR-3656', 'hsa-miR-3657', 'hsa-miR-3658', 'hsa-miR-1273e', 'hsa-miR-3659', 'hsa-miR-3660', 'hsa-miR-3661', 'hsa-miR-3662', 'hsa-miR-3663-5p', 'hsa-miR-3663-3p', 'hsa-miR-3664-5p', 'hsa-miR-3665', 'hsa-miR-3666', 'hsa-miR-3667-5p', 'hsa-miR-3667-3p', 'hsa-miR-3668', 'hsa-miR-3670', 'hsa-miR-3671', 'hsa-miR-3672', 'hsa-miR-3674', 'hsa-miR-3675-5p', 'hsa-miR-3675-3p', 'hsa-miR-3677-3p', 'hsa-miR-3678-5p', 'hsa-miR-3678-3p', 'hsa-miR-3679-5p', 'hsa-miR-3679-3p', 'hsa-miR-3680-5p', 'hsa-miR-3680-3p', 'hsa-miR-3681-5p', 'hsa-miR-3681-3p', 'hsa-miR-3682-3p', 'hsa-miR-3683', 'hsa-miR-3684', 'hsa-miR-3685', 'hsa-miR-3686', 'hsa-miR-3687', 'hsa-miR-3688-3p', 'hsa-miR-3689a-5p', 'hsa-miR-3689a-3p', 'hsa-miR-3690', 'hsa-miR-3691-5p', 'hsa-miR-3692-5p', 'hsa-miR-3692-3p', 'hsa-miR-3713', 'hsa-miR-3714', 'hsa-miR-3180', 'hsa-miR-3907', 'hsa-miR-3689b-5p', 'hsa-miR-3689b-3p', 'hsa-miR-3908', 'hsa-miR-3909', 'hsa-miR-3910', 'hsa-miR-3911', 'hsa-miR-3912-3p', 'hsa-miR-3913-5p', 'hsa-miR-3914', 'hsa-miR-3915', 'hsa-miR-3916', 'hsa-miR-3917', 'hsa-miR-3918', 'hsa-miR-3919', 'hsa-miR-3150b-3p', 'hsa-miR-3920', 'hsa-miR-3921', 'hsa-miR-3922-3p', 'hsa-miR-3923', 'hsa-miR-3924', 'hsa-miR-3925-5p', 'hsa-miR-3926', 'hsa-miR-3927-3p', 'hsa-miR-676-5p', 'hsa-miR-676-3p', 'hsa-miR-3928-3p', 'hsa-miR-3929', 'hsa-miR-3934-5p', 'hsa-miR-3935', 'hsa-miR-3936', 'hsa-miR-3937', 'hsa-miR-3938', 'hsa-miR-548y', 'hsa-miR-3939', 'hsa-miR-3940-3p', 'hsa-miR-3941', 'hsa-miR-3942-5p', 'hsa-miR-3943', 'hsa-miR-3944-3p', 'hsa-miR-3945', 'hsa-miR-374c-5p', 'hsa-miR-642b-3p', 'hsa-miR-550b-3p', 'hsa-miR-548z', 'hsa-miR-548aa', 'hsa-miR-1268b', 'hsa-miR-378d', 'hsa-miR-378e', 'hsa-miR-548ab', 'hsa-miR-4417', 'hsa-miR-4418', 'hsa-miR-4419a', 'hsa-miR-378f', 'hsa-miR-4420', 'hsa-miR-4421', 'hsa-miR-4422', 'hsa-miR-4423-3p', 'hsa-miR-378g', 'hsa-miR-548ac', 'hsa-miR-4424', 'hsa-miR-4425', 'hsa-miR-4426', 'hsa-miR-4427', 'hsa-miR-4428', 'hsa-miR-4429', 'hsa-miR-4430', 'hsa-miR-548ad-3p', 'hsa-miR-4431', 'hsa-miR-4432', 'hsa-miR-4433a-3p', 'hsa-miR-4434', 'hsa-miR-4435', 'hsa-miR-4436a', 'hsa-miR-4437', 'hsa-miR-548ae-3p', 'hsa-miR-4438', 'hsa-miR-4439', 'hsa-miR-4440', 'hsa-miR-4441', 'hsa-miR-4442', 'hsa-miR-4443', 'hsa-miR-4444', 'hsa-miR-4445-5p', 'hsa-miR-4445-3p', 'hsa-miR-4446-3p', 'hsa-miR-4447', 'hsa-miR-4448', 'hsa-miR-4449', 'hsa-miR-548ag', 'hsa-miR-4450', 'hsa-miR-548ah-5p', 'hsa-miR-4451', 'hsa-miR-4452', 'hsa-miR-4453', 'hsa-miR-4454', 'hsa-miR-4455', 'hsa-miR-4456', 'hsa-miR-4457', 'hsa-miR-4458', 'hsa-miR-4459', 'hsa-miR-4460', 'hsa-miR-4461', 'hsa-miR-378h', 'hsa-miR-3135b', 'hsa-miR-4462', 'hsa-miR-4463', 'hsa-miR-4464', 'hsa-miR-548ai', 'hsa-miR-548aj-3p', 'hsa-miR-4465', 'hsa-miR-4466', 'hsa-miR-4467', 'hsa-miR-4468', 'hsa-miR-4469', 'hsa-miR-4470', 'hsa-miR-4471', 'hsa-miR-4472', 'hsa-miR-4473', 'hsa-miR-4474-3p', 'hsa-miR-4475', 'hsa-miR-4476', 'hsa-miR-4477a', 'hsa-miR-4477b', 'hsa-miR-4478', 'hsa-miR-3689c', 'hsa-miR-3689d', 'hsa-miR-3689e', 'hsa-miR-3689f', 'hsa-miR-4479', 'hsa-miR-3155b', 'hsa-miR-548ak', 'hsa-miR-4480', 'hsa-miR-4481', 'hsa-miR-4482-5p', 'hsa-miR-4483', 'hsa-miR-4484', 'hsa-miR-4485-3p', 'hsa-miR-4486', 'hsa-miR-4487', 'hsa-miR-4488', 'hsa-miR-4489', 'hsa-miR-548al', 'hsa-miR-4490', 'hsa-miR-4491', 'hsa-miR-4492', 'hsa-miR-4493', 'hsa-miR-4494', 'hsa-miR-4495', 'hsa-miR-4496', 'hsa-miR-4497', 'hsa-miR-4498', 'hsa-miR-4419b', 'hsa-miR-4499', 'hsa-miR-4500', 'hsa-miR-4501', 'hsa-miR-4502', 'hsa-miR-4503', 'hsa-miR-4504', 'hsa-miR-4505', 'hsa-miR-4506', 'hsa-miR-2392', 'hsa-miR-4507', 'hsa-miR-4508', 'hsa-miR-4509', 'hsa-miR-4510', 'hsa-miR-4511', 'hsa-miR-4512', 'hsa-miR-4513', 'hsa-miR-4514', 'hsa-miR-4515', 'hsa-miR-4516', 'hsa-miR-4517', 'hsa-miR-4518', 'hsa-miR-4519', 'hsa-miR-4520-3p', 'hsa-miR-4521', 'hsa-miR-1269b', 'hsa-miR-4522', 'hsa-miR-4523', 'hsa-miR-4524a-5p', 'hsa-miR-4524a-3p', 'hsa-miR-4525', 'hsa-miR-4526', 'hsa-miR-4527', 'hsa-miR-4528', 'hsa-miR-4529-3p', 'hsa-miR-4530', 'hsa-miR-4531', 'hsa-miR-4532', 'hsa-miR-4533', 'hsa-miR-4534', 'hsa-miR-378i', 'hsa-miR-4535', 'hsa-miR-548am-3p', 'hsa-miR-1587', 'hsa-miR-4536-5p', 'hsa-miR-548an', 'hsa-miR-4537', 'hsa-miR-4538', 'hsa-miR-4539', 'hsa-miR-4540', 'hsa-miR-3117-5p', 'hsa-miR-3120-5p', 'hsa-miR-3121-5p', 'hsa-miR-3124-3p', 'hsa-miR-3127-3p', 'hsa-miR-3129-3p', 'hsa-miR-3136-3p', 'hsa-miR-3140-5p', 'hsa-miR-3145-5p', 'hsa-miR-3150a-5p', 'hsa-miR-3152-5p', 'hsa-miR-3074-5p', 'hsa-miR-3156-3p', 'hsa-miR-3157-3p', 'hsa-miR-3158-5p', 'hsa-miR-3160-5p', 'hsa-miR-3162-3p', 'hsa-miR-3173-5p', 'hsa-miR-3177-5p', 'hsa-miR-3187-5p', 'hsa-miR-3189-5p', 'hsa-miR-3194-3p', 'hsa-miR-3619-3p', 'hsa-miR-3664-3p', 'hsa-miR-3677-5p', 'hsa-miR-3682-5p', 'hsa-miR-3688-5p', 'hsa-miR-3691-3p', 'hsa-miR-3913-3p', 'hsa-miR-3150b-5p', 'hsa-miR-3922-5p', 'hsa-miR-3925-3p', 'hsa-miR-3940-5p', 'hsa-miR-3942-3p', 'hsa-miR-3944-5p', 'hsa-miR-4423-5p', 'hsa-miR-4446-5p', 'hsa-miR-4474-5p', 'hsa-miR-4520-5p', 'hsa-miR-4529-5p', 'hsa-miR-3960', 'hsa-miR-3972', 'hsa-miR-3973', 'hsa-miR-3974', 'hsa-miR-3975', 'hsa-miR-3976', 'hsa-miR-3977', 'hsa-miR-3978', 'hsa-miR-4632-3p', 'hsa-miR-4633-5p', 'hsa-miR-4633-3p', 'hsa-miR-4634', 'hsa-miR-4635', 'hsa-miR-4636', 'hsa-miR-4637', 'hsa-miR-4638-5p', 'hsa-miR-4638-3p', 'hsa-miR-4639-5p', 'hsa-miR-4639-3p', 'hsa-miR-4640-5p', 'hsa-miR-4640-3p', 'hsa-miR-4641', 'hsa-miR-4642', 'hsa-miR-4643', 'hsa-miR-4644', 'hsa-miR-4645-5p', 'hsa-miR-4645-3p', 'hsa-miR-4646-5p', 'hsa-miR-4646-3p', 'hsa-miR-4647', 'hsa-miR-4648', 'hsa-miR-4649-5p', 'hsa-miR-4649-3p', 'hsa-miR-4650-5p', 'hsa-miR-4650-3p', 'hsa-miR-4651', 'hsa-miR-4652-5p', 'hsa-miR-4652-3p', 'hsa-miR-4653-5p', 'hsa-miR-4653-3p', 'hsa-miR-4654', 'hsa-miR-4655-5p', 'hsa-miR-4655-3p', 'hsa-miR-4656', 'hsa-miR-4657', 'hsa-miR-4658', 'hsa-miR-4659a-5p', 'hsa-miR-4659a-3p', 'hsa-miR-4660', 'hsa-miR-4661-5p', 'hsa-miR-4661-3p', 'hsa-miR-4662a-5p', 'hsa-miR-4662a-3p', 'hsa-miR-4659b-5p', 'hsa-miR-4659b-3p', 'hsa-miR-4663', 'hsa-miR-4662b', 'hsa-miR-4664-5p', 'hsa-miR-4664-3p', 'hsa-miR-4665-5p', 'hsa-miR-4665-3p', 'hsa-miR-4666a-5p', 'hsa-miR-4666a-3p', 'hsa-miR-4667-5p', 'hsa-miR-4667-3p', 'hsa-miR-4668-5p', 'hsa-miR-4668-3p', 'hsa-miR-219b-5p', 'hsa-miR-219b-3p', 'hsa-miR-4669', 'hsa-miR-4670-5p', 'hsa-miR-4670-3p', 'hsa-miR-4671-5p', 'hsa-miR-4671-3p', 'hsa-miR-4672', 'hsa-miR-4673', 'hsa-miR-4674', 'hsa-miR-4675', 'hsa-miR-4676-5p', 'hsa-miR-4676-3p', 'hsa-miR-4677-5p', 'hsa-miR-4677-3p', 'hsa-miR-4678', 'hsa-miR-4679', 'hsa-miR-4680-5p', 'hsa-miR-4680-3p', 'hsa-miR-4681', 'hsa-miR-4682', 'hsa-miR-4683', 'hsa-miR-4684-5p', 'hsa-miR-4684-3p', 'hsa-miR-4685-5p', 'hsa-miR-4685-3p', 'hsa-miR-4686', 'hsa-miR-4687-5p', 'hsa-miR-4687-3p', 'hsa-miR-1343-3p', 'hsa-miR-4688', 'hsa-miR-4689', 'hsa-miR-4690-5p', 'hsa-miR-4690-3p', 'hsa-miR-4691-5p', 'hsa-miR-4691-3p', 'hsa-miR-4692', 'hsa-miR-4693-5p', 'hsa-miR-4693-3p', 'hsa-miR-4694-5p', 'hsa-miR-4694-3p', 'hsa-miR-4695-5p', 'hsa-miR-4695-3p', 'hsa-miR-4696', 'hsa-miR-4697-5p', 'hsa-miR-4697-3p', 'hsa-miR-4698', 'hsa-miR-4699-5p', 'hsa-miR-4699-3p', 'hsa-miR-4700-5p', 'hsa-miR-4700-3p', 'hsa-miR-4701-5p', 'hsa-miR-4701-3p', 'hsa-miR-4703-5p', 'hsa-miR-4703-3p', 'hsa-miR-4704-5p', 'hsa-miR-4704-3p', 'hsa-miR-4705', 'hsa-miR-4706', 'hsa-miR-4707-5p', 'hsa-miR-4707-3p', 'hsa-miR-4708-5p', 'hsa-miR-4708-3p', 'hsa-miR-4709-5p', 'hsa-miR-4709-3p', 'hsa-miR-203b-5p', 'hsa-miR-203b-3p', 'hsa-miR-4710', 'hsa-miR-4711-5p', 'hsa-miR-4711-3p', 'hsa-miR-4712-5p', 'hsa-miR-4712-3p', 'hsa-miR-4713-5p', 'hsa-miR-4713-3p', 'hsa-miR-4714-5p', 'hsa-miR-4714-3p', 'hsa-miR-4715-5p', 'hsa-miR-4715-3p', 'hsa-miR-4716-5p', 'hsa-miR-4716-3p', 'hsa-miR-3529-5p', 'hsa-miR-4717-5p', 'hsa-miR-4717-3p', 'hsa-miR-4718', 'hsa-miR-4719', 'hsa-miR-4720-5p', 'hsa-miR-4720-3p', 'hsa-miR-4721', 'hsa-miR-4722-5p', 'hsa-miR-4722-3p', 'hsa-miR-4723-5p', 'hsa-miR-4723-3p', 'hsa-miR-451b', 'hsa-miR-4724-5p', 'hsa-miR-4724-3p', 'hsa-miR-4725-5p', 'hsa-miR-4725-3p', 'hsa-miR-4726-5p', 'hsa-miR-4726-3p', 'hsa-miR-4727-5p', 'hsa-miR-4727-3p', 'hsa-miR-4728-5p', 'hsa-miR-4728-3p', 'hsa-miR-4729', 'hsa-miR-4730', 'hsa-miR-4731-5p', 'hsa-miR-4731-3p', 'hsa-miR-4732-5p', 'hsa-miR-4732-3p', 'hsa-miR-4733-5p', 'hsa-miR-4733-3p', 'hsa-miR-4734', 'hsa-miR-4735-5p', 'hsa-miR-4735-3p', 'hsa-miR-4736', 'hsa-miR-4737', 'hsa-miR-3064-5p', 'hsa-miR-3064-3p', 'hsa-miR-4738-5p', 'hsa-miR-4738-3p', 'hsa-miR-4739', 'hsa-miR-4740-5p', 'hsa-miR-4740-3p', 'hsa-miR-4741', 'hsa-miR-4742-5p', 'hsa-miR-4742-3p', 'hsa-miR-4743-5p', 'hsa-miR-4744', 'hsa-miR-4745-5p', 'hsa-miR-4745-3p', 'hsa-miR-4746-5p', 'hsa-miR-4746-3p', 'hsa-miR-4747-5p', 'hsa-miR-4747-3p', 'hsa-miR-4748', 'hsa-miR-4749-5p', 'hsa-miR-4749-3p', 'hsa-miR-4750-5p', 'hsa-miR-4751', 'hsa-miR-4752', 'hsa-miR-4753-5p', 'hsa-miR-4753-3p', 'hsa-miR-371b-5p', 'hsa-miR-371b-3p', 'hsa-miR-4754', 'hsa-miR-4755-5p', 'hsa-miR-4755-3p', 'hsa-miR-499b-5p', 'hsa-miR-499b-3p', 'hsa-miR-4756-5p', 'hsa-miR-4756-3p', 'hsa-miR-4757-5p', 'hsa-miR-4757-3p', 'hsa-miR-4758-5p', 'hsa-miR-4758-3p', 'hsa-miR-4759', 'hsa-miR-4760-5p', 'hsa-miR-4760-3p', 'hsa-miR-4761-5p', 'hsa-miR-4761-3p', 'hsa-miR-4762-5p', 'hsa-miR-4762-3p', 'hsa-miR-4763-5p', 'hsa-miR-4763-3p', 'hsa-miR-4764-5p', 'hsa-miR-4764-3p', 'hsa-miR-4765', 'hsa-miR-4766-5p', 'hsa-miR-4766-3p', 'hsa-miR-4767', 'hsa-miR-4768-5p', 'hsa-miR-4768-3p', 'hsa-miR-4769-5p', 'hsa-miR-4769-3p', 'hsa-miR-4770', 'hsa-miR-4771', 'hsa-miR-4772-5p', 'hsa-miR-4772-3p', 'hsa-miR-4773', 'hsa-miR-4774-5p', 'hsa-miR-4774-3p', 'hsa-miR-4775', 'hsa-miR-4776-5p', 'hsa-miR-4776-3p', 'hsa-miR-4777-5p', 'hsa-miR-4777-3p', 'hsa-miR-4778-5p', 'hsa-miR-4778-3p', 'hsa-miR-4779', 'hsa-miR-4780', 'hsa-miR-4436b-5p', 'hsa-miR-4436b-3p', 'hsa-miR-4781-5p', 'hsa-miR-4781-3p', 'hsa-miR-4782-5p', 'hsa-miR-4782-3p', 'hsa-miR-4783-5p', 'hsa-miR-4783-3p', 'hsa-miR-4784', 'hsa-miR-4785', 'hsa-miR-1245b-5p', 'hsa-miR-1245b-3p', 'hsa-miR-2467-5p', 'hsa-miR-2467-3p', 'hsa-miR-4786-5p', 'hsa-miR-4786-3p', 'hsa-miR-4787-5p', 'hsa-miR-4787-3p', 'hsa-miR-4788', 'hsa-miR-4789-5p', 'hsa-miR-4789-3p', 'hsa-miR-4790-5p', 'hsa-miR-4790-3p', 'hsa-miR-4791', 'hsa-miR-4792', 'hsa-miR-4793-5p', 'hsa-miR-4793-3p', 'hsa-miR-4794', 'hsa-miR-4795-5p', 'hsa-miR-4795-3p', 'hsa-miR-4796-5p', 'hsa-miR-4796-3p', 'hsa-miR-4797-5p', 'hsa-miR-4797-3p', 'hsa-miR-4798-5p', 'hsa-miR-4798-3p', 'hsa-miR-4799-5p', 'hsa-miR-4799-3p', 'hsa-miR-4800-5p', 'hsa-miR-4800-3p', 'hsa-miR-4801', 'hsa-miR-4802-5p', 'hsa-miR-4802-3p', 'hsa-miR-4803', 'hsa-miR-4804-5p', 'hsa-miR-4804-3p', 'hsa-miR-4520-2-3p', 'hsa-miR-5047', 'hsa-miR-5095', 'hsa-miR-1273f', 'hsa-miR-1273g-5p', 'hsa-miR-5096', 'hsa-miR-642a-3p', 'hsa-miR-550a-3-5p', 'hsa-miR-4433a-5p', 'hsa-miR-548ah-3p', 'hsa-miR-4482-3p', 'hsa-miR-4536-3p', 'hsa-miR-4999-5p', 'hsa-miR-4999-3p', 'hsa-miR-5000-5p', 'hsa-miR-5000-3p', 'hsa-miR-5001-5p', 'hsa-miR-5001-3p', 'hsa-miR-5002-5p', 'hsa-miR-5002-3p', 'hsa-miR-5003-5p', 'hsa-miR-5003-3p', 'hsa-miR-5004-5p', 'hsa-miR-5004-3p', 'hsa-miR-548ao-5p', 'hsa-miR-548ao-3p', 'hsa-miR-5006-5p', 'hsa-miR-5006-3p', 'hsa-miR-5007-5p', 'hsa-miR-5007-3p', 'hsa-miR-548ap-5p', 'hsa-miR-548ap-3p', 'hsa-miR-5008-5p', 'hsa-miR-5008-3p', 'hsa-miR-5009-5p', 'hsa-miR-5009-3p', 'hsa-miR-5010-5p', 'hsa-miR-5010-3p', 'hsa-miR-5011-5p', 'hsa-miR-5011-3p', 'hsa-miR-5087', 'hsa-miR-5088-5p', 'hsa-miR-5089-5p', 'hsa-miR-5090', 'hsa-miR-5091', 'hsa-miR-5092', 'hsa-miR-5093', 'hsa-miR-5094', 'hsa-miR-5186', 'hsa-miR-5187-5p', 'hsa-miR-5187-3p', 'hsa-miR-5188', 'hsa-miR-5189-5p', 'hsa-miR-5190', 'hsa-miR-5191', 'hsa-miR-5192', 'hsa-miR-5193', 'hsa-miR-5194', 'hsa-miR-5195-5p', 'hsa-miR-5195-3p', 'hsa-miR-5196-5p', 'hsa-miR-5196-3p', 'hsa-miR-5197-5p', 'hsa-miR-5197-3p', 'hsa-miR-4524b-5p', 'hsa-miR-4524b-3p', 'hsa-miR-5571-5p', 'hsa-miR-5571-3p', 'hsa-miR-5572', 'hsa-miR-548aq-5p', 'hsa-miR-548aq-3p', 'hsa-miR-548ar-5p', 'hsa-miR-548ar-3p', 'hsa-miR-548as-5p', 'hsa-miR-548as-3p', 'hsa-miR-5579-5p', 'hsa-miR-5579-3p', 'hsa-miR-664b-5p', 'hsa-miR-664b-3p', 'hsa-miR-5580-5p', 'hsa-miR-5580-3p', 'hsa-miR-5581-5p', 'hsa-miR-5581-3p', 'hsa-miR-548at-5p', 'hsa-miR-548at-3p', 'hsa-miR-5582-5p', 'hsa-miR-5582-3p', 'hsa-miR-5583-5p', 'hsa-miR-5583-3p', 'hsa-miR-5584-5p', 'hsa-miR-5584-3p', 'hsa-miR-5585-5p', 'hsa-miR-5585-3p', 'hsa-miR-5586-5p', 'hsa-miR-5586-3p', 'hsa-miR-5587-5p', 'hsa-miR-5587-3p', 'hsa-miR-548au-5p', 'hsa-miR-548au-3p', 'hsa-miR-1295b-5p', 'hsa-miR-1295b-3p', 'hsa-miR-5588-5p', 'hsa-miR-5588-3p', 'hsa-miR-5589-5p', 'hsa-miR-5589-3p', 'hsa-miR-5590-5p', 'hsa-miR-5590-3p', 'hsa-miR-5591-5p', 'hsa-miR-5591-3p', 'hsa-miR-548av-5p', 'hsa-miR-548av-3p', 'hsa-miR-5680', 'hsa-miR-5681a', 'hsa-miR-5682', 'hsa-miR-548aw', 'hsa-miR-5683', 'hsa-miR-5684', 'hsa-miR-548ax', 'hsa-miR-5685', 'hsa-miR-5692c', 'hsa-miR-5687', 'hsa-miR-5688', 'hsa-miR-5681b', 'hsa-miR-5689', 'hsa-miR-5690', 'hsa-miR-5691', 'hsa-miR-5692a', 'hsa-miR-4666b', 'hsa-miR-5693', 'hsa-miR-5694', 'hsa-miR-5695', 'hsa-miR-5696', 'hsa-miR-5697', 'hsa-miR-5698', 'hsa-miR-5699-3p', 'hsa-miR-5700', 'hsa-miR-5701', 'hsa-miR-5702', 'hsa-miR-5703', 'hsa-miR-5692b', 'hsa-miR-5704', 'hsa-miR-5705', 'hsa-miR-5706', 'hsa-miR-5707', 'hsa-miR-5708', 'hsa-miR-197-5p', 'hsa-miR-181b-3p', 'hsa-miR-204-3p', 'hsa-miR-211-3p', 'hsa-miR-212-5p', 'hsa-miR-301a-5p', 'hsa-miR-382-3p', 'hsa-miR-345-3p', 'hsa-miR-450a-1-3p', 'hsa-miR-506-5p', 'hsa-miR-514a-5p', 'hsa-miR-539-3p', 'hsa-miR-561-5p', 'hsa-miR-570-5p', 'hsa-miR-584-3p', 'hsa-miR-652-5p', 'hsa-miR-659-5p', 'hsa-miR-660-3p', 'hsa-miR-1271-3p', 'hsa-miR-1185-2-3p', 'hsa-miR-766-5p', 'hsa-miR-873-3p', 'hsa-miR-1285-5p', 'hsa-miR-1304-3p', 'hsa-miR-1247-3p', 'hsa-miR-548g-5p', 'hsa-miR-548h-3p', 'hsa-miR-1277-5p', 'hsa-miR-1255b-2-3p', 'hsa-miR-1306-5p', 'hsa-miR-1307-5p', 'hsa-miR-513c-3p', 'hsa-miR-548t-3p', 'hsa-miR-3184-3p', 'hsa-miR-3191-5p', 'hsa-miR-548x-5p', 'hsa-miR-374c-3p', 'hsa-miR-642b-5p', 'hsa-miR-550b-2-5p', 'hsa-miR-548o-5p', 'hsa-miR-548aj-5p', 'hsa-miR-548am-5p', 'hsa-miR-3529-3p', 'hsa-miR-1273g-3p', 'hsa-miR-365b-5p', 'hsa-miR-365b-3p', 'hsa-miR-1185-1-3p', 'hsa-miR-3190-3p', 'hsa-miR-98-3p', 'hsa-miR-216a-3p', 'hsa-miR-376c-5p', 'hsa-miR-381-5p', 'hsa-miR-376b-5p', 'hsa-miR-495-5p', 'hsa-miR-503-3p', 'hsa-miR-376a-2-5p', 'hsa-miR-758-5p', 'hsa-miR-937-5p', 'hsa-miR-939-3p', 'hsa-miR-1178-5p', 'hsa-miR-1227-5p', 'hsa-miR-1229-5p', 'hsa-miR-1233-5p', 'hsa-miR-1236-5p', 'hsa-miR-1237-5p', 'hsa-miR-1238-5p', 'hsa-miR-1292-3p', 'hsa-miR-3606-3p', 'hsa-miR-3617-3p', 'hsa-miR-3620-5p', 'hsa-miR-3927-5p', 'hsa-miR-3934-3p', 'hsa-miR-4632-5p', 'hsa-miR-4743-3p', 'hsa-miR-4750-3p', 'hsa-miR-5089-3p', 'hsa-miR-5739', 'hsa-miR-5787', 'hsa-miR-6068', 'hsa-miR-6069', 'hsa-miR-6070', 'hsa-miR-6071', 'hsa-miR-6072', 'hsa-miR-6073', 'hsa-miR-6074', 'hsa-miR-6075', 'hsa-miR-6076', 'hsa-miR-6077', 'hsa-miR-6078', 'hsa-miR-6079', 'hsa-miR-6080', 'hsa-miR-6081', 'hsa-miR-6082', 'hsa-miR-6083', 'hsa-miR-6084', 'hsa-miR-6085', 'hsa-miR-6086', 'hsa-miR-6087', 'hsa-miR-6088', 'hsa-miR-6089', 'hsa-miR-6090', 'hsa-miR-6124', 'hsa-miR-6125', 'hsa-miR-6126', 'hsa-miR-6127', 'hsa-miR-6128', 'hsa-miR-378j', 'hsa-miR-6129', 'hsa-miR-6130', 'hsa-miR-6131', 'hsa-miR-6132', 'hsa-miR-6133', 'hsa-miR-6134', 'hsa-miR-6165', 'hsa-miR-6499-5p', 'hsa-miR-6499-3p', 'hsa-miR-548ay-5p', 'hsa-miR-548ay-3p', 'hsa-miR-6500-5p', 'hsa-miR-6500-3p', 'hsa-miR-548az-5p', 'hsa-miR-548az-3p', 'hsa-miR-6501-5p', 'hsa-miR-6501-3p', 'hsa-miR-6502-5p', 'hsa-miR-6502-3p', 'hsa-miR-6503-5p', 'hsa-miR-6503-3p', 'hsa-miR-6504-5p', 'hsa-miR-6504-3p', 'hsa-miR-6505-5p', 'hsa-miR-6505-3p', 'hsa-miR-6506-5p', 'hsa-miR-6506-3p', 'hsa-miR-6507-5p', 'hsa-miR-6507-3p', 'hsa-miR-6508-5p', 'hsa-miR-6508-3p', 'hsa-miR-6509-5p', 'hsa-miR-6509-3p', 'hsa-miR-6510-5p', 'hsa-miR-6510-3p', 'hsa-miR-6511a-5p', 'hsa-miR-6511a-3p', 'hsa-miR-6512-5p', 'hsa-miR-6512-3p', 'hsa-miR-6513-5p', 'hsa-miR-6513-3p', 'hsa-miR-6514-5p', 'hsa-miR-6514-3p', 'hsa-miR-6515-5p', 'hsa-miR-6515-3p', 'hsa-miR-6715a-3p', 'hsa-miR-6715b-5p', 'hsa-miR-6715b-3p', 'hsa-miR-6716-5p', 'hsa-miR-6716-3p', 'hsa-miR-6717-5p', 'hsa-miR-6511b-5p', 'hsa-miR-6511b-3p', 'hsa-miR-6718-5p', 'hsa-miR-6719-3p', 'hsa-miR-6720-3p', 'hsa-miR-6721-5p', 'hsa-miR-6722-5p', 'hsa-miR-6722-3p', 'hsa-miR-6723-5p', 'hsa-miR-6724-5p', 'hsa-miR-892c-5p', 'hsa-miR-892c-3p', 'hsa-let-7c-3p', 'hsa-miR-95-5p', 'hsa-miR-208a-5p', 'hsa-miR-210-5p', 'hsa-miR-215-3p', 'hsa-miR-128-1-5p', 'hsa-miR-133a-5p', 'hsa-miR-152-5p', 'hsa-miR-153-5p', 'hsa-miR-134-3p', 'hsa-miR-190a-3p', 'hsa-miR-370-5p', 'hsa-miR-372-5p', 'hsa-miR-383-3p', 'hsa-miR-328-5p', 'hsa-miR-433-5p', 'hsa-miR-329-5p', 'hsa-miR-412-5p', 'hsa-miR-410-5p', 'hsa-miR-487a-5p', 'hsa-miR-489-5p', 'hsa-miR-511-3p', 'hsa-miR-494-5p', 'hsa-miR-181d-3p', 'hsa-miR-520f-5p', 'hsa-miR-519d-5p', 'hsa-miR-520g-5p', 'hsa-miR-504-3p', 'hsa-miR-510-3p', 'hsa-miR-487b-5p', 'hsa-miR-552-5p', 'hsa-miR-579-5p', 'hsa-miR-580-5p', 'hsa-miR-585-5p', 'hsa-miR-597-3p', 'hsa-miR-598-5p', 'hsa-miR-605-3p', 'hsa-miR-619-5p', 'hsa-miR-627-3p', 'hsa-miR-651-3p', 'hsa-miR-653-3p', 'hsa-miR-655-5p', 'hsa-miR-656-5p', 'hsa-miR-668-5p', 'hsa-miR-1296-3p', 'hsa-miR-1468-3p', 'hsa-miR-1301-5p', 'hsa-miR-670-3p', 'hsa-miR-1298-3p', 'hsa-miR-891a-3p', 'hsa-miR-874-5p', 'hsa-miR-889-5p', 'hsa-miR-887-5p', 'hsa-miR-216b-3p', 'hsa-miR-208b-5p', 'hsa-miR-942-3p', 'hsa-miR-1180-5p', 'hsa-miR-548e-5p', 'hsa-miR-548j-3p', 'hsa-miR-1287-3p', 'hsa-miR-548f-5p', 'hsa-miR-1250-3p', 'hsa-miR-1251-3p', 'hsa-miR-1266-3p', 'hsa-miR-1288-5p', 'hsa-miR-1252-3p', 'hsa-miR-513b-3p', 'hsa-miR-1537-5p', 'hsa-miR-1908-3p', 'hsa-miR-1910-3p', 'hsa-miR-2276-5p', 'hsa-miR-3151-3p', 'hsa-miR-3192-3p', 'hsa-miR-500b-3p', 'hsa-miR-3912-5p', 'hsa-miR-3928-5p', 'hsa-miR-1343-5p', 'hsa-miR-5088-3p', 'hsa-miR-5189-3p', 'hsa-miR-5699-5p', 'hsa-miR-6720-5p', 'hsa-miR-6726-5p', 'hsa-miR-6726-3p', 'hsa-miR-6727-5p', 'hsa-miR-6727-3p', 'hsa-miR-6728-5p', 'hsa-miR-6728-3p', 'hsa-miR-6729-5p', 'hsa-miR-6729-3p', 'hsa-miR-6730-5p', 'hsa-miR-6730-3p', 'hsa-miR-6731-5p', 'hsa-miR-6731-3p', 'hsa-miR-6732-5p', 'hsa-miR-6732-3p', 'hsa-miR-6733-5p', 'hsa-miR-6733-3p', 'hsa-miR-6734-5p', 'hsa-miR-6734-3p', 'hsa-miR-6735-5p', 'hsa-miR-6735-3p', 'hsa-miR-6736-5p', 'hsa-miR-6736-3p', 'hsa-miR-6737-5p', 'hsa-miR-6737-3p', 'hsa-miR-6738-5p', 'hsa-miR-6738-3p', 'hsa-miR-6739-5p', 'hsa-miR-6739-3p', 'hsa-miR-6740-5p', 'hsa-miR-6740-3p', 'hsa-miR-6741-5p', 'hsa-miR-6741-3p', 'hsa-miR-6742-5p', 'hsa-miR-6742-3p', 'hsa-miR-6743-5p', 'hsa-miR-6743-3p', 'hsa-miR-6744-5p', 'hsa-miR-6744-3p', 'hsa-miR-6745', 'hsa-miR-6746-5p', 'hsa-miR-6746-3p', 'hsa-miR-6747-5p', 'hsa-miR-6747-3p', 'hsa-miR-6748-5p', 'hsa-miR-6748-3p', 'hsa-miR-6749-5p', 'hsa-miR-6749-3p', 'hsa-miR-6750-5p', 'hsa-miR-6750-3p', 'hsa-miR-6751-5p', 'hsa-miR-6751-3p', 'hsa-miR-6752-5p', 'hsa-miR-6752-3p', 'hsa-miR-6753-5p', 'hsa-miR-6753-3p', 'hsa-miR-6754-5p', 'hsa-miR-6754-3p', 'hsa-miR-6755-5p', 'hsa-miR-6755-3p', 'hsa-miR-6756-5p', 'hsa-miR-6756-3p', 'hsa-miR-6757-5p', 'hsa-miR-6757-3p', 'hsa-miR-6758-5p', 'hsa-miR-6758-3p', 'hsa-miR-6759-5p', 'hsa-miR-6759-3p', 'hsa-miR-6760-5p', 'hsa-miR-6760-3p', 'hsa-miR-6761-5p', 'hsa-miR-6761-3p', 'hsa-miR-6762-5p', 'hsa-miR-6762-3p', 'hsa-miR-6763-5p', 'hsa-miR-6763-3p', 'hsa-miR-6764-5p', 'hsa-miR-6764-3p', 'hsa-miR-6765-5p', 'hsa-miR-6765-3p', 'hsa-miR-6766-5p', 'hsa-miR-6766-3p', 'hsa-miR-6767-5p', 'hsa-miR-6767-3p', 'hsa-miR-6768-5p', 'hsa-miR-6768-3p', 'hsa-miR-6769a-5p', 'hsa-miR-6769a-3p', 'hsa-miR-6770-5p', 'hsa-miR-6770-3p', 'hsa-miR-6771-5p', 'hsa-miR-6771-3p', 'hsa-miR-6772-5p', 'hsa-miR-6772-3p', 'hsa-miR-6773-5p', 'hsa-miR-6773-3p', 'hsa-miR-6774-5p', 'hsa-miR-6774-3p', 'hsa-miR-6775-5p', 'hsa-miR-6775-3p', 'hsa-miR-6776-5p', 'hsa-miR-6776-3p', 'hsa-miR-6777-5p', 'hsa-miR-6777-3p', 'hsa-miR-6778-5p', 'hsa-miR-6778-3p', 'hsa-miR-6779-5p', 'hsa-miR-6779-3p', 'hsa-miR-6780a-5p', 'hsa-miR-6780a-3p', 'hsa-miR-6781-5p', 'hsa-miR-6781-3p', 'hsa-miR-6782-5p', 'hsa-miR-6782-3p', 'hsa-miR-6783-5p', 'hsa-miR-6783-3p', 'hsa-miR-6784-5p', 'hsa-miR-6784-3p', 'hsa-miR-6785-5p', 'hsa-miR-6785-3p', 'hsa-miR-6786-5p', 'hsa-miR-6786-3p', 'hsa-miR-6787-5p', 'hsa-miR-6787-3p', 'hsa-miR-6788-5p', 'hsa-miR-6788-3p', 'hsa-miR-6789-5p', 'hsa-miR-6789-3p', 'hsa-miR-6790-5p', 'hsa-miR-6790-3p', 'hsa-miR-6791-5p', 'hsa-miR-6791-3p', 'hsa-miR-6792-5p', 'hsa-miR-6792-3p', 'hsa-miR-6793-5p', 'hsa-miR-6793-3p', 'hsa-miR-6794-5p', 'hsa-miR-6794-3p', 'hsa-miR-6795-5p', 'hsa-miR-6795-3p', 'hsa-miR-6796-5p', 'hsa-miR-6796-3p', 'hsa-miR-6797-5p', 'hsa-miR-6797-3p', 'hsa-miR-6798-5p', 'hsa-miR-6798-3p', 'hsa-miR-6799-5p', 'hsa-miR-6799-3p', 'hsa-miR-6800-5p', 'hsa-miR-6800-3p', 'hsa-miR-6801-5p', 'hsa-miR-6801-3p', 'hsa-miR-6802-5p', 'hsa-miR-6802-3p', 'hsa-miR-6803-5p', 'hsa-miR-6803-3p', 'hsa-miR-6804-5p', 'hsa-miR-6804-3p', 'hsa-miR-6805-5p', 'hsa-miR-6805-3p', 'hsa-miR-6806-5p', 'hsa-miR-6806-3p', 'hsa-miR-6807-5p', 'hsa-miR-6807-3p', 'hsa-miR-6808-5p', 'hsa-miR-6808-3p', 'hsa-miR-6809-5p', 'hsa-miR-6809-3p', 'hsa-miR-6810-5p', 'hsa-miR-6810-3p', 'hsa-miR-6811-5p', 'hsa-miR-6811-3p', 'hsa-miR-6812-5p', 'hsa-miR-6812-3p', 'hsa-miR-6813-5p', 'hsa-miR-6813-3p', 'hsa-miR-6814-5p', 'hsa-miR-6814-3p', 'hsa-miR-6815-5p', 'hsa-miR-6815-3p', 'hsa-miR-6816-5p', 'hsa-miR-6816-3p', 'hsa-miR-6817-5p', 'hsa-miR-6817-3p', 'hsa-miR-6818-5p', 'hsa-miR-6818-3p', 'hsa-miR-6819-5p', 'hsa-miR-6819-3p', 'hsa-miR-6820-5p', 'hsa-miR-6820-3p', 'hsa-miR-6821-5p', 'hsa-miR-6821-3p', 'hsa-miR-6822-5p', 'hsa-miR-6822-3p', 'hsa-miR-6823-5p', 'hsa-miR-6823-3p', 'hsa-miR-6824-5p', 'hsa-miR-6824-3p', 'hsa-miR-6825-5p', 'hsa-miR-6825-3p', 'hsa-miR-6826-5p', 'hsa-miR-6826-3p', 'hsa-miR-6827-5p', 'hsa-miR-6827-3p', 'hsa-miR-6828-5p', 'hsa-miR-6828-3p', 'hsa-miR-6829-5p', 'hsa-miR-6829-3p', 'hsa-miR-6830-5p', 'hsa-miR-6830-3p', 'hsa-miR-6831-5p', 'hsa-miR-6831-3p', 'hsa-miR-6832-5p', 'hsa-miR-6832-3p', 'hsa-miR-6833-5p', 'hsa-miR-6833-3p', 'hsa-miR-6834-5p', 'hsa-miR-6834-3p', 'hsa-miR-6835-5p', 'hsa-miR-6835-3p', 'hsa-miR-6780b-5p', 'hsa-miR-6780b-3p', 'hsa-miR-6836-5p', 'hsa-miR-6836-3p', 'hsa-miR-6837-5p', 'hsa-miR-6837-3p', 'hsa-miR-6838-5p', 'hsa-miR-6838-3p', 'hsa-miR-6839-5p', 'hsa-miR-6839-3p', 'hsa-miR-6840-5p', 'hsa-miR-6840-3p', 'hsa-miR-6841-5p', 'hsa-miR-6841-3p', 'hsa-miR-6842-5p', 'hsa-miR-6842-3p', 'hsa-miR-6843-3p', 'hsa-miR-6844', 'hsa-miR-6845-5p', 'hsa-miR-6845-3p', 'hsa-miR-6846-5p', 'hsa-miR-6846-3p', 'hsa-miR-6847-5p', 'hsa-miR-6847-3p', 'hsa-miR-6848-5p', 'hsa-miR-6848-3p', 'hsa-miR-6849-5p', 'hsa-miR-6849-3p', 'hsa-miR-6850-5p', 'hsa-miR-6850-3p', 'hsa-miR-6851-5p', 'hsa-miR-6851-3p', 'hsa-miR-6852-5p', 'hsa-miR-6852-3p', 'hsa-miR-6853-5p', 'hsa-miR-6853-3p', 'hsa-miR-6854-5p', 'hsa-miR-6854-3p', 'hsa-miR-6855-5p', 'hsa-miR-6855-3p', 'hsa-miR-6856-5p', 'hsa-miR-6856-3p', 'hsa-miR-6857-5p', 'hsa-miR-6857-3p', 'hsa-miR-6858-5p', 'hsa-miR-6858-3p', 'hsa-miR-6859-5p', 'hsa-miR-6859-3p', 'hsa-miR-6769b-5p', 'hsa-miR-6769b-3p', 'hsa-miR-6860', 'hsa-miR-6861-5p', 'hsa-miR-6861-3p', 'hsa-miR-6862-5p', 'hsa-miR-6862-3p', 'hsa-miR-6863', 'hsa-miR-6864-5p', 'hsa-miR-6864-3p', 'hsa-miR-6865-5p', 'hsa-miR-6865-3p', 'hsa-miR-6866-5p', 'hsa-miR-6866-3p', 'hsa-miR-6867-5p', 'hsa-miR-6867-3p', 'hsa-miR-6868-5p', 'hsa-miR-6868-3p', 'hsa-miR-6869-5p', 'hsa-miR-6869-3p', 'hsa-miR-6870-5p', 'hsa-miR-6870-3p', 'hsa-miR-6871-5p', 'hsa-miR-6871-3p', 'hsa-miR-6872-5p', 'hsa-miR-6872-3p', 'hsa-miR-6873-5p', 'hsa-miR-6873-3p', 'hsa-miR-6874-5p', 'hsa-miR-6874-3p', 'hsa-miR-6875-5p', 'hsa-miR-6875-3p', 'hsa-miR-6876-5p', 'hsa-miR-6876-3p', 'hsa-miR-6877-5p', 'hsa-miR-6877-3p', 'hsa-miR-6878-5p', 'hsa-miR-6878-3p', 'hsa-miR-6879-5p', 'hsa-miR-6879-3p', 'hsa-miR-6880-5p', 'hsa-miR-6880-3p', 'hsa-miR-6881-5p', 'hsa-miR-6881-3p', 'hsa-miR-6882-5p', 'hsa-miR-6882-3p', 'hsa-miR-6883-5p', 'hsa-miR-6883-3p', 'hsa-miR-6884-5p', 'hsa-miR-6884-3p', 'hsa-miR-6885-5p', 'hsa-miR-6885-3p', 'hsa-miR-6886-5p', 'hsa-miR-6886-3p', 'hsa-miR-6887-5p', 'hsa-miR-6887-3p', 'hsa-miR-6888-5p', 'hsa-miR-6888-3p', 'hsa-miR-6889-5p', 'hsa-miR-6889-3p', 'hsa-miR-6890-5p', 'hsa-miR-6890-3p', 'hsa-miR-6891-5p', 'hsa-miR-6891-3p', 'hsa-miR-6892-5p', 'hsa-miR-6892-3p', 'hsa-miR-6893-5p', 'hsa-miR-6893-3p', 'hsa-miR-6894-5p', 'hsa-miR-6894-3p', 'hsa-miR-6895-5p', 'hsa-miR-6895-3p', 'hsa-miR-7106-5p', 'hsa-miR-7106-3p', 'hsa-miR-7107-5p', 'hsa-miR-7107-3p', 'hsa-miR-7108-5p', 'hsa-miR-7108-3p', 'hsa-miR-7109-5p', 'hsa-miR-7109-3p', 'hsa-miR-7110-5p', 'hsa-miR-7110-3p', 'hsa-miR-7111-5p', 'hsa-miR-7111-3p', 'hsa-miR-7112-5p', 'hsa-miR-7112-3p', 'hsa-miR-7113-5p', 'hsa-miR-7113-3p', 'hsa-miR-7114-5p', 'hsa-miR-7114-3p', 'hsa-miR-7150', 'hsa-miR-7151-5p', 'hsa-miR-7151-3p', 'hsa-miR-7152-5p', 'hsa-miR-7152-3p', 'hsa-miR-7153-5p', 'hsa-miR-7153-3p', 'hsa-miR-7154-5p', 'hsa-miR-7154-3p', 'hsa-miR-7155-5p', 'hsa-miR-7155-3p', 'hsa-miR-7156-5p', 'hsa-miR-7156-3p', 'hsa-miR-7157-5p', 'hsa-miR-7157-3p', 'hsa-miR-7158-5p', 'hsa-miR-7158-3p', 'hsa-miR-7159-5p', 'hsa-miR-7159-3p', 'hsa-miR-7160-5p', 'hsa-miR-7160-3p', 'hsa-miR-7161-5p', 'hsa-miR-7161-3p', 'hsa-miR-7162-5p', 'hsa-miR-7162-3p', 'hsa-miR-7515', 'hsa-miR-7641', 'hsa-miR-7702', 'hsa-miR-7703', 'hsa-miR-7704', 'hsa-miR-7705', 'hsa-miR-7706', 'hsa-miR-7843-5p', 'hsa-miR-7843-3p', 'hsa-miR-4433b-5p', 'hsa-miR-4433b-3p', 'hsa-miR-1273h-5p', 'hsa-miR-1273h-3p', 'hsa-miR-6516-5p', 'hsa-miR-6516-3p', 'hsa-miR-7844-5p', 'hsa-miR-7845-5p', 'hsa-miR-7846-3p', 'hsa-miR-7847-3p', 'hsa-miR-7848-3p', 'hsa-miR-7849-3p', 'hsa-miR-7850-5p', 'hsa-miR-7851-3p', 'hsa-miR-7852-3p', 'hsa-miR-7853-5p', 'hsa-miR-7854-3p', 'hsa-miR-7855-5p', 'hsa-miR-7856-5p', 'hsa-miR-8052', 'hsa-miR-8053', 'hsa-miR-8054', 'hsa-miR-8055', 'hsa-miR-8056', 'hsa-miR-8057', 'hsa-miR-8058', 'hsa-miR-8059', 'hsa-miR-8060', 'hsa-miR-8061', 'hsa-miR-8062', 'hsa-miR-8063', 'hsa-miR-8064', 'hsa-miR-8065', 'hsa-miR-8066', 'hsa-miR-8067', 'hsa-miR-8068', 'hsa-miR-8069', 'hsa-miR-8070', 'hsa-miR-8071', 'hsa-miR-8072', 'hsa-miR-8073', 'hsa-miR-8074', 'hsa-miR-8075', 'hsa-miR-8076', 'hsa-miR-8077', 'hsa-miR-8078', 'hsa-miR-8079', 'hsa-miR-8080', 'hsa-miR-8081', 'hsa-miR-8082', 'hsa-miR-8083', 'hsa-miR-8084', 'hsa-miR-8085', 'hsa-miR-8086', 'hsa-miR-8087', 'hsa-miR-8088', 'hsa-miR-8089', 'hsa-miR-450a-2-3p', 'hsa-miR-128-2-5p', 'hsa-miR-1199-5p', 'hsa-miR-1199-3p', 'hsa-miR-548ba', 'hsa-miR-7973', 'hsa-miR-7974', 'hsa-miR-7975', 'hsa-miR-7976', 'hsa-miR-7977', 'hsa-miR-7978']\n"
     ]
    }
   ],
   "source": [
    "# save the column names in df not being in nan_columns in a list\n",
    "X_miRNA = df.columns.tolist()\n",
    "print(X_miRNA)"
   ]
  },
  {
   "cell_type": "markdown",
   "id": "27103efc",
   "metadata": {},
   "source": [
    "#### Extract the H matrix"
   ]
  },
  {
   "cell_type": "code",
   "execution_count": 30,
   "id": "ccb91c00",
   "metadata": {},
   "outputs": [
    {
     "name": "stdout",
     "output_type": "stream",
     "text": [
      "2610\n",
      "['hsa-let-7a-5p', 'hsa-let-7b-5p', 'hsa-let-7c-5p', 'hsa-let-7d-5p', 'hsa-let-7e-5p', 'hsa-let-7f-5p', 'hsa-miR-15a-5p', 'hsa-miR-16-5p', 'hsa-miR-17-5p', 'hsa-miR-17-3p', 'hsa-miR-18a-5p', 'hsa-miR-19a-3p', 'hsa-miR-19b-3p', 'hsa-miR-20a-5p', 'hsa-miR-21-5p', 'hsa-miR-22-3p', 'hsa-miR-23a-3p', 'hsa-miR-24-1-5p', 'hsa-miR-24-3p', 'hsa-miR-25-3p', 'hsa-miR-26a-5p', 'hsa-miR-26b-5p', 'hsa-miR-27a-3p', 'hsa-miR-28-5p', 'hsa-miR-29a-3p', 'hsa-miR-30a-5p', 'hsa-miR-30a-3p', 'hsa-miR-31-5p', 'hsa-miR-32-5p', 'hsa-miR-33a-5p', 'hsa-miR-92a-3p', 'hsa-miR-93-5p', 'hsa-miR-95-3p', 'hsa-miR-96-5p', 'hsa-miR-98-5p', 'hsa-miR-99a-5p', 'hsa-miR-100-5p', 'hsa-miR-101-3p', 'hsa-miR-29b-3p', 'hsa-miR-103a-3p', 'hsa-miR-105-5p', 'hsa-miR-106a-5p', 'hsa-miR-107', 'hsa-miR-192-5p', 'hsa-miR-196a-5p', 'hsa-miR-197-3p', 'hsa-miR-198', 'hsa-miR-199a-5p', 'hsa-miR-199a-3p', 'hsa-miR-208a-3p', 'hsa-miR-129-5p', 'hsa-miR-148a-3p', 'hsa-miR-30c-5p', 'hsa-miR-30d-5p', 'hsa-miR-139-5p', 'hsa-miR-147a', 'hsa-miR-7-5p', 'hsa-miR-10a-5p', 'hsa-miR-10b-5p', 'hsa-miR-34a-5p', 'hsa-miR-181a-5p', 'hsa-miR-181b-5p', 'hsa-miR-181c-5p', 'hsa-miR-182-5p', 'hsa-miR-182-3p', 'hsa-miR-183-5p', 'hsa-miR-187-3p', 'hsa-miR-199b-5p', 'hsa-miR-203a-3p', 'hsa-miR-204-5p', 'hsa-miR-205-5p', 'hsa-miR-210-3p', 'hsa-miR-211-5p', 'hsa-miR-212-3p', 'hsa-miR-181a-3p', 'hsa-miR-214-3p', 'hsa-miR-215-5p', 'hsa-miR-216a-5p', 'hsa-miR-217', 'hsa-miR-218-5p', 'hsa-miR-219a-5p', 'hsa-miR-221-3p', 'hsa-miR-222-3p', 'hsa-miR-223-3p', 'hsa-miR-224-5p', 'hsa-miR-200b-3p', 'hsa-let-7g-5p', 'hsa-let-7i-5p', 'hsa-miR-1-3p', 'hsa-miR-15b-5p', 'hsa-miR-23b-3p', 'hsa-miR-27b-3p', 'hsa-miR-30b-5p', 'hsa-miR-122-5p', 'hsa-miR-124-3p', 'hsa-miR-125b-5p', 'hsa-miR-128-3p', 'hsa-miR-130a-3p', 'hsa-miR-132-3p', 'hsa-miR-133a-3p', 'hsa-miR-135a-5p', 'hsa-miR-137', 'hsa-miR-138-5p', 'hsa-miR-140-5p', 'hsa-miR-141-3p', 'hsa-miR-142-5p', 'hsa-miR-142-3p', 'hsa-miR-143-3p', 'hsa-miR-144-3p', 'hsa-miR-145-5p', 'hsa-miR-152-3p', 'hsa-miR-153-3p', 'hsa-miR-191-5p', 'hsa-miR-9-5p', 'hsa-miR-9-3p', 'hsa-miR-125a-5p', 'hsa-miR-126-5p', 'hsa-miR-126-3p', 'hsa-miR-127-3p', 'hsa-miR-134-5p', 'hsa-miR-136-5p', 'hsa-miR-146a-5p', 'hsa-miR-149-5p', 'hsa-miR-150-5p', 'hsa-miR-154-5p', 'hsa-miR-154-3p', 'hsa-miR-184', 'hsa-miR-185-5p', 'hsa-miR-186-5p', 'hsa-miR-188-5p', 'hsa-miR-190a-5p', 'hsa-miR-193a-3p', 'hsa-miR-194-5p', 'hsa-miR-195-5p', 'hsa-miR-206', 'hsa-miR-320a', 'hsa-miR-200c-3p', 'hsa-miR-155-5p', 'hsa-miR-106b-5p', 'hsa-miR-29c-3p', 'hsa-miR-200a-3p', 'hsa-miR-302a-5p', 'hsa-miR-302a-3p', 'hsa-miR-34b-5p', 'hsa-miR-34c-5p', 'hsa-miR-299-3p', 'hsa-miR-301a-3p', 'hsa-miR-99b-5p', 'hsa-miR-296-5p', 'hsa-miR-130b-3p', 'hsa-miR-30e-5p', 'hsa-miR-30e-3p', 'hsa-miR-361-5p', 'hsa-miR-362-5p', 'hsa-miR-363-3p', 'hsa-miR-365a-3p', 'hsa-miR-302b-5p', 'hsa-miR-302b-3p', 'hsa-miR-302c-5p', 'hsa-miR-302c-3p', 'hsa-miR-302d-3p', 'hsa-miR-367-3p', 'hsa-miR-376c-3p', 'hsa-miR-369-3p', 'hsa-miR-370-3p', 'hsa-miR-371a-3p', 'hsa-miR-372-3p', 'hsa-miR-373-5p', 'hsa-miR-373-3p', 'hsa-miR-374a-5p', 'hsa-miR-375', 'hsa-miR-376a-3p', 'hsa-miR-377-3p', 'hsa-miR-378a-5p', 'hsa-miR-378a-3p', 'hsa-miR-379-5p', 'hsa-miR-380-5p', 'hsa-miR-380-3p', 'hsa-miR-381-3p', 'hsa-miR-382-5p', 'hsa-miR-383-5p', 'hsa-miR-340-3p', 'hsa-miR-330-3p', 'hsa-miR-328-3p', 'hsa-miR-342-3p', 'hsa-miR-337-3p', 'hsa-miR-323a-3p', 'hsa-miR-326', 'hsa-miR-151a-3p', 'hsa-miR-135b-5p', 'hsa-miR-148b-3p', 'hsa-miR-331-3p', 'hsa-miR-324-5p', 'hsa-miR-324-3p', 'hsa-miR-338-3p', 'hsa-miR-339-5p', 'hsa-miR-335-5p', 'hsa-miR-133b', 'hsa-miR-325', 'hsa-miR-345-5p', 'hsa-miR-346', 'hsa-miR-384', 'hsa-miR-196b-5p', 'hsa-miR-422a', 'hsa-miR-423-3p', 'hsa-miR-424-5p', 'hsa-miR-425-3p', 'hsa-miR-18b-5p', 'hsa-miR-20b-5p', 'hsa-miR-448', 'hsa-miR-429', 'hsa-miR-449a', 'hsa-miR-450a-5p', 'hsa-miR-191-3p', 'hsa-miR-200a-5p', 'hsa-miR-369-5p', 'hsa-miR-431-5p', 'hsa-miR-433-3p', 'hsa-miR-329-3p', 'hsa-miR-323b-5p', 'hsa-miR-452-5p', 'hsa-miR-452-3p', 'hsa-miR-409-5p', 'hsa-miR-409-3p', 'hsa-miR-412-3p', 'hsa-miR-410-3p', 'hsa-miR-376b-3p', 'hsa-miR-483-3p', 'hsa-miR-484', 'hsa-miR-485-5p', 'hsa-miR-485-3p', 'hsa-miR-486-5p', 'hsa-miR-487a-3p', 'hsa-miR-488-5p', 'hsa-miR-489-3p', 'hsa-miR-490-3p', 'hsa-miR-491-5p', 'hsa-miR-511-5p', 'hsa-miR-146b-5p', 'hsa-miR-202-5p', 'hsa-miR-202-3p', 'hsa-miR-492', 'hsa-miR-493-5p', 'hsa-miR-432-5p', 'hsa-miR-432-3p', 'hsa-miR-494-3p', 'hsa-miR-495-3p', 'hsa-miR-496', 'hsa-miR-193b-3p', 'hsa-miR-497-5p', 'hsa-miR-181d-5p', 'hsa-miR-512-5p', 'hsa-miR-512-3p', 'hsa-miR-498', 'hsa-miR-520e', 'hsa-miR-515-5p', 'hsa-miR-515-3p', 'hsa-miR-519e-5p', 'hsa-miR-519e-3p', 'hsa-miR-520f-3p', 'hsa-miR-519c-5p', 'hsa-miR-519c-3p', 'hsa-miR-520a-5p', 'hsa-miR-520a-3p', 'hsa-miR-526b-5p', 'hsa-miR-526b-3p', 'hsa-miR-519b-3p', 'hsa-miR-525-5p', 'hsa-miR-525-3p', 'hsa-miR-523-3p', 'hsa-miR-518f-5p', 'hsa-miR-518f-3p', 'hsa-miR-520b', 'hsa-miR-518b', 'hsa-miR-526a', 'hsa-miR-520c-3p', 'hsa-miR-518c-5p', 'hsa-miR-518c-3p', 'hsa-miR-524-5p', 'hsa-miR-524-3p', 'hsa-miR-517-5p', 'hsa-miR-517a-3p', 'hsa-miR-519d-3p', 'hsa-miR-521', 'hsa-miR-520d-5p', 'hsa-miR-520d-3p', 'hsa-miR-517b-3p', 'hsa-miR-520g-3p', 'hsa-miR-516b-5p', 'hsa-miR-516b-3p', 'hsa-miR-518e-3p', 'hsa-miR-527', 'hsa-miR-518a-3p', 'hsa-miR-518d-3p', 'hsa-miR-517c-3p', 'hsa-miR-520h', 'hsa-miR-522-3p', 'hsa-miR-519a-3p', 'hsa-miR-499a-5p', 'hsa-miR-500a-3p', 'hsa-miR-501-5p', 'hsa-miR-502-5p', 'hsa-miR-503-5p', 'hsa-miR-504-5p', 'hsa-miR-505-3p', 'hsa-miR-513a-5p', 'hsa-miR-506-3p', 'hsa-miR-507', 'hsa-miR-508-3p', 'hsa-miR-509-3p', 'hsa-miR-510-5p', 'hsa-miR-514a-3p', 'hsa-miR-532-5p', 'hsa-miR-299-5p', 'hsa-miR-18a-3p', 'hsa-miR-455-5p', 'hsa-miR-493-3p', 'hsa-miR-539-5p', 'hsa-miR-544a', 'hsa-miR-545-3p', 'hsa-miR-487b-3p', 'hsa-miR-551a', 'hsa-miR-552-3p', 'hsa-miR-553', 'hsa-miR-554', 'hsa-miR-92b-3p', 'hsa-miR-555', 'hsa-miR-556-5p', 'hsa-miR-557', 'hsa-miR-558', 'hsa-miR-559', 'hsa-miR-561-3p', 'hsa-miR-562', 'hsa-miR-563', 'hsa-miR-564', 'hsa-miR-566', 'hsa-miR-567', 'hsa-miR-568', 'hsa-miR-551b-3p', 'hsa-miR-569', 'hsa-miR-570-3p', 'hsa-miR-571', 'hsa-miR-572', 'hsa-miR-573', 'hsa-miR-574-3p', 'hsa-miR-575', 'hsa-miR-576-5p', 'hsa-miR-577', 'hsa-miR-578', 'hsa-miR-579-3p', 'hsa-miR-580-3p', 'hsa-miR-581', 'hsa-miR-582-5p', 'hsa-miR-583', 'hsa-miR-584-5p', 'hsa-miR-585-3p', 'hsa-miR-548a-3p', 'hsa-miR-586', 'hsa-miR-587', 'hsa-miR-548b-3p', 'hsa-miR-588', 'hsa-miR-589-3p', 'hsa-miR-550a-3p', 'hsa-miR-590-5p', 'hsa-miR-591', 'hsa-miR-592', 'hsa-miR-593-5p', 'hsa-miR-595', 'hsa-miR-596', 'hsa-miR-597-5p', 'hsa-miR-598-3p', 'hsa-miR-599', 'hsa-miR-600', 'hsa-miR-601', 'hsa-miR-602', 'hsa-miR-603', 'hsa-miR-604', 'hsa-miR-605-5p', 'hsa-miR-606', 'hsa-miR-607', 'hsa-miR-608', 'hsa-miR-609', 'hsa-miR-610', 'hsa-miR-611', 'hsa-miR-612', 'hsa-miR-613', 'hsa-miR-614', 'hsa-miR-615-3p', 'hsa-miR-616-5p', 'hsa-miR-548c-3p', 'hsa-miR-617', 'hsa-miR-618', 'hsa-miR-619-3p', 'hsa-miR-620', 'hsa-miR-621', 'hsa-miR-622', 'hsa-miR-623', 'hsa-miR-624-5p', 'hsa-miR-625-5p', 'hsa-miR-626', 'hsa-miR-627-5p', 'hsa-miR-628-3p', 'hsa-miR-629-3p', 'hsa-miR-630', 'hsa-miR-631', 'hsa-miR-33b-5p', 'hsa-miR-632', 'hsa-miR-633', 'hsa-miR-634', 'hsa-miR-635', 'hsa-miR-636', 'hsa-miR-637', 'hsa-miR-638', 'hsa-miR-639', 'hsa-miR-640', 'hsa-miR-641', 'hsa-miR-642a-5p', 'hsa-miR-643', 'hsa-miR-644a', 'hsa-miR-645', 'hsa-miR-646', 'hsa-miR-647', 'hsa-miR-648', 'hsa-miR-649', 'hsa-miR-650', 'hsa-miR-651-5p', 'hsa-miR-652-3p', 'hsa-miR-548d-3p', 'hsa-miR-661', 'hsa-miR-662', 'hsa-miR-663a', 'hsa-miR-449b-5p', 'hsa-miR-653-5p', 'hsa-miR-411-5p', 'hsa-miR-654-5p', 'hsa-miR-655-3p', 'hsa-miR-656-3p', 'hsa-miR-549a', 'hsa-miR-657', 'hsa-miR-658', 'hsa-miR-659-3p', 'hsa-miR-660-5p', 'hsa-miR-421', 'hsa-miR-542-5p', 'hsa-miR-363-5p', 'hsa-miR-376a-5p', 'hsa-miR-542-3p', 'hsa-miR-425-5p', 'hsa-miR-758-3p', 'hsa-miR-671-5p', 'hsa-miR-668-3p', 'hsa-miR-767-5p', 'hsa-miR-767-3p', 'hsa-miR-454-5p', 'hsa-miR-454-3p', 'hsa-miR-769-5p', 'hsa-miR-769-3p', 'hsa-miR-766-3p', 'hsa-miR-765', 'hsa-miR-770-5p', 'hsa-miR-802', 'hsa-miR-675-5p', 'hsa-miR-297', 'hsa-let-7a-3p', 'hsa-let-7b-3p', 'hsa-let-7d-3p', 'hsa-let-7e-3p', 'hsa-let-7f-1-3p', 'hsa-let-7f-2-3p', 'hsa-miR-15a-3p', 'hsa-miR-16-1-3p', 'hsa-miR-19a-5p', 'hsa-miR-19b-1-5p', 'hsa-miR-19b-2-5p', 'hsa-miR-20a-3p', 'hsa-miR-21-3p', 'hsa-miR-22-5p', 'hsa-miR-23a-5p', 'hsa-miR-24-2-5p', 'hsa-miR-25-5p', 'hsa-miR-26a-1-3p', 'hsa-miR-26b-3p', 'hsa-miR-27a-5p', 'hsa-miR-28-3p', 'hsa-miR-29a-5p', 'hsa-miR-31-3p', 'hsa-miR-32-3p', 'hsa-miR-33a-3p', 'hsa-miR-92a-1-5p', 'hsa-miR-92a-2-5p', 'hsa-miR-93-3p', 'hsa-miR-96-3p', 'hsa-miR-99a-3p', 'hsa-miR-100-3p', 'hsa-miR-101-5p', 'hsa-miR-29b-1-5p', 'hsa-miR-29b-2-5p', 'hsa-miR-105-3p', 'hsa-miR-106a-3p', 'hsa-miR-16-2-3p', 'hsa-miR-192-3p', 'hsa-miR-129-1-3p', 'hsa-miR-148a-5p', 'hsa-miR-30c-2-3p', 'hsa-miR-30d-3p', 'hsa-miR-139-3p', 'hsa-miR-7-1-3p', 'hsa-miR-7-2-3p', 'hsa-miR-10a-3p', 'hsa-miR-10b-3p', 'hsa-miR-34a-3p', 'hsa-miR-181a-2-3p', 'hsa-miR-181c-3p', 'hsa-miR-183-3p', 'hsa-miR-187-5p', 'hsa-miR-196a-3p', 'hsa-miR-199b-3p', 'hsa-miR-214-5p', 'hsa-miR-218-1-3p', 'hsa-miR-218-2-3p', 'hsa-miR-219a-1-3p', 'hsa-miR-221-5p', 'hsa-miR-222-5p', 'hsa-miR-223-5p', 'hsa-miR-200b-5p', 'hsa-let-7g-3p', 'hsa-let-7i-3p', 'hsa-miR-15b-3p', 'hsa-miR-23b-5p', 'hsa-miR-27b-5p', 'hsa-miR-30b-3p', 'hsa-miR-122-3p', 'hsa-miR-124-5p', 'hsa-miR-125b-1-3p', 'hsa-miR-130a-5p', 'hsa-miR-132-5p', 'hsa-miR-135a-3p', 'hsa-miR-138-2-3p', 'hsa-miR-140-3p', 'hsa-miR-141-5p', 'hsa-miR-143-5p', 'hsa-miR-144-5p', 'hsa-miR-145-3p', 'hsa-miR-125a-3p', 'hsa-miR-125b-2-3p', 'hsa-miR-127-5p', 'hsa-miR-129-2-3p', 'hsa-miR-136-3p', 'hsa-miR-138-1-3p', 'hsa-miR-146a-3p', 'hsa-miR-149-3p', 'hsa-miR-150-3p', 'hsa-miR-185-3p', 'hsa-miR-186-3p', 'hsa-miR-188-3p', 'hsa-miR-193a-5p', 'hsa-miR-195-3p', 'hsa-miR-200c-5p', 'hsa-miR-155-3p', 'hsa-miR-194-3p', 'hsa-miR-106b-3p', 'hsa-miR-29c-5p', 'hsa-miR-30c-1-3p', 'hsa-miR-219a-2-3p', 'hsa-miR-34b-3p', 'hsa-miR-34c-3p', 'hsa-miR-99b-3p', 'hsa-miR-296-3p', 'hsa-miR-130b-5p', 'hsa-miR-26a-2-3p', 'hsa-miR-361-3p', 'hsa-miR-362-3p', 'hsa-miR-302d-5p', 'hsa-miR-367-5p', 'hsa-miR-371a-5p', 'hsa-miR-374a-3p', 'hsa-miR-377-5p', 'hsa-miR-379-3p', 'hsa-miR-340-5p', 'hsa-miR-330-5p', 'hsa-miR-342-5p', 'hsa-miR-337-5p', 'hsa-miR-323a-5p', 'hsa-miR-151a-5p', 'hsa-miR-135b-3p', 'hsa-miR-148b-5p', 'hsa-miR-331-5p', 'hsa-miR-338-5p', 'hsa-miR-339-3p', 'hsa-miR-335-3p', 'hsa-miR-423-5p', 'hsa-miR-424-3p', 'hsa-miR-18b-3p', 'hsa-miR-20b-3p', 'hsa-miR-431-3p', 'hsa-miR-483-5p', 'hsa-miR-486-3p', 'hsa-miR-488-3p', 'hsa-miR-490-5p', 'hsa-miR-491-3p', 'hsa-miR-146b-3p', 'hsa-miR-193b-5p', 'hsa-miR-497-3p', 'hsa-miR-516a-5p', 'hsa-miR-499a-3p', 'hsa-miR-500a-5p', 'hsa-miR-501-3p', 'hsa-miR-502-3p', 'hsa-miR-505-5p', 'hsa-miR-513a-3p', 'hsa-miR-508-5p', 'hsa-miR-509-5p', 'hsa-miR-532-3p', 'hsa-miR-455-3p', 'hsa-miR-545-5p', 'hsa-miR-92b-5p', 'hsa-miR-556-3p', 'hsa-miR-551b-5p', 'hsa-miR-574-5p', 'hsa-miR-576-3p', 'hsa-miR-582-3p', 'hsa-miR-548b-5p', 'hsa-miR-589-5p', 'hsa-miR-550a-5p', 'hsa-miR-590-3p', 'hsa-miR-593-3p', 'hsa-miR-548a-5p', 'hsa-miR-615-5p', 'hsa-miR-616-3p', 'hsa-miR-548c-5p', 'hsa-miR-624-3p', 'hsa-miR-625-3p', 'hsa-miR-628-5p', 'hsa-miR-629-5p', 'hsa-miR-33b-3p', 'hsa-miR-548d-5p', 'hsa-miR-411-3p', 'hsa-miR-654-3p', 'hsa-miR-671-3p', 'hsa-miR-298', 'hsa-miR-891a-5p', 'hsa-miR-300', 'hsa-miR-892a', 'hsa-miR-450b-5p', 'hsa-miR-450b-3p', 'hsa-miR-874-3p', 'hsa-miR-890', 'hsa-miR-891b', 'hsa-miR-888-5p', 'hsa-miR-888-3p', 'hsa-miR-892b', 'hsa-miR-541-5p', 'hsa-miR-541-3p', 'hsa-miR-889-3p', 'hsa-miR-875-5p', 'hsa-miR-875-3p', 'hsa-miR-876-5p', 'hsa-miR-876-3p', 'hsa-miR-708-5p', 'hsa-miR-708-3p', 'hsa-miR-147b', 'hsa-miR-190b', 'hsa-miR-744-5p', 'hsa-miR-744-3p', 'hsa-miR-885-5p', 'hsa-miR-885-3p', 'hsa-miR-877-5p', 'hsa-miR-877-3p', 'hsa-miR-887-3p', 'hsa-miR-665', 'hsa-miR-873-5p', 'hsa-miR-543', 'hsa-miR-374b-5p', 'hsa-miR-374b-3p', 'hsa-miR-760', 'hsa-miR-301b-3p', 'hsa-miR-216b-5p', 'hsa-miR-208b-3p', 'hsa-miR-920', 'hsa-miR-921', 'hsa-miR-922', 'hsa-miR-924', 'hsa-miR-509-3-5p', 'hsa-miR-933', 'hsa-miR-934', 'hsa-miR-935', 'hsa-miR-936', 'hsa-miR-937-3p', 'hsa-miR-938', 'hsa-miR-939-5p', 'hsa-miR-940', 'hsa-miR-941', 'hsa-miR-942-5p', 'hsa-miR-943', 'hsa-miR-944', 'hsa-miR-523-5p', 'hsa-miR-518e-5p', 'hsa-miR-522-5p', 'hsa-miR-519a-5p', 'hsa-miR-519b-5p', 'hsa-miR-520c-5p', 'hsa-miR-518d-5p', 'hsa-miR-518a-5p', 'hsa-miR-1224-5p', 'hsa-miR-1224-3p', 'hsa-miR-1225-5p', 'hsa-miR-1225-3p', 'hsa-miR-1226-5p', 'hsa-miR-1226-3p', 'hsa-miR-1227-3p', 'hsa-miR-1228-5p', 'hsa-miR-1228-3p', 'hsa-miR-1229-3p', 'hsa-miR-1231', 'hsa-miR-1233-3p', 'hsa-miR-1234-3p', 'hsa-miR-1236-3p', 'hsa-miR-1237-3p', 'hsa-miR-1238-3p', 'hsa-miR-513b-5p', 'hsa-miR-513c-5p', 'hsa-miR-1264', 'hsa-miR-320b', 'hsa-miR-320c', 'hsa-miR-1296-5p', 'hsa-miR-1323', 'hsa-miR-1271-5p', 'hsa-miR-1301-3p', 'hsa-miR-1185-5p', 'hsa-miR-1283', 'hsa-miR-1298-5p', 'hsa-miR-1178-3p', 'hsa-miR-1179', 'hsa-miR-1180-3p', 'hsa-miR-1181', 'hsa-miR-1182', 'hsa-miR-1183', 'hsa-miR-1184', 'hsa-miR-1200', 'hsa-miR-1202', 'hsa-miR-1203', 'hsa-miR-663b', 'hsa-miR-1204', 'hsa-miR-1205', 'hsa-miR-1206', 'hsa-miR-1207-5p', 'hsa-miR-1207-3p', 'hsa-miR-1208', 'hsa-miR-548e-3p', 'hsa-miR-548j-5p', 'hsa-miR-1285-3p', 'hsa-miR-1286', 'hsa-miR-1287-5p', 'hsa-miR-1289', 'hsa-miR-1291', 'hsa-miR-548k', 'hsa-miR-1293', 'hsa-miR-1294', 'hsa-miR-1295a', 'hsa-miR-1297', 'hsa-miR-1299', 'hsa-miR-548l', 'hsa-miR-1302', 'hsa-miR-1303', 'hsa-miR-1304-5p', 'hsa-miR-1305', 'hsa-miR-1243', 'hsa-miR-548f-3p', 'hsa-miR-1244', 'hsa-miR-1245a', 'hsa-miR-1246', 'hsa-miR-1247-5p', 'hsa-miR-1248', 'hsa-miR-1249-3p', 'hsa-miR-1250-5p', 'hsa-miR-1251-5p', 'hsa-miR-1253', 'hsa-miR-1254', 'hsa-miR-1255a', 'hsa-miR-1256', 'hsa-miR-1257', 'hsa-miR-1258', 'hsa-miR-1260a', 'hsa-miR-548g-3p', 'hsa-miR-1261', 'hsa-miR-1262', 'hsa-miR-1263', 'hsa-miR-548n', 'hsa-miR-548m', 'hsa-miR-1265', 'hsa-miR-548o-3p', 'hsa-miR-1266-5p', 'hsa-miR-1267', 'hsa-miR-1268a', 'hsa-miR-1269a', 'hsa-miR-1270', 'hsa-miR-1272', 'hsa-miR-1273a', 'hsa-miR-548h-5p', 'hsa-miR-1275', 'hsa-miR-1276', 'hsa-miR-302e', 'hsa-miR-302f', 'hsa-miR-1277-3p', 'hsa-miR-548p', 'hsa-miR-548i', 'hsa-miR-1278', 'hsa-miR-1279', 'hsa-miR-1281', 'hsa-miR-1282', 'hsa-miR-1284', 'hsa-miR-1288-3p', 'hsa-miR-1292-5p', 'hsa-miR-1252-5p', 'hsa-miR-1255b-5p', 'hsa-miR-664a-5p', 'hsa-miR-664a-3p', 'hsa-miR-1306-3p', 'hsa-miR-1307-3p', 'hsa-miR-1321', 'hsa-miR-1322', 'hsa-miR-1197', 'hsa-miR-1324', 'hsa-miR-320d', 'hsa-miR-1825', 'hsa-miR-1827', 'hsa-miR-516a-3p', 'hsa-miR-1468-5p', 'hsa-miR-675-3p', 'hsa-miR-1469', 'hsa-miR-1470', 'hsa-miR-1471', 'hsa-miR-1537-3p', 'hsa-miR-1538', 'hsa-miR-1539', 'hsa-miR-103b', 'hsa-miR-1908-5p', 'hsa-miR-1909-5p', 'hsa-miR-1909-3p', 'hsa-miR-1910-5p', 'hsa-miR-1911-5p', 'hsa-miR-1911-3p', 'hsa-miR-1912', 'hsa-miR-1913', 'hsa-miR-1914-5p', 'hsa-miR-1914-3p', 'hsa-miR-1915-5p', 'hsa-miR-1915-3p', 'hsa-miR-103a-2-5p', 'hsa-miR-205-3p', 'hsa-miR-224-3p', 'hsa-miR-365a-5p', 'hsa-miR-196b-3p', 'hsa-miR-449b-3p', 'hsa-miR-2113', 'hsa-miR-1972', 'hsa-miR-1973', 'hsa-miR-1976', 'hsa-miR-2052', 'hsa-miR-2053', 'hsa-miR-2054', 'hsa-miR-2110', 'hsa-let-7a-2-3p', 'hsa-miR-151b', 'hsa-miR-449c-5p', 'hsa-miR-762', 'hsa-miR-670-5p', 'hsa-miR-761', 'hsa-miR-764', 'hsa-miR-759', 'hsa-miR-2114-5p', 'hsa-miR-2114-3p', 'hsa-miR-2115-5p', 'hsa-miR-2115-3p', 'hsa-miR-2116-5p', 'hsa-miR-2116-3p', 'hsa-miR-2117', 'hsa-miR-548q', 'hsa-miR-2276-3p', 'hsa-miR-2277-3p', 'hsa-miR-2278', 'hsa-miR-711', 'hsa-miR-718', 'hsa-miR-2681-5p', 'hsa-miR-2681-3p', 'hsa-miR-2682-5p', 'hsa-miR-2682-3p', 'hsa-miR-449c-3p', 'hsa-miR-2861', 'hsa-miR-2909', 'hsa-miR-3115', 'hsa-miR-3116', 'hsa-miR-3117-3p', 'hsa-miR-3118', 'hsa-miR-3119', 'hsa-miR-3120-3p', 'hsa-miR-3121-3p', 'hsa-miR-3122', 'hsa-miR-3123', 'hsa-miR-3124-5p', 'hsa-miR-548s', 'hsa-miR-3125', 'hsa-miR-3126-5p', 'hsa-miR-3127-5p', 'hsa-miR-3128', 'hsa-miR-3129-5p', 'hsa-miR-3130-3p', 'hsa-miR-3130-5p', 'hsa-miR-3131', 'hsa-miR-3132', 'hsa-miR-3133', 'hsa-miR-378b', 'hsa-miR-3134', 'hsa-miR-3135a', 'hsa-miR-466', 'hsa-miR-3136-5p', 'hsa-miR-544b', 'hsa-miR-3137', 'hsa-miR-3138', 'hsa-miR-3139', 'hsa-miR-3140-3p', 'hsa-miR-548t-5p', 'hsa-miR-3141', 'hsa-miR-3142', 'hsa-miR-3143', 'hsa-miR-548u', 'hsa-miR-3144-5p', 'hsa-miR-3144-3p', 'hsa-miR-3145-3p', 'hsa-miR-1273c', 'hsa-miR-3146', 'hsa-miR-3147', 'hsa-miR-548v', 'hsa-miR-3148', 'hsa-miR-3149', 'hsa-miR-3150a-3p', 'hsa-miR-3151-5p', 'hsa-miR-3152-3p', 'hsa-miR-3153', 'hsa-miR-3074-3p', 'hsa-miR-3154', 'hsa-miR-3155a', 'hsa-miR-3156-5p', 'hsa-miR-3157-5p', 'hsa-miR-3158-3p', 'hsa-miR-3159', 'hsa-miR-3160-3p', 'hsa-miR-3161', 'hsa-miR-3162-5p', 'hsa-miR-3163', 'hsa-miR-3164', 'hsa-miR-3165', 'hsa-miR-3166', 'hsa-miR-1260b', 'hsa-miR-3167', 'hsa-miR-3168', 'hsa-miR-3169', 'hsa-miR-3170', 'hsa-miR-3171', 'hsa-miR-3173-3p', 'hsa-miR-1193', 'hsa-miR-323b-3p', 'hsa-miR-3174', 'hsa-miR-3175', 'hsa-miR-3176', 'hsa-miR-3177-3p', 'hsa-miR-3178', 'hsa-miR-3179', 'hsa-miR-3180-5p', 'hsa-miR-3180-3p', 'hsa-miR-548w', 'hsa-miR-3181', 'hsa-miR-3182', 'hsa-miR-3183', 'hsa-miR-3184-5p', 'hsa-miR-3185', 'hsa-miR-3065-5p', 'hsa-miR-3186-5p', 'hsa-miR-3186-3p', 'hsa-miR-3187-3p', 'hsa-miR-3188', 'hsa-miR-3189-3p', 'hsa-miR-320e', 'hsa-miR-3190-5p', 'hsa-miR-3191-3p', 'hsa-miR-3192-5p', 'hsa-miR-3193', 'hsa-miR-3194-5p', 'hsa-miR-3195', 'hsa-miR-3196', 'hsa-miR-548x-3p', 'hsa-miR-3197', 'hsa-miR-3198', 'hsa-miR-3199', 'hsa-miR-3200-3p', 'hsa-miR-3201', 'hsa-miR-514b-5p', 'hsa-miR-514b-3p', 'hsa-miR-3202', 'hsa-miR-1273d', 'hsa-miR-3126-3p', 'hsa-miR-3065-3p', 'hsa-miR-4295', 'hsa-miR-4296', 'hsa-miR-4297', 'hsa-miR-378c', 'hsa-miR-4293', 'hsa-miR-4294', 'hsa-miR-4301', 'hsa-miR-4299', 'hsa-miR-4298', 'hsa-miR-4300', 'hsa-miR-4304', 'hsa-miR-4302', 'hsa-miR-4303', 'hsa-miR-4305', 'hsa-miR-4306', 'hsa-miR-4309', 'hsa-miR-4307', 'hsa-miR-4308', 'hsa-miR-4310', 'hsa-miR-4311', 'hsa-miR-4312', 'hsa-miR-4313', 'hsa-miR-4315', 'hsa-miR-4316', 'hsa-miR-4314', 'hsa-miR-4318', 'hsa-miR-4319', 'hsa-miR-4320', 'hsa-miR-4317', 'hsa-miR-4322', 'hsa-miR-4321', 'hsa-miR-4323', 'hsa-miR-4324', 'hsa-miR-4256', 'hsa-miR-4257', 'hsa-miR-4258', 'hsa-miR-4259', 'hsa-miR-4260', 'hsa-miR-4253', 'hsa-miR-4251', 'hsa-miR-4254', 'hsa-miR-4255', 'hsa-miR-4252', 'hsa-miR-4325', 'hsa-miR-4326', 'hsa-miR-4327', 'hsa-miR-4261', 'hsa-miR-4265', 'hsa-miR-4266', 'hsa-miR-4267', 'hsa-miR-4262', 'hsa-miR-2355-5p', 'hsa-miR-4268', 'hsa-miR-4269', 'hsa-miR-4263', 'hsa-miR-4264', 'hsa-miR-4270', 'hsa-miR-4271', 'hsa-miR-4272', 'hsa-miR-4273', 'hsa-miR-4276', 'hsa-miR-4275', 'hsa-miR-4274', 'hsa-miR-4281', 'hsa-miR-4277', 'hsa-miR-4279', 'hsa-miR-4278', 'hsa-miR-4280', 'hsa-miR-4282', 'hsa-miR-4285', 'hsa-miR-4283', 'hsa-miR-4284', 'hsa-miR-4286', 'hsa-miR-4287', 'hsa-miR-4288', 'hsa-miR-4292', 'hsa-miR-4289', 'hsa-miR-4290', 'hsa-miR-4291', 'hsa-miR-4329', 'hsa-miR-4330', 'hsa-miR-500b-5p', 'hsa-miR-4328', 'hsa-miR-2277-5p', 'hsa-miR-3200-5p', 'hsa-miR-2355-3p', 'hsa-miR-3605-5p', 'hsa-miR-3605-3p', 'hsa-miR-3606-5p', 'hsa-miR-3607-5p', 'hsa-miR-3607-3p', 'hsa-miR-3609', 'hsa-miR-3610', 'hsa-miR-3611', 'hsa-miR-3612', 'hsa-miR-3613-5p', 'hsa-miR-3613-3p', 'hsa-miR-3614-5p', 'hsa-miR-3614-3p', 'hsa-miR-3615', 'hsa-miR-3616-5p', 'hsa-miR-3616-3p', 'hsa-miR-3617-5p', 'hsa-miR-3618', 'hsa-miR-3619-5p', 'hsa-miR-23c', 'hsa-miR-3620-3p', 'hsa-miR-3621', 'hsa-miR-3622a-5p', 'hsa-miR-3622a-3p', 'hsa-miR-3622b-5p', 'hsa-miR-3622b-3p', 'hsa-miR-3646', 'hsa-miR-3648', 'hsa-miR-3649', 'hsa-miR-3650', 'hsa-miR-3651', 'hsa-miR-3652', 'hsa-miR-3653-3p', 'hsa-miR-3654', 'hsa-miR-3655', 'hsa-miR-3656', 'hsa-miR-3657', 'hsa-miR-3658', 'hsa-miR-1273e', 'hsa-miR-3659', 'hsa-miR-3660', 'hsa-miR-3661', 'hsa-miR-3662', 'hsa-miR-3663-5p', 'hsa-miR-3663-3p', 'hsa-miR-3664-5p', 'hsa-miR-3665', 'hsa-miR-3666', 'hsa-miR-3667-5p', 'hsa-miR-3667-3p', 'hsa-miR-3668', 'hsa-miR-3670', 'hsa-miR-3671', 'hsa-miR-3672', 'hsa-miR-3674', 'hsa-miR-3675-5p', 'hsa-miR-3675-3p', 'hsa-miR-3677-3p', 'hsa-miR-3678-5p', 'hsa-miR-3678-3p', 'hsa-miR-3679-5p', 'hsa-miR-3679-3p', 'hsa-miR-3680-5p', 'hsa-miR-3680-3p', 'hsa-miR-3681-5p', 'hsa-miR-3681-3p', 'hsa-miR-3682-3p', 'hsa-miR-3683', 'hsa-miR-3684', 'hsa-miR-3685', 'hsa-miR-3686', 'hsa-miR-3687', 'hsa-miR-3688-3p', 'hsa-miR-3689a-5p', 'hsa-miR-3689a-3p', 'hsa-miR-3690', 'hsa-miR-3691-5p', 'hsa-miR-3692-5p', 'hsa-miR-3692-3p', 'hsa-miR-3713', 'hsa-miR-3714', 'hsa-miR-3180', 'hsa-miR-3907', 'hsa-miR-3689b-5p', 'hsa-miR-3689b-3p', 'hsa-miR-3908', 'hsa-miR-3909', 'hsa-miR-3910', 'hsa-miR-3911', 'hsa-miR-3912-3p', 'hsa-miR-3913-5p', 'hsa-miR-3914', 'hsa-miR-3915', 'hsa-miR-3916', 'hsa-miR-3917', 'hsa-miR-3918', 'hsa-miR-3919', 'hsa-miR-3150b-3p', 'hsa-miR-3920', 'hsa-miR-3921', 'hsa-miR-3922-3p', 'hsa-miR-3923', 'hsa-miR-3924', 'hsa-miR-3925-5p', 'hsa-miR-3926', 'hsa-miR-3927-3p', 'hsa-miR-676-5p', 'hsa-miR-676-3p', 'hsa-miR-3928-3p', 'hsa-miR-3929', 'hsa-miR-3934-5p', 'hsa-miR-3935', 'hsa-miR-3936', 'hsa-miR-3937', 'hsa-miR-3938', 'hsa-miR-548y', 'hsa-miR-3939', 'hsa-miR-3940-3p', 'hsa-miR-3941', 'hsa-miR-3942-5p', 'hsa-miR-3943', 'hsa-miR-3944-3p', 'hsa-miR-3945', 'hsa-miR-374c-5p', 'hsa-miR-642b-3p', 'hsa-miR-550b-3p', 'hsa-miR-548z', 'hsa-miR-548aa', 'hsa-miR-1268b', 'hsa-miR-378d', 'hsa-miR-378e', 'hsa-miR-548ab', 'hsa-miR-4417', 'hsa-miR-4418', 'hsa-miR-4419a', 'hsa-miR-378f', 'hsa-miR-4420', 'hsa-miR-4421', 'hsa-miR-4422', 'hsa-miR-4423-3p', 'hsa-miR-378g', 'hsa-miR-548ac', 'hsa-miR-4424', 'hsa-miR-4425', 'hsa-miR-4426', 'hsa-miR-4427', 'hsa-miR-4428', 'hsa-miR-4429', 'hsa-miR-4430', 'hsa-miR-548ad-3p', 'hsa-miR-4431', 'hsa-miR-4432', 'hsa-miR-4433a-3p', 'hsa-miR-4434', 'hsa-miR-4435', 'hsa-miR-4436a', 'hsa-miR-4437', 'hsa-miR-548ae-3p', 'hsa-miR-4438', 'hsa-miR-4439', 'hsa-miR-4440', 'hsa-miR-4441', 'hsa-miR-4442', 'hsa-miR-4443', 'hsa-miR-4444', 'hsa-miR-4445-5p', 'hsa-miR-4445-3p', 'hsa-miR-4446-3p', 'hsa-miR-4447', 'hsa-miR-4448', 'hsa-miR-4449', 'hsa-miR-548ag', 'hsa-miR-4450', 'hsa-miR-548ah-5p', 'hsa-miR-4451', 'hsa-miR-4452', 'hsa-miR-4453', 'hsa-miR-4454', 'hsa-miR-4455', 'hsa-miR-4456', 'hsa-miR-4457', 'hsa-miR-4458', 'hsa-miR-4459', 'hsa-miR-4460', 'hsa-miR-4461', 'hsa-miR-378h', 'hsa-miR-3135b', 'hsa-miR-4462', 'hsa-miR-4463', 'hsa-miR-4464', 'hsa-miR-548ai', 'hsa-miR-548aj-3p', 'hsa-miR-4465', 'hsa-miR-4466', 'hsa-miR-4467', 'hsa-miR-4468', 'hsa-miR-4469', 'hsa-miR-4470', 'hsa-miR-4471', 'hsa-miR-4472', 'hsa-miR-4473', 'hsa-miR-4474-3p', 'hsa-miR-4475', 'hsa-miR-4476', 'hsa-miR-4477a', 'hsa-miR-4477b', 'hsa-miR-4478', 'hsa-miR-3689c', 'hsa-miR-3689d', 'hsa-miR-3689e', 'hsa-miR-3689f', 'hsa-miR-4479', 'hsa-miR-3155b', 'hsa-miR-548ak', 'hsa-miR-4480', 'hsa-miR-4481', 'hsa-miR-4482-5p', 'hsa-miR-4483', 'hsa-miR-4484', 'hsa-miR-4485-3p', 'hsa-miR-4486', 'hsa-miR-4487', 'hsa-miR-4488', 'hsa-miR-4489', 'hsa-miR-548al', 'hsa-miR-4490', 'hsa-miR-4491', 'hsa-miR-4492', 'hsa-miR-4493', 'hsa-miR-4494', 'hsa-miR-4495', 'hsa-miR-4496', 'hsa-miR-4497', 'hsa-miR-4498', 'hsa-miR-4419b', 'hsa-miR-4499', 'hsa-miR-4500', 'hsa-miR-4501', 'hsa-miR-4502', 'hsa-miR-4503', 'hsa-miR-4504', 'hsa-miR-4505', 'hsa-miR-4506', 'hsa-miR-2392', 'hsa-miR-4507', 'hsa-miR-4508', 'hsa-miR-4509', 'hsa-miR-4510', 'hsa-miR-4511', 'hsa-miR-4512', 'hsa-miR-4513', 'hsa-miR-4514', 'hsa-miR-4515', 'hsa-miR-4516', 'hsa-miR-4517', 'hsa-miR-4518', 'hsa-miR-4519', 'hsa-miR-4520-3p', 'hsa-miR-4521', 'hsa-miR-1269b', 'hsa-miR-4522', 'hsa-miR-4523', 'hsa-miR-4524a-5p', 'hsa-miR-4524a-3p', 'hsa-miR-4525', 'hsa-miR-4526', 'hsa-miR-4527', 'hsa-miR-4528', 'hsa-miR-4529-3p', 'hsa-miR-4530', 'hsa-miR-4531', 'hsa-miR-4532', 'hsa-miR-4533', 'hsa-miR-4534', 'hsa-miR-378i', 'hsa-miR-4535', 'hsa-miR-548am-3p', 'hsa-miR-1587', 'hsa-miR-4536-5p', 'hsa-miR-548an', 'hsa-miR-4537', 'hsa-miR-4538', 'hsa-miR-4539', 'hsa-miR-4540', 'hsa-miR-3117-5p', 'hsa-miR-3120-5p', 'hsa-miR-3121-5p', 'hsa-miR-3124-3p', 'hsa-miR-3127-3p', 'hsa-miR-3129-3p', 'hsa-miR-3136-3p', 'hsa-miR-3140-5p', 'hsa-miR-3145-5p', 'hsa-miR-3150a-5p', 'hsa-miR-3152-5p', 'hsa-miR-3074-5p', 'hsa-miR-3156-3p', 'hsa-miR-3157-3p', 'hsa-miR-3158-5p', 'hsa-miR-3160-5p', 'hsa-miR-3162-3p', 'hsa-miR-3173-5p', 'hsa-miR-3177-5p', 'hsa-miR-3187-5p', 'hsa-miR-3189-5p', 'hsa-miR-3194-3p', 'hsa-miR-3619-3p', 'hsa-miR-3664-3p', 'hsa-miR-3677-5p', 'hsa-miR-3682-5p', 'hsa-miR-3688-5p', 'hsa-miR-3691-3p', 'hsa-miR-3913-3p', 'hsa-miR-3150b-5p', 'hsa-miR-3922-5p', 'hsa-miR-3925-3p', 'hsa-miR-3940-5p', 'hsa-miR-3942-3p', 'hsa-miR-3944-5p', 'hsa-miR-4423-5p', 'hsa-miR-4446-5p', 'hsa-miR-4474-5p', 'hsa-miR-4520-5p', 'hsa-miR-4529-5p', 'hsa-miR-3960', 'hsa-miR-3972', 'hsa-miR-3973', 'hsa-miR-3974', 'hsa-miR-3975', 'hsa-miR-3976', 'hsa-miR-3977', 'hsa-miR-3978', 'hsa-miR-4632-3p', 'hsa-miR-4633-5p', 'hsa-miR-4633-3p', 'hsa-miR-4634', 'hsa-miR-4635', 'hsa-miR-4636', 'hsa-miR-4637', 'hsa-miR-4638-5p', 'hsa-miR-4638-3p', 'hsa-miR-4639-5p', 'hsa-miR-4639-3p', 'hsa-miR-4640-5p', 'hsa-miR-4640-3p', 'hsa-miR-4641', 'hsa-miR-4642', 'hsa-miR-4643', 'hsa-miR-4644', 'hsa-miR-4645-5p', 'hsa-miR-4645-3p', 'hsa-miR-4646-5p', 'hsa-miR-4646-3p', 'hsa-miR-4647', 'hsa-miR-4648', 'hsa-miR-4649-5p', 'hsa-miR-4649-3p', 'hsa-miR-4650-5p', 'hsa-miR-4650-3p', 'hsa-miR-4651', 'hsa-miR-4652-5p', 'hsa-miR-4652-3p', 'hsa-miR-4653-5p', 'hsa-miR-4653-3p', 'hsa-miR-4654', 'hsa-miR-4655-5p', 'hsa-miR-4655-3p', 'hsa-miR-4656', 'hsa-miR-4657', 'hsa-miR-4658', 'hsa-miR-4659a-5p', 'hsa-miR-4659a-3p', 'hsa-miR-4660', 'hsa-miR-4661-5p', 'hsa-miR-4661-3p', 'hsa-miR-4662a-5p', 'hsa-miR-4662a-3p', 'hsa-miR-4659b-5p', 'hsa-miR-4659b-3p', 'hsa-miR-4663', 'hsa-miR-4662b', 'hsa-miR-4664-5p', 'hsa-miR-4664-3p', 'hsa-miR-4665-5p', 'hsa-miR-4665-3p', 'hsa-miR-4666a-5p', 'hsa-miR-4666a-3p', 'hsa-miR-4667-5p', 'hsa-miR-4667-3p', 'hsa-miR-4668-5p', 'hsa-miR-4668-3p', 'hsa-miR-219b-5p', 'hsa-miR-219b-3p', 'hsa-miR-4669', 'hsa-miR-4670-5p', 'hsa-miR-4670-3p', 'hsa-miR-4671-5p', 'hsa-miR-4671-3p', 'hsa-miR-4672', 'hsa-miR-4673', 'hsa-miR-4674', 'hsa-miR-4675', 'hsa-miR-4676-5p', 'hsa-miR-4676-3p', 'hsa-miR-4677-5p', 'hsa-miR-4677-3p', 'hsa-miR-4678', 'hsa-miR-4679', 'hsa-miR-4680-5p', 'hsa-miR-4680-3p', 'hsa-miR-4681', 'hsa-miR-4682', 'hsa-miR-4683', 'hsa-miR-4684-5p', 'hsa-miR-4684-3p', 'hsa-miR-4685-5p', 'hsa-miR-4685-3p', 'hsa-miR-4686', 'hsa-miR-4687-5p', 'hsa-miR-4687-3p', 'hsa-miR-1343-3p', 'hsa-miR-4688', 'hsa-miR-4689', 'hsa-miR-4690-5p', 'hsa-miR-4690-3p', 'hsa-miR-4691-5p', 'hsa-miR-4691-3p', 'hsa-miR-4692', 'hsa-miR-4693-5p', 'hsa-miR-4693-3p', 'hsa-miR-4694-5p', 'hsa-miR-4694-3p', 'hsa-miR-4695-5p', 'hsa-miR-4695-3p', 'hsa-miR-4696', 'hsa-miR-4697-5p', 'hsa-miR-4697-3p', 'hsa-miR-4698', 'hsa-miR-4699-5p', 'hsa-miR-4699-3p', 'hsa-miR-4700-5p', 'hsa-miR-4700-3p', 'hsa-miR-4701-5p', 'hsa-miR-4701-3p', 'hsa-miR-4703-5p', 'hsa-miR-4703-3p', 'hsa-miR-4704-5p', 'hsa-miR-4704-3p', 'hsa-miR-4705', 'hsa-miR-4706', 'hsa-miR-4707-5p', 'hsa-miR-4707-3p', 'hsa-miR-4708-5p', 'hsa-miR-4708-3p', 'hsa-miR-4709-5p', 'hsa-miR-4709-3p', 'hsa-miR-203b-5p', 'hsa-miR-203b-3p', 'hsa-miR-4710', 'hsa-miR-4711-5p', 'hsa-miR-4711-3p', 'hsa-miR-4712-5p', 'hsa-miR-4712-3p', 'hsa-miR-4713-5p', 'hsa-miR-4713-3p', 'hsa-miR-4714-5p', 'hsa-miR-4714-3p', 'hsa-miR-4715-5p', 'hsa-miR-4715-3p', 'hsa-miR-4716-5p', 'hsa-miR-4716-3p', 'hsa-miR-3529-5p', 'hsa-miR-4717-5p', 'hsa-miR-4717-3p', 'hsa-miR-4718', 'hsa-miR-4719', 'hsa-miR-4720-5p', 'hsa-miR-4720-3p', 'hsa-miR-4721', 'hsa-miR-4722-5p', 'hsa-miR-4722-3p', 'hsa-miR-4723-5p', 'hsa-miR-4723-3p', 'hsa-miR-451b', 'hsa-miR-4724-5p', 'hsa-miR-4724-3p', 'hsa-miR-4725-5p', 'hsa-miR-4725-3p', 'hsa-miR-4726-5p', 'hsa-miR-4726-3p', 'hsa-miR-4727-5p', 'hsa-miR-4727-3p', 'hsa-miR-4728-5p', 'hsa-miR-4728-3p', 'hsa-miR-4729', 'hsa-miR-4730', 'hsa-miR-4731-5p', 'hsa-miR-4731-3p', 'hsa-miR-4732-5p', 'hsa-miR-4732-3p', 'hsa-miR-4733-5p', 'hsa-miR-4733-3p', 'hsa-miR-4734', 'hsa-miR-4735-5p', 'hsa-miR-4735-3p', 'hsa-miR-4736', 'hsa-miR-4737', 'hsa-miR-3064-5p', 'hsa-miR-3064-3p', 'hsa-miR-4738-5p', 'hsa-miR-4738-3p', 'hsa-miR-4739', 'hsa-miR-4740-5p', 'hsa-miR-4740-3p', 'hsa-miR-4741', 'hsa-miR-4742-5p', 'hsa-miR-4742-3p', 'hsa-miR-4743-5p', 'hsa-miR-4744', 'hsa-miR-3591-5p', 'hsa-miR-3591-3p', 'hsa-miR-4745-5p', 'hsa-miR-4745-3p', 'hsa-miR-4746-5p', 'hsa-miR-4746-3p', 'hsa-miR-4747-5p', 'hsa-miR-4747-3p', 'hsa-miR-4748', 'hsa-miR-4749-5p', 'hsa-miR-4749-3p', 'hsa-miR-4750-5p', 'hsa-miR-4751', 'hsa-miR-4752', 'hsa-miR-4753-5p', 'hsa-miR-4753-3p', 'hsa-miR-371b-5p', 'hsa-miR-371b-3p', 'hsa-miR-4754', 'hsa-miR-4755-5p', 'hsa-miR-4755-3p', 'hsa-miR-499b-5p', 'hsa-miR-499b-3p', 'hsa-miR-4756-5p', 'hsa-miR-4756-3p', 'hsa-miR-4757-5p', 'hsa-miR-4757-3p', 'hsa-miR-4758-5p', 'hsa-miR-4758-3p', 'hsa-miR-4759', 'hsa-miR-4760-5p', 'hsa-miR-4760-3p', 'hsa-miR-4761-5p', 'hsa-miR-4761-3p', 'hsa-miR-4762-5p', 'hsa-miR-4762-3p', 'hsa-miR-4763-5p', 'hsa-miR-4763-3p', 'hsa-miR-4764-5p', 'hsa-miR-4764-3p', 'hsa-miR-4765', 'hsa-miR-4766-5p', 'hsa-miR-4766-3p', 'hsa-miR-4767', 'hsa-miR-4768-5p', 'hsa-miR-4768-3p', 'hsa-miR-4769-5p', 'hsa-miR-4769-3p', 'hsa-miR-4770', 'hsa-miR-4771', 'hsa-miR-4772-5p', 'hsa-miR-4772-3p', 'hsa-miR-4773', 'hsa-miR-4774-5p', 'hsa-miR-4774-3p', 'hsa-miR-4775', 'hsa-miR-4776-5p', 'hsa-miR-4776-3p', 'hsa-miR-4777-5p', 'hsa-miR-4777-3p', 'hsa-miR-4778-5p', 'hsa-miR-4778-3p', 'hsa-miR-4779', 'hsa-miR-4780', 'hsa-miR-4436b-5p', 'hsa-miR-4436b-3p', 'hsa-miR-4781-5p', 'hsa-miR-4781-3p', 'hsa-miR-4782-5p', 'hsa-miR-4782-3p', 'hsa-miR-4783-5p', 'hsa-miR-4783-3p', 'hsa-miR-4784', 'hsa-miR-4785', 'hsa-miR-1245b-5p', 'hsa-miR-1245b-3p', 'hsa-miR-2467-5p', 'hsa-miR-2467-3p', 'hsa-miR-4786-5p', 'hsa-miR-4786-3p', 'hsa-miR-4787-5p', 'hsa-miR-4787-3p', 'hsa-miR-4788', 'hsa-miR-4789-5p', 'hsa-miR-4789-3p', 'hsa-miR-4790-5p', 'hsa-miR-4790-3p', 'hsa-miR-4791', 'hsa-miR-4792', 'hsa-miR-4793-5p', 'hsa-miR-4793-3p', 'hsa-miR-4794', 'hsa-miR-4795-5p', 'hsa-miR-4795-3p', 'hsa-miR-4796-5p', 'hsa-miR-4796-3p', 'hsa-miR-4797-5p', 'hsa-miR-4797-3p', 'hsa-miR-4798-5p', 'hsa-miR-4798-3p', 'hsa-miR-4799-5p', 'hsa-miR-4799-3p', 'hsa-miR-4800-5p', 'hsa-miR-4800-3p', 'hsa-miR-4801', 'hsa-miR-4802-5p', 'hsa-miR-4802-3p', 'hsa-miR-4803', 'hsa-miR-4804-5p', 'hsa-miR-4804-3p', 'hsa-miR-4520-2-3p', 'hsa-miR-5047', 'hsa-miR-5095', 'hsa-miR-1273f', 'hsa-miR-1273g-5p', 'hsa-miR-5096', 'hsa-miR-642a-3p', 'hsa-miR-550a-3-5p', 'hsa-miR-4433a-5p', 'hsa-miR-548ah-3p', 'hsa-miR-4482-3p', 'hsa-miR-4536-3p', 'hsa-miR-4999-5p', 'hsa-miR-4999-3p', 'hsa-miR-5000-5p', 'hsa-miR-5000-3p', 'hsa-miR-5001-5p', 'hsa-miR-5001-3p', 'hsa-miR-5002-5p', 'hsa-miR-5002-3p', 'hsa-miR-5003-5p', 'hsa-miR-5003-3p', 'hsa-miR-5004-5p', 'hsa-miR-5004-3p', 'hsa-miR-548ao-5p', 'hsa-miR-548ao-3p', 'hsa-miR-5006-5p', 'hsa-miR-5006-3p', 'hsa-miR-5007-5p', 'hsa-miR-5007-3p', 'hsa-miR-548ap-5p', 'hsa-miR-548ap-3p', 'hsa-miR-5008-5p', 'hsa-miR-5008-3p', 'hsa-miR-5009-5p', 'hsa-miR-5009-3p', 'hsa-miR-5010-5p', 'hsa-miR-5010-3p', 'hsa-miR-5011-5p', 'hsa-miR-5011-3p', 'hsa-miR-5087', 'hsa-miR-5088-5p', 'hsa-miR-5089-5p', 'hsa-miR-5090', 'hsa-miR-5091', 'hsa-miR-5092', 'hsa-miR-5093', 'hsa-miR-5094', 'hsa-miR-5186', 'hsa-miR-5187-5p', 'hsa-miR-5187-3p', 'hsa-miR-5188', 'hsa-miR-5189-5p', 'hsa-miR-5190', 'hsa-miR-5191', 'hsa-miR-5192', 'hsa-miR-5193', 'hsa-miR-5194', 'hsa-miR-5195-5p', 'hsa-miR-5195-3p', 'hsa-miR-5196-5p', 'hsa-miR-5196-3p', 'hsa-miR-5197-5p', 'hsa-miR-5197-3p', 'hsa-miR-4524b-5p', 'hsa-miR-4524b-3p', 'hsa-miR-5571-5p', 'hsa-miR-5571-3p', 'hsa-miR-5572', 'hsa-miR-548aq-5p', 'hsa-miR-548aq-3p', 'hsa-miR-548ar-5p', 'hsa-miR-548ar-3p', 'hsa-miR-548as-5p', 'hsa-miR-548as-3p', 'hsa-miR-5579-5p', 'hsa-miR-5579-3p', 'hsa-miR-664b-5p', 'hsa-miR-664b-3p', 'hsa-miR-5580-5p', 'hsa-miR-5580-3p', 'hsa-miR-5581-5p', 'hsa-miR-5581-3p', 'hsa-miR-548at-5p', 'hsa-miR-548at-3p', 'hsa-miR-5582-5p', 'hsa-miR-5582-3p', 'hsa-miR-5583-5p', 'hsa-miR-5583-3p', 'hsa-miR-5584-5p', 'hsa-miR-5584-3p', 'hsa-miR-5585-5p', 'hsa-miR-5585-3p', 'hsa-miR-5586-5p', 'hsa-miR-5586-3p', 'hsa-miR-5587-5p', 'hsa-miR-5587-3p', 'hsa-miR-548au-5p', 'hsa-miR-548au-3p', 'hsa-miR-1295b-5p', 'hsa-miR-1295b-3p', 'hsa-miR-5588-5p', 'hsa-miR-5588-3p', 'hsa-miR-5589-5p', 'hsa-miR-5589-3p', 'hsa-miR-5590-5p', 'hsa-miR-5590-3p', 'hsa-miR-5591-5p', 'hsa-miR-5591-3p', 'hsa-miR-548av-5p', 'hsa-miR-548av-3p', 'hsa-miR-5680', 'hsa-miR-5681a', 'hsa-miR-5682', 'hsa-miR-548aw', 'hsa-miR-5683', 'hsa-miR-5684', 'hsa-miR-548ax', 'hsa-miR-5685', 'hsa-miR-5692c', 'hsa-miR-5687', 'hsa-miR-5688', 'hsa-miR-5681b', 'hsa-miR-5689', 'hsa-miR-5690', 'hsa-miR-5691', 'hsa-miR-5692a', 'hsa-miR-4666b', 'hsa-miR-5693', 'hsa-miR-5694', 'hsa-miR-5695', 'hsa-miR-5696', 'hsa-miR-5697', 'hsa-miR-5698', 'hsa-miR-5699-3p', 'hsa-miR-5700', 'hsa-miR-5701', 'hsa-miR-5702', 'hsa-miR-5703', 'hsa-miR-5692b', 'hsa-miR-5704', 'hsa-miR-5705', 'hsa-miR-5706', 'hsa-miR-5707', 'hsa-miR-5708', 'hsa-miR-197-5p', 'hsa-miR-181b-3p', 'hsa-miR-204-3p', 'hsa-miR-211-3p', 'hsa-miR-212-5p', 'hsa-miR-301a-5p', 'hsa-miR-382-3p', 'hsa-miR-345-3p', 'hsa-miR-450a-1-3p', 'hsa-miR-506-5p', 'hsa-miR-514a-5p', 'hsa-miR-539-3p', 'hsa-miR-561-5p', 'hsa-miR-570-5p', 'hsa-miR-584-3p', 'hsa-miR-652-5p', 'hsa-miR-659-5p', 'hsa-miR-660-3p', 'hsa-miR-1271-3p', 'hsa-miR-1185-2-3p', 'hsa-miR-766-5p', 'hsa-miR-873-3p', 'hsa-miR-1285-5p', 'hsa-miR-1304-3p', 'hsa-miR-1247-3p', 'hsa-miR-548g-5p', 'hsa-miR-548h-3p', 'hsa-miR-1277-5p', 'hsa-miR-1255b-2-3p', 'hsa-miR-1306-5p', 'hsa-miR-1307-5p', 'hsa-miR-513c-3p', 'hsa-miR-548t-3p', 'hsa-miR-3184-3p', 'hsa-miR-3191-5p', 'hsa-miR-548x-5p', 'hsa-miR-374c-3p', 'hsa-miR-642b-5p', 'hsa-miR-550b-2-5p', 'hsa-miR-548o-5p', 'hsa-miR-548aj-5p', 'hsa-miR-548am-5p', 'hsa-miR-3529-3p', 'hsa-miR-1273g-3p', 'hsa-miR-365b-5p', 'hsa-miR-365b-3p', 'hsa-miR-1185-1-3p', 'hsa-miR-3190-3p', 'hsa-miR-98-3p', 'hsa-miR-216a-3p', 'hsa-miR-376c-5p', 'hsa-miR-381-5p', 'hsa-miR-376b-5p', 'hsa-miR-495-5p', 'hsa-miR-503-3p', 'hsa-miR-376a-2-5p', 'hsa-miR-758-5p', 'hsa-miR-937-5p', 'hsa-miR-939-3p', 'hsa-miR-1178-5p', 'hsa-miR-1227-5p', 'hsa-miR-1229-5p', 'hsa-miR-1233-5p', 'hsa-miR-1236-5p', 'hsa-miR-1237-5p', 'hsa-miR-1238-5p', 'hsa-miR-1292-3p', 'hsa-miR-3606-3p', 'hsa-miR-3617-3p', 'hsa-miR-3620-5p', 'hsa-miR-3927-5p', 'hsa-miR-3934-3p', 'hsa-miR-4632-5p', 'hsa-miR-4743-3p', 'hsa-miR-4750-3p', 'hsa-miR-5089-3p', 'hsa-miR-5739', 'hsa-miR-5787', 'hsa-miR-6068', 'hsa-miR-6069', 'hsa-miR-6070', 'hsa-miR-6071', 'hsa-miR-6072', 'hsa-miR-6073', 'hsa-miR-6074', 'hsa-miR-6075', 'hsa-miR-6076', 'hsa-miR-6077', 'hsa-miR-6078', 'hsa-miR-6079', 'hsa-miR-6080', 'hsa-miR-6081', 'hsa-miR-6082', 'hsa-miR-6083', 'hsa-miR-6084', 'hsa-miR-6085', 'hsa-miR-6086', 'hsa-miR-6087', 'hsa-miR-6088', 'hsa-miR-6089', 'hsa-miR-6090', 'hsa-miR-6124', 'hsa-miR-6125', 'hsa-miR-6126', 'hsa-miR-6127', 'hsa-miR-6128', 'hsa-miR-378j', 'hsa-miR-6129', 'hsa-miR-6130', 'hsa-miR-6131', 'hsa-miR-6132', 'hsa-miR-6133', 'hsa-miR-6134', 'hsa-miR-6165', 'hsa-miR-6499-5p', 'hsa-miR-6499-3p', 'hsa-miR-548ay-5p', 'hsa-miR-548ay-3p', 'hsa-miR-6500-5p', 'hsa-miR-6500-3p', 'hsa-miR-548az-5p', 'hsa-miR-548az-3p', 'hsa-miR-6501-5p', 'hsa-miR-6501-3p', 'hsa-miR-6502-5p', 'hsa-miR-6502-3p', 'hsa-miR-6503-5p', 'hsa-miR-6503-3p', 'hsa-miR-6504-5p', 'hsa-miR-6504-3p', 'hsa-miR-6505-5p', 'hsa-miR-6505-3p', 'hsa-miR-6506-5p', 'hsa-miR-6506-3p', 'hsa-miR-6507-5p', 'hsa-miR-6507-3p', 'hsa-miR-6508-5p', 'hsa-miR-6508-3p', 'hsa-miR-6509-5p', 'hsa-miR-6509-3p', 'hsa-miR-6510-5p', 'hsa-miR-6510-3p', 'hsa-miR-6511a-5p', 'hsa-miR-6511a-3p', 'hsa-miR-6512-5p', 'hsa-miR-6512-3p', 'hsa-miR-6513-5p', 'hsa-miR-6513-3p', 'hsa-miR-6514-5p', 'hsa-miR-6514-3p', 'hsa-miR-6515-5p', 'hsa-miR-6515-3p', 'hsa-miR-6715a-3p', 'hsa-miR-6715b-5p', 'hsa-miR-6715b-3p', 'hsa-miR-6716-5p', 'hsa-miR-6716-3p', 'hsa-miR-6717-5p', 'hsa-miR-6511b-5p', 'hsa-miR-6511b-3p', 'hsa-miR-6718-5p', 'hsa-miR-6719-3p', 'hsa-miR-6720-3p', 'hsa-miR-6721-5p', 'hsa-miR-6722-5p', 'hsa-miR-6722-3p', 'hsa-miR-6723-5p', 'hsa-miR-6724-5p', 'hsa-miR-892c-5p', 'hsa-miR-892c-3p', 'hsa-let-7c-3p', 'hsa-miR-95-5p', 'hsa-miR-208a-5p', 'hsa-miR-210-5p', 'hsa-miR-215-3p', 'hsa-miR-128-1-5p', 'hsa-miR-133a-5p', 'hsa-miR-152-5p', 'hsa-miR-153-5p', 'hsa-miR-134-3p', 'hsa-miR-190a-3p', 'hsa-miR-370-5p', 'hsa-miR-372-5p', 'hsa-miR-383-3p', 'hsa-miR-328-5p', 'hsa-miR-433-5p', 'hsa-miR-329-5p', 'hsa-miR-412-5p', 'hsa-miR-410-5p', 'hsa-miR-487a-5p', 'hsa-miR-489-5p', 'hsa-miR-511-3p', 'hsa-miR-494-5p', 'hsa-miR-181d-3p', 'hsa-miR-520f-5p', 'hsa-miR-519d-5p', 'hsa-miR-520g-5p', 'hsa-miR-504-3p', 'hsa-miR-510-3p', 'hsa-miR-487b-5p', 'hsa-miR-552-5p', 'hsa-miR-579-5p', 'hsa-miR-580-5p', 'hsa-miR-585-5p', 'hsa-miR-597-3p', 'hsa-miR-598-5p', 'hsa-miR-605-3p', 'hsa-miR-619-5p', 'hsa-miR-627-3p', 'hsa-miR-651-3p', 'hsa-miR-653-3p', 'hsa-miR-655-5p', 'hsa-miR-656-5p', 'hsa-miR-668-5p', 'hsa-miR-1296-3p', 'hsa-miR-1468-3p', 'hsa-miR-1301-5p', 'hsa-miR-670-3p', 'hsa-miR-1298-3p', 'hsa-miR-891a-3p', 'hsa-miR-874-5p', 'hsa-miR-889-5p', 'hsa-miR-887-5p', 'hsa-miR-216b-3p', 'hsa-miR-208b-5p', 'hsa-miR-942-3p', 'hsa-miR-1180-5p', 'hsa-miR-548e-5p', 'hsa-miR-548j-3p', 'hsa-miR-1287-3p', 'hsa-miR-548f-5p', 'hsa-miR-1250-3p', 'hsa-miR-1251-3p', 'hsa-miR-1266-3p', 'hsa-miR-1288-5p', 'hsa-miR-1252-3p', 'hsa-miR-513b-3p', 'hsa-miR-1537-5p', 'hsa-miR-1908-3p', 'hsa-miR-1910-3p', 'hsa-miR-2276-5p', 'hsa-miR-3151-3p', 'hsa-miR-3192-3p', 'hsa-miR-500b-3p', 'hsa-miR-3912-5p', 'hsa-miR-3928-5p', 'hsa-miR-1343-5p', 'hsa-miR-5088-3p', 'hsa-miR-5189-3p', 'hsa-miR-5699-5p', 'hsa-miR-6720-5p', 'hsa-miR-6726-5p', 'hsa-miR-6726-3p', 'hsa-miR-6727-5p', 'hsa-miR-6727-3p', 'hsa-miR-6728-5p', 'hsa-miR-6728-3p', 'hsa-miR-6729-5p', 'hsa-miR-6729-3p', 'hsa-miR-6730-5p', 'hsa-miR-6730-3p', 'hsa-miR-6731-5p', 'hsa-miR-6731-3p', 'hsa-miR-6732-5p', 'hsa-miR-6732-3p', 'hsa-miR-6733-5p', 'hsa-miR-6733-3p', 'hsa-miR-6734-5p', 'hsa-miR-6734-3p', 'hsa-miR-6735-5p', 'hsa-miR-6735-3p', 'hsa-miR-6736-5p', 'hsa-miR-6736-3p', 'hsa-miR-6737-5p', 'hsa-miR-6737-3p', 'hsa-miR-6738-5p', 'hsa-miR-6738-3p', 'hsa-miR-6739-5p', 'hsa-miR-6739-3p', 'hsa-miR-6740-5p', 'hsa-miR-6740-3p', 'hsa-miR-6741-5p', 'hsa-miR-6741-3p', 'hsa-miR-6742-5p', 'hsa-miR-6742-3p', 'hsa-miR-6743-5p', 'hsa-miR-6743-3p', 'hsa-miR-6744-5p', 'hsa-miR-6744-3p', 'hsa-miR-6745', 'hsa-miR-6746-5p', 'hsa-miR-6746-3p', 'hsa-miR-6747-5p', 'hsa-miR-6747-3p', 'hsa-miR-6748-5p', 'hsa-miR-6748-3p', 'hsa-miR-6749-5p', 'hsa-miR-6749-3p', 'hsa-miR-6750-5p', 'hsa-miR-6750-3p', 'hsa-miR-6751-5p', 'hsa-miR-6751-3p', 'hsa-miR-6752-5p', 'hsa-miR-6752-3p', 'hsa-miR-6753-5p', 'hsa-miR-6753-3p', 'hsa-miR-6754-5p', 'hsa-miR-6754-3p', 'hsa-miR-6755-5p', 'hsa-miR-6755-3p', 'hsa-miR-6756-5p', 'hsa-miR-6756-3p', 'hsa-miR-6757-5p', 'hsa-miR-6757-3p', 'hsa-miR-6758-5p', 'hsa-miR-6758-3p', 'hsa-miR-6759-5p', 'hsa-miR-6759-3p', 'hsa-miR-6760-5p', 'hsa-miR-6760-3p', 'hsa-miR-6761-5p', 'hsa-miR-6761-3p', 'hsa-miR-6762-5p', 'hsa-miR-6762-3p', 'hsa-miR-6763-5p', 'hsa-miR-6763-3p', 'hsa-miR-6764-5p', 'hsa-miR-6764-3p', 'hsa-miR-6765-5p', 'hsa-miR-6765-3p', 'hsa-miR-6766-5p', 'hsa-miR-6766-3p', 'hsa-miR-6767-5p', 'hsa-miR-6767-3p', 'hsa-miR-6768-5p', 'hsa-miR-6768-3p', 'hsa-miR-6769a-5p', 'hsa-miR-6769a-3p', 'hsa-miR-6770-5p', 'hsa-miR-6770-3p', 'hsa-miR-6771-5p', 'hsa-miR-6771-3p', 'hsa-miR-6772-5p', 'hsa-miR-6772-3p', 'hsa-miR-6773-5p', 'hsa-miR-6773-3p', 'hsa-miR-6774-5p', 'hsa-miR-6774-3p', 'hsa-miR-6775-5p', 'hsa-miR-6775-3p', 'hsa-miR-6776-5p', 'hsa-miR-6776-3p', 'hsa-miR-6777-5p', 'hsa-miR-6777-3p', 'hsa-miR-6778-5p', 'hsa-miR-6778-3p', 'hsa-miR-6779-5p', 'hsa-miR-6779-3p', 'hsa-miR-6780a-5p', 'hsa-miR-6780a-3p', 'hsa-miR-6781-5p', 'hsa-miR-6781-3p', 'hsa-miR-6782-5p', 'hsa-miR-6782-3p', 'hsa-miR-6783-5p', 'hsa-miR-6783-3p', 'hsa-miR-6784-5p', 'hsa-miR-6784-3p', 'hsa-miR-6785-5p', 'hsa-miR-6785-3p', 'hsa-miR-6786-5p', 'hsa-miR-6786-3p', 'hsa-miR-6787-5p', 'hsa-miR-6787-3p', 'hsa-miR-6788-5p', 'hsa-miR-6788-3p', 'hsa-miR-6789-5p', 'hsa-miR-6789-3p', 'hsa-miR-6790-5p', 'hsa-miR-6790-3p', 'hsa-miR-6791-5p', 'hsa-miR-6791-3p', 'hsa-miR-6792-5p', 'hsa-miR-6792-3p', 'hsa-miR-6793-5p', 'hsa-miR-6793-3p', 'hsa-miR-6794-5p', 'hsa-miR-6794-3p', 'hsa-miR-6795-5p', 'hsa-miR-6795-3p', 'hsa-miR-6796-5p', 'hsa-miR-6796-3p', 'hsa-miR-6797-5p', 'hsa-miR-6797-3p', 'hsa-miR-6798-5p', 'hsa-miR-6798-3p', 'hsa-miR-6799-5p', 'hsa-miR-6799-3p', 'hsa-miR-6800-5p', 'hsa-miR-6800-3p', 'hsa-miR-6801-5p', 'hsa-miR-6801-3p', 'hsa-miR-6802-5p', 'hsa-miR-6802-3p', 'hsa-miR-6803-5p', 'hsa-miR-6803-3p', 'hsa-miR-6804-5p', 'hsa-miR-6804-3p', 'hsa-miR-6805-5p', 'hsa-miR-6805-3p', 'hsa-miR-6806-5p', 'hsa-miR-6806-3p', 'hsa-miR-6807-5p', 'hsa-miR-6807-3p', 'hsa-miR-6808-5p', 'hsa-miR-6808-3p', 'hsa-miR-6809-5p', 'hsa-miR-6809-3p', 'hsa-miR-6810-5p', 'hsa-miR-6810-3p', 'hsa-miR-6811-5p', 'hsa-miR-6811-3p', 'hsa-miR-6812-5p', 'hsa-miR-6812-3p', 'hsa-miR-6813-5p', 'hsa-miR-6813-3p', 'hsa-miR-6814-5p', 'hsa-miR-6814-3p', 'hsa-miR-6815-5p', 'hsa-miR-6815-3p', 'hsa-miR-6816-5p', 'hsa-miR-6816-3p', 'hsa-miR-6817-5p', 'hsa-miR-6817-3p', 'hsa-miR-6818-5p', 'hsa-miR-6818-3p', 'hsa-miR-6819-5p', 'hsa-miR-6819-3p', 'hsa-miR-6820-5p', 'hsa-miR-6820-3p', 'hsa-miR-6821-5p', 'hsa-miR-6821-3p', 'hsa-miR-6822-5p', 'hsa-miR-6822-3p', 'hsa-miR-6823-5p', 'hsa-miR-6823-3p', 'hsa-miR-6824-5p', 'hsa-miR-6824-3p', 'hsa-miR-6825-5p', 'hsa-miR-6825-3p', 'hsa-miR-6826-5p', 'hsa-miR-6826-3p', 'hsa-miR-6827-5p', 'hsa-miR-6827-3p', 'hsa-miR-6828-5p', 'hsa-miR-6828-3p', 'hsa-miR-6829-5p', 'hsa-miR-6829-3p', 'hsa-miR-6830-5p', 'hsa-miR-6830-3p', 'hsa-miR-6831-5p', 'hsa-miR-6831-3p', 'hsa-miR-6832-5p', 'hsa-miR-6832-3p', 'hsa-miR-6833-5p', 'hsa-miR-6833-3p', 'hsa-miR-6834-5p', 'hsa-miR-6834-3p', 'hsa-miR-6835-5p', 'hsa-miR-6835-3p', 'hsa-miR-6780b-5p', 'hsa-miR-6780b-3p', 'hsa-miR-6836-5p', 'hsa-miR-6836-3p', 'hsa-miR-6837-5p', 'hsa-miR-6837-3p', 'hsa-miR-6838-5p', 'hsa-miR-6838-3p', 'hsa-miR-6839-5p', 'hsa-miR-6839-3p', 'hsa-miR-6840-5p', 'hsa-miR-6840-3p', 'hsa-miR-6841-5p', 'hsa-miR-6841-3p', 'hsa-miR-6842-5p', 'hsa-miR-6842-3p', 'hsa-miR-6843-3p', 'hsa-miR-6844', 'hsa-miR-6845-5p', 'hsa-miR-6845-3p', 'hsa-miR-6846-5p', 'hsa-miR-6846-3p', 'hsa-miR-6847-5p', 'hsa-miR-6847-3p', 'hsa-miR-6848-5p', 'hsa-miR-6848-3p', 'hsa-miR-6849-5p', 'hsa-miR-6849-3p', 'hsa-miR-6850-5p', 'hsa-miR-6850-3p', 'hsa-miR-6851-5p', 'hsa-miR-6851-3p', 'hsa-miR-6852-5p', 'hsa-miR-6852-3p', 'hsa-miR-6853-5p', 'hsa-miR-6853-3p', 'hsa-miR-6854-5p', 'hsa-miR-6854-3p', 'hsa-miR-6855-5p', 'hsa-miR-6855-3p', 'hsa-miR-6856-5p', 'hsa-miR-6856-3p', 'hsa-miR-6857-5p', 'hsa-miR-6857-3p', 'hsa-miR-6858-5p', 'hsa-miR-6858-3p', 'hsa-miR-6859-5p', 'hsa-miR-6859-3p', 'hsa-miR-6769b-5p', 'hsa-miR-6769b-3p', 'hsa-miR-6860', 'hsa-miR-6861-5p', 'hsa-miR-6861-3p', 'hsa-miR-6862-5p', 'hsa-miR-6862-3p', 'hsa-miR-6863', 'hsa-miR-6864-5p', 'hsa-miR-6864-3p', 'hsa-miR-6865-5p', 'hsa-miR-6865-3p', 'hsa-miR-6866-5p', 'hsa-miR-6866-3p', 'hsa-miR-6867-5p', 'hsa-miR-6867-3p', 'hsa-miR-6868-5p', 'hsa-miR-6868-3p', 'hsa-miR-6869-5p', 'hsa-miR-6869-3p', 'hsa-miR-6870-5p', 'hsa-miR-6870-3p', 'hsa-miR-6871-5p', 'hsa-miR-6871-3p', 'hsa-miR-6872-5p', 'hsa-miR-6872-3p', 'hsa-miR-6873-5p', 'hsa-miR-6873-3p', 'hsa-miR-6874-5p', 'hsa-miR-6874-3p', 'hsa-miR-6875-5p', 'hsa-miR-6875-3p', 'hsa-miR-6876-5p', 'hsa-miR-6876-3p', 'hsa-miR-6877-5p', 'hsa-miR-6877-3p', 'hsa-miR-6878-5p', 'hsa-miR-6878-3p', 'hsa-miR-6879-5p', 'hsa-miR-6879-3p', 'hsa-miR-6880-5p', 'hsa-miR-6880-3p', 'hsa-miR-6881-5p', 'hsa-miR-6881-3p', 'hsa-miR-6882-5p', 'hsa-miR-6882-3p', 'hsa-miR-6883-5p', 'hsa-miR-6883-3p', 'hsa-miR-6884-5p', 'hsa-miR-6884-3p', 'hsa-miR-6885-5p', 'hsa-miR-6885-3p', 'hsa-miR-6886-5p', 'hsa-miR-6886-3p', 'hsa-miR-6887-5p', 'hsa-miR-6887-3p', 'hsa-miR-6888-5p', 'hsa-miR-6888-3p', 'hsa-miR-6889-5p', 'hsa-miR-6889-3p', 'hsa-miR-6890-5p', 'hsa-miR-6890-3p', 'hsa-miR-6891-5p', 'hsa-miR-6891-3p', 'hsa-miR-6892-5p', 'hsa-miR-6892-3p', 'hsa-miR-6893-5p', 'hsa-miR-6893-3p', 'hsa-miR-6894-5p', 'hsa-miR-6894-3p', 'hsa-miR-6895-5p', 'hsa-miR-6895-3p', 'hsa-miR-7106-5p', 'hsa-miR-7106-3p', 'hsa-miR-7107-5p', 'hsa-miR-7107-3p', 'hsa-miR-7108-5p', 'hsa-miR-7108-3p', 'hsa-miR-7109-5p', 'hsa-miR-7109-3p', 'hsa-miR-7110-5p', 'hsa-miR-7110-3p', 'hsa-miR-7111-5p', 'hsa-miR-7111-3p', 'hsa-miR-7112-5p', 'hsa-miR-7112-3p', 'hsa-miR-7113-5p', 'hsa-miR-7113-3p', 'hsa-miR-7114-5p', 'hsa-miR-7114-3p', 'hsa-miR-7150', 'hsa-miR-7151-5p', 'hsa-miR-7151-3p', 'hsa-miR-7152-5p', 'hsa-miR-7152-3p', 'hsa-miR-7153-5p', 'hsa-miR-7153-3p', 'hsa-miR-7154-5p', 'hsa-miR-7154-3p', 'hsa-miR-7155-5p', 'hsa-miR-7155-3p', 'hsa-miR-7156-5p', 'hsa-miR-7156-3p', 'hsa-miR-7157-5p', 'hsa-miR-7157-3p', 'hsa-miR-7158-5p', 'hsa-miR-7158-3p', 'hsa-miR-7159-5p', 'hsa-miR-7159-3p', 'hsa-miR-7160-5p', 'hsa-miR-7160-3p', 'hsa-miR-7161-5p', 'hsa-miR-7161-3p', 'hsa-miR-7162-5p', 'hsa-miR-7162-3p', 'hsa-miR-7515', 'hsa-miR-7641', 'hsa-miR-7702', 'hsa-miR-7703', 'hsa-miR-7704', 'hsa-miR-7705', 'hsa-miR-7706', 'hsa-miR-7843-5p', 'hsa-miR-7843-3p', 'hsa-miR-4433b-5p', 'hsa-miR-4433b-3p', 'hsa-miR-1273h-5p', 'hsa-miR-1273h-3p', 'hsa-miR-6516-5p', 'hsa-miR-6516-3p', 'hsa-miR-7844-5p', 'hsa-miR-7845-5p', 'hsa-miR-7846-3p', 'hsa-miR-7847-3p', 'hsa-miR-7848-3p', 'hsa-miR-7849-3p', 'hsa-miR-7850-5p', 'hsa-miR-7851-3p', 'hsa-miR-7852-3p', 'hsa-miR-7853-5p', 'hsa-miR-7854-3p', 'hsa-miR-7855-5p', 'hsa-miR-7856-5p', 'hsa-miR-8052', 'hsa-miR-8053', 'hsa-miR-8054', 'hsa-miR-8055', 'hsa-miR-8056', 'hsa-miR-8057', 'hsa-miR-8058', 'hsa-miR-8059', 'hsa-miR-8060', 'hsa-miR-8061', 'hsa-miR-8062', 'hsa-miR-8063', 'hsa-miR-8064', 'hsa-miR-8065', 'hsa-miR-8066', 'hsa-miR-8067', 'hsa-miR-8068', 'hsa-miR-8069', 'hsa-miR-8070', 'hsa-miR-8071', 'hsa-miR-8072', 'hsa-miR-8073', 'hsa-miR-8074', 'hsa-miR-8075', 'hsa-miR-8076', 'hsa-miR-8077', 'hsa-miR-8078', 'hsa-miR-8079', 'hsa-miR-8080', 'hsa-miR-8081', 'hsa-miR-8082', 'hsa-miR-8083', 'hsa-miR-8084', 'hsa-miR-8085', 'hsa-miR-8086', 'hsa-miR-8087', 'hsa-miR-8088', 'hsa-miR-8089', 'hsa-miR-450a-2-3p', 'hsa-miR-128-2-5p', 'hsa-miR-1199-5p', 'hsa-miR-1199-3p', 'hsa-miR-548ba', 'hsa-miR-7973', 'hsa-miR-7974', 'hsa-miR-7975', 'hsa-miR-7976', 'hsa-miR-7977', 'hsa-miR-7978', 'hsa-miR-203a-5p', 'hsa-miR-1-5p', 'hsa-miR-181b-2-3p', 'hsa-miR-301b-5p', 'hsa-miR-1249-5p', 'hsa-miR-3653-5p', 'hsa-miR-548ad-5p', 'hsa-miR-548ae-5p', 'hsa-miR-4485-5p', 'hsa-miR-8485', 'hsa-miR-9500', 'hsa-miR-548bb-5p', 'hsa-miR-548bb-3p', 'country', 'age', 'sex', 'apoe4', 'disease', 'hsa-miR-217-5p', 'hsa-miR-137-3p', 'hsa-miR-320a-3p', 'hsa-miR-375-3p', 'hsa-miR-451a', 'hsa-miR-498-5p', 'hsa-miR-520e-3p', 'hsa-miR-520b-3p', 'hsa-miR-526a-5p', 'hsa-miR-549a-3p', 'hsa-miR-147b-3p', 'hsa-miR-190b-5p', 'hsa-miR-1290', 'hsa-miR-1912-3p', 'hsa-miR-3669', 'hsa-miR-3673', 'hsa-miR-122b-5p', 'hsa-miR-122b-3p', 'hsa-miR-5100']\n",
      "set()\n"
     ]
    }
   ],
   "source": [
    "df_ge = pd.read_csv('data/raw/graph_embeddings.csv')\n",
    "df_cf = pd.read_csv('data/raw/df_concat_final.csv')\n",
    "\n",
    "# extract the column names from df_cf\n",
    "column_names = df_cf.columns.tolist()\n",
    "\n",
    "# print column names length\n",
    "print(len(column_names))\n",
    "\n",
    "# remove 'Unnamed: 0' from the list of column names\n",
    "if 'Unnamed: 0' in column_names:\n",
    "    column_names.remove('Unnamed: 0')\n",
    "\n",
    "print(column_names)\n",
    "\n",
    "# check if there any duplicate column names in column_names\n",
    "duplicate_columns = set([x for x in column_names if column_names.count(x) > 1])\n",
    "print(duplicate_columns)\n",
    "\n",
    "# delete all the rows in df_ge where 'Unnamed: 0' is not equal to a value in column_names\n",
    "df_ge = df_ge[df_ge['Unnamed: 0'].isin(column_names)]\n",
    "\n",
    "# check if there are any rows in ge with the same 'Unnamed: 0' value\n",
    "duplicates = df_ge.duplicated(subset=['Unnamed: 0'], keep=False)\n",
    "\n",
    "# delete the rows in df_ge where 'Unnamed: 0' is duplicated\n",
    "df_ge = df_ge[~duplicates]\n",
    "df_ge = df_ge.reset_index(drop=True)\n",
    "\n",
    "# delete the rows in df_ge where 'Unnamed: 0' is a value in nan_columns_list\n",
    "df_ge = df_ge[~df_ge['Unnamed: 0'].isin(nan_columns_list)]\n",
    "\n",
    "H = df_ge.drop(columns=['Unnamed: 0']).values"
   ]
  },
  {
   "cell_type": "code",
   "execution_count": 31,
   "id": "43e29341",
   "metadata": {},
   "outputs": [
    {
     "name": "stdout",
     "output_type": "stream",
     "text": [
      "['hsa-let-7a-5p', 'hsa-let-7b-5p', 'hsa-let-7c-5p', 'hsa-let-7d-5p', 'hsa-let-7e-5p', 'hsa-let-7f-5p', 'hsa-miR-15a-5p', 'hsa-miR-16-5p', 'hsa-miR-17-5p', 'hsa-miR-17-3p', 'hsa-miR-18a-5p', 'hsa-miR-19a-3p', 'hsa-miR-19b-3p', 'hsa-miR-20a-5p', 'hsa-miR-21-5p', 'hsa-miR-22-3p', 'hsa-miR-23a-3p', 'hsa-miR-24-1-5p', 'hsa-miR-24-3p', 'hsa-miR-25-3p', 'hsa-miR-26a-5p', 'hsa-miR-26b-5p', 'hsa-miR-27a-3p', 'hsa-miR-28-5p', 'hsa-miR-29a-3p', 'hsa-miR-30a-5p', 'hsa-miR-30a-3p', 'hsa-miR-31-5p', 'hsa-miR-32-5p', 'hsa-miR-33a-5p', 'hsa-miR-92a-3p', 'hsa-miR-93-5p', 'hsa-miR-95-3p', 'hsa-miR-96-5p', 'hsa-miR-98-5p', 'hsa-miR-99a-5p', 'hsa-miR-100-5p', 'hsa-miR-101-3p', 'hsa-miR-29b-3p', 'hsa-miR-103a-3p', 'hsa-miR-105-5p', 'hsa-miR-106a-5p', 'hsa-miR-107', 'hsa-miR-192-5p', 'hsa-miR-196a-5p', 'hsa-miR-197-3p', 'hsa-miR-198', 'hsa-miR-199a-5p', 'hsa-miR-199a-3p', 'hsa-miR-208a-3p', 'hsa-miR-129-5p', 'hsa-miR-148a-3p', 'hsa-miR-30c-5p', 'hsa-miR-30d-5p', 'hsa-miR-139-5p', 'hsa-miR-147a', 'hsa-miR-7-5p', 'hsa-miR-10a-5p', 'hsa-miR-10b-5p', 'hsa-miR-34a-5p', 'hsa-miR-181a-5p', 'hsa-miR-181b-5p', 'hsa-miR-181c-5p', 'hsa-miR-182-5p', 'hsa-miR-182-3p', 'hsa-miR-183-5p', 'hsa-miR-187-3p', 'hsa-miR-199b-5p', 'hsa-miR-203a-3p', 'hsa-miR-204-5p', 'hsa-miR-205-5p', 'hsa-miR-210-3p', 'hsa-miR-211-5p', 'hsa-miR-212-3p', 'hsa-miR-181a-3p', 'hsa-miR-214-3p', 'hsa-miR-215-5p', 'hsa-miR-216a-5p', 'hsa-miR-218-5p', 'hsa-miR-219a-5p', 'hsa-miR-221-3p', 'hsa-miR-222-3p', 'hsa-miR-223-3p', 'hsa-miR-224-5p', 'hsa-miR-200b-3p', 'hsa-let-7g-5p', 'hsa-let-7i-5p', 'hsa-miR-1-3p', 'hsa-miR-15b-5p', 'hsa-miR-23b-3p', 'hsa-miR-27b-3p', 'hsa-miR-30b-5p', 'hsa-miR-122-5p', 'hsa-miR-124-3p', 'hsa-miR-125b-5p', 'hsa-miR-128-3p', 'hsa-miR-130a-3p', 'hsa-miR-132-3p', 'hsa-miR-133a-3p', 'hsa-miR-135a-5p', 'hsa-miR-138-5p', 'hsa-miR-140-5p', 'hsa-miR-141-3p', 'hsa-miR-142-5p', 'hsa-miR-142-3p', 'hsa-miR-143-3p', 'hsa-miR-144-3p', 'hsa-miR-145-5p', 'hsa-miR-152-3p', 'hsa-miR-153-3p', 'hsa-miR-191-5p', 'hsa-miR-9-5p', 'hsa-miR-9-3p', 'hsa-miR-125a-5p', 'hsa-miR-126-5p', 'hsa-miR-126-3p', 'hsa-miR-127-3p', 'hsa-miR-134-5p', 'hsa-miR-136-5p', 'hsa-miR-146a-5p', 'hsa-miR-149-5p', 'hsa-miR-150-5p', 'hsa-miR-154-5p', 'hsa-miR-154-3p', 'hsa-miR-184', 'hsa-miR-185-5p', 'hsa-miR-186-5p', 'hsa-miR-188-5p', 'hsa-miR-190a-5p', 'hsa-miR-193a-3p', 'hsa-miR-194-5p', 'hsa-miR-195-5p', 'hsa-miR-206', 'hsa-miR-200c-3p', 'hsa-miR-155-5p', 'hsa-miR-106b-5p', 'hsa-miR-29c-3p', 'hsa-miR-200a-3p', 'hsa-miR-302a-5p', 'hsa-miR-302a-3p', 'hsa-miR-34b-5p', 'hsa-miR-34c-5p', 'hsa-miR-299-3p', 'hsa-miR-301a-3p', 'hsa-miR-99b-5p', 'hsa-miR-296-5p', 'hsa-miR-130b-3p', 'hsa-miR-30e-5p', 'hsa-miR-30e-3p', 'hsa-miR-361-5p', 'hsa-miR-362-5p', 'hsa-miR-363-3p', 'hsa-miR-365a-3p', 'hsa-miR-302b-5p', 'hsa-miR-302b-3p', 'hsa-miR-302c-5p', 'hsa-miR-302c-3p', 'hsa-miR-302d-3p', 'hsa-miR-367-3p', 'hsa-miR-376c-3p', 'hsa-miR-369-3p', 'hsa-miR-370-3p', 'hsa-miR-371a-3p', 'hsa-miR-372-3p', 'hsa-miR-373-5p', 'hsa-miR-373-3p', 'hsa-miR-374a-5p', 'hsa-miR-376a-3p', 'hsa-miR-377-3p', 'hsa-miR-378a-5p', 'hsa-miR-378a-3p', 'hsa-miR-379-5p', 'hsa-miR-380-5p', 'hsa-miR-380-3p', 'hsa-miR-381-3p', 'hsa-miR-382-5p', 'hsa-miR-383-5p', 'hsa-miR-340-3p', 'hsa-miR-330-3p', 'hsa-miR-328-3p', 'hsa-miR-342-3p', 'hsa-miR-337-3p', 'hsa-miR-323a-3p', 'hsa-miR-326', 'hsa-miR-151a-3p', 'hsa-miR-135b-5p', 'hsa-miR-148b-3p', 'hsa-miR-331-3p', 'hsa-miR-324-5p', 'hsa-miR-324-3p', 'hsa-miR-338-3p', 'hsa-miR-339-5p', 'hsa-miR-335-5p', 'hsa-miR-133b', 'hsa-miR-325', 'hsa-miR-345-5p', 'hsa-miR-346', 'hsa-miR-384', 'hsa-miR-196b-5p', 'hsa-miR-422a', 'hsa-miR-423-3p', 'hsa-miR-424-5p', 'hsa-miR-425-3p', 'hsa-miR-18b-5p', 'hsa-miR-20b-5p', 'hsa-miR-448', 'hsa-miR-429', 'hsa-miR-449a', 'hsa-miR-450a-5p', 'hsa-miR-191-3p', 'hsa-miR-200a-5p', 'hsa-miR-369-5p', 'hsa-miR-431-5p', 'hsa-miR-433-3p', 'hsa-miR-329-3p', 'hsa-miR-323b-5p', 'hsa-miR-452-5p', 'hsa-miR-452-3p', 'hsa-miR-409-5p', 'hsa-miR-409-3p', 'hsa-miR-412-3p', 'hsa-miR-410-3p', 'hsa-miR-376b-3p', 'hsa-miR-483-3p', 'hsa-miR-484', 'hsa-miR-485-5p', 'hsa-miR-485-3p', 'hsa-miR-486-5p', 'hsa-miR-487a-3p', 'hsa-miR-488-5p', 'hsa-miR-489-3p', 'hsa-miR-490-3p', 'hsa-miR-491-5p', 'hsa-miR-511-5p', 'hsa-miR-146b-5p', 'hsa-miR-202-5p', 'hsa-miR-202-3p', 'hsa-miR-492', 'hsa-miR-493-5p', 'hsa-miR-432-5p', 'hsa-miR-432-3p', 'hsa-miR-494-3p', 'hsa-miR-495-3p', 'hsa-miR-496', 'hsa-miR-193b-3p', 'hsa-miR-497-5p', 'hsa-miR-181d-5p', 'hsa-miR-512-5p', 'hsa-miR-512-3p', 'hsa-miR-515-5p', 'hsa-miR-515-3p', 'hsa-miR-519e-5p', 'hsa-miR-519e-3p', 'hsa-miR-520f-3p', 'hsa-miR-519c-5p', 'hsa-miR-519c-3p', 'hsa-miR-520a-5p', 'hsa-miR-520a-3p', 'hsa-miR-526b-5p', 'hsa-miR-526b-3p', 'hsa-miR-519b-3p', 'hsa-miR-525-5p', 'hsa-miR-525-3p', 'hsa-miR-523-3p', 'hsa-miR-518f-5p', 'hsa-miR-518f-3p', 'hsa-miR-518b', 'hsa-miR-520c-3p', 'hsa-miR-518c-5p', 'hsa-miR-518c-3p', 'hsa-miR-524-5p', 'hsa-miR-524-3p', 'hsa-miR-517-5p', 'hsa-miR-517a-3p', 'hsa-miR-519d-3p', 'hsa-miR-521', 'hsa-miR-520d-5p', 'hsa-miR-520d-3p', 'hsa-miR-517b-3p', 'hsa-miR-520g-3p', 'hsa-miR-516b-5p', 'hsa-miR-516b-3p', 'hsa-miR-518e-3p', 'hsa-miR-527', 'hsa-miR-518a-3p', 'hsa-miR-518d-3p', 'hsa-miR-517c-3p', 'hsa-miR-520h', 'hsa-miR-522-3p', 'hsa-miR-519a-3p', 'hsa-miR-499a-5p', 'hsa-miR-500a-3p', 'hsa-miR-501-5p', 'hsa-miR-502-5p', 'hsa-miR-503-5p', 'hsa-miR-504-5p', 'hsa-miR-505-3p', 'hsa-miR-513a-5p', 'hsa-miR-506-3p', 'hsa-miR-507', 'hsa-miR-508-3p', 'hsa-miR-509-3p', 'hsa-miR-510-5p', 'hsa-miR-514a-3p', 'hsa-miR-532-5p', 'hsa-miR-299-5p', 'hsa-miR-18a-3p', 'hsa-miR-455-5p', 'hsa-miR-493-3p', 'hsa-miR-539-5p', 'hsa-miR-544a', 'hsa-miR-545-3p', 'hsa-miR-487b-3p', 'hsa-miR-551a', 'hsa-miR-552-3p', 'hsa-miR-553', 'hsa-miR-554', 'hsa-miR-92b-3p', 'hsa-miR-555', 'hsa-miR-556-5p', 'hsa-miR-557', 'hsa-miR-558', 'hsa-miR-559', 'hsa-miR-561-3p', 'hsa-miR-562', 'hsa-miR-563', 'hsa-miR-564', 'hsa-miR-566', 'hsa-miR-567', 'hsa-miR-568', 'hsa-miR-551b-3p', 'hsa-miR-569', 'hsa-miR-570-3p', 'hsa-miR-571', 'hsa-miR-572', 'hsa-miR-573', 'hsa-miR-574-3p', 'hsa-miR-575', 'hsa-miR-576-5p', 'hsa-miR-577', 'hsa-miR-578', 'hsa-miR-579-3p', 'hsa-miR-580-3p', 'hsa-miR-581', 'hsa-miR-582-5p', 'hsa-miR-583', 'hsa-miR-584-5p', 'hsa-miR-585-3p', 'hsa-miR-548a-3p', 'hsa-miR-586', 'hsa-miR-587', 'hsa-miR-548b-3p', 'hsa-miR-588', 'hsa-miR-589-3p', 'hsa-miR-550a-3p', 'hsa-miR-590-5p', 'hsa-miR-591', 'hsa-miR-592', 'hsa-miR-593-5p', 'hsa-miR-595', 'hsa-miR-596', 'hsa-miR-597-5p', 'hsa-miR-598-3p', 'hsa-miR-599', 'hsa-miR-600', 'hsa-miR-601', 'hsa-miR-602', 'hsa-miR-603', 'hsa-miR-604', 'hsa-miR-605-5p', 'hsa-miR-606', 'hsa-miR-607', 'hsa-miR-608', 'hsa-miR-609', 'hsa-miR-610', 'hsa-miR-611', 'hsa-miR-612', 'hsa-miR-613', 'hsa-miR-614', 'hsa-miR-615-3p', 'hsa-miR-616-5p', 'hsa-miR-548c-3p', 'hsa-miR-617', 'hsa-miR-618', 'hsa-miR-619-3p', 'hsa-miR-620', 'hsa-miR-621', 'hsa-miR-622', 'hsa-miR-623', 'hsa-miR-624-5p', 'hsa-miR-625-5p', 'hsa-miR-626', 'hsa-miR-627-5p', 'hsa-miR-628-3p', 'hsa-miR-629-3p', 'hsa-miR-630', 'hsa-miR-631', 'hsa-miR-33b-5p', 'hsa-miR-632', 'hsa-miR-633', 'hsa-miR-634', 'hsa-miR-635', 'hsa-miR-636', 'hsa-miR-637', 'hsa-miR-638', 'hsa-miR-639', 'hsa-miR-640', 'hsa-miR-641', 'hsa-miR-642a-5p', 'hsa-miR-643', 'hsa-miR-644a', 'hsa-miR-645', 'hsa-miR-646', 'hsa-miR-647', 'hsa-miR-648', 'hsa-miR-649', 'hsa-miR-650', 'hsa-miR-651-5p', 'hsa-miR-652-3p', 'hsa-miR-548d-3p', 'hsa-miR-661', 'hsa-miR-662', 'hsa-miR-663a', 'hsa-miR-449b-5p', 'hsa-miR-653-5p', 'hsa-miR-411-5p', 'hsa-miR-654-5p', 'hsa-miR-655-3p', 'hsa-miR-656-3p', 'hsa-miR-657', 'hsa-miR-658', 'hsa-miR-659-3p', 'hsa-miR-660-5p', 'hsa-miR-421', 'hsa-miR-542-5p', 'hsa-miR-363-5p', 'hsa-miR-376a-5p', 'hsa-miR-542-3p', 'hsa-miR-425-5p', 'hsa-miR-758-3p', 'hsa-miR-671-5p', 'hsa-miR-668-3p', 'hsa-miR-767-5p', 'hsa-miR-767-3p', 'hsa-miR-454-5p', 'hsa-miR-454-3p', 'hsa-miR-769-5p', 'hsa-miR-769-3p', 'hsa-miR-766-3p', 'hsa-miR-765', 'hsa-miR-770-5p', 'hsa-miR-802', 'hsa-miR-675-5p', 'hsa-miR-297', 'hsa-let-7a-3p', 'hsa-let-7b-3p', 'hsa-let-7d-3p', 'hsa-let-7e-3p', 'hsa-let-7f-1-3p', 'hsa-let-7f-2-3p', 'hsa-miR-15a-3p', 'hsa-miR-16-1-3p', 'hsa-miR-19a-5p', 'hsa-miR-19b-1-5p', 'hsa-miR-19b-2-5p', 'hsa-miR-20a-3p', 'hsa-miR-21-3p', 'hsa-miR-22-5p', 'hsa-miR-23a-5p', 'hsa-miR-24-2-5p', 'hsa-miR-25-5p', 'hsa-miR-26a-1-3p', 'hsa-miR-26b-3p', 'hsa-miR-27a-5p', 'hsa-miR-28-3p', 'hsa-miR-29a-5p', 'hsa-miR-31-3p', 'hsa-miR-32-3p', 'hsa-miR-33a-3p', 'hsa-miR-92a-1-5p', 'hsa-miR-92a-2-5p', 'hsa-miR-93-3p', 'hsa-miR-96-3p', 'hsa-miR-99a-3p', 'hsa-miR-100-3p', 'hsa-miR-101-5p', 'hsa-miR-29b-1-5p', 'hsa-miR-29b-2-5p', 'hsa-miR-105-3p', 'hsa-miR-106a-3p', 'hsa-miR-16-2-3p', 'hsa-miR-192-3p', 'hsa-miR-129-1-3p', 'hsa-miR-148a-5p', 'hsa-miR-30c-2-3p', 'hsa-miR-30d-3p', 'hsa-miR-139-3p', 'hsa-miR-7-1-3p', 'hsa-miR-7-2-3p', 'hsa-miR-10a-3p', 'hsa-miR-10b-3p', 'hsa-miR-34a-3p', 'hsa-miR-181a-2-3p', 'hsa-miR-181c-3p', 'hsa-miR-183-3p', 'hsa-miR-187-5p', 'hsa-miR-196a-3p', 'hsa-miR-199b-3p', 'hsa-miR-214-5p', 'hsa-miR-218-1-3p', 'hsa-miR-218-2-3p', 'hsa-miR-219a-1-3p', 'hsa-miR-221-5p', 'hsa-miR-222-5p', 'hsa-miR-223-5p', 'hsa-miR-200b-5p', 'hsa-let-7g-3p', 'hsa-let-7i-3p', 'hsa-miR-15b-3p', 'hsa-miR-23b-5p', 'hsa-miR-27b-5p', 'hsa-miR-30b-3p', 'hsa-miR-122-3p', 'hsa-miR-124-5p', 'hsa-miR-125b-1-3p', 'hsa-miR-130a-5p', 'hsa-miR-132-5p', 'hsa-miR-135a-3p', 'hsa-miR-138-2-3p', 'hsa-miR-140-3p', 'hsa-miR-141-5p', 'hsa-miR-143-5p', 'hsa-miR-144-5p', 'hsa-miR-145-3p', 'hsa-miR-125a-3p', 'hsa-miR-125b-2-3p', 'hsa-miR-127-5p', 'hsa-miR-129-2-3p', 'hsa-miR-136-3p', 'hsa-miR-138-1-3p', 'hsa-miR-146a-3p', 'hsa-miR-149-3p', 'hsa-miR-150-3p', 'hsa-miR-185-3p', 'hsa-miR-186-3p', 'hsa-miR-188-3p', 'hsa-miR-193a-5p', 'hsa-miR-195-3p', 'hsa-miR-200c-5p', 'hsa-miR-155-3p', 'hsa-miR-194-3p', 'hsa-miR-106b-3p', 'hsa-miR-29c-5p', 'hsa-miR-30c-1-3p', 'hsa-miR-219a-2-3p', 'hsa-miR-34b-3p', 'hsa-miR-34c-3p', 'hsa-miR-99b-3p', 'hsa-miR-296-3p', 'hsa-miR-130b-5p', 'hsa-miR-26a-2-3p', 'hsa-miR-361-3p', 'hsa-miR-362-3p', 'hsa-miR-302d-5p', 'hsa-miR-367-5p', 'hsa-miR-371a-5p', 'hsa-miR-374a-3p', 'hsa-miR-377-5p', 'hsa-miR-379-3p', 'hsa-miR-340-5p', 'hsa-miR-330-5p', 'hsa-miR-342-5p', 'hsa-miR-337-5p', 'hsa-miR-323a-5p', 'hsa-miR-151a-5p', 'hsa-miR-135b-3p', 'hsa-miR-148b-5p', 'hsa-miR-331-5p', 'hsa-miR-338-5p', 'hsa-miR-339-3p', 'hsa-miR-335-3p', 'hsa-miR-423-5p', 'hsa-miR-424-3p', 'hsa-miR-18b-3p', 'hsa-miR-20b-3p', 'hsa-miR-431-3p', 'hsa-miR-483-5p', 'hsa-miR-486-3p', 'hsa-miR-488-3p', 'hsa-miR-490-5p', 'hsa-miR-491-3p', 'hsa-miR-146b-3p', 'hsa-miR-193b-5p', 'hsa-miR-497-3p', 'hsa-miR-516a-5p', 'hsa-miR-499a-3p', 'hsa-miR-500a-5p', 'hsa-miR-501-3p', 'hsa-miR-502-3p', 'hsa-miR-505-5p', 'hsa-miR-513a-3p', 'hsa-miR-508-5p', 'hsa-miR-509-5p', 'hsa-miR-532-3p', 'hsa-miR-455-3p', 'hsa-miR-545-5p', 'hsa-miR-92b-5p', 'hsa-miR-556-3p', 'hsa-miR-551b-5p', 'hsa-miR-574-5p', 'hsa-miR-576-3p', 'hsa-miR-582-3p', 'hsa-miR-548b-5p', 'hsa-miR-589-5p', 'hsa-miR-550a-5p', 'hsa-miR-590-3p', 'hsa-miR-593-3p', 'hsa-miR-548a-5p', 'hsa-miR-615-5p', 'hsa-miR-616-3p', 'hsa-miR-548c-5p', 'hsa-miR-624-3p', 'hsa-miR-625-3p', 'hsa-miR-628-5p', 'hsa-miR-629-5p', 'hsa-miR-33b-3p', 'hsa-miR-548d-5p', 'hsa-miR-411-3p', 'hsa-miR-654-3p', 'hsa-miR-671-3p', 'hsa-miR-298', 'hsa-miR-891a-5p', 'hsa-miR-300', 'hsa-miR-892a', 'hsa-miR-450b-5p', 'hsa-miR-450b-3p', 'hsa-miR-874-3p', 'hsa-miR-890', 'hsa-miR-891b', 'hsa-miR-888-5p', 'hsa-miR-888-3p', 'hsa-miR-892b', 'hsa-miR-541-5p', 'hsa-miR-541-3p', 'hsa-miR-889-3p', 'hsa-miR-875-5p', 'hsa-miR-875-3p', 'hsa-miR-876-5p', 'hsa-miR-876-3p', 'hsa-miR-708-5p', 'hsa-miR-708-3p', 'hsa-miR-744-5p', 'hsa-miR-744-3p', 'hsa-miR-885-5p', 'hsa-miR-885-3p', 'hsa-miR-877-5p', 'hsa-miR-877-3p', 'hsa-miR-887-3p', 'hsa-miR-665', 'hsa-miR-873-5p', 'hsa-miR-543', 'hsa-miR-374b-5p', 'hsa-miR-374b-3p', 'hsa-miR-760', 'hsa-miR-301b-3p', 'hsa-miR-216b-5p', 'hsa-miR-208b-3p', 'hsa-miR-920', 'hsa-miR-921', 'hsa-miR-922', 'hsa-miR-924', 'hsa-miR-509-3-5p', 'hsa-miR-933', 'hsa-miR-934', 'hsa-miR-935', 'hsa-miR-936', 'hsa-miR-937-3p', 'hsa-miR-938', 'hsa-miR-939-5p', 'hsa-miR-940', 'hsa-miR-941', 'hsa-miR-942-5p', 'hsa-miR-943', 'hsa-miR-944', 'hsa-miR-523-5p', 'hsa-miR-518e-5p', 'hsa-miR-522-5p', 'hsa-miR-519a-5p', 'hsa-miR-519b-5p', 'hsa-miR-520c-5p', 'hsa-miR-518d-5p', 'hsa-miR-518a-5p', 'hsa-miR-1224-5p', 'hsa-miR-1224-3p', 'hsa-miR-1225-5p', 'hsa-miR-1225-3p', 'hsa-miR-1226-5p', 'hsa-miR-1226-3p', 'hsa-miR-1227-3p', 'hsa-miR-1228-5p', 'hsa-miR-1228-3p', 'hsa-miR-1229-3p', 'hsa-miR-1231', 'hsa-miR-1233-3p', 'hsa-miR-1234-3p', 'hsa-miR-1236-3p', 'hsa-miR-1237-3p', 'hsa-miR-1238-3p', 'hsa-miR-513b-5p', 'hsa-miR-513c-5p', 'hsa-miR-1264', 'hsa-miR-320b', 'hsa-miR-320c', 'hsa-miR-1296-5p', 'hsa-miR-1323', 'hsa-miR-1271-5p', 'hsa-miR-1301-3p', 'hsa-miR-1185-5p', 'hsa-miR-1283', 'hsa-miR-1298-5p', 'hsa-miR-1178-3p', 'hsa-miR-1179', 'hsa-miR-1180-3p', 'hsa-miR-1181', 'hsa-miR-1182', 'hsa-miR-1183', 'hsa-miR-1184', 'hsa-miR-1200', 'hsa-miR-1202', 'hsa-miR-1203', 'hsa-miR-663b', 'hsa-miR-1204', 'hsa-miR-1205', 'hsa-miR-1206', 'hsa-miR-1207-5p', 'hsa-miR-1207-3p', 'hsa-miR-1208', 'hsa-miR-548e-3p', 'hsa-miR-548j-5p', 'hsa-miR-1285-3p', 'hsa-miR-1286', 'hsa-miR-1287-5p', 'hsa-miR-1289', 'hsa-miR-1291', 'hsa-miR-548k', 'hsa-miR-1293', 'hsa-miR-1294', 'hsa-miR-1295a', 'hsa-miR-1297', 'hsa-miR-1299', 'hsa-miR-548l', 'hsa-miR-1302', 'hsa-miR-1303', 'hsa-miR-1304-5p', 'hsa-miR-1305', 'hsa-miR-1243', 'hsa-miR-548f-3p', 'hsa-miR-1244', 'hsa-miR-1245a', 'hsa-miR-1246', 'hsa-miR-1247-5p', 'hsa-miR-1248', 'hsa-miR-1249-3p', 'hsa-miR-1250-5p', 'hsa-miR-1251-5p', 'hsa-miR-1253', 'hsa-miR-1254', 'hsa-miR-1255a', 'hsa-miR-1256', 'hsa-miR-1257', 'hsa-miR-1258', 'hsa-miR-1260a', 'hsa-miR-548g-3p', 'hsa-miR-1261', 'hsa-miR-1262', 'hsa-miR-1263', 'hsa-miR-548n', 'hsa-miR-548m', 'hsa-miR-1265', 'hsa-miR-548o-3p', 'hsa-miR-1266-5p', 'hsa-miR-1267', 'hsa-miR-1268a', 'hsa-miR-1269a', 'hsa-miR-1270', 'hsa-miR-1272', 'hsa-miR-1273a', 'hsa-miR-548h-5p', 'hsa-miR-1275', 'hsa-miR-1276', 'hsa-miR-302e', 'hsa-miR-302f', 'hsa-miR-1277-3p', 'hsa-miR-548p', 'hsa-miR-548i', 'hsa-miR-1278', 'hsa-miR-1279', 'hsa-miR-1281', 'hsa-miR-1282', 'hsa-miR-1284', 'hsa-miR-1288-3p', 'hsa-miR-1292-5p', 'hsa-miR-1252-5p', 'hsa-miR-1255b-5p', 'hsa-miR-664a-5p', 'hsa-miR-664a-3p', 'hsa-miR-1306-3p', 'hsa-miR-1307-3p', 'hsa-miR-1321', 'hsa-miR-1322', 'hsa-miR-1197', 'hsa-miR-1324', 'hsa-miR-320d', 'hsa-miR-1825', 'hsa-miR-1827', 'hsa-miR-516a-3p', 'hsa-miR-1468-5p', 'hsa-miR-675-3p', 'hsa-miR-1469', 'hsa-miR-1470', 'hsa-miR-1471', 'hsa-miR-1537-3p', 'hsa-miR-1538', 'hsa-miR-1539', 'hsa-miR-103b', 'hsa-miR-1908-5p', 'hsa-miR-1909-5p', 'hsa-miR-1909-3p', 'hsa-miR-1910-5p', 'hsa-miR-1911-5p', 'hsa-miR-1911-3p', 'hsa-miR-1913', 'hsa-miR-1914-5p', 'hsa-miR-1914-3p', 'hsa-miR-1915-5p', 'hsa-miR-1915-3p', 'hsa-miR-103a-2-5p', 'hsa-miR-205-3p', 'hsa-miR-224-3p', 'hsa-miR-365a-5p', 'hsa-miR-196b-3p', 'hsa-miR-449b-3p', 'hsa-miR-2113', 'hsa-miR-1972', 'hsa-miR-1973', 'hsa-miR-1976', 'hsa-miR-2052', 'hsa-miR-2053', 'hsa-miR-2054', 'hsa-miR-2110', 'hsa-let-7a-2-3p', 'hsa-miR-151b', 'hsa-miR-449c-5p', 'hsa-miR-762', 'hsa-miR-670-5p', 'hsa-miR-761', 'hsa-miR-764', 'hsa-miR-759', 'hsa-miR-2114-5p', 'hsa-miR-2114-3p', 'hsa-miR-2115-5p', 'hsa-miR-2115-3p', 'hsa-miR-2116-5p', 'hsa-miR-2116-3p', 'hsa-miR-2117', 'hsa-miR-548q', 'hsa-miR-2276-3p', 'hsa-miR-2277-3p', 'hsa-miR-2278', 'hsa-miR-711', 'hsa-miR-718', 'hsa-miR-2681-5p', 'hsa-miR-2681-3p', 'hsa-miR-2682-5p', 'hsa-miR-2682-3p', 'hsa-miR-449c-3p', 'hsa-miR-2861', 'hsa-miR-2909', 'hsa-miR-3115', 'hsa-miR-3116', 'hsa-miR-3117-3p', 'hsa-miR-3118', 'hsa-miR-3119', 'hsa-miR-3120-3p', 'hsa-miR-3121-3p', 'hsa-miR-3122', 'hsa-miR-3123', 'hsa-miR-3124-5p', 'hsa-miR-548s', 'hsa-miR-3125', 'hsa-miR-3126-5p', 'hsa-miR-3127-5p', 'hsa-miR-3128', 'hsa-miR-3129-5p', 'hsa-miR-3130-3p', 'hsa-miR-3130-5p', 'hsa-miR-3131', 'hsa-miR-3132', 'hsa-miR-3133', 'hsa-miR-378b', 'hsa-miR-3134', 'hsa-miR-3135a', 'hsa-miR-466', 'hsa-miR-3136-5p', 'hsa-miR-544b', 'hsa-miR-3137', 'hsa-miR-3138', 'hsa-miR-3139', 'hsa-miR-3140-3p', 'hsa-miR-548t-5p', 'hsa-miR-3141', 'hsa-miR-3142', 'hsa-miR-3143', 'hsa-miR-548u', 'hsa-miR-3144-5p', 'hsa-miR-3144-3p', 'hsa-miR-3145-3p', 'hsa-miR-1273c', 'hsa-miR-3146', 'hsa-miR-3147', 'hsa-miR-548v', 'hsa-miR-3148', 'hsa-miR-3149', 'hsa-miR-3150a-3p', 'hsa-miR-3151-5p', 'hsa-miR-3152-3p', 'hsa-miR-3153', 'hsa-miR-3074-3p', 'hsa-miR-3154', 'hsa-miR-3155a', 'hsa-miR-3156-5p', 'hsa-miR-3157-5p', 'hsa-miR-3158-3p', 'hsa-miR-3159', 'hsa-miR-3160-3p', 'hsa-miR-3161', 'hsa-miR-3162-5p', 'hsa-miR-3163', 'hsa-miR-3164', 'hsa-miR-3165', 'hsa-miR-3166', 'hsa-miR-1260b', 'hsa-miR-3167', 'hsa-miR-3168', 'hsa-miR-3169', 'hsa-miR-3170', 'hsa-miR-3171', 'hsa-miR-3173-3p', 'hsa-miR-1193', 'hsa-miR-323b-3p', 'hsa-miR-3174', 'hsa-miR-3175', 'hsa-miR-3176', 'hsa-miR-3177-3p', 'hsa-miR-3178', 'hsa-miR-3179', 'hsa-miR-3180-5p', 'hsa-miR-3180-3p', 'hsa-miR-548w', 'hsa-miR-3181', 'hsa-miR-3182', 'hsa-miR-3183', 'hsa-miR-3184-5p', 'hsa-miR-3185', 'hsa-miR-3065-5p', 'hsa-miR-3186-5p', 'hsa-miR-3186-3p', 'hsa-miR-3187-3p', 'hsa-miR-3188', 'hsa-miR-3189-3p', 'hsa-miR-320e', 'hsa-miR-3190-5p', 'hsa-miR-3191-3p', 'hsa-miR-3192-5p', 'hsa-miR-3193', 'hsa-miR-3194-5p', 'hsa-miR-3195', 'hsa-miR-3196', 'hsa-miR-548x-3p', 'hsa-miR-3197', 'hsa-miR-3198', 'hsa-miR-3199', 'hsa-miR-3200-3p', 'hsa-miR-3201', 'hsa-miR-514b-5p', 'hsa-miR-514b-3p', 'hsa-miR-3202', 'hsa-miR-1273d', 'hsa-miR-3126-3p', 'hsa-miR-3065-3p', 'hsa-miR-4295', 'hsa-miR-4296', 'hsa-miR-4297', 'hsa-miR-378c', 'hsa-miR-4293', 'hsa-miR-4294', 'hsa-miR-4301', 'hsa-miR-4299', 'hsa-miR-4298', 'hsa-miR-4300', 'hsa-miR-4304', 'hsa-miR-4302', 'hsa-miR-4303', 'hsa-miR-4305', 'hsa-miR-4306', 'hsa-miR-4309', 'hsa-miR-4307', 'hsa-miR-4308', 'hsa-miR-4310', 'hsa-miR-4311', 'hsa-miR-4312', 'hsa-miR-4313', 'hsa-miR-4315', 'hsa-miR-4316', 'hsa-miR-4314', 'hsa-miR-4318', 'hsa-miR-4319', 'hsa-miR-4320', 'hsa-miR-4317', 'hsa-miR-4322', 'hsa-miR-4321', 'hsa-miR-4323', 'hsa-miR-4324', 'hsa-miR-4256', 'hsa-miR-4257', 'hsa-miR-4258', 'hsa-miR-4259', 'hsa-miR-4260', 'hsa-miR-4253', 'hsa-miR-4251', 'hsa-miR-4254', 'hsa-miR-4255', 'hsa-miR-4252', 'hsa-miR-4325', 'hsa-miR-4326', 'hsa-miR-4327', 'hsa-miR-4261', 'hsa-miR-4265', 'hsa-miR-4266', 'hsa-miR-4267', 'hsa-miR-4262', 'hsa-miR-2355-5p', 'hsa-miR-4268', 'hsa-miR-4269', 'hsa-miR-4263', 'hsa-miR-4264', 'hsa-miR-4270', 'hsa-miR-4271', 'hsa-miR-4272', 'hsa-miR-4273', 'hsa-miR-4276', 'hsa-miR-4275', 'hsa-miR-4274', 'hsa-miR-4281', 'hsa-miR-4277', 'hsa-miR-4279', 'hsa-miR-4278', 'hsa-miR-4280', 'hsa-miR-4282', 'hsa-miR-4285', 'hsa-miR-4283', 'hsa-miR-4284', 'hsa-miR-4286', 'hsa-miR-4287', 'hsa-miR-4288', 'hsa-miR-4292', 'hsa-miR-4289', 'hsa-miR-4290', 'hsa-miR-4291', 'hsa-miR-4329', 'hsa-miR-4330', 'hsa-miR-500b-5p', 'hsa-miR-4328', 'hsa-miR-2277-5p', 'hsa-miR-3200-5p', 'hsa-miR-2355-3p', 'hsa-miR-3605-5p', 'hsa-miR-3605-3p', 'hsa-miR-3606-5p', 'hsa-miR-3607-5p', 'hsa-miR-3607-3p', 'hsa-miR-3609', 'hsa-miR-3610', 'hsa-miR-3611', 'hsa-miR-3612', 'hsa-miR-3613-5p', 'hsa-miR-3613-3p', 'hsa-miR-3614-5p', 'hsa-miR-3614-3p', 'hsa-miR-3615', 'hsa-miR-3616-5p', 'hsa-miR-3616-3p', 'hsa-miR-3617-5p', 'hsa-miR-3618', 'hsa-miR-3619-5p', 'hsa-miR-23c', 'hsa-miR-3620-3p', 'hsa-miR-3621', 'hsa-miR-3622a-5p', 'hsa-miR-3622a-3p', 'hsa-miR-3622b-5p', 'hsa-miR-3622b-3p', 'hsa-miR-3646', 'hsa-miR-3648', 'hsa-miR-3649', 'hsa-miR-3650', 'hsa-miR-3651', 'hsa-miR-3652', 'hsa-miR-3653-3p', 'hsa-miR-3654', 'hsa-miR-3655', 'hsa-miR-3656', 'hsa-miR-3657', 'hsa-miR-3658', 'hsa-miR-1273e', 'hsa-miR-3659', 'hsa-miR-3660', 'hsa-miR-3661', 'hsa-miR-3662', 'hsa-miR-3663-5p', 'hsa-miR-3663-3p', 'hsa-miR-3664-5p', 'hsa-miR-3665', 'hsa-miR-3666', 'hsa-miR-3667-5p', 'hsa-miR-3667-3p', 'hsa-miR-3668', 'hsa-miR-3670', 'hsa-miR-3671', 'hsa-miR-3672', 'hsa-miR-3674', 'hsa-miR-3675-5p', 'hsa-miR-3675-3p', 'hsa-miR-3677-3p', 'hsa-miR-3678-5p', 'hsa-miR-3678-3p', 'hsa-miR-3679-5p', 'hsa-miR-3679-3p', 'hsa-miR-3680-5p', 'hsa-miR-3680-3p', 'hsa-miR-3681-5p', 'hsa-miR-3681-3p', 'hsa-miR-3682-3p', 'hsa-miR-3683', 'hsa-miR-3684', 'hsa-miR-3685', 'hsa-miR-3686', 'hsa-miR-3687', 'hsa-miR-3688-3p', 'hsa-miR-3689a-5p', 'hsa-miR-3689a-3p', 'hsa-miR-3690', 'hsa-miR-3691-5p', 'hsa-miR-3692-5p', 'hsa-miR-3692-3p', 'hsa-miR-3713', 'hsa-miR-3714', 'hsa-miR-3180', 'hsa-miR-3907', 'hsa-miR-3689b-5p', 'hsa-miR-3689b-3p', 'hsa-miR-3908', 'hsa-miR-3909', 'hsa-miR-3910', 'hsa-miR-3911', 'hsa-miR-3912-3p', 'hsa-miR-3913-5p', 'hsa-miR-3914', 'hsa-miR-3915', 'hsa-miR-3916', 'hsa-miR-3917', 'hsa-miR-3918', 'hsa-miR-3919', 'hsa-miR-3150b-3p', 'hsa-miR-3920', 'hsa-miR-3921', 'hsa-miR-3922-3p', 'hsa-miR-3923', 'hsa-miR-3924', 'hsa-miR-3925-5p', 'hsa-miR-3926', 'hsa-miR-3927-3p', 'hsa-miR-676-5p', 'hsa-miR-676-3p', 'hsa-miR-3928-3p', 'hsa-miR-3929', 'hsa-miR-3934-5p', 'hsa-miR-3935', 'hsa-miR-3936', 'hsa-miR-3937', 'hsa-miR-3938', 'hsa-miR-548y', 'hsa-miR-3939', 'hsa-miR-3940-3p', 'hsa-miR-3941', 'hsa-miR-3942-5p', 'hsa-miR-3943', 'hsa-miR-3944-3p', 'hsa-miR-3945', 'hsa-miR-374c-5p', 'hsa-miR-642b-3p', 'hsa-miR-550b-3p', 'hsa-miR-548z', 'hsa-miR-548aa', 'hsa-miR-1268b', 'hsa-miR-378d', 'hsa-miR-378e', 'hsa-miR-548ab', 'hsa-miR-4417', 'hsa-miR-4418', 'hsa-miR-4419a', 'hsa-miR-378f', 'hsa-miR-4420', 'hsa-miR-4421', 'hsa-miR-4422', 'hsa-miR-4423-3p', 'hsa-miR-378g', 'hsa-miR-548ac', 'hsa-miR-4424', 'hsa-miR-4425', 'hsa-miR-4426', 'hsa-miR-4427', 'hsa-miR-4428', 'hsa-miR-4429', 'hsa-miR-4430', 'hsa-miR-548ad-3p', 'hsa-miR-4431', 'hsa-miR-4432', 'hsa-miR-4433a-3p', 'hsa-miR-4434', 'hsa-miR-4435', 'hsa-miR-4436a', 'hsa-miR-4437', 'hsa-miR-548ae-3p', 'hsa-miR-4438', 'hsa-miR-4439', 'hsa-miR-4440', 'hsa-miR-4441', 'hsa-miR-4442', 'hsa-miR-4443', 'hsa-miR-4444', 'hsa-miR-4445-5p', 'hsa-miR-4445-3p', 'hsa-miR-4446-3p', 'hsa-miR-4447', 'hsa-miR-4448', 'hsa-miR-4449', 'hsa-miR-548ag', 'hsa-miR-4450', 'hsa-miR-548ah-5p', 'hsa-miR-4451', 'hsa-miR-4452', 'hsa-miR-4453', 'hsa-miR-4454', 'hsa-miR-4455', 'hsa-miR-4456', 'hsa-miR-4457', 'hsa-miR-4458', 'hsa-miR-4459', 'hsa-miR-4460', 'hsa-miR-4461', 'hsa-miR-378h', 'hsa-miR-3135b', 'hsa-miR-4462', 'hsa-miR-4463', 'hsa-miR-4464', 'hsa-miR-548ai', 'hsa-miR-548aj-3p', 'hsa-miR-4465', 'hsa-miR-4466', 'hsa-miR-4467', 'hsa-miR-4468', 'hsa-miR-4469', 'hsa-miR-4470', 'hsa-miR-4471', 'hsa-miR-4472', 'hsa-miR-4473', 'hsa-miR-4474-3p', 'hsa-miR-4475', 'hsa-miR-4476', 'hsa-miR-4477a', 'hsa-miR-4477b', 'hsa-miR-4478', 'hsa-miR-3689c', 'hsa-miR-3689d', 'hsa-miR-3689e', 'hsa-miR-3689f', 'hsa-miR-4479', 'hsa-miR-3155b', 'hsa-miR-548ak', 'hsa-miR-4480', 'hsa-miR-4481', 'hsa-miR-4482-5p', 'hsa-miR-4483', 'hsa-miR-4484', 'hsa-miR-4485-3p', 'hsa-miR-4486', 'hsa-miR-4487', 'hsa-miR-4488', 'hsa-miR-4489', 'hsa-miR-548al', 'hsa-miR-4490', 'hsa-miR-4491', 'hsa-miR-4492', 'hsa-miR-4493', 'hsa-miR-4494', 'hsa-miR-4495', 'hsa-miR-4496', 'hsa-miR-4497', 'hsa-miR-4498', 'hsa-miR-4419b', 'hsa-miR-4499', 'hsa-miR-4500', 'hsa-miR-4501', 'hsa-miR-4502', 'hsa-miR-4503', 'hsa-miR-4504', 'hsa-miR-4505', 'hsa-miR-4506', 'hsa-miR-2392', 'hsa-miR-4507', 'hsa-miR-4508', 'hsa-miR-4509', 'hsa-miR-4510', 'hsa-miR-4511', 'hsa-miR-4512', 'hsa-miR-4513', 'hsa-miR-4514', 'hsa-miR-4515', 'hsa-miR-4516', 'hsa-miR-4517', 'hsa-miR-4518', 'hsa-miR-4519', 'hsa-miR-4520-3p', 'hsa-miR-4521', 'hsa-miR-1269b', 'hsa-miR-4522', 'hsa-miR-4523', 'hsa-miR-4524a-5p', 'hsa-miR-4524a-3p', 'hsa-miR-4525', 'hsa-miR-4526', 'hsa-miR-4527', 'hsa-miR-4528', 'hsa-miR-4529-3p', 'hsa-miR-4530', 'hsa-miR-4531', 'hsa-miR-4532', 'hsa-miR-4533', 'hsa-miR-4534', 'hsa-miR-378i', 'hsa-miR-4535', 'hsa-miR-548am-3p', 'hsa-miR-1587', 'hsa-miR-4536-5p', 'hsa-miR-548an', 'hsa-miR-4537', 'hsa-miR-4538', 'hsa-miR-4539', 'hsa-miR-4540', 'hsa-miR-3117-5p', 'hsa-miR-3120-5p', 'hsa-miR-3121-5p', 'hsa-miR-3124-3p', 'hsa-miR-3127-3p', 'hsa-miR-3129-3p', 'hsa-miR-3136-3p', 'hsa-miR-3140-5p', 'hsa-miR-3145-5p', 'hsa-miR-3150a-5p', 'hsa-miR-3152-5p', 'hsa-miR-3074-5p', 'hsa-miR-3156-3p', 'hsa-miR-3157-3p', 'hsa-miR-3158-5p', 'hsa-miR-3160-5p', 'hsa-miR-3162-3p', 'hsa-miR-3173-5p', 'hsa-miR-3177-5p', 'hsa-miR-3187-5p', 'hsa-miR-3189-5p', 'hsa-miR-3194-3p', 'hsa-miR-3619-3p', 'hsa-miR-3664-3p', 'hsa-miR-3677-5p', 'hsa-miR-3682-5p', 'hsa-miR-3688-5p', 'hsa-miR-3691-3p', 'hsa-miR-3913-3p', 'hsa-miR-3150b-5p', 'hsa-miR-3922-5p', 'hsa-miR-3925-3p', 'hsa-miR-3940-5p', 'hsa-miR-3942-3p', 'hsa-miR-3944-5p', 'hsa-miR-4423-5p', 'hsa-miR-4446-5p', 'hsa-miR-4474-5p', 'hsa-miR-4520-5p', 'hsa-miR-4529-5p', 'hsa-miR-3960', 'hsa-miR-3972', 'hsa-miR-3973', 'hsa-miR-3974', 'hsa-miR-3975', 'hsa-miR-3976', 'hsa-miR-3977', 'hsa-miR-3978', 'hsa-miR-4632-3p', 'hsa-miR-4633-5p', 'hsa-miR-4633-3p', 'hsa-miR-4634', 'hsa-miR-4635', 'hsa-miR-4636', 'hsa-miR-4637', 'hsa-miR-4638-5p', 'hsa-miR-4638-3p', 'hsa-miR-4639-5p', 'hsa-miR-4639-3p', 'hsa-miR-4640-5p', 'hsa-miR-4640-3p', 'hsa-miR-4641', 'hsa-miR-4642', 'hsa-miR-4643', 'hsa-miR-4644', 'hsa-miR-4645-5p', 'hsa-miR-4645-3p', 'hsa-miR-4646-5p', 'hsa-miR-4646-3p', 'hsa-miR-4647', 'hsa-miR-4648', 'hsa-miR-4649-5p', 'hsa-miR-4649-3p', 'hsa-miR-4650-5p', 'hsa-miR-4650-3p', 'hsa-miR-4651', 'hsa-miR-4652-5p', 'hsa-miR-4652-3p', 'hsa-miR-4653-5p', 'hsa-miR-4653-3p', 'hsa-miR-4654', 'hsa-miR-4655-5p', 'hsa-miR-4655-3p', 'hsa-miR-4656', 'hsa-miR-4657', 'hsa-miR-4658', 'hsa-miR-4659a-5p', 'hsa-miR-4659a-3p', 'hsa-miR-4660', 'hsa-miR-4661-5p', 'hsa-miR-4661-3p', 'hsa-miR-4662a-5p', 'hsa-miR-4662a-3p', 'hsa-miR-4659b-5p', 'hsa-miR-4659b-3p', 'hsa-miR-4663', 'hsa-miR-4662b', 'hsa-miR-4664-5p', 'hsa-miR-4664-3p', 'hsa-miR-4665-5p', 'hsa-miR-4665-3p', 'hsa-miR-4666a-5p', 'hsa-miR-4666a-3p', 'hsa-miR-4667-5p', 'hsa-miR-4667-3p', 'hsa-miR-4668-5p', 'hsa-miR-4668-3p', 'hsa-miR-219b-5p', 'hsa-miR-219b-3p', 'hsa-miR-4669', 'hsa-miR-4670-5p', 'hsa-miR-4670-3p', 'hsa-miR-4671-5p', 'hsa-miR-4671-3p', 'hsa-miR-4672', 'hsa-miR-4673', 'hsa-miR-4674', 'hsa-miR-4675', 'hsa-miR-4676-5p', 'hsa-miR-4676-3p', 'hsa-miR-4677-5p', 'hsa-miR-4677-3p', 'hsa-miR-4678', 'hsa-miR-4679', 'hsa-miR-4680-5p', 'hsa-miR-4680-3p', 'hsa-miR-4681', 'hsa-miR-4682', 'hsa-miR-4683', 'hsa-miR-4684-5p', 'hsa-miR-4684-3p', 'hsa-miR-4685-5p', 'hsa-miR-4685-3p', 'hsa-miR-4686', 'hsa-miR-4687-5p', 'hsa-miR-4687-3p', 'hsa-miR-1343-3p', 'hsa-miR-4688', 'hsa-miR-4689', 'hsa-miR-4690-5p', 'hsa-miR-4690-3p', 'hsa-miR-4691-5p', 'hsa-miR-4691-3p', 'hsa-miR-4692', 'hsa-miR-4693-5p', 'hsa-miR-4693-3p', 'hsa-miR-4694-5p', 'hsa-miR-4694-3p', 'hsa-miR-4695-5p', 'hsa-miR-4695-3p', 'hsa-miR-4696', 'hsa-miR-4697-5p', 'hsa-miR-4697-3p', 'hsa-miR-4698', 'hsa-miR-4699-5p', 'hsa-miR-4699-3p', 'hsa-miR-4700-5p', 'hsa-miR-4700-3p', 'hsa-miR-4701-5p', 'hsa-miR-4701-3p', 'hsa-miR-4703-5p', 'hsa-miR-4703-3p', 'hsa-miR-4704-5p', 'hsa-miR-4704-3p', 'hsa-miR-4705', 'hsa-miR-4706', 'hsa-miR-4707-5p', 'hsa-miR-4707-3p', 'hsa-miR-4708-5p', 'hsa-miR-4708-3p', 'hsa-miR-4709-5p', 'hsa-miR-4709-3p', 'hsa-miR-203b-5p', 'hsa-miR-203b-3p', 'hsa-miR-4710', 'hsa-miR-4711-5p', 'hsa-miR-4711-3p', 'hsa-miR-4712-5p', 'hsa-miR-4712-3p', 'hsa-miR-4713-5p', 'hsa-miR-4713-3p', 'hsa-miR-4714-5p', 'hsa-miR-4714-3p', 'hsa-miR-4715-5p', 'hsa-miR-4715-3p', 'hsa-miR-4716-5p', 'hsa-miR-4716-3p', 'hsa-miR-3529-5p', 'hsa-miR-4717-5p', 'hsa-miR-4717-3p', 'hsa-miR-4718', 'hsa-miR-4719', 'hsa-miR-4720-5p', 'hsa-miR-4720-3p', 'hsa-miR-4721', 'hsa-miR-4722-5p', 'hsa-miR-4722-3p', 'hsa-miR-4723-5p', 'hsa-miR-4723-3p', 'hsa-miR-451b', 'hsa-miR-4724-5p', 'hsa-miR-4724-3p', 'hsa-miR-4725-5p', 'hsa-miR-4725-3p', 'hsa-miR-4726-5p', 'hsa-miR-4726-3p', 'hsa-miR-4727-5p', 'hsa-miR-4727-3p', 'hsa-miR-4728-5p', 'hsa-miR-4728-3p', 'hsa-miR-4729', 'hsa-miR-4730', 'hsa-miR-4731-5p', 'hsa-miR-4731-3p', 'hsa-miR-4732-5p', 'hsa-miR-4732-3p', 'hsa-miR-4733-5p', 'hsa-miR-4733-3p', 'hsa-miR-4734', 'hsa-miR-4735-5p', 'hsa-miR-4735-3p', 'hsa-miR-4736', 'hsa-miR-4737', 'hsa-miR-3064-5p', 'hsa-miR-3064-3p', 'hsa-miR-4738-5p', 'hsa-miR-4738-3p', 'hsa-miR-4739', 'hsa-miR-4740-5p', 'hsa-miR-4740-3p', 'hsa-miR-4741', 'hsa-miR-4742-5p', 'hsa-miR-4742-3p', 'hsa-miR-4743-5p', 'hsa-miR-4744', 'hsa-miR-4745-5p', 'hsa-miR-4745-3p', 'hsa-miR-4746-5p', 'hsa-miR-4746-3p', 'hsa-miR-4747-5p', 'hsa-miR-4747-3p', 'hsa-miR-4748', 'hsa-miR-4749-5p', 'hsa-miR-4749-3p', 'hsa-miR-4750-5p', 'hsa-miR-4751', 'hsa-miR-4752', 'hsa-miR-4753-5p', 'hsa-miR-4753-3p', 'hsa-miR-371b-5p', 'hsa-miR-371b-3p', 'hsa-miR-4754', 'hsa-miR-4755-5p', 'hsa-miR-4755-3p', 'hsa-miR-499b-5p', 'hsa-miR-499b-3p', 'hsa-miR-4756-5p', 'hsa-miR-4756-3p', 'hsa-miR-4757-5p', 'hsa-miR-4757-3p', 'hsa-miR-4758-5p', 'hsa-miR-4758-3p', 'hsa-miR-4759', 'hsa-miR-4760-5p', 'hsa-miR-4760-3p', 'hsa-miR-4761-5p', 'hsa-miR-4761-3p', 'hsa-miR-4762-5p', 'hsa-miR-4762-3p', 'hsa-miR-4763-5p', 'hsa-miR-4763-3p', 'hsa-miR-4764-5p', 'hsa-miR-4764-3p', 'hsa-miR-4765', 'hsa-miR-4766-5p', 'hsa-miR-4766-3p', 'hsa-miR-4767', 'hsa-miR-4768-5p', 'hsa-miR-4768-3p', 'hsa-miR-4769-5p', 'hsa-miR-4769-3p', 'hsa-miR-4770', 'hsa-miR-4771', 'hsa-miR-4772-5p', 'hsa-miR-4772-3p', 'hsa-miR-4773', 'hsa-miR-4774-5p', 'hsa-miR-4774-3p', 'hsa-miR-4775', 'hsa-miR-4776-5p', 'hsa-miR-4776-3p', 'hsa-miR-4777-5p', 'hsa-miR-4777-3p', 'hsa-miR-4778-5p', 'hsa-miR-4778-3p', 'hsa-miR-4779', 'hsa-miR-4780', 'hsa-miR-4436b-5p', 'hsa-miR-4436b-3p', 'hsa-miR-4781-5p', 'hsa-miR-4781-3p', 'hsa-miR-4782-5p', 'hsa-miR-4782-3p', 'hsa-miR-4783-5p', 'hsa-miR-4783-3p', 'hsa-miR-4784', 'hsa-miR-4785', 'hsa-miR-1245b-5p', 'hsa-miR-1245b-3p', 'hsa-miR-2467-5p', 'hsa-miR-2467-3p', 'hsa-miR-4786-5p', 'hsa-miR-4786-3p', 'hsa-miR-4787-5p', 'hsa-miR-4787-3p', 'hsa-miR-4788', 'hsa-miR-4789-5p', 'hsa-miR-4789-3p', 'hsa-miR-4790-5p', 'hsa-miR-4790-3p', 'hsa-miR-4791', 'hsa-miR-4792', 'hsa-miR-4793-5p', 'hsa-miR-4793-3p', 'hsa-miR-4794', 'hsa-miR-4795-5p', 'hsa-miR-4795-3p', 'hsa-miR-4796-5p', 'hsa-miR-4796-3p', 'hsa-miR-4797-5p', 'hsa-miR-4797-3p', 'hsa-miR-4798-5p', 'hsa-miR-4798-3p', 'hsa-miR-4799-5p', 'hsa-miR-4799-3p', 'hsa-miR-4800-5p', 'hsa-miR-4800-3p', 'hsa-miR-4801', 'hsa-miR-4802-5p', 'hsa-miR-4802-3p', 'hsa-miR-4803', 'hsa-miR-4804-5p', 'hsa-miR-4804-3p', 'hsa-miR-4520-2-3p', 'hsa-miR-5047', 'hsa-miR-5095', 'hsa-miR-1273f', 'hsa-miR-1273g-5p', 'hsa-miR-5096', 'hsa-miR-642a-3p', 'hsa-miR-550a-3-5p', 'hsa-miR-4433a-5p', 'hsa-miR-548ah-3p', 'hsa-miR-4482-3p', 'hsa-miR-4536-3p', 'hsa-miR-4999-5p', 'hsa-miR-4999-3p', 'hsa-miR-5000-5p', 'hsa-miR-5000-3p', 'hsa-miR-5001-5p', 'hsa-miR-5001-3p', 'hsa-miR-5002-5p', 'hsa-miR-5002-3p', 'hsa-miR-5003-5p', 'hsa-miR-5003-3p', 'hsa-miR-5004-5p', 'hsa-miR-5004-3p', 'hsa-miR-548ao-5p', 'hsa-miR-548ao-3p', 'hsa-miR-5006-5p', 'hsa-miR-5006-3p', 'hsa-miR-5007-5p', 'hsa-miR-5007-3p', 'hsa-miR-548ap-5p', 'hsa-miR-548ap-3p', 'hsa-miR-5008-5p', 'hsa-miR-5008-3p', 'hsa-miR-5009-5p', 'hsa-miR-5009-3p', 'hsa-miR-5010-5p', 'hsa-miR-5010-3p', 'hsa-miR-5011-5p', 'hsa-miR-5011-3p', 'hsa-miR-5087', 'hsa-miR-5088-5p', 'hsa-miR-5089-5p', 'hsa-miR-5090', 'hsa-miR-5091', 'hsa-miR-5092', 'hsa-miR-5093', 'hsa-miR-5094', 'hsa-miR-5186', 'hsa-miR-5187-5p', 'hsa-miR-5187-3p', 'hsa-miR-5188', 'hsa-miR-5189-5p', 'hsa-miR-5190', 'hsa-miR-5191', 'hsa-miR-5192', 'hsa-miR-5193', 'hsa-miR-5194', 'hsa-miR-5195-5p', 'hsa-miR-5195-3p', 'hsa-miR-5196-5p', 'hsa-miR-5196-3p', 'hsa-miR-5197-5p', 'hsa-miR-5197-3p', 'hsa-miR-4524b-5p', 'hsa-miR-4524b-3p', 'hsa-miR-5571-5p', 'hsa-miR-5571-3p', 'hsa-miR-5572', 'hsa-miR-548aq-5p', 'hsa-miR-548aq-3p', 'hsa-miR-548ar-5p', 'hsa-miR-548ar-3p', 'hsa-miR-548as-5p', 'hsa-miR-548as-3p', 'hsa-miR-5579-5p', 'hsa-miR-5579-3p', 'hsa-miR-664b-5p', 'hsa-miR-664b-3p', 'hsa-miR-5580-5p', 'hsa-miR-5580-3p', 'hsa-miR-5581-5p', 'hsa-miR-5581-3p', 'hsa-miR-548at-5p', 'hsa-miR-548at-3p', 'hsa-miR-5582-5p', 'hsa-miR-5582-3p', 'hsa-miR-5583-5p', 'hsa-miR-5583-3p', 'hsa-miR-5584-5p', 'hsa-miR-5584-3p', 'hsa-miR-5585-5p', 'hsa-miR-5585-3p', 'hsa-miR-5586-5p', 'hsa-miR-5586-3p', 'hsa-miR-5587-5p', 'hsa-miR-5587-3p', 'hsa-miR-548au-5p', 'hsa-miR-548au-3p', 'hsa-miR-1295b-5p', 'hsa-miR-1295b-3p', 'hsa-miR-5588-5p', 'hsa-miR-5588-3p', 'hsa-miR-5589-5p', 'hsa-miR-5589-3p', 'hsa-miR-5590-5p', 'hsa-miR-5590-3p', 'hsa-miR-5591-5p', 'hsa-miR-5591-3p', 'hsa-miR-548av-5p', 'hsa-miR-548av-3p', 'hsa-miR-5680', 'hsa-miR-5681a', 'hsa-miR-5682', 'hsa-miR-548aw', 'hsa-miR-5683', 'hsa-miR-5684', 'hsa-miR-548ax', 'hsa-miR-5685', 'hsa-miR-5692c', 'hsa-miR-5687', 'hsa-miR-5688', 'hsa-miR-5681b', 'hsa-miR-5689', 'hsa-miR-5690', 'hsa-miR-5691', 'hsa-miR-5692a', 'hsa-miR-4666b', 'hsa-miR-5693', 'hsa-miR-5694', 'hsa-miR-5695', 'hsa-miR-5696', 'hsa-miR-5697', 'hsa-miR-5698', 'hsa-miR-5699-3p', 'hsa-miR-5700', 'hsa-miR-5701', 'hsa-miR-5702', 'hsa-miR-5703', 'hsa-miR-5692b', 'hsa-miR-5704', 'hsa-miR-5705', 'hsa-miR-5706', 'hsa-miR-5707', 'hsa-miR-5708', 'hsa-miR-197-5p', 'hsa-miR-181b-3p', 'hsa-miR-204-3p', 'hsa-miR-211-3p', 'hsa-miR-212-5p', 'hsa-miR-301a-5p', 'hsa-miR-382-3p', 'hsa-miR-345-3p', 'hsa-miR-450a-1-3p', 'hsa-miR-506-5p', 'hsa-miR-514a-5p', 'hsa-miR-539-3p', 'hsa-miR-561-5p', 'hsa-miR-570-5p', 'hsa-miR-584-3p', 'hsa-miR-652-5p', 'hsa-miR-659-5p', 'hsa-miR-660-3p', 'hsa-miR-1271-3p', 'hsa-miR-1185-2-3p', 'hsa-miR-766-5p', 'hsa-miR-873-3p', 'hsa-miR-1285-5p', 'hsa-miR-1304-3p', 'hsa-miR-1247-3p', 'hsa-miR-548g-5p', 'hsa-miR-548h-3p', 'hsa-miR-1277-5p', 'hsa-miR-1255b-2-3p', 'hsa-miR-1306-5p', 'hsa-miR-1307-5p', 'hsa-miR-513c-3p', 'hsa-miR-548t-3p', 'hsa-miR-3184-3p', 'hsa-miR-3191-5p', 'hsa-miR-548x-5p', 'hsa-miR-374c-3p', 'hsa-miR-642b-5p', 'hsa-miR-550b-2-5p', 'hsa-miR-548o-5p', 'hsa-miR-548aj-5p', 'hsa-miR-548am-5p', 'hsa-miR-3529-3p', 'hsa-miR-1273g-3p', 'hsa-miR-365b-5p', 'hsa-miR-365b-3p', 'hsa-miR-1185-1-3p', 'hsa-miR-3190-3p', 'hsa-miR-98-3p', 'hsa-miR-216a-3p', 'hsa-miR-376c-5p', 'hsa-miR-381-5p', 'hsa-miR-376b-5p', 'hsa-miR-495-5p', 'hsa-miR-503-3p', 'hsa-miR-376a-2-5p', 'hsa-miR-758-5p', 'hsa-miR-937-5p', 'hsa-miR-939-3p', 'hsa-miR-1178-5p', 'hsa-miR-1227-5p', 'hsa-miR-1229-5p', 'hsa-miR-1233-5p', 'hsa-miR-1236-5p', 'hsa-miR-1237-5p', 'hsa-miR-1238-5p', 'hsa-miR-1292-3p', 'hsa-miR-3606-3p', 'hsa-miR-3617-3p', 'hsa-miR-3620-5p', 'hsa-miR-3927-5p', 'hsa-miR-3934-3p', 'hsa-miR-4632-5p', 'hsa-miR-4743-3p', 'hsa-miR-4750-3p', 'hsa-miR-5089-3p', 'hsa-miR-5739', 'hsa-miR-5787', 'hsa-miR-6068', 'hsa-miR-6069', 'hsa-miR-6070', 'hsa-miR-6071', 'hsa-miR-6072', 'hsa-miR-6073', 'hsa-miR-6074', 'hsa-miR-6075', 'hsa-miR-6076', 'hsa-miR-6077', 'hsa-miR-6078', 'hsa-miR-6079', 'hsa-miR-6080', 'hsa-miR-6081', 'hsa-miR-6082', 'hsa-miR-6083', 'hsa-miR-6084', 'hsa-miR-6085', 'hsa-miR-6086', 'hsa-miR-6087', 'hsa-miR-6088', 'hsa-miR-6089', 'hsa-miR-6090', 'hsa-miR-6124', 'hsa-miR-6125', 'hsa-miR-6126', 'hsa-miR-6127', 'hsa-miR-6128', 'hsa-miR-378j', 'hsa-miR-6129', 'hsa-miR-6130', 'hsa-miR-6131', 'hsa-miR-6132', 'hsa-miR-6133', 'hsa-miR-6134', 'hsa-miR-6165', 'hsa-miR-6499-5p', 'hsa-miR-6499-3p', 'hsa-miR-548ay-5p', 'hsa-miR-548ay-3p', 'hsa-miR-6500-5p', 'hsa-miR-6500-3p', 'hsa-miR-548az-5p', 'hsa-miR-548az-3p', 'hsa-miR-6501-5p', 'hsa-miR-6501-3p', 'hsa-miR-6502-5p', 'hsa-miR-6502-3p', 'hsa-miR-6503-5p', 'hsa-miR-6503-3p', 'hsa-miR-6504-5p', 'hsa-miR-6504-3p', 'hsa-miR-6505-5p', 'hsa-miR-6505-3p', 'hsa-miR-6506-5p', 'hsa-miR-6506-3p', 'hsa-miR-6507-5p', 'hsa-miR-6507-3p', 'hsa-miR-6508-5p', 'hsa-miR-6508-3p', 'hsa-miR-6509-5p', 'hsa-miR-6509-3p', 'hsa-miR-6510-5p', 'hsa-miR-6510-3p', 'hsa-miR-6511a-5p', 'hsa-miR-6511a-3p', 'hsa-miR-6512-5p', 'hsa-miR-6512-3p', 'hsa-miR-6513-5p', 'hsa-miR-6513-3p', 'hsa-miR-6514-5p', 'hsa-miR-6514-3p', 'hsa-miR-6515-5p', 'hsa-miR-6515-3p', 'hsa-miR-6715a-3p', 'hsa-miR-6715b-5p', 'hsa-miR-6715b-3p', 'hsa-miR-6716-5p', 'hsa-miR-6716-3p', 'hsa-miR-6717-5p', 'hsa-miR-6511b-5p', 'hsa-miR-6511b-3p', 'hsa-miR-6718-5p', 'hsa-miR-6719-3p', 'hsa-miR-6720-3p', 'hsa-miR-6721-5p', 'hsa-miR-6722-5p', 'hsa-miR-6722-3p', 'hsa-miR-6723-5p', 'hsa-miR-6724-5p', 'hsa-miR-892c-5p', 'hsa-miR-892c-3p', 'hsa-let-7c-3p', 'hsa-miR-95-5p', 'hsa-miR-208a-5p', 'hsa-miR-210-5p', 'hsa-miR-215-3p', 'hsa-miR-128-1-5p', 'hsa-miR-133a-5p', 'hsa-miR-152-5p', 'hsa-miR-153-5p', 'hsa-miR-134-3p', 'hsa-miR-190a-3p', 'hsa-miR-370-5p', 'hsa-miR-372-5p', 'hsa-miR-383-3p', 'hsa-miR-328-5p', 'hsa-miR-433-5p', 'hsa-miR-329-5p', 'hsa-miR-412-5p', 'hsa-miR-410-5p', 'hsa-miR-487a-5p', 'hsa-miR-489-5p', 'hsa-miR-511-3p', 'hsa-miR-494-5p', 'hsa-miR-181d-3p', 'hsa-miR-520f-5p', 'hsa-miR-519d-5p', 'hsa-miR-520g-5p', 'hsa-miR-504-3p', 'hsa-miR-510-3p', 'hsa-miR-487b-5p', 'hsa-miR-552-5p', 'hsa-miR-579-5p', 'hsa-miR-580-5p', 'hsa-miR-585-5p', 'hsa-miR-597-3p', 'hsa-miR-598-5p', 'hsa-miR-605-3p', 'hsa-miR-619-5p', 'hsa-miR-627-3p', 'hsa-miR-651-3p', 'hsa-miR-653-3p', 'hsa-miR-655-5p', 'hsa-miR-656-5p', 'hsa-miR-668-5p', 'hsa-miR-1296-3p', 'hsa-miR-1468-3p', 'hsa-miR-1301-5p', 'hsa-miR-670-3p', 'hsa-miR-1298-3p', 'hsa-miR-891a-3p', 'hsa-miR-874-5p', 'hsa-miR-889-5p', 'hsa-miR-887-5p', 'hsa-miR-216b-3p', 'hsa-miR-208b-5p', 'hsa-miR-942-3p', 'hsa-miR-1180-5p', 'hsa-miR-548e-5p', 'hsa-miR-548j-3p', 'hsa-miR-1287-3p', 'hsa-miR-548f-5p', 'hsa-miR-1250-3p', 'hsa-miR-1251-3p', 'hsa-miR-1266-3p', 'hsa-miR-1288-5p', 'hsa-miR-1252-3p', 'hsa-miR-513b-3p', 'hsa-miR-1537-5p', 'hsa-miR-1908-3p', 'hsa-miR-1910-3p', 'hsa-miR-2276-5p', 'hsa-miR-3151-3p', 'hsa-miR-3192-3p', 'hsa-miR-500b-3p', 'hsa-miR-3912-5p', 'hsa-miR-3928-5p', 'hsa-miR-1343-5p', 'hsa-miR-5088-3p', 'hsa-miR-5189-3p', 'hsa-miR-5699-5p', 'hsa-miR-6720-5p', 'hsa-miR-6726-5p', 'hsa-miR-6726-3p', 'hsa-miR-6727-5p', 'hsa-miR-6727-3p', 'hsa-miR-6728-5p', 'hsa-miR-6728-3p', 'hsa-miR-6729-5p', 'hsa-miR-6729-3p', 'hsa-miR-6730-5p', 'hsa-miR-6730-3p', 'hsa-miR-6731-5p', 'hsa-miR-6731-3p', 'hsa-miR-6732-5p', 'hsa-miR-6732-3p', 'hsa-miR-6733-5p', 'hsa-miR-6733-3p', 'hsa-miR-6734-5p', 'hsa-miR-6734-3p', 'hsa-miR-6735-5p', 'hsa-miR-6735-3p', 'hsa-miR-6736-5p', 'hsa-miR-6736-3p', 'hsa-miR-6737-5p', 'hsa-miR-6737-3p', 'hsa-miR-6738-5p', 'hsa-miR-6738-3p', 'hsa-miR-6739-5p', 'hsa-miR-6739-3p', 'hsa-miR-6740-5p', 'hsa-miR-6740-3p', 'hsa-miR-6741-5p', 'hsa-miR-6741-3p', 'hsa-miR-6742-5p', 'hsa-miR-6742-3p', 'hsa-miR-6743-5p', 'hsa-miR-6743-3p', 'hsa-miR-6744-5p', 'hsa-miR-6744-3p', 'hsa-miR-6745', 'hsa-miR-6746-5p', 'hsa-miR-6746-3p', 'hsa-miR-6747-5p', 'hsa-miR-6747-3p', 'hsa-miR-6748-5p', 'hsa-miR-6748-3p', 'hsa-miR-6749-5p', 'hsa-miR-6749-3p', 'hsa-miR-6750-5p', 'hsa-miR-6750-3p', 'hsa-miR-6751-5p', 'hsa-miR-6751-3p', 'hsa-miR-6752-5p', 'hsa-miR-6752-3p', 'hsa-miR-6753-5p', 'hsa-miR-6753-3p', 'hsa-miR-6754-5p', 'hsa-miR-6754-3p', 'hsa-miR-6755-5p', 'hsa-miR-6755-3p', 'hsa-miR-6756-5p', 'hsa-miR-6756-3p', 'hsa-miR-6757-5p', 'hsa-miR-6757-3p', 'hsa-miR-6758-5p', 'hsa-miR-6758-3p', 'hsa-miR-6759-5p', 'hsa-miR-6759-3p', 'hsa-miR-6760-5p', 'hsa-miR-6760-3p', 'hsa-miR-6761-5p', 'hsa-miR-6761-3p', 'hsa-miR-6762-5p', 'hsa-miR-6762-3p', 'hsa-miR-6763-5p', 'hsa-miR-6763-3p', 'hsa-miR-6764-5p', 'hsa-miR-6764-3p', 'hsa-miR-6765-5p', 'hsa-miR-6765-3p', 'hsa-miR-6766-5p', 'hsa-miR-6766-3p', 'hsa-miR-6767-5p', 'hsa-miR-6767-3p', 'hsa-miR-6768-5p', 'hsa-miR-6768-3p', 'hsa-miR-6769a-5p', 'hsa-miR-6769a-3p', 'hsa-miR-6770-5p', 'hsa-miR-6770-3p', 'hsa-miR-6771-5p', 'hsa-miR-6771-3p', 'hsa-miR-6772-5p', 'hsa-miR-6772-3p', 'hsa-miR-6773-5p', 'hsa-miR-6773-3p', 'hsa-miR-6774-5p', 'hsa-miR-6774-3p', 'hsa-miR-6775-5p', 'hsa-miR-6775-3p', 'hsa-miR-6776-5p', 'hsa-miR-6776-3p', 'hsa-miR-6777-5p', 'hsa-miR-6777-3p', 'hsa-miR-6778-5p', 'hsa-miR-6778-3p', 'hsa-miR-6779-5p', 'hsa-miR-6779-3p', 'hsa-miR-6780a-5p', 'hsa-miR-6780a-3p', 'hsa-miR-6781-5p', 'hsa-miR-6781-3p', 'hsa-miR-6782-5p', 'hsa-miR-6782-3p', 'hsa-miR-6783-5p', 'hsa-miR-6783-3p', 'hsa-miR-6784-5p', 'hsa-miR-6784-3p', 'hsa-miR-6785-5p', 'hsa-miR-6785-3p', 'hsa-miR-6786-5p', 'hsa-miR-6786-3p', 'hsa-miR-6787-5p', 'hsa-miR-6787-3p', 'hsa-miR-6788-5p', 'hsa-miR-6788-3p', 'hsa-miR-6789-5p', 'hsa-miR-6789-3p', 'hsa-miR-6790-5p', 'hsa-miR-6790-3p', 'hsa-miR-6791-5p', 'hsa-miR-6791-3p', 'hsa-miR-6792-5p', 'hsa-miR-6792-3p', 'hsa-miR-6793-5p', 'hsa-miR-6793-3p', 'hsa-miR-6794-5p', 'hsa-miR-6794-3p', 'hsa-miR-6795-5p', 'hsa-miR-6795-3p', 'hsa-miR-6796-5p', 'hsa-miR-6796-3p', 'hsa-miR-6797-5p', 'hsa-miR-6797-3p', 'hsa-miR-6798-5p', 'hsa-miR-6798-3p', 'hsa-miR-6799-5p', 'hsa-miR-6799-3p', 'hsa-miR-6800-5p', 'hsa-miR-6800-3p', 'hsa-miR-6801-5p', 'hsa-miR-6801-3p', 'hsa-miR-6802-5p', 'hsa-miR-6802-3p', 'hsa-miR-6803-5p', 'hsa-miR-6803-3p', 'hsa-miR-6804-5p', 'hsa-miR-6804-3p', 'hsa-miR-6805-5p', 'hsa-miR-6805-3p', 'hsa-miR-6806-5p', 'hsa-miR-6806-3p', 'hsa-miR-6807-5p', 'hsa-miR-6807-3p', 'hsa-miR-6808-5p', 'hsa-miR-6808-3p', 'hsa-miR-6809-5p', 'hsa-miR-6809-3p', 'hsa-miR-6810-5p', 'hsa-miR-6810-3p', 'hsa-miR-6811-5p', 'hsa-miR-6811-3p', 'hsa-miR-6812-5p', 'hsa-miR-6812-3p', 'hsa-miR-6813-5p', 'hsa-miR-6813-3p', 'hsa-miR-6814-5p', 'hsa-miR-6814-3p', 'hsa-miR-6815-5p', 'hsa-miR-6815-3p', 'hsa-miR-6816-5p', 'hsa-miR-6816-3p', 'hsa-miR-6817-5p', 'hsa-miR-6817-3p', 'hsa-miR-6818-5p', 'hsa-miR-6818-3p', 'hsa-miR-6819-5p', 'hsa-miR-6819-3p', 'hsa-miR-6820-5p', 'hsa-miR-6820-3p', 'hsa-miR-6821-5p', 'hsa-miR-6821-3p', 'hsa-miR-6822-5p', 'hsa-miR-6822-3p', 'hsa-miR-6823-5p', 'hsa-miR-6823-3p', 'hsa-miR-6824-5p', 'hsa-miR-6824-3p', 'hsa-miR-6825-5p', 'hsa-miR-6825-3p', 'hsa-miR-6826-5p', 'hsa-miR-6826-3p', 'hsa-miR-6827-5p', 'hsa-miR-6827-3p', 'hsa-miR-6828-5p', 'hsa-miR-6828-3p', 'hsa-miR-6829-5p', 'hsa-miR-6829-3p', 'hsa-miR-6830-5p', 'hsa-miR-6830-3p', 'hsa-miR-6831-5p', 'hsa-miR-6831-3p', 'hsa-miR-6832-5p', 'hsa-miR-6832-3p', 'hsa-miR-6833-5p', 'hsa-miR-6833-3p', 'hsa-miR-6834-5p', 'hsa-miR-6834-3p', 'hsa-miR-6835-5p', 'hsa-miR-6835-3p', 'hsa-miR-6780b-5p', 'hsa-miR-6780b-3p', 'hsa-miR-6836-5p', 'hsa-miR-6836-3p', 'hsa-miR-6837-5p', 'hsa-miR-6837-3p', 'hsa-miR-6838-5p', 'hsa-miR-6838-3p', 'hsa-miR-6839-5p', 'hsa-miR-6839-3p', 'hsa-miR-6840-5p', 'hsa-miR-6840-3p', 'hsa-miR-6841-5p', 'hsa-miR-6841-3p', 'hsa-miR-6842-5p', 'hsa-miR-6842-3p', 'hsa-miR-6843-3p', 'hsa-miR-6844', 'hsa-miR-6845-5p', 'hsa-miR-6845-3p', 'hsa-miR-6846-5p', 'hsa-miR-6846-3p', 'hsa-miR-6847-5p', 'hsa-miR-6847-3p', 'hsa-miR-6848-5p', 'hsa-miR-6848-3p', 'hsa-miR-6849-5p', 'hsa-miR-6849-3p', 'hsa-miR-6850-5p', 'hsa-miR-6850-3p', 'hsa-miR-6851-5p', 'hsa-miR-6851-3p', 'hsa-miR-6852-5p', 'hsa-miR-6852-3p', 'hsa-miR-6853-5p', 'hsa-miR-6853-3p', 'hsa-miR-6854-5p', 'hsa-miR-6854-3p', 'hsa-miR-6855-5p', 'hsa-miR-6855-3p', 'hsa-miR-6856-5p', 'hsa-miR-6856-3p', 'hsa-miR-6857-5p', 'hsa-miR-6857-3p', 'hsa-miR-6858-5p', 'hsa-miR-6858-3p', 'hsa-miR-6859-5p', 'hsa-miR-6859-3p', 'hsa-miR-6769b-5p', 'hsa-miR-6769b-3p', 'hsa-miR-6860', 'hsa-miR-6861-5p', 'hsa-miR-6861-3p', 'hsa-miR-6862-5p', 'hsa-miR-6862-3p', 'hsa-miR-6863', 'hsa-miR-6864-5p', 'hsa-miR-6864-3p', 'hsa-miR-6865-5p', 'hsa-miR-6865-3p', 'hsa-miR-6866-5p', 'hsa-miR-6866-3p', 'hsa-miR-6867-5p', 'hsa-miR-6867-3p', 'hsa-miR-6868-5p', 'hsa-miR-6868-3p', 'hsa-miR-6869-5p', 'hsa-miR-6869-3p', 'hsa-miR-6870-5p', 'hsa-miR-6870-3p', 'hsa-miR-6871-5p', 'hsa-miR-6871-3p', 'hsa-miR-6872-5p', 'hsa-miR-6872-3p', 'hsa-miR-6873-5p', 'hsa-miR-6873-3p', 'hsa-miR-6874-5p', 'hsa-miR-6874-3p', 'hsa-miR-6875-5p', 'hsa-miR-6875-3p', 'hsa-miR-6876-5p', 'hsa-miR-6876-3p', 'hsa-miR-6877-5p', 'hsa-miR-6877-3p', 'hsa-miR-6878-5p', 'hsa-miR-6878-3p', 'hsa-miR-6879-5p', 'hsa-miR-6879-3p', 'hsa-miR-6880-5p', 'hsa-miR-6880-3p', 'hsa-miR-6881-5p', 'hsa-miR-6881-3p', 'hsa-miR-6882-5p', 'hsa-miR-6882-3p', 'hsa-miR-6883-5p', 'hsa-miR-6883-3p', 'hsa-miR-6884-5p', 'hsa-miR-6884-3p', 'hsa-miR-6885-5p', 'hsa-miR-6885-3p', 'hsa-miR-6886-5p', 'hsa-miR-6886-3p', 'hsa-miR-6887-5p', 'hsa-miR-6887-3p', 'hsa-miR-6888-5p', 'hsa-miR-6888-3p', 'hsa-miR-6889-5p', 'hsa-miR-6889-3p', 'hsa-miR-6890-5p', 'hsa-miR-6890-3p', 'hsa-miR-6891-5p', 'hsa-miR-6891-3p', 'hsa-miR-6892-5p', 'hsa-miR-6892-3p', 'hsa-miR-6893-5p', 'hsa-miR-6893-3p', 'hsa-miR-6894-5p', 'hsa-miR-6894-3p', 'hsa-miR-6895-5p', 'hsa-miR-6895-3p', 'hsa-miR-7106-5p', 'hsa-miR-7106-3p', 'hsa-miR-7107-5p', 'hsa-miR-7107-3p', 'hsa-miR-7108-5p', 'hsa-miR-7108-3p', 'hsa-miR-7109-5p', 'hsa-miR-7109-3p', 'hsa-miR-7110-5p', 'hsa-miR-7110-3p', 'hsa-miR-7111-5p', 'hsa-miR-7111-3p', 'hsa-miR-7112-5p', 'hsa-miR-7112-3p', 'hsa-miR-7113-5p', 'hsa-miR-7113-3p', 'hsa-miR-7114-5p', 'hsa-miR-7114-3p', 'hsa-miR-7150', 'hsa-miR-7151-5p', 'hsa-miR-7151-3p', 'hsa-miR-7152-5p', 'hsa-miR-7152-3p', 'hsa-miR-7153-5p', 'hsa-miR-7153-3p', 'hsa-miR-7154-5p', 'hsa-miR-7154-3p', 'hsa-miR-7155-5p', 'hsa-miR-7155-3p', 'hsa-miR-7156-5p', 'hsa-miR-7156-3p', 'hsa-miR-7157-5p', 'hsa-miR-7157-3p', 'hsa-miR-7158-5p', 'hsa-miR-7158-3p', 'hsa-miR-7159-5p', 'hsa-miR-7159-3p', 'hsa-miR-7160-5p', 'hsa-miR-7160-3p', 'hsa-miR-7161-5p', 'hsa-miR-7161-3p', 'hsa-miR-7162-5p', 'hsa-miR-7162-3p', 'hsa-miR-7515', 'hsa-miR-7641', 'hsa-miR-7702', 'hsa-miR-7703', 'hsa-miR-7704', 'hsa-miR-7705', 'hsa-miR-7706', 'hsa-miR-7843-5p', 'hsa-miR-7843-3p', 'hsa-miR-4433b-5p', 'hsa-miR-4433b-3p', 'hsa-miR-1273h-5p', 'hsa-miR-1273h-3p', 'hsa-miR-6516-5p', 'hsa-miR-6516-3p', 'hsa-miR-7844-5p', 'hsa-miR-7845-5p', 'hsa-miR-7846-3p', 'hsa-miR-7847-3p', 'hsa-miR-7848-3p', 'hsa-miR-7849-3p', 'hsa-miR-7850-5p', 'hsa-miR-7851-3p', 'hsa-miR-7852-3p', 'hsa-miR-7853-5p', 'hsa-miR-7854-3p', 'hsa-miR-7855-5p', 'hsa-miR-7856-5p', 'hsa-miR-8052', 'hsa-miR-8053', 'hsa-miR-8054', 'hsa-miR-8055', 'hsa-miR-8056', 'hsa-miR-8057', 'hsa-miR-8058', 'hsa-miR-8059', 'hsa-miR-8060', 'hsa-miR-8061', 'hsa-miR-8062', 'hsa-miR-8063', 'hsa-miR-8064', 'hsa-miR-8065', 'hsa-miR-8066', 'hsa-miR-8067', 'hsa-miR-8068', 'hsa-miR-8069', 'hsa-miR-8070', 'hsa-miR-8071', 'hsa-miR-8072', 'hsa-miR-8073', 'hsa-miR-8074', 'hsa-miR-8075', 'hsa-miR-8076', 'hsa-miR-8077', 'hsa-miR-8078', 'hsa-miR-8079', 'hsa-miR-8080', 'hsa-miR-8081', 'hsa-miR-8082', 'hsa-miR-8083', 'hsa-miR-8084', 'hsa-miR-8085', 'hsa-miR-8086', 'hsa-miR-8087', 'hsa-miR-8088', 'hsa-miR-8089', 'hsa-miR-450a-2-3p', 'hsa-miR-128-2-5p', 'hsa-miR-1199-5p', 'hsa-miR-1199-3p', 'hsa-miR-548ba', 'hsa-miR-7973', 'hsa-miR-7974', 'hsa-miR-7975', 'hsa-miR-7976', 'hsa-miR-7977', 'hsa-miR-7978']\n"
     ]
    }
   ],
   "source": [
    "# save the values of the first column as a list\n",
    "row_names_list = df_ge.iloc[:, 0].tolist()\n",
    "\n",
    "H_miRNA = row_names_list.copy()\n",
    "\n",
    "print(H_miRNA)"
   ]
  },
  {
   "cell_type": "markdown",
   "id": "757867f1",
   "metadata": {},
   "source": [
    "#### Extract the Feature Importance"
   ]
  },
  {
   "cell_type": "code",
   "execution_count": 32,
   "id": "640840ff",
   "metadata": {},
   "outputs": [],
   "source": [
    "df = pd.read_csv('data/raw/feature_importance_prod_final.csv')\n",
    "\n",
    "# sort the dataframe by the integer values of the column \"Feature\"\n",
    "df['Feature'] = df['Feature'].astype(int)\n",
    "df = df.sort_values(by='Feature')\n",
    "\n",
    "# remove the \"Importance\" column\n",
    "df = df.drop(columns=['Importance'])\n",
    "\n",
    "# obtain a new .csv file with the sorted dataframe\n",
    "df.to_csv('data/result/feature_importance_sorted.csv', index=False)\n",
    "\n",
    "feature_importance = df.values[:, 1:]  # Exclude the 'Feature' column"
   ]
  },
  {
   "cell_type": "markdown",
   "id": "e64176b6",
   "metadata": {},
   "source": [
    "## Analysis of initial data"
   ]
  },
  {
   "cell_type": "markdown",
   "id": "690f7efd",
   "metadata": {},
   "source": [
    "### Verifying if P = X * H"
   ]
  },
  {
   "cell_type": "code",
   "execution_count": 15,
   "id": "0a25946c",
   "metadata": {},
   "outputs": [
    {
     "name": "stdout",
     "output_type": "stream",
     "text": [
      "(1256, 128)\n",
      "(1256, 2558)\n",
      "(2558, 128)\n"
     ]
    }
   ],
   "source": [
    "print(P.shape)\n",
    "print(X.shape)\n",
    "print(H.shape)"
   ]
  },
  {
   "cell_type": "code",
   "execution_count": 38,
   "id": "c88f3ab2",
   "metadata": {},
   "outputs": [
    {
     "name": "stdout",
     "output_type": "stream",
     "text": [
      "X_miRNA and H_miRNA are the same.\n",
      "P_patients and X_patients are the same.\n"
     ]
    }
   ],
   "source": [
    "# check if X_miRNA and H_miRNA are the same\n",
    "if X_miRNA == H_miRNA:\n",
    "    print(\"X_miRNA and H_miRNA are the same.\")\n",
    "else:\n",
    "    print(\"X_miRNA and H_miRNA are different.\")\n",
    "\n",
    "# check if P_patients and X_patients are the same\n",
    "if P_patients == X_patients:\n",
    "    print(\"P_patients and X_patients are the same.\")\n",
    "else:\n",
    "    print(\"P_patients and X_patients are different.\")"
   ]
  },
  {
   "cell_type": "code",
   "execution_count": null,
   "id": "cbd92949",
   "metadata": {},
   "outputs": [
    {
     "name": "stdout",
     "output_type": "stream",
     "text": [
      "R² globale  : -107920739.21457087\n",
      "MSE globale : 1554301.665152844\n"
     ]
    }
   ],
   "source": [
    "import numpy as np\n",
    "from sklearn.metrics import r2_score, mean_squared_error\n",
    "\n",
    "P_hat = X @ H                           # n_paz × 128\n",
    "R2_global = r2_score(P.ravel(), P_hat.ravel())\n",
    "MSE_global = mean_squared_error(P, P_hat)\n",
    "\n",
    "print(\"R² global  :\", R2_global)\n",
    "print(\"MSE global :\", MSE_global)\n"
   ]
  },
  {
   "cell_type": "code",
   "execution_count": 40,
   "id": "7a596453",
   "metadata": {},
   "outputs": [],
   "source": [
    "scaler_X = StandardScaler().fit(X)\n",
    "scaler_P = StandardScaler().fit(P)\n",
    "\n",
    "Xz = scaler_X.transform(X)    # shape (n, m)\n",
    "Pz = scaler_P.transform(P)    # shape (n, 128)"
   ]
  },
  {
   "cell_type": "code",
   "execution_count": 41,
   "id": "d8bcb02b",
   "metadata": {},
   "outputs": [
    {
     "name": "stdout",
     "output_type": "stream",
     "text": [
      "(1256, 2558) (1256, 128)\n"
     ]
    }
   ],
   "source": [
    "print(X.shape, P.shape)\n"
   ]
  },
  {
   "cell_type": "code",
   "execution_count": null,
   "id": "f253ac5a",
   "metadata": {},
   "outputs": [
    {
     "name": "stdout",
     "output_type": "stream",
     "text": [
      "R² pseudoinversa: 1.0\n"
     ]
    }
   ],
   "source": [
    "from numpy.linalg import pinv\n",
    "\n",
    "W_pinv = pinv(Xz) @ Pz        # shape (m, 128)  (m = n° miRNA)\n",
    "P_hat  = Xz @ W_pinv          # rebuilding P from X\n",
    "\n",
    "# R² globale\n",
    "from sklearn.metrics import r2_score\n",
    "r2_pinv = r2_score(Pz.ravel(), P_hat.ravel())\n",
    "print(\"R² pseudo-inverse:\", r2_pinv)\n"
   ]
  },
  {
   "cell_type": "markdown",
   "id": "7b034b1b",
   "metadata": {},
   "source": [
    "## Correlation Analysis"
   ]
  },
  {
   "cell_type": "markdown",
   "id": "7e42bd13",
   "metadata": {},
   "source": [
    "### Pseudo-inverse Coefficients computation"
   ]
  },
  {
   "cell_type": "code",
   "execution_count": 89,
   "id": "e5bed2e6",
   "metadata": {},
   "outputs": [],
   "source": [
    "importance_df = pd.read_csv(\"data/result/feature_importance_sorted.csv\")\n",
    "importance_df = importance_df.sort_values(by=\"Normalized_Importance\", ascending=False)\n",
    "top_features = importance_df[\"Feature\"].values\n",
    "\n",
    "scaler_X = StandardScaler()\n",
    "scaler_P = StandardScaler()\n",
    "\n",
    "X_scaled = scaler_X.fit_transform(X)\n",
    "P_scaled = scaler_P.fit_transform(P)"
   ]
  },
  {
   "cell_type": "code",
   "execution_count": null,
   "id": "5f7b790b",
   "metadata": {},
   "outputs": [],
   "source": [
    "# Pseudo‑inverse computation\n",
    "X_pinv = pinv(X_scaled)          \n",
    "W_full = X_pinv @ P_scaled       \n",
    "W_full = W_full.T               "
   ]
  },
  {
   "cell_type": "code",
   "execution_count": null,
   "id": "e115acec",
   "metadata": {},
   "outputs": [
    {
     "data": {
      "text/plain": [
       "[('hsa-miR-6729-5p', 3.502095081509349),\n",
       " ('hsa-miR-1908-5p', 3.004297624786519),\n",
       " ('hsa-miR-371a-5p', 2.473545699725709),\n",
       " ('hsa-miR-7704', 2.457462590707732),\n",
       " ('hsa-miR-6780a-3p', 2.4036474642084844),\n",
       " ('hsa-miR-4734', 2.205871573863652),\n",
       " ('hsa-miR-5787', 1.7557656150002763),\n",
       " ('hsa-miR-6895-5p', 1.5466965590461002),\n",
       " ('hsa-miR-4787-5p', 1.5293416115589757),\n",
       " ('hsa-miR-4306', 1.4447031307918008)]"
      ]
     },
     "execution_count": 95,
     "metadata": {},
     "output_type": "execute_result"
    }
   ],
   "source": [
    "# Computing importance of each miRNA\n",
    "importance = np.linalg.norm(W_full, axis=0)   \n",
    "miRNA_rank = np.argsort(importance)[::-1]     \n",
    "importance_sorted = importance[miRNA_rank]\n",
    "miRNA_sorted = [X_miRNA[i] for i in miRNA_rank]\n",
    "\n",
    "list(zip(miRNA_sorted[:10], importance_sorted[:10]))\n"
   ]
  },
  {
   "cell_type": "code",
   "execution_count": null,
   "id": "77c994f3",
   "metadata": {},
   "outputs": [],
   "source": [
    "top_k = 300              \n",
    "keep_idx = miRNA_rank[:top_k]\n",
    "\n",
    "# reducing X and W\n",
    "X_reduced = X_scaled[:, keep_idx]       \n",
    "W_reduced = W_full[:, keep_idx]         \n",
    "miRNA_kept = [X_miRNA[i] for i in keep_idx]\n"
   ]
  },
  {
   "cell_type": "code",
   "execution_count": null,
   "id": "c33d811c",
   "metadata": {},
   "outputs": [
    {
     "data": {
      "application/vnd.microsoft.datawrangler.viewer.v0+json": {
       "columns": [
        {
         "name": "index",
         "rawType": "int64",
         "type": "integer"
        },
        {
         "name": "Feature",
         "rawType": "int32",
         "type": "integer"
        },
        {
         "name": "hsa-miR-6729-5p",
         "rawType": "float64",
         "type": "float"
        },
        {
         "name": "hsa-miR-1908-5p",
         "rawType": "float64",
         "type": "float"
        },
        {
         "name": "hsa-miR-371a-5p",
         "rawType": "float64",
         "type": "float"
        },
        {
         "name": "hsa-miR-7704",
         "rawType": "float64",
         "type": "float"
        },
        {
         "name": "hsa-miR-6780a-3p",
         "rawType": "float64",
         "type": "float"
        },
        {
         "name": "hsa-miR-4734",
         "rawType": "float64",
         "type": "float"
        },
        {
         "name": "hsa-miR-5787",
         "rawType": "float64",
         "type": "float"
        },
        {
         "name": "hsa-miR-6895-5p",
         "rawType": "float64",
         "type": "float"
        },
        {
         "name": "hsa-miR-4787-5p",
         "rawType": "float64",
         "type": "float"
        },
        {
         "name": "hsa-miR-4306",
         "rawType": "float64",
         "type": "float"
        },
        {
         "name": "hsa-miR-3665",
         "rawType": "float64",
         "type": "float"
        },
        {
         "name": "hsa-miR-1281",
         "rawType": "float64",
         "type": "float"
        },
        {
         "name": "hsa-miR-1268a",
         "rawType": "float64",
         "type": "float"
        },
        {
         "name": "hsa-miR-2861",
         "rawType": "float64",
         "type": "float"
        },
        {
         "name": "hsa-miR-4739",
         "rawType": "float64",
         "type": "float"
        },
        {
         "name": "hsa-miR-6090",
         "rawType": "float64",
         "type": "float"
        },
        {
         "name": "hsa-miR-1915-3p",
         "rawType": "float64",
         "type": "float"
        },
        {
         "name": "hsa-miR-8072",
         "rawType": "float64",
         "type": "float"
        },
        {
         "name": "hsa-miR-6125",
         "rawType": "float64",
         "type": "float"
        },
        {
         "name": "hsa-miR-6810-3p",
         "rawType": "float64",
         "type": "float"
        },
        {
         "name": "hsa-miR-4745-5p",
         "rawType": "float64",
         "type": "float"
        },
        {
         "name": "hsa-miR-3187-5p",
         "rawType": "float64",
         "type": "float"
        },
        {
         "name": "hsa-miR-92b-5p",
         "rawType": "float64",
         "type": "float"
        },
        {
         "name": "hsa-miR-663b",
         "rawType": "float64",
         "type": "float"
        },
        {
         "name": "hsa-miR-6862-3p",
         "rawType": "float64",
         "type": "float"
        },
        {
         "name": "hsa-miR-6087",
         "rawType": "float64",
         "type": "float"
        },
        {
         "name": "hsa-miR-150-5p",
         "rawType": "float64",
         "type": "float"
        },
        {
         "name": "hsa-miR-4532",
         "rawType": "float64",
         "type": "float"
        },
        {
         "name": "hsa-miR-6803-5p",
         "rawType": "float64",
         "type": "float"
        },
        {
         "name": "hsa-miR-3180-3p",
         "rawType": "float64",
         "type": "float"
        },
        {
         "name": "hsa-miR-4440",
         "rawType": "float64",
         "type": "float"
        },
        {
         "name": "hsa-miR-4488",
         "rawType": "float64",
         "type": "float"
        },
        {
         "name": "hsa-miR-638",
         "rawType": "float64",
         "type": "float"
        },
        {
         "name": "hsa-miR-6851-5p",
         "rawType": "float64",
         "type": "float"
        },
        {
         "name": "hsa-miR-6741-3p",
         "rawType": "float64",
         "type": "float"
        },
        {
         "name": "hsa-miR-484",
         "rawType": "float64",
         "type": "float"
        },
        {
         "name": "hsa-miR-1237-5p",
         "rawType": "float64",
         "type": "float"
        },
        {
         "name": "hsa-miR-6829-3p",
         "rawType": "float64",
         "type": "float"
        },
        {
         "name": "hsa-miR-8069",
         "rawType": "float64",
         "type": "float"
        },
        {
         "name": "hsa-miR-5196-5p",
         "rawType": "float64",
         "type": "float"
        },
        {
         "name": "hsa-miR-557",
         "rawType": "float64",
         "type": "float"
        },
        {
         "name": "hsa-miR-6793-5p",
         "rawType": "float64",
         "type": "float"
        },
        {
         "name": "hsa-miR-4265",
         "rawType": "float64",
         "type": "float"
        },
        {
         "name": "hsa-miR-3663-3p",
         "rawType": "float64",
         "type": "float"
        },
        {
         "name": "hsa-miR-6869-5p",
         "rawType": "float64",
         "type": "float"
        },
        {
         "name": "hsa-miR-6757-5p",
         "rawType": "float64",
         "type": "float"
        },
        {
         "name": "hsa-miR-6126",
         "rawType": "float64",
         "type": "float"
        },
        {
         "name": "hsa-miR-3937",
         "rawType": "float64",
         "type": "float"
        },
        {
         "name": "hsa-miR-4642",
         "rawType": "float64",
         "type": "float"
        },
        {
         "name": "hsa-miR-6820-3p",
         "rawType": "float64",
         "type": "float"
        },
        {
         "name": "hsa-miR-6732-5p",
         "rawType": "float64",
         "type": "float"
        },
        {
         "name": "hsa-miR-6849-5p",
         "rawType": "float64",
         "type": "float"
        },
        {
         "name": "hsa-let-7b-3p",
         "rawType": "float64",
         "type": "float"
        },
        {
         "name": "hsa-miR-4682",
         "rawType": "float64",
         "type": "float"
        },
        {
         "name": "hsa-miR-671-5p",
         "rawType": "float64",
         "type": "float"
        },
        {
         "name": "hsa-miR-3648",
         "rawType": "float64",
         "type": "float"
        },
        {
         "name": "hsa-miR-4787-3p",
         "rawType": "float64",
         "type": "float"
        },
        {
         "name": "hsa-miR-6786-5p",
         "rawType": "float64",
         "type": "float"
        },
        {
         "name": "hsa-miR-6890-5p",
         "rawType": "float64",
         "type": "float"
        },
        {
         "name": "hsa-miR-1538",
         "rawType": "float64",
         "type": "float"
        },
        {
         "name": "hsa-miR-6790-5p",
         "rawType": "float64",
         "type": "float"
        },
        {
         "name": "hsa-miR-4721",
         "rawType": "float64",
         "type": "float"
        },
        {
         "name": "hsa-miR-3928-3p",
         "rawType": "float64",
         "type": "float"
        },
        {
         "name": "hsa-miR-6736-5p",
         "rawType": "float64",
         "type": "float"
        },
        {
         "name": "hsa-miR-4780",
         "rawType": "float64",
         "type": "float"
        },
        {
         "name": "hsa-miR-6781-5p",
         "rawType": "float64",
         "type": "float"
        },
        {
         "name": "hsa-miR-6892-3p",
         "rawType": "float64",
         "type": "float"
        },
        {
         "name": "hsa-miR-3144-5p",
         "rawType": "float64",
         "type": "float"
        },
        {
         "name": "hsa-miR-6769b-5p",
         "rawType": "float64",
         "type": "float"
        },
        {
         "name": "hsa-miR-8060",
         "rawType": "float64",
         "type": "float"
        },
        {
         "name": "hsa-miR-4279",
         "rawType": "float64",
         "type": "float"
        },
        {
         "name": "hsa-miR-6514-3p",
         "rawType": "float64",
         "type": "float"
        },
        {
         "name": "hsa-miR-1469",
         "rawType": "float64",
         "type": "float"
        },
        {
         "name": "hsa-miR-4497",
         "rawType": "float64",
         "type": "float"
        },
        {
         "name": "hsa-miR-4651",
         "rawType": "float64",
         "type": "float"
        },
        {
         "name": "hsa-miR-6795-3p",
         "rawType": "float64",
         "type": "float"
        },
        {
         "name": "hsa-miR-2276-3p",
         "rawType": "float64",
         "type": "float"
        },
        {
         "name": "hsa-miR-204-3p",
         "rawType": "float64",
         "type": "float"
        },
        {
         "name": "hsa-miR-518c-5p",
         "rawType": "float64",
         "type": "float"
        },
        {
         "name": "hsa-miR-92a-3p",
         "rawType": "float64",
         "type": "float"
        },
        {
         "name": "hsa-miR-3158-5p",
         "rawType": "float64",
         "type": "float"
        },
        {
         "name": "hsa-miR-6823-3p",
         "rawType": "float64",
         "type": "float"
        },
        {
         "name": "hsa-miR-6742-3p",
         "rawType": "float64",
         "type": "float"
        },
        {
         "name": "hsa-miR-6511b-3p",
         "rawType": "float64",
         "type": "float"
        },
        {
         "name": "hsa-miR-6787-3p",
         "rawType": "float64",
         "type": "float"
        },
        {
         "name": "hsa-miR-887-3p",
         "rawType": "float64",
         "type": "float"
        },
        {
         "name": "hsa-miR-676-3p",
         "rawType": "float64",
         "type": "float"
        },
        {
         "name": "hsa-miR-5696",
         "rawType": "float64",
         "type": "float"
        },
        {
         "name": "hsa-miR-611",
         "rawType": "float64",
         "type": "float"
        },
        {
         "name": "hsa-miR-5704",
         "rawType": "float64",
         "type": "float"
        },
        {
         "name": "hsa-miR-5702",
         "rawType": "float64",
         "type": "float"
        },
        {
         "name": "hsa-miR-1321",
         "rawType": "float64",
         "type": "float"
        },
        {
         "name": "hsa-miR-3074-3p",
         "rawType": "float64",
         "type": "float"
        },
        {
         "name": "hsa-miR-28-5p",
         "rawType": "float64",
         "type": "float"
        },
        {
         "name": "hsa-miR-4709-5p",
         "rawType": "float64",
         "type": "float"
        },
        {
         "name": "hsa-miR-411-3p",
         "rawType": "float64",
         "type": "float"
        },
        {
         "name": "hsa-miR-320d",
         "rawType": "float64",
         "type": "float"
        },
        {
         "name": "hsa-miR-203a-3p",
         "rawType": "float64",
         "type": "float"
        },
        {
         "name": "hsa-miR-503-5p",
         "rawType": "float64",
         "type": "float"
        },
        {
         "name": "hsa-miR-6715a-3p",
         "rawType": "float64",
         "type": "float"
        },
        {
         "name": "hsa-miR-4281",
         "rawType": "float64",
         "type": "float"
        },
        {
         "name": "hsa-miR-4689",
         "rawType": "float64",
         "type": "float"
        },
        {
         "name": "hsa-miR-1180-3p",
         "rawType": "float64",
         "type": "float"
        },
        {
         "name": "hsa-miR-648",
         "rawType": "float64",
         "type": "float"
        },
        {
         "name": "hsa-miR-519e-3p",
         "rawType": "float64",
         "type": "float"
        },
        {
         "name": "hsa-miR-548ak",
         "rawType": "float64",
         "type": "float"
        },
        {
         "name": "hsa-miR-4781-5p",
         "rawType": "float64",
         "type": "float"
        },
        {
         "name": "hsa-miR-182-5p",
         "rawType": "float64",
         "type": "float"
        },
        {
         "name": "hsa-miR-3170",
         "rawType": "float64",
         "type": "float"
        },
        {
         "name": "hsa-miR-548d-5p",
         "rawType": "float64",
         "type": "float"
        },
        {
         "name": "hsa-miR-6513-3p",
         "rawType": "float64",
         "type": "float"
        },
        {
         "name": "hsa-miR-2115-5p",
         "rawType": "float64",
         "type": "float"
        },
        {
         "name": "hsa-miR-33b-3p",
         "rawType": "float64",
         "type": "float"
        },
        {
         "name": "hsa-miR-302b-3p",
         "rawType": "float64",
         "type": "float"
        },
        {
         "name": "hsa-miR-5004-5p",
         "rawType": "float64",
         "type": "float"
        },
        {
         "name": "hsa-miR-181a-5p",
         "rawType": "float64",
         "type": "float"
        },
        {
         "name": "hsa-miR-759",
         "rawType": "float64",
         "type": "float"
        },
        {
         "name": "hsa-miR-2114-5p",
         "rawType": "float64",
         "type": "float"
        },
        {
         "name": "hsa-miR-1206",
         "rawType": "float64",
         "type": "float"
        },
        {
         "name": "hsa-miR-3661",
         "rawType": "float64",
         "type": "float"
        },
        {
         "name": "hsa-miR-29c-3p",
         "rawType": "float64",
         "type": "float"
        },
        {
         "name": "hsa-miR-558",
         "rawType": "float64",
         "type": "float"
        },
        {
         "name": "hsa-miR-379-5p",
         "rawType": "float64",
         "type": "float"
        },
        {
         "name": "hsa-miR-4330",
         "rawType": "float64",
         "type": "float"
        },
        {
         "name": "hsa-miR-3616-3p",
         "rawType": "float64",
         "type": "float"
        },
        {
         "name": "hsa-miR-7157-5p",
         "rawType": "float64",
         "type": "float"
        },
        {
         "name": "hsa-miR-942-3p",
         "rawType": "float64",
         "type": "float"
        },
        {
         "name": "hsa-miR-487a-3p",
         "rawType": "float64",
         "type": "float"
        },
        {
         "name": "hsa-miR-3124-5p",
         "rawType": "float64",
         "type": "float"
        },
        {
         "name": "hsa-miR-1273a",
         "rawType": "float64",
         "type": "float"
        },
        {
         "name": "hsa-miR-563",
         "rawType": "float64",
         "type": "float"
        },
        {
         "name": "hsa-miR-622",
         "rawType": "float64",
         "type": "float"
        },
        {
         "name": "hsa-miR-4794",
         "rawType": "float64",
         "type": "float"
        },
        {
         "name": "hsa-miR-579-3p",
         "rawType": "float64",
         "type": "float"
        },
        {
         "name": "hsa-miR-152-5p",
         "rawType": "float64",
         "type": "float"
        },
        {
         "name": "hsa-miR-4510",
         "rawType": "float64",
         "type": "float"
        },
        {
         "name": "hsa-miR-1256",
         "rawType": "float64",
         "type": "float"
        },
        {
         "name": "hsa-miR-6755-3p",
         "rawType": "float64",
         "type": "float"
        },
        {
         "name": "hsa-miR-5698",
         "rawType": "float64",
         "type": "float"
        },
        {
         "name": "hsa-miR-6809-5p",
         "rawType": "float64",
         "type": "float"
        },
        {
         "name": "hsa-miR-6874-5p",
         "rawType": "float64",
         "type": "float"
        },
        {
         "name": "hsa-miR-593-3p",
         "rawType": "float64",
         "type": "float"
        },
        {
         "name": "hsa-miR-4632-5p",
         "rawType": "float64",
         "type": "float"
        },
        {
         "name": "hsa-miR-323b-3p",
         "rawType": "float64",
         "type": "float"
        },
        {
         "name": "hsa-miR-302d-5p",
         "rawType": "float64",
         "type": "float"
        },
        {
         "name": "hsa-miR-4527",
         "rawType": "float64",
         "type": "float"
        },
        {
         "name": "hsa-miR-5685",
         "rawType": "float64",
         "type": "float"
        },
        {
         "name": "hsa-miR-5690",
         "rawType": "float64",
         "type": "float"
        },
        {
         "name": "hsa-miR-320c",
         "rawType": "float64",
         "type": "float"
        },
        {
         "name": "hsa-miR-4303",
         "rawType": "float64",
         "type": "float"
        },
        {
         "name": "hsa-miR-5695",
         "rawType": "float64",
         "type": "float"
        },
        {
         "name": "hsa-miR-548as-3p",
         "rawType": "float64",
         "type": "float"
        },
        {
         "name": "hsa-miR-16-2-3p",
         "rawType": "float64",
         "type": "float"
        },
        {
         "name": "hsa-miR-7158-3p",
         "rawType": "float64",
         "type": "float"
        },
        {
         "name": "hsa-miR-6516-5p",
         "rawType": "float64",
         "type": "float"
        },
        {
         "name": "hsa-miR-16-5p",
         "rawType": "float64",
         "type": "float"
        },
        {
         "name": "hsa-miR-6878-5p",
         "rawType": "float64",
         "type": "float"
        },
        {
         "name": "hsa-miR-4724-3p",
         "rawType": "float64",
         "type": "float"
        },
        {
         "name": "hsa-miR-7156-3p",
         "rawType": "float64",
         "type": "float"
        },
        {
         "name": "hsa-miR-3660",
         "rawType": "float64",
         "type": "float"
        },
        {
         "name": "hsa-miR-4420",
         "rawType": "float64",
         "type": "float"
        },
        {
         "name": "hsa-miR-3934-5p",
         "rawType": "float64",
         "type": "float"
        },
        {
         "name": "hsa-miR-4296",
         "rawType": "float64",
         "type": "float"
        },
        {
         "name": "hsa-miR-8089",
         "rawType": "float64",
         "type": "float"
        },
        {
         "name": "hsa-miR-330-3p",
         "rawType": "float64",
         "type": "float"
        },
        {
         "name": "hsa-miR-6503-5p",
         "rawType": "float64",
         "type": "float"
        },
        {
         "name": "hsa-miR-19b-1-5p",
         "rawType": "float64",
         "type": "float"
        },
        {
         "name": "hsa-miR-6856-3p",
         "rawType": "float64",
         "type": "float"
        },
        {
         "name": "hsa-miR-219b-3p",
         "rawType": "float64",
         "type": "float"
        },
        {
         "name": "hsa-miR-196b-5p",
         "rawType": "float64",
         "type": "float"
        },
        {
         "name": "hsa-miR-17-3p",
         "rawType": "float64",
         "type": "float"
        },
        {
         "name": "hsa-miR-124-5p",
         "rawType": "float64",
         "type": "float"
        },
        {
         "name": "hsa-miR-6764-3p",
         "rawType": "float64",
         "type": "float"
        },
        {
         "name": "hsa-miR-6782-5p",
         "rawType": "float64",
         "type": "float"
        },
        {
         "name": "hsa-miR-544a",
         "rawType": "float64",
         "type": "float"
        },
        {
         "name": "hsa-miR-1324",
         "rawType": "float64",
         "type": "float"
        },
        {
         "name": "hsa-miR-6854-3p",
         "rawType": "float64",
         "type": "float"
        },
        {
         "name": "hsa-miR-3125",
         "rawType": "float64",
         "type": "float"
        },
        {
         "name": "hsa-miR-335-3p",
         "rawType": "float64",
         "type": "float"
        },
        {
         "name": "hsa-miR-1471",
         "rawType": "float64",
         "type": "float"
        },
        {
         "name": "hsa-miR-3116",
         "rawType": "float64",
         "type": "float"
        },
        {
         "name": "hsa-miR-4485-3p",
         "rawType": "float64",
         "type": "float"
        },
        {
         "name": "hsa-miR-6842-3p",
         "rawType": "float64",
         "type": "float"
        },
        {
         "name": "hsa-miR-6074",
         "rawType": "float64",
         "type": "float"
        },
        {
         "name": "hsa-miR-6770-5p",
         "rawType": "float64",
         "type": "float"
        },
        {
         "name": "hsa-miR-378i",
         "rawType": "float64",
         "type": "float"
        },
        {
         "name": "hsa-miR-3690",
         "rawType": "float64",
         "type": "float"
        },
        {
         "name": "hsa-miR-378g",
         "rawType": "float64",
         "type": "float"
        },
        {
         "name": "hsa-miR-922",
         "rawType": "float64",
         "type": "float"
        },
        {
         "name": "hsa-miR-362-3p",
         "rawType": "float64",
         "type": "float"
        },
        {
         "name": "hsa-miR-3126-3p",
         "rawType": "float64",
         "type": "float"
        },
        {
         "name": "hsa-miR-647",
         "rawType": "float64",
         "type": "float"
        },
        {
         "name": "hsa-miR-514b-3p",
         "rawType": "float64",
         "type": "float"
        },
        {
         "name": "hsa-miR-4753-5p",
         "rawType": "float64",
         "type": "float"
        },
        {
         "name": "hsa-miR-7847-3p",
         "rawType": "float64",
         "type": "float"
        },
        {
         "name": "hsa-miR-520a-3p",
         "rawType": "float64",
         "type": "float"
        },
        {
         "name": "hsa-miR-6850-3p",
         "rawType": "float64",
         "type": "float"
        },
        {
         "name": "hsa-miR-609",
         "rawType": "float64",
         "type": "float"
        },
        {
         "name": "hsa-miR-19b-2-5p",
         "rawType": "float64",
         "type": "float"
        },
        {
         "name": "hsa-miR-206",
         "rawType": "float64",
         "type": "float"
        },
        {
         "name": "hsa-miR-298",
         "rawType": "float64",
         "type": "float"
        },
        {
         "name": "hsa-miR-4681",
         "rawType": "float64",
         "type": "float"
        },
        {
         "name": "hsa-miR-6502-5p",
         "rawType": "float64",
         "type": "float"
        },
        {
         "name": "hsa-miR-4756-3p",
         "rawType": "float64",
         "type": "float"
        },
        {
         "name": "hsa-miR-4755-5p",
         "rawType": "float64",
         "type": "float"
        },
        {
         "name": "hsa-miR-3119",
         "rawType": "float64",
         "type": "float"
        },
        {
         "name": "hsa-miR-1287-3p",
         "rawType": "float64",
         "type": "float"
        },
        {
         "name": "hsa-miR-181b-5p",
         "rawType": "float64",
         "type": "float"
        },
        {
         "name": "hsa-miR-122-3p",
         "rawType": "float64",
         "type": "float"
        },
        {
         "name": "hsa-miR-105-5p",
         "rawType": "float64",
         "type": "float"
        },
        {
         "name": "hsa-miR-586",
         "rawType": "float64",
         "type": "float"
        },
        {
         "name": "hsa-miR-4717-5p",
         "rawType": "float64",
         "type": "float"
        },
        {
         "name": "hsa-miR-6780b-3p",
         "rawType": "float64",
         "type": "float"
        },
        {
         "name": "hsa-miR-6830-5p",
         "rawType": "float64",
         "type": "float"
        },
        {
         "name": "hsa-miR-7856-5p",
         "rawType": "float64",
         "type": "float"
        },
        {
         "name": "hsa-miR-4298",
         "rawType": "float64",
         "type": "float"
        },
        {
         "name": "hsa-miR-150-3p",
         "rawType": "float64",
         "type": "float"
        },
        {
         "name": "hsa-miR-424-3p",
         "rawType": "float64",
         "type": "float"
        },
        {
         "name": "hsa-miR-6786-3p",
         "rawType": "float64",
         "type": "float"
        },
        {
         "name": "hsa-miR-8088",
         "rawType": "float64",
         "type": "float"
        },
        {
         "name": "hsa-miR-378d",
         "rawType": "float64",
         "type": "float"
        },
        {
         "name": "hsa-miR-4804-3p",
         "rawType": "float64",
         "type": "float"
        },
        {
         "name": "hsa-miR-7162-3p",
         "rawType": "float64",
         "type": "float"
        },
        {
         "name": "hsa-miR-3151-5p",
         "rawType": "float64",
         "type": "float"
        },
        {
         "name": "hsa-miR-3620-3p",
         "rawType": "float64",
         "type": "float"
        },
        {
         "name": "hsa-miR-3678-3p",
         "rawType": "float64",
         "type": "float"
        },
        {
         "name": "hsa-miR-6852-3p",
         "rawType": "float64",
         "type": "float"
        },
        {
         "name": "hsa-miR-515-5p",
         "rawType": "float64",
         "type": "float"
        },
        {
         "name": "hsa-miR-1287-5p",
         "rawType": "float64",
         "type": "float"
        },
        {
         "name": "hsa-miR-5094",
         "rawType": "float64",
         "type": "float"
        },
        {
         "name": "hsa-miR-7111-3p",
         "rawType": "float64",
         "type": "float"
        },
        {
         "name": "hsa-miR-4764-3p",
         "rawType": "float64",
         "type": "float"
        },
        {
         "name": "hsa-miR-6758-5p",
         "rawType": "float64",
         "type": "float"
        },
        {
         "name": "hsa-miR-6880-5p",
         "rawType": "float64",
         "type": "float"
        },
        {
         "name": "hsa-miR-382-5p",
         "rawType": "float64",
         "type": "float"
        },
        {
         "name": "hsa-miR-4793-5p",
         "rawType": "float64",
         "type": "float"
        },
        {
         "name": "hsa-miR-4648",
         "rawType": "float64",
         "type": "float"
        },
        {
         "name": "hsa-miR-485-5p",
         "rawType": "float64",
         "type": "float"
        },
        {
         "name": "hsa-miR-33a-3p",
         "rawType": "float64",
         "type": "float"
        },
        {
         "name": "hsa-miR-509-3-5p",
         "rawType": "float64",
         "type": "float"
        },
        {
         "name": "hsa-miR-3678-5p",
         "rawType": "float64",
         "type": "float"
        },
        {
         "name": "hsa-miR-6790-3p",
         "rawType": "float64",
         "type": "float"
        },
        {
         "name": "hsa-miR-30b-3p",
         "rawType": "float64",
         "type": "float"
        },
        {
         "name": "hsa-miR-6774-3p",
         "rawType": "float64",
         "type": "float"
        },
        {
         "name": "hsa-miR-6855-5p",
         "rawType": "float64",
         "type": "float"
        },
        {
         "name": "hsa-miR-500a-5p",
         "rawType": "float64",
         "type": "float"
        },
        {
         "name": "hsa-miR-541-5p",
         "rawType": "float64",
         "type": "float"
        },
        {
         "name": "hsa-miR-3614-5p",
         "rawType": "float64",
         "type": "float"
        },
        {
         "name": "hsa-miR-365a-5p",
         "rawType": "float64",
         "type": "float"
        },
        {
         "name": "hsa-miR-6734-5p",
         "rawType": "float64",
         "type": "float"
        },
        {
         "name": "hsa-miR-6770-3p",
         "rawType": "float64",
         "type": "float"
        },
        {
         "name": "hsa-miR-494-3p",
         "rawType": "float64",
         "type": "float"
        },
        {
         "name": "hsa-miR-2113",
         "rawType": "float64",
         "type": "float"
        },
        {
         "name": "hsa-miR-29b-2-5p",
         "rawType": "float64",
         "type": "float"
        },
        {
         "name": "hsa-miR-6839-5p",
         "rawType": "float64",
         "type": "float"
        },
        {
         "name": "hsa-miR-3200-3p",
         "rawType": "float64",
         "type": "float"
        },
        {
         "name": "hsa-let-7b-5p",
         "rawType": "float64",
         "type": "float"
        },
        {
         "name": "hsa-miR-6887-5p",
         "rawType": "float64",
         "type": "float"
        },
        {
         "name": "hsa-miR-635",
         "rawType": "float64",
         "type": "float"
        },
        {
         "name": "hsa-miR-4273",
         "rawType": "float64",
         "type": "float"
        },
        {
         "name": "hsa-miR-6802-3p",
         "rawType": "float64",
         "type": "float"
        },
        {
         "name": "hsa-miR-6833-5p",
         "rawType": "float64",
         "type": "float"
        },
        {
         "name": "hsa-miR-3681-3p",
         "rawType": "float64",
         "type": "float"
        },
        {
         "name": "hsa-miR-224-3p",
         "rawType": "float64",
         "type": "float"
        },
        {
         "name": "hsa-miR-6863",
         "rawType": "float64",
         "type": "float"
        },
        {
         "name": "hsa-miR-6884-3p",
         "rawType": "float64",
         "type": "float"
        },
        {
         "name": "hsa-miR-6761-3p",
         "rawType": "float64",
         "type": "float"
        },
        {
         "name": "hsa-miR-216b-3p",
         "rawType": "float64",
         "type": "float"
        },
        {
         "name": "hsa-miR-6865-5p",
         "rawType": "float64",
         "type": "float"
        },
        {
         "name": "hsa-miR-4709-3p",
         "rawType": "float64",
         "type": "float"
        },
        {
         "name": "hsa-miR-4461",
         "rawType": "float64",
         "type": "float"
        },
        {
         "name": "hsa-miR-6853-5p",
         "rawType": "float64",
         "type": "float"
        },
        {
         "name": "hsa-miR-4478",
         "rawType": "float64",
         "type": "float"
        },
        {
         "name": "hsa-miR-125b-2-3p",
         "rawType": "float64",
         "type": "float"
        },
        {
         "name": "hsa-miR-5699-5p",
         "rawType": "float64",
         "type": "float"
        },
        {
         "name": "hsa-miR-6873-3p",
         "rawType": "float64",
         "type": "float"
        },
        {
         "name": "hsa-miR-5193",
         "rawType": "float64",
         "type": "float"
        },
        {
         "name": "hsa-miR-6794-3p",
         "rawType": "float64",
         "type": "float"
        },
        {
         "name": "hsa-let-7f-2-3p",
         "rawType": "float64",
         "type": "float"
        },
        {
         "name": "hsa-miR-8062",
         "rawType": "float64",
         "type": "float"
        },
        {
         "name": "hsa-miR-2682-5p",
         "rawType": "float64",
         "type": "float"
        },
        {
         "name": "hsa-miR-504-5p",
         "rawType": "float64",
         "type": "float"
        },
        {
         "name": "hsa-miR-1236-3p",
         "rawType": "float64",
         "type": "float"
        },
        {
         "name": "hsa-miR-1207-3p",
         "rawType": "float64",
         "type": "float"
        },
        {
         "name": "hsa-miR-6893-3p",
         "rawType": "float64",
         "type": "float"
        },
        {
         "name": "hsa-miR-302e",
         "rawType": "float64",
         "type": "float"
        },
        {
         "name": "hsa-miR-524-3p",
         "rawType": "float64",
         "type": "float"
        },
        {
         "name": "hsa-miR-6862-5p",
         "rawType": "float64",
         "type": "float"
        },
        {
         "name": "hsa-miR-6814-3p",
         "rawType": "float64",
         "type": "float"
        },
        {
         "name": "hsa-miR-20b-3p",
         "rawType": "float64",
         "type": "float"
        },
        {
         "name": "hsa-miR-373-5p",
         "rawType": "float64",
         "type": "float"
        },
        {
         "name": "hsa-miR-6503-3p",
         "rawType": "float64",
         "type": "float"
        },
        {
         "name": "hsa-miR-4276",
         "rawType": "float64",
         "type": "float"
        },
        {
         "name": "hsa-miR-664b-3p",
         "rawType": "float64",
         "type": "float"
        },
        {
         "name": "hsa-miR-488-5p",
         "rawType": "float64",
         "type": "float"
        },
        {
         "name": "hsa-miR-4694-3p",
         "rawType": "float64",
         "type": "float"
        },
        {
         "name": "hsa-miR-15b-5p",
         "rawType": "float64",
         "type": "float"
        },
        {
         "name": "hsa-miR-365b-5p",
         "rawType": "float64",
         "type": "float"
        },
        {
         "name": "hsa-miR-5004-3p",
         "rawType": "float64",
         "type": "float"
        },
        {
         "name": "hsa-miR-1537-3p",
         "rawType": "float64",
         "type": "float"
        }
       ],
       "ref": "988ebcd2-97a7-49ec-a0e3-a11c2bb5e1a1",
       "rows": [
        [
         "0",
         "0",
         "0.41571378105270773",
         "0.31278812656561117",
         "0.008622571110801053",
         "-0.27412918713491435",
         "0.01615252452210669",
         "-0.23610663105287413",
         "0.20819222733656265",
         "0.12554239974443196",
         "-0.0906512029317267",
         "0.11980971370439798",
         "-0.16195364785379282",
         "0.06651945564570332",
         "-0.14578587240669033",
         "0.10930553162323967",
         "0.10921741964542533",
         "0.025557833563842246",
         "-0.142400897586311",
         "-0.04408549892875498",
         "-0.11707379834151453",
         "0.014042590387037488",
         "0.10933730649548458",
         "0.10943691338266831",
         "-0.11224476321990293",
         "-0.10115961681299372",
         "0.08298566910716348",
         "0.0830081584813819",
         "0.009890483314878457",
         "0.009830826001702209",
         "-0.11129827589802212",
         "-0.10042062234724367",
         "-0.0969646897027595",
         "-0.08908551160715604",
         "-0.0890625106782526",
         "0.06761764537859442",
         "-0.08489705796749876",
         "-0.08425949913990084",
         "0.02538721611324088",
         "0.06082598463769394",
         "0.060710680903221056",
         "0.06068768281389068",
         "0.004578500986588121",
         "0.0046854184294268224",
         "-0.00014089348885074556",
         "-0.05584109249609311",
         "0.01310864584302127",
         "0.04917681103295626",
         "0.049147476058346476",
         "-0.0693031781743862",
         "-0.0690030553371736",
         "-0.07451565790126712",
         "-0.0745053729127082",
         "-0.026977568701708213",
         "0.03350702741941092",
         "0.027973940616676587",
         "0.027885642018324174",
         "-0.06365059502037915",
         "-0.06353674614945296",
         "0.021337477267385312",
         "0.021272367226667224",
         "-0.04067910699734058",
         "-0.040649708929557916",
         "-0.0048199824046614775",
         "-0.004875090298408542",
         "0.03615858814488348",
         "0.036332446229992016",
         "-0.02606783546446504",
         "-0.025995574383062353",
         "-0.045480007995847414",
         "-0.0453213018041899",
         "-0.04539019432938222",
         "-0.045261380862278336",
         "0.03418960135054879",
         "-0.03245068269939941",
         "-0.032419947867710665",
         "-0.03241622290596064",
         "-0.01300970113683056",
         "-0.01293781914546248",
         "-0.012925827498807574",
         "-0.0035469788583934237",
         "-0.0030784311921566066",
         "-0.015999377283662138",
         "-0.015869907142636946",
         "0.0141575425569671",
         "0.013920550163232567",
         "0.013916312472078762",
         "0.013868803751111014",
         "0.02259083956695256",
         "-0.02461197896057798",
         "0.026054643206383402",
         "0.026148897741551123",
         "-0.0037169280756094744",
         "0.025305606058339595",
         "-0.02087141845849836",
         "0.017873833346155714",
         "0.02583363523451036",
         "0.019463596988432547",
         "0.016844254853945462",
         "0.022746649443815957",
         "-0.011941543762553401",
         "0.023069314605964637",
         "-0.004235964669186226",
         "-0.004228897933823639",
         "-0.021766885655250225",
         "0.01780911561068772",
         "-0.023390593772528185",
         "-0.0005971208423668348",
         "-0.021405156313852657",
         "0.023553086343133894",
         "-0.012755660409479131",
         "0.0005136514565878338",
         "0.0180167442597699",
         "0.014462124041849463",
         "0.01753368263162303",
         "-0.0034486549780293595",
         "0.016694102289244596",
         "-0.01065364946310548",
         "0.004667507644544343",
         "0.0141773248834845",
         "-0.00670336996552742",
         "0.018482213192118957",
         "0.01644949556663847",
         "-0.01822314932711798",
         "0.018254389216516512",
         "-0.013373877911574074",
         "-0.016698938610119504",
         "-0.018075728931804286",
         "0.015361684105643994",
         "0.018650556757142805",
         "-0.018249927746363893",
         "-0.02341899611094006",
         "0.014890810646559064",
         "-0.013598751506393046",
         "0.01820298945929044",
         "0.017018449790113323",
         "-0.018507801849693594",
         "0.016811471802296165",
         "-0.014282613562195835",
         "-0.015932506752518224",
         "-0.01474041901260182",
         "0.011079666881728996",
         "0.015003142668104218",
         "0.01532601393527753",
         "0.014873778877931862",
         "0.012368411924986271",
         "0.012580668227852877",
         "-0.015700130746643122",
         "0.01721614272639148",
         "-0.01304268299505477",
         "-0.014279535061280569",
         "0.015860189091961175",
         "0.009942709752503893",
         "-0.015216281565889436",
         "-0.012879927020627492",
         "0.012223470400595144",
         "0.011127429700380956",
         "0.011855913557120288",
         "-0.010998910409528348",
         "0.005295434633444538",
         "-0.015784641435592668",
         "-0.012764589606515525",
         "-0.014834369218648882",
         "-0.013376879554157025",
         "0.016741244423267753",
         "0.014495271241338203",
         "-0.01255045747886494",
         "0.016024093402501317",
         "0.013649861678300372",
         "-0.014133852759426786",
         "0.01623003521801189",
         "0.01159934812712496",
         "-0.011680301408245365",
         "-0.019049351834229823",
         "-0.017868862560414322",
         "-0.016447713112372513",
         "0.017617131516225272",
         "0.01544844235551705",
         "0.010790741668024906",
         "0.011570758250861506",
         "0.013985953672100574",
         "0.012099327766513217",
         "-0.013435861657101096",
         "-0.016118781390179318",
         "0.012052472896525557",
         "0.014770590057245677",
         "-0.011729498091102112",
         "-0.011128783656752005",
         "0.010899917853521316",
         "-0.01049390395714653",
         "0.0015100146712599112",
         "0.006796453864365882",
         "0.014220487167280433",
         "0.017539685051973956",
         "0.007880625812026436",
         "0.01330795019990302",
         "-0.010952746734194784",
         "-0.010242873056611562",
         "0.014308752176087932",
         "-0.012960669895965166",
         "-0.013071867462913778",
         "0.015557023835802394",
         "0.012272708990304585",
         "0.013777679328071366",
         "-0.012704405882330896",
         "-0.012977231590163167",
         "0.007622355742354642",
         "0.013528859028055163",
         "0.010521158136638705",
         "-0.008897001769391807",
         "-0.011026596816703371",
         "-0.011755595955266757",
         "-0.014529909138619549",
         "0.014694973388201247",
         "-0.01427706836631382",
         "0.013278042911215007",
         "-0.01353134162562591",
         "-0.012902191667816148",
         "-0.010624633552194609",
         "0.01342099579982186",
         "-0.009148333249443193",
         "-0.013277894927966605",
         "0.0066146789739416284",
         "-0.013578719257155163",
         "-0.014377646681500097",
         "-0.012110461765357376",
         "0.012649185465246052",
         "0.013228289447424173",
         "0.016872751209752585",
         "-0.011471043324709674",
         "0.006961307960647553",
         "0.009121567782510486",
         "-0.012499967700764333",
         "-0.013971753563435838",
         "0.01208799132027334",
         "0.009560240243294835",
         "0.008594084959325413",
         "0.002059181301063521",
         "-0.013774688421748723",
         "-0.013518873690412485",
         "-0.013483979616575645",
         "-0.012091217201316817",
         "-0.007324252640017885",
         "0.014099672236115067",
         "0.013213401265791985",
         "0.009037031285557879",
         "0.012184808650010004",
         "0.014242495016997285",
         "-0.010295421943708815",
         "-0.00772494778249109",
         "0.012575191281452024",
         "-0.009968335930565985",
         "0.009128186290102895",
         "-0.01008476069263343",
         "0.0038988492034739185",
         "-0.011109954588093128",
         "-0.010669241469534093",
         "-0.011866834206741329",
         "-0.01006389207153825",
         "0.008531835143380483",
         "0.012042294769154114",
         "0.012093648379857741",
         "0.013108522155192334",
         "0.010254953812809154",
         "-0.012372117707894266",
         "0.009028319815776304",
         "0.010813787782244405",
         "0.012010817198057891",
         "-0.011668086338157005",
         "0.007101722110221272",
         "-0.008474055093737802",
         "0.008327181917768867",
         "-0.0020866845943964592",
         "-0.009754761798673519",
         "0.01348643037212037",
         "-0.0068801088274538565",
         "0.012036389541704171",
         "-0.006144786831752049",
         "0.012732953490952834",
         "0.01178115529172986",
         "0.011179927712375208",
         "0.009347887938054857",
         "0.010485931472394112",
         "0.013714002875788054",
         "0.011588186382775836",
         "-0.0118027584344256",
         "0.008373935329998992",
         "-0.010447663908099127",
         "-0.00726214078183271",
         "0.008968558283738891",
         "-0.010397224689919169",
         "-0.00015255815730118698",
         "0.009384116059783319",
         "-0.007995418312341929",
         "0.011877939887963108",
         "-0.0122629582299263",
         "0.012729109342640097",
         "0.01181101773889656",
         "-0.004500590769650569",
         "-0.010422245953995947",
         "0.0038238833851763996",
         "-0.008790586103146146"
        ],
        [
         "1",
         "1",
         "-0.3221267283752472",
         "-0.47022372429005427",
         "-0.03165199455605291",
         "0.06613969891553813",
         "-0.1362577836540218",
         "0.24182214255697967",
         "-0.0902001823085768",
         "-0.0015074923984674505",
         "0.14785691004365664",
         "-0.009031172375059408",
         "0.11723355933119588",
         "0.0820372341696532",
         "0.16563105777510617",
         "-0.07024810448758992",
         "-0.07019658501784863",
         "0.11565573745035408",
         "0.13148828334100188",
         "0.1785154393927433",
         "0.09849091598880065",
         "0.03730117008243731",
         "-0.06623785413217716",
         "-0.06627636167407198",
         "0.08727996786423263",
         "0.1223666799183929",
         "-0.0947776329004853",
         "-0.09472399503007772",
         "-0.0023122721421881555",
         "-0.0023293031868313473",
         "0.09928700757173849",
         "0.10111384487199644",
         "0.07092302024239341",
         "0.06542697513172464",
         "0.06539795089155102",
         "-0.05287450895153171",
         "0.06058975867911018",
         "0.0834088841962364",
         "0.0451807976831639",
         "-0.08394700862861046",
         "-0.08389194814969125",
         "-0.0838758271893704",
         "0.0776553394822821",
         "0.07755593151522575",
         "0.07171264664944511",
         "0.04146012909675333",
         "0.059636301134177554",
         "-0.08437561027911776",
         "-0.08434772008029495",
         "0.03697671717164522",
         "0.0366383788684216",
         "0.05745625579780158",
         "0.057496057266368854",
         "0.0530934426366797",
         "-0.009869089843280282",
         "-0.03637930287468048",
         "-0.03629199872412388",
         "0.062238970785642334",
         "0.062221586176786026",
         "-0.02907481504238513",
         "-0.02907984498356965",
         "0.03186175871975844",
         "0.031823053182336164",
         "-0.02537550201741466",
         "-0.025312946740547203",
         "-0.008127216162809283",
         "-0.008541145747393961",
         "0.003369759161766727",
         "0.0032712490639063797",
         "0.03669430917081553",
         "0.036404945667094825",
         "0.03657676302712668",
         "0.03635329884997577",
         "0.012234646054567774",
         "0.03197690593506711",
         "0.031950506092515873",
         "0.031931693545653686",
         "0.029892557551664936",
         "0.029931330700943733",
         "0.029753415086735714",
         "-0.009429081903964118",
         "-0.010131160125924101",
         "0.004912228799226417",
         "0.004845176850732875",
         "0.006182709966340751",
         "0.006658269714117747",
         "0.006689386932640047",
         "0.006673804355832451",
         "-0.036744006313152305",
         "0.03158030695533525",
         "-0.037300997683943876",
         "-0.03195599281475848",
         "0.002263451066215359",
         "-0.025261117443278757",
         "0.03191173630579839",
         "-0.022168851387077797",
         "-0.02803974204920167",
         "-0.026088003807554556",
         "-0.026477755759444447",
         "-0.025386728829183323",
         "0.013258829810729348",
         "-0.024443046675542604",
         "0.012483234035820924",
         "0.012537916750830536",
         "0.013888577908064085",
         "-0.02164635425127223",
         "0.02526846786050706",
         "0.0005423135244642952",
         "0.0276926771166197",
         "-0.025863655483033453",
         "0.021371288982194387",
         "-0.0022687585215888633",
         "-0.025207555217452347",
         "-0.019875314145258272",
         "-0.022913785020441942",
         "0.015443050635274274",
         "-0.019853498831143908",
         "0.02391946920372253",
         "-0.004560375434333117",
         "-0.021840894187328205",
         "0.016556028764774015",
         "-0.019683333882551467",
         "-0.025132543536732655",
         "0.022604205745099283",
         "-0.01363144191764328",
         "0.024363677762191137",
         "0.019239115035884824",
         "0.023830176721851823",
         "-0.01842777963481137",
         "-0.024429136435530876",
         "0.020112421459570727",
         "0.02286263253168315",
         "-0.02370840489344147",
         "0.017489644876416646",
         "-0.01643126915520268",
         "-0.022840506019937125",
         "0.018714938351666318",
         "-0.02030527690287438",
         "0.023358820526646666",
         "0.020676691029590365",
         "0.01629504041889508",
         "-0.018019570714700527",
         "-0.017762118666675066",
         "-0.01805922746921317",
         "-0.017604889639956295",
         "-0.020848876473466674",
         "-0.014421396682130001",
         "0.017450763956967187",
         "-0.021029979011661856",
         "0.015546386136392944",
         "0.021084147755115475",
         "-0.02053361949205651",
         "-0.0006130457490541171",
         "0.011905479538098169",
         "0.015408153839252996",
         "-0.019667464239918532",
         "-0.01676979532477065",
         "-0.019475554639393773",
         "0.01738715944390948",
         "0.0016504245624908963",
         "0.0131589045357214",
         "0.01902778788369395",
         "0.020318282937967235",
         "0.017210508205124375",
         "-0.01769075301479402",
         "-0.014252656591255948",
         "0.01789088211515472",
         "-0.019720458900215156",
         "-0.02013234399473955",
         "0.01969785115927426",
         "-0.011836014283175069",
         "-0.019180312604317323",
         "0.016589871241996505",
         "0.020824113721643892",
         "0.01945716120839784",
         "0.0161451491733777",
         "-0.0212835506962253",
         "-0.016581717293682987",
         "-0.020434343534651202",
         "-0.01751885503572692",
         "-0.01824993693141961",
         "-0.00705533027032241",
         "0.013393110019480563",
         "0.013369265766323666",
         "-0.01969862858817596",
         "-0.01614170666979653",
         "0.016067101013120807",
         "0.01894654001333182",
         "-0.017625843417557335",
         "0.017215614304221624",
         "0.00045063771357752074",
         "-0.012575035213789372",
         "-0.012024524590085744",
         "-0.015383189912193286",
         "-0.0003808162302128113",
         "-0.01926882011679286",
         "0.01724972360298098",
         "0.015510171498728917",
         "-0.01217959925543306",
         "0.011495127173990904",
         "0.017957515087451584",
         "-0.01760708690389967",
         "-0.009780538573530307",
         "-0.008738492730157879",
         "0.014554910750272564",
         "0.02147531199786386",
         "-0.013228432655079322",
         "-0.01833998932424919",
         "-0.015546418027478344",
         "0.009018064212696372",
         "0.004156175421674036",
         "0.011037754769088809",
         "0.017879353764066592",
         "-0.01529502732111355",
         "0.015795097209385794",
         "-0.015278524650178088",
         "0.014237217386187228",
         "0.013999603625039934",
         "0.013739438734456185",
         "-0.015150382499298929",
         "0.012252099068705145",
         "0.013928456260948265",
         "-0.01366855353536522",
         "0.017111580840918714",
         "0.01327688613882809",
         "0.018638817472345037",
         "-0.0167074517571581",
         "-0.012063010224621053",
         "-0.011277217148387211",
         "0.011091528404540862",
         "-0.018449444001315343",
         "-0.013828587403857702",
         "0.010566487318711373",
         "0.01795412059332323",
         "-0.017455587331991613",
         "-0.016905248682625267",
         "-0.01848228648396854",
         "-0.014519166767832315",
         "0.00781359051964431",
         "0.009141926347989087",
         "0.01756014835371832",
         "0.010574020622845154",
         "0.011921884335455112",
         "-0.012701987484591204",
         "-0.015825636546618827",
         "-0.017284234831541522",
         "-0.014340224734094702",
         "-0.013006140801742616",
         "0.01683749086140027",
         "0.017880308915583183",
         "-0.013233139894591675",
         "0.007775400852831642",
         "-0.015142175395489904",
         "0.010787692671349876",
         "-0.01649911306981464",
         "0.011549119236444527",
         "0.014083673636600453",
         "0.013435616125544286",
         "0.012952208382897026",
         "-0.011994518932421356",
         "-0.012218008773315548",
         "-0.018672690098126683",
         "-0.006314595161431421",
         "-0.012751065569747207",
         "0.012148422600902526",
         "-0.016390444602127956",
         "-0.014615984682840782",
         "-0.013233979085936244",
         "0.007359028349874135",
         "-0.01080938107859718",
         "0.014142565925960427",
         "-0.012542494164248668",
         "0.011076166486236777",
         "0.01785774631368199",
         "-0.01412678210101304",
         "0.013216491445118378",
         "-0.011549720095410524",
         "0.0017351905671396104",
         "-0.008739413922006901",
         "-0.01298989758832482",
         "-0.004761328322596302",
         "-0.013713074486819951",
         "-0.014410931387329556",
         "-0.013033826128910032",
         "-0.010846578651481547",
         "0.017813221816952725",
         "-0.011926219738054508",
         "0.013124099575272264",
         "0.0072191960764231315",
         "-0.007786081361853964",
         "0.015727207730685876",
         "0.009743923279983246",
         "-0.008794590815037692",
         "0.012552965909503569",
         "-0.015372165422804248",
         "0.0077376572131217895",
         "-0.010038055264570469",
         "-0.011999528156011558",
         "-0.005060760643468268",
         "0.010614787039212268",
         "-0.01373332189997737",
         "0.017350676066489754"
        ],
        [
         "2",
         "2",
         "0.4504123177837306",
         "0.4520650715672586",
         "-0.17689704086709082",
         "0.1724745667816976",
         "-0.15152005186277798",
         "-0.009848469500480891",
         "0.2279354134345252",
         "0.18617281464290428",
         "-0.32097694331861515",
         "0.006728294081477203",
         "-0.07957949119485609",
         "0.024623892610731075",
         "-0.02057570773178814",
         "-0.012493392093180337",
         "-0.012576040736376864",
         "0.08271894025780517",
         "0.010283726579739586",
         "-0.13031667783228137",
         "-0.027820224030098477",
         "-0.02339459542759018",
         "0.0725891409771431",
         "0.07268475996778628",
         "-0.0008930334111850018",
         "0.019384227240091527",
         "0.09442098813258398",
         "0.09429459654136017",
         "0.007986331893558829",
         "0.008299938549326216",
         "0.02359588307013335",
         "0.03378462094584366",
         "-0.022371012059772762",
         "-0.026165002009694113",
         "-0.026115534613984925",
         "0.011352822703931596",
         "0.01599153793293437",
         "-0.011104550899806524",
         "0.03805379584971792",
         "-0.025397172479252685",
         "-0.02563125794193252",
         "-0.025676069474592604",
         "0.0003285811271153688",
         "0.0002699235017685783",
         "-0.0020566883199472186",
         "0.030488025689457902",
         "0.011673427664791071",
         "0.05492301144308143",
         "0.054918845769659275",
         "0.020405071083228667",
         "0.020874113896717197",
         "-0.056911710993732066",
         "-0.05690023863603326",
         "-0.02793076396416887",
         "-0.028369318652883193",
         "0.019599969931488083",
         "0.019616294041667492",
         "-0.0025904084102287743",
         "-0.0025786493591100253",
         "0.10022194901944827",
         "0.10013311360012588",
         "0.02341722449553094",
         "0.023322532770447265",
         "-0.06541882212607328",
         "-0.06549658126217496",
         "0.05590441116835273",
         "0.05623504881392102",
         "0.02184142632209875",
         "0.02183245602005653",
         "0.0009805944339581255",
         "0.0010521209777617684",
         "0.0005796447975153107",
         "0.0009743429294126895",
         "0.0005854018117778588",
         "0.010488264856113396",
         "0.010481215149423663",
         "0.010501720901720182",
         "0.0256022131377934",
         "0.025586466059018535",
         "0.025651642357075687",
         "0.037764521101535845",
         "0.037946377862561186",
         "0.020162082881603965",
         "0.020309400790304286",
         "0.01634019725296063",
         "0.016243663758856986",
         "0.015922489245993262",
         "0.01612237522332255",
         "0.038824798883104514",
         "-0.018589717335018855",
         "0.03153535409051636",
         "0.021520420941309067",
         "-0.01798023242530494",
         "0.03038047052498052",
         "-0.031088314915068475",
         "0.0024812166592989102",
         "0.026131020470727222",
         "0.017122887132075992",
         "0.02765237463837573",
         "0.016119934528793546",
         "-0.03225681755429584",
         "0.016666091553943958",
         "0.0027325552002729343",
         "0.002680174951500961",
         "-0.023088907221601503",
         "0.012557795762852798",
         "-0.019036477651140648",
         "-0.01575435365461896",
         "-0.019252017300067852",
         "0.020106359980993346",
         "-0.01644243866587311",
         "-0.01163024000665121",
         "0.021750592151467827",
         "0.01797923117542092",
         "0.014979684825050094",
         "-0.012821166322250204",
         "0.008585022718642308",
         "-0.0239718879038756",
         "-0.006715662262226943",
         "0.021317126326443336",
         "-0.013732506130176493",
         "0.017822062761792226",
         "0.02019259622284927",
         "-0.011522295096100655",
         "0.02282290466217333",
         "-0.015578083658147163",
         "-0.016269084912311126",
         "-0.0183037223267264",
         "0.02204715504873039",
         "0.018377525765308683",
         "-0.015069308999887267",
         "-0.02118900329564779",
         "0.017626079129398477",
         "-0.0027106444997962815",
         "0.01057078085442158",
         "0.023079270653558755",
         "-0.007972391652996392",
         "0.01365711733944735",
         "-0.01627385924890778",
         "-0.013129552922490538",
         "-0.010343826471388089",
         "0.01659597169278463",
         "0.01504507707940428",
         "0.014790572369769652",
         "0.010270344511703082",
         "0.02302377647902878",
         "0.0033775935637244624",
         "-0.011630281050548127",
         "0.013462115067983617",
         "-0.0055488653471840845",
         "-0.020342164934166424",
         "0.008768479613290818",
         "-0.006013334941821491",
         "-0.002496698133572685",
         "-0.006620360018343099",
         "0.012517948846871244",
         "0.021274863706952595",
         "0.014660498729874568",
         "-0.01075213561282428",
         "-0.004222461946282638",
         "-0.0206269161933531",
         "-0.007952403773909994",
         "-0.01629972980405284",
         "-0.00502079516230658",
         "0.006078806637708038",
         "0.0018760797486662658",
         "-0.016205956019874356",
         "0.024036460338046118",
         "0.021340510287627033",
         "-0.02025734621016246",
         "0.006541596032099936",
         "0.011149485012132459",
         "-0.0157830410854323",
         "-0.020477250806495914",
         "-0.02291817605167158",
         "-0.01805313687497246",
         "0.01624698448750368",
         "0.012624210533764557",
         "0.024496319259749034",
         "0.014713056019250659",
         "0.013705521370421218",
         "0.005361662999171073",
         "-0.006866546951000741",
         "-0.00820807628021508",
         "0.013933184394186159",
         "0.013244706034400216",
         "-0.019102958760605124",
         "-0.021382353360312176",
         "0.01901456128184363",
         "-0.0037752207575311295",
         "-0.016169757889046475",
         "0.008469793611907337",
         "0.00581299576050657",
         "0.01135819209655045",
         "-0.0016045627633515852",
         "0.003456289984852547",
         "-0.010112112131442919",
         "-0.0008394794981293092",
         "0.009061555516969938",
         "-0.0036030283901547356",
         "-0.012476303738866537",
         "0.013761259538432238",
         "-0.0012617998269182503",
         "0.0021666039628240206",
         "-0.01176807399760313",
         "-0.017819836311297653",
         "0.007301193686904671",
         "0.015464045715120205",
         "0.009385418634115923",
         "-0.005192116867182396",
         "-0.010753734288415421",
         "-0.018050743245784",
         "-0.021468338147063188",
         "0.0128670935029511",
         "-0.008753462988596507",
         "0.008927963461172795",
         "-0.011785099372892304",
         "-0.008754942237694064",
         "-0.010320563278544654",
         "0.013437782465576382",
         "-0.0007124695905647534",
         "-0.008964512162959473",
         "0.0059789325289100696",
         "-0.0158562281454114",
         "-0.014263494281155463",
         "-0.012885658869789651",
         "0.022343244483223532",
         "0.010637948233047947",
         "0.007079846971869724",
         "-0.013674482235204477",
         "0.016225331915428274",
         "0.01683219627175171",
         "-0.006007265845734479",
         "-0.014314758402910065",
         "0.017136606246745473",
         "0.02142889058138888",
         "0.007704517810271683",
         "0.016993347402748077",
         "-0.002599072593706345",
         "0.002555713181171746",
         "-0.012997064996385727",
         "-0.0038991492362827336",
         "-0.01230549080587113",
         "0.012509370269750424",
         "0.01170246880716532",
         "0.005724715604270182",
         "0.011387699900457007",
         "0.0027942245720016805",
         "-0.012910145099521257",
         "-0.016385197716286392",
         "0.007729323783146924",
         "-0.010211514719088271",
         "0.012085047911749126",
         "-0.003810382117874601",
         "0.010396144746919262",
         "-0.011184370427063859",
         "-0.011147642464021775",
         "-0.016486663201164604",
         "-0.0027787721831752828",
         "0.011321433397044459",
         "0.002884866678705047",
         "0.012773259621020173",
         "0.004878907690930314",
         "0.0053884334478036516",
         "-0.003306515712134083",
         "0.020021283393794963",
         "0.010405027034939012",
         "0.013035900812082599",
         "-0.005232832391380504",
         "0.01620172729712568",
         "-0.01113113054012232",
         "0.0011221746693196968",
         "-0.005092175936545429",
         "-0.006351482804561106",
         "0.004071197479755167",
         "-0.022585252100177793",
         "0.00989471699107208",
         "0.012790576410039115",
         "-0.000997043632098283",
         "0.012004357894903176",
         "-0.0022010720645095467",
         "0.005551765957291205",
         "0.013455208844072962",
         "0.013986388897433921",
         "0.004264874607085237",
         "-0.012891414985030339",
         "0.006655483038237158",
         "-0.005762198622585927",
         "-0.0063699268644316935",
         "-0.0018133837206517102",
         "-0.018201228102610576",
         "-0.0068200881332412845",
         "0.0010828537270469922",
         "-0.0007270260185681715",
         "0.01252800205426674",
         "0.0017483015535491794",
         "0.005212738460833577",
         "0.0037776921014060767",
         "0.01004532755632227",
         "0.000712616128274684",
         "0.00864615596351981",
         "-0.020020005237782697"
        ],
        [
         "3",
         "3",
         "0.12849972606307342",
         "0.3854337697688474",
         "0.13709598441818208",
         "-0.43855684223561475",
         "0.14814093018453364",
         "-0.22007167694399823",
         "0.1300929925857173",
         "0.03801218946560922",
         "-0.019340681405633744",
         "-0.048418781469043604",
         "-0.17762748802940673",
         "0.04472006377566346",
         "-0.09614617632240566",
         "0.105515111818413",
         "0.10547854082457422",
         "-0.016918724923712488",
         "-0.10423698309003508",
         "-0.11379858077896578",
         "-0.10673633033254476",
         "0.038516520157222026",
         "0.12423841292779067",
         "0.12438768839372469",
         "-0.10752587272690961",
         "-0.09992944346394098",
         "0.01951728233591381",
         "0.019572757156766218",
         "0.07898481450778387",
         "0.07883712364827226",
         "-0.12661636141758265",
         "-0.08795901889911664",
         "-0.058475968436928684",
         "-0.07256366207274226",
         "-0.07254844165443117",
         "0.04986825412316479",
         "-0.08081854412819842",
         "-0.06408786091651636",
         "0.010111523933095742",
         "0.04978124713022239",
         "0.04968912273536523",
         "0.049645262189782775",
         "-0.0318318730803548",
         "-0.03161346307788258",
         "-0.013140086370341496",
         "-0.04818211222141186",
         "-0.018064636727939398",
         "0.04992846130423467",
         "0.049894231594057724",
         "-0.09576699708178628",
         "-0.09566781300286627",
         "-0.03348209142323777",
         "-0.033528399760797745",
         "-0.06828783721830142",
         "0.008972399966990044",
         "0.05282387992016601",
         "0.05276387574673539",
         "-0.048043024641907496",
         "-0.04792955130840883",
         "0.03216742887584709",
         "0.03203576515951188",
         "-0.017999180549900136",
         "-0.017967391315080537",
         "-0.031197970556639136",
         "-0.031232609823776417",
         "0.027516324911583318",
         "0.02775415251274245",
         "0.003930213686628525",
         "0.003964130417340659",
         "-0.04409458784388362",
         "-0.04400624956715475",
         "-0.04399600061850726",
         "-0.04392952591035402",
         "-0.014328505353726704",
         "-0.010952199179081365",
         "-0.010915707330749641",
         "-0.010912949607540082",
         "-0.025607023089109008",
         "-0.02543239938189191",
         "-0.025439257506108322",
         "-0.011490753842779077",
         "-0.010935578728657271",
         "-0.017616790247985986",
         "-0.017503499773559056",
         "0.006574432319359559",
         "0.00631383293704134",
         "0.006280586584521518",
         "0.006219372280433041",
         "0.031859644453021696",
         "-0.03373267745311415",
         "0.030230312908097818",
         "0.028335457225947557",
         "0.013006518245978788",
         "0.020555456590905435",
         "-0.02006495991383205",
         "0.027094730715398748",
         "0.025321835651030328",
         "0.02581940319426324",
         "0.024254500855794236",
         "0.02209321542034585",
         "0.0038271847036023543",
         "0.0227654493894889",
         "0.011958408268147588",
         "0.011934554041520898",
         "-0.0023897550341872467",
         "0.022296414743190406",
         "-0.02098907994875043",
         "0.008452891437221955",
         "-0.022412860452931758",
         "0.022552308209682882",
         "-0.01671652605325465",
         "0.012589712217464652",
         "0.01687406788564445",
         "0.018826313847899494",
         "0.02209828267392891",
         "-0.01711506932504566",
         "0.021880478613104756",
         "-0.01771591350364814",
         "0.0032933235715359903",
         "0.01593199441592745",
         "-0.015712181479519693",
         "0.017248963964793383",
         "0.01605860853696106",
         "-0.019322899782845345",
         "0.012794634660445154",
         "-0.01699300130885326",
         "-0.021261957032217605",
         "-0.02007414271850319",
         "0.015873732240622017",
         "0.01594545875897333",
         "-0.019379577486512187",
         "-0.017672754839139427",
         "0.01563196806694652",
         "-0.010445673105495224",
         "0.02202693466939824",
         "0.019158889210952875",
         "-0.018394983002342147",
         "0.01779150156189968",
         "-0.015328168980555603",
         "-0.016733762038001306",
         "-0.018355121509048597",
         "0.015578715743233476",
         "0.01902923579933339",
         "0.017409339181421523",
         "0.01789359820067808",
         "0.016262309780364387",
         "0.019852557196598588",
         "-0.015154462035698688",
         "0.015670409948266417",
         "-0.014710082055088988",
         "-0.014477533877158957",
         "0.019864984488448357",
         "0.006494791064210698",
         "-0.016584602890179673",
         "-0.0175675860903584",
         "0.016073820855819064",
         "0.015167791239163578",
         "0.017953349449540926",
         "-0.01687365896893475",
         "0.0014593077909430643",
         "-0.006286599461431713",
         "-0.013327807782373201",
         "-0.012141886552532191",
         "-0.019935172670083445",
         "0.012036327435701192",
         "0.01406151266514644",
         "-0.01431247179123131",
         "0.014926688805083329",
         "0.014382426047136875",
         "-0.014622761969662541",
         "0.014265182487453844",
         "0.015574725751272268",
         "-0.011375561924099057",
         "-0.017604854108056178",
         "-0.016221863648774603",
         "-0.012826154902555335",
         "0.014854008536590472",
         "0.016041802064508694",
         "0.009542784617385218",
         "0.016057512135426926",
         "0.012799507463526566",
         "0.016980521302951114",
         "-0.013369102276412945",
         "-0.018147420630248164",
         "0.015049028585126087",
         "0.0165980074498359",
         "-0.011922803416126993",
         "-0.012072824841661176",
         "0.014800303608974235",
         "-0.012781658376510893",
         "0.0051919361419467255",
         "0.01108983677955253",
         "0.014574970125086118",
         "0.014251018689395923",
         "0.00724496645096827",
         "0.01360980085824531",
         "-0.009798500409592273",
         "-0.018563980506300756",
         "0.01673148731969763",
         "-0.017346140563607938",
         "-0.01701177030762241",
         "0.015410273623913864",
         "0.015062040553098198",
         "0.012744651384037197",
         "-0.016514790921084852",
         "-0.013397188765472816",
         "0.013922878096438895",
         "0.01444566767603413",
         "0.014338188497097617",
         "-0.01416958902361547",
         "0.0003221294724150388",
         "-0.014906127017910156",
         "-0.009756286043906501",
         "0.013094290727974224",
         "-0.01346229516330963",
         "0.012264422828678467",
         "-0.014454659572310126",
         "-0.01503609905065927",
         "-0.012815663398208053",
         "0.015135051107563406",
         "-0.015108908273973149",
         "-0.013836749828794934",
         "0.013119840130136487",
         "-0.012129559945877074",
         "-0.012830179635368583",
         "-0.015131566937692648",
         "0.008258247879330041",
         "0.013104299922917357",
         "0.010951358896077436",
         "-0.004138440973389957",
         "0.012169986616658942",
         "0.011267732312186836",
         "-0.014437983820688869",
         "-0.014784212000491785",
         "0.011412106378055781",
         "0.01255644200764544",
         "0.012365255052388344",
         "0.0034555351042868674",
         "-0.007885257750995134",
         "-0.014554825888730768",
         "-0.013552954842695407",
         "-0.012821454378738913",
         "-0.009228303196061436",
         "0.015543048922652517",
         "0.011851272587759587",
         "0.0116619195770851",
         "0.01174418968512763",
         "0.0137478401974",
         "-0.013682181807233674",
         "-0.00905003516626442",
         "0.01565731232678679",
         "-0.00897505703311576",
         "0.01145490987864328",
         "-0.013999200239435875",
         "0.011226052738289964",
         "-0.012686832221774642",
         "-0.014676136759090437",
         "-0.01319464865109515",
         "-0.013712918234427536",
         "0.009579139986333259",
         "0.01422992737683327",
         "0.011098529871981393",
         "0.007320529118527043",
         "0.015105375603421995",
         "-0.013282355358014138",
         "0.01154980723292073",
         "0.01591152795640081",
         "0.00993635993147609",
         "-0.016304159346277356",
         "0.012143097049304009",
         "-0.0124980467411487",
         "0.015552667494771914",
         "-0.010272209346116208",
         "-0.009757789160586415",
         "0.012190354795333976",
         "-0.0076631094581570405",
         "0.013393438583807269",
         "-0.009275243297007251",
         "0.012516606512864492",
         "0.011830390895425856",
         "0.009344028003812965",
         "0.013551782184965513",
         "0.013893313438819613",
         "0.006400026655245377",
         "0.011680507787745195",
         "-0.012913340315566057",
         "0.0104563721019714",
         "-0.01355681846125967",
         "-0.012299394301820674",
         "0.00802641815948652",
         "-0.014462984718499777",
         "-0.003779204193413949",
         "0.01049625006843763",
         "-0.010139860561932435",
         "0.012863471563702766",
         "-0.014803318940759364",
         "0.012049152227469457",
         "0.011293120009146753",
         "-0.006941617552144595",
         "-0.0077349426840759945",
         "0.010365729488202753",
         "-0.009251028871302604"
        ],
        [
         "4",
         "4",
         "0.34836136574169",
         "0.2902612963182139",
         "-0.14811676282994105",
         "-0.14609262000943385",
         "0.08923209867323943",
         "-0.34260337105407096",
         "0.024843119720356716",
         "0.2772397054966118",
         "-0.035659420586372184",
         "0.03116427394405597",
         "-0.1801430277802115",
         "-0.06940213486111277",
         "-0.12010505702085518",
         "-0.03061985035321231",
         "-0.030629512795903528",
         "-0.15739932945930415",
         "-0.10657029913862372",
         "-0.10579078287858307",
         "-0.1759171543691807",
         "-0.021426034486078036",
         "0.05074323568413162",
         "0.05087950197696334",
         "-0.17139407217455782",
         "-0.14944903304428048",
         "-0.04788364995395495",
         "-0.04795276222086574",
         "0.11841324470405978",
         "0.1183798236393411",
         "-0.12017490944299386",
         "-0.054532814625234446",
         "-0.0702727642433336",
         "-0.05789481321927266",
         "-0.057877308227328075",
         "0.04035214391451118",
         "-0.063888230208426",
         "-0.06867269087993234",
         "-0.06908946648627894",
         "0.028199623488533988",
         "0.02804050420091254",
         "0.027973093880028988",
         "0.007062998170390927",
         "0.007171900334179851",
         "-0.06457585494060619",
         "-0.03740523685500525",
         "-5.558533951738578e-05",
         "0.048040352481626046",
         "0.04799878346992085",
         "-0.033942018637527833",
         "-0.03369252453695223",
         "-0.05556750712422996",
         "-0.055524276382316655",
         "-0.060504931479391295",
         "0.008022898933190577",
         "0.06145279306337863",
         "0.06144369426951362",
         "-0.052917554718359947",
         "-0.05284347240046032",
         "0.09157167428841452",
         "0.09152525383718808",
         "0.002746791333112082",
         "0.002736338693459375",
         "-0.0547894024588681",
         "-0.054884898756484675",
         "-0.03297578552432553",
         "-0.03279105193254235",
         "0.00959078807990389",
         "0.009581799282283148",
         "-0.036790608544173445",
         "-0.03678660699752457",
         "-0.03680477397333968",
         "-0.036691978440158535",
         "0.04073149520976606",
         "-0.05119648353762738",
         "-0.05114961562468428",
         "-0.0511461862900888",
         "-0.07434677275938399",
         "-0.07421877371532593",
         "-0.07413253284508772",
         "0.017265555985360115",
         "0.01802042344421386",
         "0.01571620234795559",
         "0.015711047691116652",
         "-0.006808275590125167",
         "-0.007100319060122379",
         "-0.007110496742648307",
         "-0.00716071760887737",
         "0.023244616133088238",
         "-0.02704317642407361",
         "0.022960890462039696",
         "0.027094435636570408",
         "-0.004313617610117627",
         "0.01681814936526155",
         "-0.025630290175769167",
         "0.025160599176818864",
         "0.017417039271853976",
         "0.012177629255406821",
         "0.013776567895762551",
         "0.016220353303100375",
         "0.001287227527163622",
         "0.015896508965066853",
         "-0.001281771572850283",
         "-0.001303222538861253",
         "-0.012738193286119427",
         "0.020960574487882286",
         "-0.023099913717305784",
         "-0.013085338569419343",
         "-0.023044519514542786",
         "0.012333703878579393",
         "-0.019119861438339606",
         "-0.007310618752240631",
         "0.01310708383214527",
         "0.02075319013914035",
         "0.015981176348249124",
         "-0.00857560000909292",
         "0.019170016812654896",
         "-0.015474263523960974",
         "-0.007176943584906379",
         "0.016525217024740146",
         "-0.017309017090799055",
         "0.010003108388825281",
         "0.018982195312963315",
         "-0.01896545825451385",
         "0.016689684102100567",
         "-0.015006556973281774",
         "-0.02188445629117478",
         "-0.017532360565547613",
         "0.01665915414891023",
         "0.01291477067549331",
         "-0.014729599747133603",
         "-0.01850889940164599",
         "0.01773125011514021",
         "-0.024213238242614978",
         "0.018490644382417907",
         "0.008271012556602881",
         "-0.017179802750331766",
         "0.008873886009901525",
         "-0.014959009734162714",
         "-0.01353593478078737",
         "-0.014308820871368482",
         "0.017795960180204476",
         "0.00919577998452681",
         "0.01542200789056292",
         "0.01910443814211471",
         "0.013952299537513143",
         "0.012550905160899958",
         "-0.016669986458414703",
         "0.012970134633625254",
         "-0.013279830440347699",
         "-0.017309611428485132",
         "0.014039591553404854",
         "-0.005706494283989663",
         "-0.013756186934271216",
         "-0.008886984222497764",
         "0.013521441989435211",
         "0.008823706307051928",
         "0.01078780657628372",
         "-0.013650009082040813",
         "-0.006080386877365843",
         "-0.011776779534160607",
         "-0.020016051151975443",
         "-0.011855447261006945",
         "-0.010078180281441347",
         "0.01229019119964763",
         "0.02237430347445004",
         "-0.015914329400973568",
         "0.011053501625470334",
         "0.009601468455355651",
         "-0.01091049975671224",
         "0.020204939954513883",
         "0.007699238261125867",
         "-0.016264236052001627",
         "-0.015752123541481228",
         "-0.008920140426142802",
         "-0.02400951657807572",
         "0.008014502200074705",
         "0.013225813660371993",
         "0.01324605524195897",
         "0.00897372665570835",
         "0.015514836183714064",
         "0.013375155619870651",
         "-0.019174981943462243",
         "-0.009846969412970589",
         "0.008967909327965373",
         "0.012481774469813975",
         "-0.01013246595310153",
         "-0.007053407075628367",
         "0.008067232177548475",
         "-0.016004069290818487",
         "-0.010846251127949276",
         "0.018059673271902686",
         "0.014535117465498976",
         "0.012905910172271584",
         "-0.0076333107863822995",
         "0.013822849260216909",
         "-0.019447397508233207",
         "-0.007181269009200288",
         "0.012709700994309236",
         "-0.0089475188759271",
         "-0.010497876545194842",
         "0.017054065319824785",
         "0.014427268890837055",
         "0.015036915395762268",
         "-0.007320211892165111",
         "-0.013926205955287898",
         "0.009223130292563907",
         "0.011489288341285778",
         "0.006457377105742891",
         "-0.012024029348782852",
         "-0.008274270791210618",
         "-0.009765955239265878",
         "-0.017340417024232155",
         "0.013618660324109045",
         "-0.013432147701263393",
         "0.015027436941350813",
         "-0.009873919541672625",
         "-0.01538530193004229",
         "-0.011399504170472658",
         "0.009717840410500838",
         "-0.012076228681025742",
         "-0.007946902338928865",
         "0.012524323439231379",
         "-0.01269490499957169",
         "-0.01842707170099452",
         "-0.005924966529717837",
         "0.01456630737824863",
         "0.011862998961011544",
         "0.010727473975511",
         "-0.007277448123351391",
         "0.010793786642523768",
         "0.009163108888272332",
         "-0.009929494323202216",
         "-0.012411726596925514",
         "0.0066670849529444215",
         "0.013336944514377506",
         "0.010023951949256343",
         "0.009798702552550578",
         "-0.016425229802035923",
         "-0.009189280750449164",
         "-0.009867543605518581",
         "-0.01608989080339326",
         "-0.006687736780146374",
         "0.008715203563984374",
         "0.01462828712522529",
         "0.011264221750911298",
         "0.014937822116109226",
         "0.014545409589664242",
         "-0.007784449924965436",
         "-0.012943575723021778",
         "0.019124136849202205",
         "-0.013727931636647168",
         "0.0061760629975171144",
         "-0.010297215983833548",
         "0.008929623825698778",
         "-0.006006974762783472",
         "-0.008495050561247726",
         "-0.013446499866316148",
         "-0.008883637957521737",
         "0.010938269379517944",
         "0.016824188400279005",
         "0.014339559389716105",
         "0.011137192843008886",
         "0.016912291060613913",
         "-0.011799969945822206",
         "0.007102533666664925",
         "0.006886174831559582",
         "0.010942354183546003",
         "-0.00933254035350038",
         "0.010027403076062487",
         "-0.014712888662990146",
         "0.00651331302205796",
         "-0.00945950908582318",
         "-0.011954327984890586",
         "0.013891976624998009",
         "-0.010956169693332816",
         "0.012767555943887766",
         "-0.00808233036363427",
         "0.009894224911305429",
         "0.005364160341682207",
         "0.006193949052616258",
         "0.010336088067847431",
         "0.007006850738003166",
         "0.008202160675559223",
         "0.011370257563680094",
         "-0.008464321317824578",
         "0.015022527983282739",
         "-0.014359167307176861",
         "-0.01182159045704583",
         "0.00806598992512914",
         "-0.007471722760184274",
         "-0.0041087185181892735",
         "0.012940894327058595",
         "-0.01356406391368962",
         "0.007642783965459161",
         "-0.0045324837582505035",
         "0.013262458912294963",
         "0.012683589634864604",
         "-0.005636747935176454",
         "-0.012763009749720776",
         "0.012152114357261396",
         "-0.00714065350702232"
        ]
       ],
       "shape": {
        "columns": 301,
        "rows": 5
       }
      },
      "text/html": [
       "<div>\n",
       "<style scoped>\n",
       "    .dataframe tbody tr th:only-of-type {\n",
       "        vertical-align: middle;\n",
       "    }\n",
       "\n",
       "    .dataframe tbody tr th {\n",
       "        vertical-align: top;\n",
       "    }\n",
       "\n",
       "    .dataframe thead th {\n",
       "        text-align: right;\n",
       "    }\n",
       "</style>\n",
       "<table border=\"1\" class=\"dataframe\">\n",
       "  <thead>\n",
       "    <tr style=\"text-align: right;\">\n",
       "      <th></th>\n",
       "      <th>Feature</th>\n",
       "      <th>hsa-miR-6729-5p</th>\n",
       "      <th>hsa-miR-1908-5p</th>\n",
       "      <th>hsa-miR-371a-5p</th>\n",
       "      <th>hsa-miR-7704</th>\n",
       "      <th>hsa-miR-6780a-3p</th>\n",
       "      <th>hsa-miR-4734</th>\n",
       "      <th>hsa-miR-5787</th>\n",
       "      <th>hsa-miR-6895-5p</th>\n",
       "      <th>hsa-miR-4787-5p</th>\n",
       "      <th>...</th>\n",
       "      <th>hsa-miR-373-5p</th>\n",
       "      <th>hsa-miR-6503-3p</th>\n",
       "      <th>hsa-miR-4276</th>\n",
       "      <th>hsa-miR-664b-3p</th>\n",
       "      <th>hsa-miR-488-5p</th>\n",
       "      <th>hsa-miR-4694-3p</th>\n",
       "      <th>hsa-miR-15b-5p</th>\n",
       "      <th>hsa-miR-365b-5p</th>\n",
       "      <th>hsa-miR-5004-3p</th>\n",
       "      <th>hsa-miR-1537-3p</th>\n",
       "    </tr>\n",
       "  </thead>\n",
       "  <tbody>\n",
       "    <tr>\n",
       "      <th>0</th>\n",
       "      <td>0</td>\n",
       "      <td>0.415714</td>\n",
       "      <td>0.312788</td>\n",
       "      <td>0.008623</td>\n",
       "      <td>-0.274129</td>\n",
       "      <td>0.016153</td>\n",
       "      <td>-0.236107</td>\n",
       "      <td>0.208192</td>\n",
       "      <td>0.125542</td>\n",
       "      <td>-0.090651</td>\n",
       "      <td>...</td>\n",
       "      <td>0.009384</td>\n",
       "      <td>-0.007995</td>\n",
       "      <td>0.011878</td>\n",
       "      <td>-0.012263</td>\n",
       "      <td>0.012729</td>\n",
       "      <td>0.011811</td>\n",
       "      <td>-0.004501</td>\n",
       "      <td>-0.010422</td>\n",
       "      <td>0.003824</td>\n",
       "      <td>-0.008791</td>\n",
       "    </tr>\n",
       "    <tr>\n",
       "      <th>1</th>\n",
       "      <td>1</td>\n",
       "      <td>-0.322127</td>\n",
       "      <td>-0.470224</td>\n",
       "      <td>-0.031652</td>\n",
       "      <td>0.066140</td>\n",
       "      <td>-0.136258</td>\n",
       "      <td>0.241822</td>\n",
       "      <td>-0.090200</td>\n",
       "      <td>-0.001507</td>\n",
       "      <td>0.147857</td>\n",
       "      <td>...</td>\n",
       "      <td>-0.008795</td>\n",
       "      <td>0.012553</td>\n",
       "      <td>-0.015372</td>\n",
       "      <td>0.007738</td>\n",
       "      <td>-0.010038</td>\n",
       "      <td>-0.012000</td>\n",
       "      <td>-0.005061</td>\n",
       "      <td>0.010615</td>\n",
       "      <td>-0.013733</td>\n",
       "      <td>0.017351</td>\n",
       "    </tr>\n",
       "    <tr>\n",
       "      <th>2</th>\n",
       "      <td>2</td>\n",
       "      <td>0.450412</td>\n",
       "      <td>0.452065</td>\n",
       "      <td>-0.176897</td>\n",
       "      <td>0.172475</td>\n",
       "      <td>-0.151520</td>\n",
       "      <td>-0.009848</td>\n",
       "      <td>0.227935</td>\n",
       "      <td>0.186173</td>\n",
       "      <td>-0.320977</td>\n",
       "      <td>...</td>\n",
       "      <td>0.001083</td>\n",
       "      <td>-0.000727</td>\n",
       "      <td>0.012528</td>\n",
       "      <td>0.001748</td>\n",
       "      <td>0.005213</td>\n",
       "      <td>0.003778</td>\n",
       "      <td>0.010045</td>\n",
       "      <td>0.000713</td>\n",
       "      <td>0.008646</td>\n",
       "      <td>-0.020020</td>\n",
       "    </tr>\n",
       "    <tr>\n",
       "      <th>3</th>\n",
       "      <td>3</td>\n",
       "      <td>0.128500</td>\n",
       "      <td>0.385434</td>\n",
       "      <td>0.137096</td>\n",
       "      <td>-0.438557</td>\n",
       "      <td>0.148141</td>\n",
       "      <td>-0.220072</td>\n",
       "      <td>0.130093</td>\n",
       "      <td>0.038012</td>\n",
       "      <td>-0.019341</td>\n",
       "      <td>...</td>\n",
       "      <td>0.010496</td>\n",
       "      <td>-0.010140</td>\n",
       "      <td>0.012863</td>\n",
       "      <td>-0.014803</td>\n",
       "      <td>0.012049</td>\n",
       "      <td>0.011293</td>\n",
       "      <td>-0.006942</td>\n",
       "      <td>-0.007735</td>\n",
       "      <td>0.010366</td>\n",
       "      <td>-0.009251</td>\n",
       "    </tr>\n",
       "    <tr>\n",
       "      <th>4</th>\n",
       "      <td>4</td>\n",
       "      <td>0.348361</td>\n",
       "      <td>0.290261</td>\n",
       "      <td>-0.148117</td>\n",
       "      <td>-0.146093</td>\n",
       "      <td>0.089232</td>\n",
       "      <td>-0.342603</td>\n",
       "      <td>0.024843</td>\n",
       "      <td>0.277240</td>\n",
       "      <td>-0.035659</td>\n",
       "      <td>...</td>\n",
       "      <td>0.012941</td>\n",
       "      <td>-0.013564</td>\n",
       "      <td>0.007643</td>\n",
       "      <td>-0.004532</td>\n",
       "      <td>0.013262</td>\n",
       "      <td>0.012684</td>\n",
       "      <td>-0.005637</td>\n",
       "      <td>-0.012763</td>\n",
       "      <td>0.012152</td>\n",
       "      <td>-0.007141</td>\n",
       "    </tr>\n",
       "  </tbody>\n",
       "</table>\n",
       "<p>5 rows × 301 columns</p>\n",
       "</div>"
      ],
      "text/plain": [
       "   Feature  hsa-miR-6729-5p  hsa-miR-1908-5p  hsa-miR-371a-5p  hsa-miR-7704  \\\n",
       "0        0         0.415714         0.312788         0.008623     -0.274129   \n",
       "1        1        -0.322127        -0.470224        -0.031652      0.066140   \n",
       "2        2         0.450412         0.452065        -0.176897      0.172475   \n",
       "3        3         0.128500         0.385434         0.137096     -0.438557   \n",
       "4        4         0.348361         0.290261        -0.148117     -0.146093   \n",
       "\n",
       "   hsa-miR-6780a-3p  hsa-miR-4734  hsa-miR-5787  hsa-miR-6895-5p  \\\n",
       "0          0.016153     -0.236107      0.208192         0.125542   \n",
       "1         -0.136258      0.241822     -0.090200        -0.001507   \n",
       "2         -0.151520     -0.009848      0.227935         0.186173   \n",
       "3          0.148141     -0.220072      0.130093         0.038012   \n",
       "4          0.089232     -0.342603      0.024843         0.277240   \n",
       "\n",
       "   hsa-miR-4787-5p  ...  hsa-miR-373-5p  hsa-miR-6503-3p  hsa-miR-4276  \\\n",
       "0        -0.090651  ...        0.009384        -0.007995      0.011878   \n",
       "1         0.147857  ...       -0.008795         0.012553     -0.015372   \n",
       "2        -0.320977  ...        0.001083        -0.000727      0.012528   \n",
       "3        -0.019341  ...        0.010496        -0.010140      0.012863   \n",
       "4        -0.035659  ...        0.012941        -0.013564      0.007643   \n",
       "\n",
       "   hsa-miR-664b-3p  hsa-miR-488-5p  hsa-miR-4694-3p  hsa-miR-15b-5p  \\\n",
       "0        -0.012263        0.012729         0.011811       -0.004501   \n",
       "1         0.007738       -0.010038        -0.012000       -0.005061   \n",
       "2         0.001748        0.005213         0.003778        0.010045   \n",
       "3        -0.014803        0.012049         0.011293       -0.006942   \n",
       "4        -0.004532        0.013262         0.012684       -0.005637   \n",
       "\n",
       "   hsa-miR-365b-5p  hsa-miR-5004-3p  hsa-miR-1537-3p  \n",
       "0        -0.010422         0.003824        -0.008791  \n",
       "1         0.010615        -0.013733         0.017351  \n",
       "2         0.000713         0.008646        -0.020020  \n",
       "3        -0.007735         0.010366        -0.009251  \n",
       "4        -0.012763         0.012152        -0.007141  \n",
       "\n",
       "[5 rows x 301 columns]"
      ]
     },
     "execution_count": 100,
     "metadata": {},
     "output_type": "execute_result"
    }
   ],
   "source": [
    "df_W = pd.DataFrame(W_reduced, columns=miRNA_kept)   \n",
    "df_W.insert(0, \"Feature\", np.arange(W_reduced.shape[0]))  \n",
    "\n",
    "df_W.to_csv(\"data/result/W_reduced_df.csv\", index=False)\n",
    "\n",
    "# quick‑look\n",
    "df_W.head()"
   ]
  },
  {
   "cell_type": "code",
   "execution_count": 97,
   "id": "a3f3e85f",
   "metadata": {},
   "outputs": [
    {
     "name": "stdout",
     "output_type": "stream",
     "text": [
      "Top‑k = 300 →   MSE = 0.0729   |   R² = 0.9271\n"
     ]
    }
   ],
   "source": [
    "P_hat = X_reduced @ W_reduced.T\n",
    "mse = mean_squared_error(P_scaled, P_hat)\n",
    "r2 = r2_score(P_scaled, P_hat)\n",
    "print(f\"Top‑k = {top_k} →   MSE = {mse:.4f}   |   R² = {r2:.4f}\")\n"
   ]
  },
  {
   "cell_type": "markdown",
   "id": "93c5cd3c",
   "metadata": {},
   "source": [
    "### Lasso Coefficients computation"
   ]
  },
  {
   "cell_type": "markdown",
   "id": "eb014845",
   "metadata": {},
   "source": [
    "#### Computing the behavior for the most important features in predicting patients state"
   ]
  },
  {
   "cell_type": "code",
   "execution_count": null,
   "id": "a459878b",
   "metadata": {},
   "outputs": [],
   "source": [
    "start = 0   # Initial feature index (included)\n",
    "end = 20    # final feature index (not included)\n",
    "\n",
    "# extracting the top features based on the feature importance in a previous classification\n",
    "importance_df = pd.read_csv(\"data/result/feature_importance_sorted.csv\")\n",
    "importance_df = importance_df.sort_values(by=\"Normalized_Importance\", ascending=False)\n",
    "top_features = importance_df[\"Feature\"].values  \n",
    "\n",
    "selected_features = top_features[start:end]\n",
    "batch_k = len(selected_features)\n",
    "\n",
    "scaler_X = StandardScaler()\n",
    "scaler_P = StandardScaler()\n",
    "X_scaled = scaler_X.fit_transform(X)\n",
    "P_scaled = scaler_P.fit_transform(P)\n",
    "\n",
    "coeff_matrix = np.zeros((batch_k, X.shape[1]))\n",
    "\n",
    "print(f\"\\nEseguo Lasso per le feature da posizione {start} a {end - 1}:\")\n",
    "for i, feat_idx in tqdm(enumerate(selected_features), total=batch_k, desc=\"Batch Lasso\", unit=\"feature\"):\n",
    "    y = P_scaled[:, feat_idx]\n",
    "    lasso = LassoCV(cv=5, max_iter=10000)\n",
    "    lasso.fit(X_scaled, y)\n",
    "    coeff_matrix[i, :] = lasso.coef_\n",
    "\n",
    "coeff_df = pd.DataFrame(\n",
    "    coeff_matrix,\n",
    "    index=[f\"Feature_{i}\" for i in selected_features],\n",
    "    columns=row_names_list  \n",
    ")\n",
    "\n",
    "output_path = \"data/result/lasso_coefficients_incremental.csv\"\n",
    "\n",
    "if os.path.exists(output_path):\n",
    "    existing = pd.read_csv(output_path, index_col=0)\n",
    "    combined = pd.concat([existing, coeff_df])\n",
    "    combined.to_csv(output_path)\n",
    "else:\n",
    "    coeff_df.to_csv(output_path)\n",
    "\n",
    "print(f\"✔️ Coefficienti salvati (range {start}-{end-1}) in: {output_path}\")\n"
   ]
  },
  {
   "cell_type": "markdown",
   "id": "2996a63f",
   "metadata": {},
   "source": [
    "#### Re-training Lasso on a reduced dataset"
   ]
  },
  {
   "cell_type": "code",
   "execution_count": 107,
   "id": "25483ff4",
   "metadata": {},
   "outputs": [],
   "source": [
    "coeff_df = pd.read_csv(\"data/result/lasso_coefficients_incremental.csv\", index_col=0)\n",
    "\n",
    "# threshold = 1e-2\n",
    "\n",
    "# # Compute the sum of absolute values for each miRNA (columns = miRNA)\n",
    "# miRNA_influenza = coeff_df.abs().sum(axis=0)\n",
    "\n",
    "# # miRNA to keep: at least one feature with significant coefficient\n",
    "# miRNA_keep = miRNA_influenza[miRNA_influenza > threshold].index.tolist()\n",
    "\n",
    "# # miRNA to drop: all features with coefficients below the threshold\n",
    "# miRNA_drop = miRNA_influenza[miRNA_influenza <= threshold].index.tolist()\n",
    "\n",
    "# # print the length of the miRNA lists\n",
    "# print(f\"MiRNA to keep: {len(miRNA_keep)}\")\n",
    "\n",
    "miRNA_influenza = coeff_df.abs().sum(axis=0) \n",
    "\n",
    "miRNA_ranked = miRNA_influenza.sort_values(ascending=False)\n",
    "miRNA_keep = miRNA_ranked.head(top_k).index.tolist()"
   ]
  },
  {
   "cell_type": "code",
   "execution_count": 108,
   "id": "c8643e60",
   "metadata": {},
   "outputs": [
    {
     "name": "stdout",
     "output_type": "stream",
     "text": [
      "(1256, 300)\n"
     ]
    }
   ],
   "source": [
    "df_miRNA = pd.read_csv(\"data/raw/df_concat_final.csv\", index_col=0)\n",
    "\n",
    "miRNA_keep_sorted = [m for m in df_miRNA.columns if m in miRNA_keep]\n",
    "\n",
    "df_miRNA_filtered = df_miRNA[miRNA_keep_sorted]\n",
    "\n",
    "df_target = pd.read_csv(\"data/raw/subj_embeddings_train.csv\", index_col=0)\n",
    "\n",
    "print(df_miRNA_filtered.shape)"
   ]
  },
  {
   "cell_type": "code",
   "execution_count": 109,
   "id": "2279ca1c",
   "metadata": {},
   "outputs": [
    {
     "name": "stdout",
     "output_type": "stream",
     "text": [
      "Eseguo Lasso su tutte le 127 feature target:\n"
     ]
    },
    {
     "name": "stderr",
     "output_type": "stream",
     "text": [
      "Lasso regressions: 100%|██████████| 128/128 [02:44<00:00,  1.29s/feature]"
     ]
    },
    {
     "name": "stdout",
     "output_type": "stream",
     "text": [
      "\n",
      " Feature |     R² |        MSE\n",
      "------------------------------\n",
      "       0 |  0.997 |     0.0025\n",
      "       1 |  0.993 |     0.0067\n",
      "       2 |  0.995 |     0.0052\n",
      "       3 |  0.997 |     0.0034\n",
      "       4 |  0.998 |     0.0019\n",
      "       5 |  0.999 |     0.0013\n",
      "       6 |  0.997 |     0.0025\n",
      "       7 |  0.999 |     0.0012\n",
      "       8 |  0.999 |     0.0007\n",
      "       9 |  0.996 |     0.0036\n",
      "      10 |  0.998 |     0.0017\n",
      "      11 |  0.999 |     0.0012\n",
      "      12 |  0.998 |     0.0016\n",
      "      13 |  0.984 |     0.0162\n",
      "      14 |  0.997 |     0.0029\n",
      "      15 |  0.998 |     0.0018\n",
      "      16 |  0.998 |     0.0025\n",
      "      17 |  0.998 |     0.0017\n",
      "      18 |  0.997 |     0.0034\n",
      "      19 |  0.998 |     0.0017\n",
      "      20 |  0.997 |     0.0031\n",
      "      21 |  0.976 |     0.0245\n",
      "      22 |  0.999 |     0.0007\n",
      "      23 |  0.997 |     0.0030\n",
      "      24 |  0.998 |     0.0016\n",
      "      25 |  0.841 |     0.1591\n",
      "      26 |  0.996 |     0.0044\n",
      "      27 |  0.989 |     0.0107\n",
      "      28 |  0.999 |     0.0011\n",
      "      29 |  0.997 |     0.0030\n",
      "      30 |  0.999 |     0.0008\n",
      "      31 |  0.979 |     0.0209\n",
      "      32 |  0.998 |     0.0021\n",
      "      33 |  0.995 |     0.0050\n",
      "      34 |  0.999 |     0.0011\n",
      "      35 |  0.998 |     0.0022\n",
      "      36 |  0.999 |     0.0009\n",
      "      37 |  0.999 |     0.0012\n",
      "      38 |  0.989 |     0.0112\n",
      "      39 |  0.999 |     0.0009\n",
      "      40 |  0.999 |     0.0012\n",
      "      41 |  0.987 |     0.0129\n",
      "      42 |  0.997 |     0.0026\n",
      "      43 |  0.999 |     0.0008\n",
      "      44 |  0.999 |     0.0015\n",
      "      45 |  0.999 |     0.0009\n",
      "      46 |  0.998 |     0.0021\n",
      "      47 |  0.997 |     0.0026\n",
      "      48 |  0.999 |     0.0007\n",
      "      49 |  0.999 |     0.0013\n",
      "      50 |  0.902 |     0.0981\n",
      "      51 |  0.999 |     0.0012\n",
      "      52 |  0.998 |     0.0023\n",
      "      53 |  0.999 |     0.0011\n",
      "      54 |  0.998 |     0.0021\n",
      "      55 |  0.997 |     0.0029\n",
      "      56 |  0.992 |     0.0083\n",
      "      57 |  0.999 |     0.0009\n",
      "      58 |  0.999 |     0.0015\n",
      "      59 |  0.997 |     0.0027\n",
      "      60 |  0.994 |     0.0060\n",
      "      61 |  0.996 |     0.0036\n",
      "      62 |  0.999 |     0.0007\n",
      "      63 |  0.997 |     0.0025\n",
      "      64 |  0.998 |     0.0016\n",
      "      65 |  0.998 |     0.0015\n",
      "      66 |  0.994 |     0.0057\n",
      "      67 |  0.999 |     0.0008\n",
      "      68 |  0.998 |     0.0020\n",
      "      69 |  0.985 |     0.0150\n",
      "      70 |  0.999 |     0.0013\n",
      "      71 |  0.997 |     0.0029\n",
      "      72 |  0.997 |     0.0028\n",
      "      73 |  0.994 |     0.0064\n",
      "      74 |  0.996 |     0.0036\n",
      "      75 |  0.999 |     0.0014\n",
      "      76 |  0.968 |     0.0325\n",
      "      77 |  0.999 |     0.0008\n",
      "      78 |  0.995 |     0.0046\n",
      "      79 |  0.999 |     0.0008\n",
      "      80 |  0.997 |     0.0035\n",
      "      81 |  0.999 |     0.0014\n",
      "      82 |  0.996 |     0.0037\n",
      "      83 |  0.998 |     0.0017\n",
      "      84 |  0.998 |     0.0018\n",
      "      85 |  0.999 |     0.0008\n",
      "      86 |  0.999 |     0.0007\n",
      "      87 |  0.999 |     0.0005\n",
      "      88 |  0.999 |     0.0009\n",
      "      89 |  0.998 |     0.0021\n",
      "      90 |  0.997 |     0.0033\n",
      "      91 |  0.994 |     0.0061\n",
      "      92 |  0.998 |     0.0021\n",
      "      93 |  0.999 |     0.0009\n",
      "      94 |  0.999 |     0.0014\n",
      "      95 |  0.989 |     0.0114\n",
      "      96 |  0.995 |     0.0052\n",
      "      97 |  0.999 |     0.0014\n",
      "      98 |  0.995 |     0.0054\n",
      "      99 |  0.989 |     0.0112\n",
      "     100 |  0.999 |     0.0012\n",
      "     101 |  0.999 |     0.0014\n",
      "     102 |  0.977 |     0.0226\n",
      "     103 |  0.996 |     0.0037\n",
      "     104 |  0.999 |     0.0013\n",
      "     105 |  0.995 |     0.0055\n",
      "     106 |  0.999 |     0.0013\n",
      "     107 |  0.999 |     0.0007\n",
      "     108 |  0.999 |     0.0013\n",
      "     109 |  0.999 |     0.0011\n",
      "     110 |  0.997 |     0.0033\n",
      "     111 |  0.998 |     0.0017\n",
      "     112 |  0.999 |     0.0011\n",
      "     113 |  0.912 |     0.0877\n",
      "     114 |  0.996 |     0.0039\n",
      "     115 |  0.999 |     0.0009\n",
      "     116 |  0.998 |     0.0019\n",
      "     117 |  0.996 |     0.0042\n",
      "     118 |  0.996 |     0.0044\n",
      "     119 |  0.970 |     0.0302\n",
      "     120 |  0.999 |     0.0013\n",
      "     121 |  0.999 |     0.0013\n",
      "     122 |  0.999 |     0.0011\n",
      "     123 |  0.998 |     0.0025\n",
      "     124 |  0.998 |     0.0024\n",
      "     125 |  0.999 |     0.0012\n",
      "     126 |  0.999 |     0.0010\n",
      "     127 |  0.999 |     0.0007\n"
     ]
    },
    {
     "name": "stderr",
     "output_type": "stream",
     "text": [
      "\n"
     ]
    }
   ],
   "source": [
    "# Convert to numpy arrays\n",
    "X = df_miRNA_filtered.values\n",
    "P = df_target.values\n",
    "\n",
    "# Standardize the data\n",
    "scaler_X = StandardScaler()\n",
    "scaler_P = StandardScaler()\n",
    "X_scaled = scaler_X.fit_transform(X)\n",
    "P_scaled = scaler_P.fit_transform(P)\n",
    "\n",
    "n_feat = P.shape[1]\n",
    "coeff_matrix = np.zeros((n_feat, X.shape[1]))\n",
    "\n",
    "print(\"Eseguo Lasso su tutte le 127 feature target:\")\n",
    "for i in tqdm(range(n_feat), desc=\"Lasso regressions\", unit=\"feature\"):\n",
    "    y = P_scaled[:, i]\n",
    "    lasso = LassoCV(cv=5, max_iter=10000)\n",
    "    lasso.fit(X_scaled, y)\n",
    "    coeff_matrix[i, :] = lasso.coef_\n",
    "\n",
    "# save the coefficients to a CSV file\n",
    "coeff_df = pd.DataFrame(coeff_matrix, columns=df_miRNA_filtered.columns, index=[f\"Feature_{i}\" for i in range(n_feat)])\n",
    "coeff_df.to_csv(\"data/result/lasso_coefficients.csv\")\n",
    "\n",
    "# compute R^2 and MSE for each feature\n",
    "print(f\"\\n{'Feature':>8} | {'R²':>6} | {'MSE':>10}\")\n",
    "print(\"-\" * 30)\n",
    "for i in range(n_feat):\n",
    "    y_true = P_scaled[:, i]\n",
    "    y_pred = X_scaled @ coeff_matrix[i, :]\n",
    "    r2 = r2_score(y_true, y_pred)\n",
    "    mse = mean_squared_error(y_true, y_pred)\n",
    "    print(f\"{i:8d} | {r2:6.3f} | {mse:10.4f}\")\n"
   ]
  },
  {
   "cell_type": "markdown",
   "id": "4d0bb5f9",
   "metadata": {},
   "source": [
    "#### Reconstructing P starting from lasso_coefficinets.csv"
   ]
  },
  {
   "cell_type": "code",
   "execution_count": 110,
   "id": "47356c70",
   "metadata": {},
   "outputs": [],
   "source": [
    "# Reduced and standardized data\n",
    "df_miRNA = pd.read_csv(\"data/raw/df_concat_final.csv\", index_col=0)\n",
    "miRNA_keep = pd.read_csv(\"data/result/lasso_coefficients.csv\", index_col=0).columns.tolist()\n",
    "df_miRNA_filtered = df_miRNA[miRNA_keep]\n",
    "X = df_miRNA_filtered.values\n",
    "\n",
    "# coherent standardization with training phase\n",
    "from sklearn.preprocessing import StandardScaler\n",
    "scaler_X = StandardScaler()\n",
    "X_scaled = scaler_X.fit_transform(X)\n",
    "\n",
    "coeff_df = pd.read_csv(\"data/result/lasso_coefficients.csv\", index_col=0)\n",
    "coeff_matrix = coeff_df.values  \n",
    "\n",
    "# Rebuilding targets: P_reconstructed = X_scaled @ coeff.T\n",
    "P_reconstructed = X_scaled @ coeff_matrix.T  \n"
   ]
  },
  {
   "cell_type": "code",
   "execution_count": 111,
   "id": "537e2fef",
   "metadata": {},
   "outputs": [],
   "source": [
    "df_target = pd.read_csv(\"data/raw/subj_embeddings_train.csv\", index_col=0)\n",
    "P = df_target.values\n",
    "scaler_P = StandardScaler()\n",
    "P_scaled = scaler_P.fit_transform(P)\n"
   ]
  },
  {
   "cell_type": "code",
   "execution_count": 112,
   "id": "8283ea21",
   "metadata": {},
   "outputs": [
    {
     "name": "stdout",
     "output_type": "stream",
     "text": [
      "R² complessivo  : 0.9936\n",
      "MSE complessivo : 0.0064\n"
     ]
    }
   ],
   "source": [
    "r2_global  = r2_score(P_scaled, P_reconstructed, multioutput='variance_weighted')\n",
    "mse_global = mean_squared_error(P_scaled, P_reconstructed)   # default è la media\n",
    "\n",
    "print(f\"R² complessivo  : {r2_global:.4f}\")\n",
    "print(f\"MSE complessivo : {mse_global:.4f}\")"
   ]
  },
  {
   "cell_type": "code",
   "execution_count": 113,
   "id": "a4372f39",
   "metadata": {},
   "outputs": [
    {
     "name": "stdout",
     "output_type": "stream",
     "text": [
      "\n",
      " Feature |     R² |        MSE\n",
      "------------------------------\n",
      "       0 |  0.997 |     0.0025\n",
      "       1 |  0.993 |     0.0067\n",
      "       2 |  0.995 |     0.0052\n",
      "       3 |  0.997 |     0.0034\n",
      "       4 |  0.998 |     0.0019\n",
      "       5 |  0.999 |     0.0013\n",
      "       6 |  0.997 |     0.0025\n",
      "       7 |  0.999 |     0.0012\n",
      "       8 |  0.999 |     0.0007\n",
      "       9 |  0.996 |     0.0036\n",
      "      10 |  0.998 |     0.0017\n",
      "      11 |  0.999 |     0.0012\n",
      "      12 |  0.998 |     0.0016\n",
      "      13 |  0.984 |     0.0162\n",
      "      14 |  0.997 |     0.0029\n",
      "      15 |  0.998 |     0.0018\n",
      "      16 |  0.998 |     0.0025\n",
      "      17 |  0.998 |     0.0017\n",
      "      18 |  0.997 |     0.0034\n",
      "      19 |  0.998 |     0.0017\n",
      "      20 |  0.997 |     0.0031\n",
      "      21 |  0.976 |     0.0245\n",
      "      22 |  0.999 |     0.0007\n",
      "      23 |  0.997 |     0.0030\n",
      "      24 |  0.998 |     0.0016\n",
      "      25 |  0.841 |     0.1591\n",
      "      26 |  0.996 |     0.0044\n",
      "      27 |  0.989 |     0.0107\n",
      "      28 |  0.999 |     0.0011\n",
      "      29 |  0.997 |     0.0030\n",
      "      30 |  0.999 |     0.0008\n",
      "      31 |  0.979 |     0.0209\n",
      "      32 |  0.998 |     0.0021\n",
      "      33 |  0.995 |     0.0050\n",
      "      34 |  0.999 |     0.0011\n",
      "      35 |  0.998 |     0.0022\n",
      "      36 |  0.999 |     0.0009\n",
      "      37 |  0.999 |     0.0012\n",
      "      38 |  0.989 |     0.0112\n",
      "      39 |  0.999 |     0.0009\n",
      "      40 |  0.999 |     0.0012\n",
      "      41 |  0.987 |     0.0129\n",
      "      42 |  0.997 |     0.0026\n",
      "      43 |  0.999 |     0.0008\n",
      "      44 |  0.999 |     0.0015\n",
      "      45 |  0.999 |     0.0009\n",
      "      46 |  0.998 |     0.0021\n",
      "      47 |  0.997 |     0.0026\n",
      "      48 |  0.999 |     0.0007\n",
      "      49 |  0.999 |     0.0013\n",
      "      50 |  0.902 |     0.0981\n",
      "      51 |  0.999 |     0.0012\n",
      "      52 |  0.998 |     0.0023\n",
      "      53 |  0.999 |     0.0011\n",
      "      54 |  0.998 |     0.0021\n",
      "      55 |  0.997 |     0.0029\n",
      "      56 |  0.992 |     0.0083\n",
      "      57 |  0.999 |     0.0009\n",
      "      58 |  0.999 |     0.0015\n",
      "      59 |  0.997 |     0.0027\n",
      "      60 |  0.994 |     0.0060\n",
      "      61 |  0.996 |     0.0036\n",
      "      62 |  0.999 |     0.0007\n",
      "      63 |  0.997 |     0.0025\n",
      "      64 |  0.998 |     0.0016\n",
      "      65 |  0.998 |     0.0015\n",
      "      66 |  0.994 |     0.0057\n",
      "      67 |  0.999 |     0.0008\n",
      "      68 |  0.998 |     0.0020\n",
      "      69 |  0.985 |     0.0150\n",
      "      70 |  0.999 |     0.0013\n",
      "      71 |  0.997 |     0.0029\n",
      "      72 |  0.997 |     0.0028\n",
      "      73 |  0.994 |     0.0064\n",
      "      74 |  0.996 |     0.0036\n",
      "      75 |  0.999 |     0.0014\n",
      "      76 |  0.968 |     0.0325\n",
      "      77 |  0.999 |     0.0008\n",
      "      78 |  0.995 |     0.0046\n",
      "      79 |  0.999 |     0.0008\n",
      "      80 |  0.997 |     0.0035\n",
      "      81 |  0.999 |     0.0014\n",
      "      82 |  0.996 |     0.0037\n",
      "      83 |  0.998 |     0.0017\n",
      "      84 |  0.998 |     0.0018\n",
      "      85 |  0.999 |     0.0008\n",
      "      86 |  0.999 |     0.0007\n",
      "      87 |  0.999 |     0.0005\n",
      "      88 |  0.999 |     0.0009\n",
      "      89 |  0.998 |     0.0021\n",
      "      90 |  0.997 |     0.0033\n",
      "      91 |  0.994 |     0.0061\n",
      "      92 |  0.998 |     0.0021\n",
      "      93 |  0.999 |     0.0009\n",
      "      94 |  0.999 |     0.0014\n",
      "      95 |  0.989 |     0.0114\n",
      "      96 |  0.995 |     0.0052\n",
      "      97 |  0.999 |     0.0014\n",
      "      98 |  0.995 |     0.0054\n",
      "      99 |  0.989 |     0.0112\n",
      "     100 |  0.999 |     0.0012\n",
      "     101 |  0.999 |     0.0014\n",
      "     102 |  0.977 |     0.0226\n",
      "     103 |  0.996 |     0.0037\n",
      "     104 |  0.999 |     0.0013\n",
      "     105 |  0.995 |     0.0055\n",
      "     106 |  0.999 |     0.0013\n",
      "     107 |  0.999 |     0.0007\n",
      "     108 |  0.999 |     0.0013\n",
      "     109 |  0.999 |     0.0011\n",
      "     110 |  0.997 |     0.0033\n",
      "     111 |  0.998 |     0.0017\n",
      "     112 |  0.999 |     0.0011\n",
      "     113 |  0.912 |     0.0877\n",
      "     114 |  0.996 |     0.0039\n",
      "     115 |  0.999 |     0.0009\n",
      "     116 |  0.998 |     0.0019\n",
      "     117 |  0.996 |     0.0042\n",
      "     118 |  0.996 |     0.0044\n",
      "     119 |  0.970 |     0.0302\n",
      "     120 |  0.999 |     0.0013\n",
      "     121 |  0.999 |     0.0013\n",
      "     122 |  0.999 |     0.0011\n",
      "     123 |  0.998 |     0.0025\n",
      "     124 |  0.998 |     0.0024\n",
      "     125 |  0.999 |     0.0012\n",
      "     126 |  0.999 |     0.0010\n",
      "     127 |  0.999 |     0.0007\n"
     ]
    }
   ],
   "source": [
    "# Compute R² and MSE for each feature\n",
    "print(f\"\\n{'Feature':>8} | {'R²':>6} | {'MSE':>10}\")\n",
    "print(\"-\" * 30)\n",
    "for i in range(P_scaled.shape[1]):\n",
    "    r2 = r2_score(P_scaled[:, i], P_reconstructed[:, i])\n",
    "    mse = mean_squared_error(P_scaled[:, i], P_reconstructed[:, i])\n",
    "    print(f\"{i:8d} | {r2:6.3f} | {mse:10.4f}\")\n"
   ]
  },
  {
   "cell_type": "markdown",
   "id": "c3155687",
   "metadata": {},
   "source": [
    "#### Furtherly augmenting coefficient matrix sparsity to identify the most important miRNAs per feature"
   ]
  },
  {
   "cell_type": "markdown",
   "id": "ebcebc15",
   "metadata": {},
   "source": [
    "Adaptive Thresholding"
   ]
  },
  {
   "cell_type": "code",
   "execution_count": null,
   "id": "7cc344ec",
   "metadata": {},
   "outputs": [],
   "source": [
    "def prune_by_relative_threshold(weight_df, perc=0.1):\n",
    "    pruned = weight_df.copy()\n",
    "    for i in pruned.index:\n",
    "        row = pruned.loc[i].abs()\n",
    "        max_val = row.max()\n",
    "        keep = row[row >= perc * max_val].index\n",
    "        pruned.loc[i] = pruned.loc[i].where(pruned.columns.isin(keep), 0.0)\n",
    "    return pruned\n"
   ]
  },
  {
   "cell_type": "code",
   "execution_count": 30,
   "id": "ff7ec39a",
   "metadata": {},
   "outputs": [],
   "source": [
    "# extract the dataframe from lasso_coefficients.csv\n",
    "lasso_coefficients_df = pd.read_csv(\"data/result/lasso_coefficients.csv\", index_col=0)\n",
    "\n",
    "pruned_lasso_coefficients_df = prune_by_relative_threshold(lasso_coefficients_df, perc=0.05)\n",
    "\n",
    "# save the pruned coefficients to a CSV file\n",
    "pruned_lasso_coefficients_df.to_csv(\"data/result/pruned_lasso_coefficients.csv\", index=True)"
   ]
  },
  {
   "cell_type": "code",
   "execution_count": null,
   "id": "b0702761",
   "metadata": {},
   "outputs": [
    {
     "name": "stdout",
     "output_type": "stream",
     "text": [
      "R² globale : 0.9813\n",
      "MSE globale: 0.0187\n"
     ]
    }
   ],
   "source": [
    "\n",
    "df_miRNA  = pd.read_csv(\"data/raw/df_concat_final.csv\",      index_col=0)   # (n_samples, n_miRNA_tot)\n",
    "df_target = pd.read_csv(\"data/raw/subj_embeddings_train.csv\", index_col=0)  # (n_samples, 127)\n",
    "\n",
    "\n",
    "miRNA_keep = pruned_lasso_coefficients_df.columns.tolist()\n",
    "df_miRNA_filtered = df_miRNA[miRNA_keep]         \n",
    "\n",
    "X = df_miRNA_filtered.values                     \n",
    "P = df_target.values                             \n",
    "\n",
    "\n",
    "scaler_X = StandardScaler()\n",
    "scaler_P = StandardScaler()\n",
    "\n",
    "X_scaled = scaler_X.fit_transform(X)\n",
    "P_scaled = scaler_P.fit_transform(P)\n",
    "\n",
    "\n",
    "W_pruned = pruned_lasso_coefficients_df.values   # shape: (127, k)\n",
    "\n",
    "# Verifica dimensioni coerenti\n",
    "assert X_scaled.shape[1] == W_pruned.shape[1], \"Col mismatch X vs W_pruned\"\n",
    "\n",
    "P_hat = X_scaled @ W_pruned.T                    # shape: (n_samples, 127)\n",
    "\n",
    "\n",
    "r2_global  = r2_score(P_scaled, P_hat, multioutput='variance_weighted')\n",
    "mse_global = mean_squared_error(P_scaled, P_hat)\n",
    "\n",
    "print(f\"R² global  : {r2_global:.4f}\")\n",
    "print(f\"MSE global : {mse_global:.4f}\")"
   ]
  },
  {
   "cell_type": "code",
   "execution_count": null,
   "id": "a7441f51",
   "metadata": {},
   "outputs": [
    {
     "name": "stdout",
     "output_type": "stream",
     "text": [
      "Shape originale : (128, 300)\n",
      "Shape ridotta   : (128, 96)\n"
     ]
    }
   ],
   "source": [
    "# keep only non-zero coefficients (no need to evaluate the capacity of the model to reconstruct P)\n",
    "pruned_nonzero_df = pruned_lasso_coefficients_df.loc[\n",
    "    :,                                  \n",
    "    (pruned_lasso_coefficients_df != 0).any(axis=0)  \n",
    "]\n",
    "\n",
    "print(\"Original shape  :\", pruned_lasso_coefficients_df.shape)\n",
    "print(\"Reduced shape   :\", pruned_nonzero_df.shape)\n",
    "\n",
    "pruned_nonzero_df.to_csv(\"data/result/pruned_lasso_coefficients_nonzero.csv\")\n"
   ]
  },
  {
   "cell_type": "markdown",
   "id": "321eb9e6",
   "metadata": {},
   "source": [
    "## Correspondence verification"
   ]
  },
  {
   "cell_type": "markdown",
   "id": "f1a11d98",
   "metadata": {},
   "source": [
    "### Train and evaluate a Random Forest model (over the original dataset)"
   ]
  },
  {
   "cell_type": "code",
   "execution_count": 70,
   "id": "08765fce",
   "metadata": {},
   "outputs": [],
   "source": [
    "# join patient info with subj_embeddings_train\n",
    "df_patient_info = pd.read_csv(\"data/result/patient_info.csv\")\n",
    "df_subj_embeddings = pd.read_csv(\"data/raw/subj_embeddings_train.csv\")\n",
    "\n",
    "# rename the first column of df_subj_embeddings\n",
    "df_subj_embeddings.rename(columns={df_subj_embeddings.columns[0]: 'patient_id'}, inplace=True)\n",
    "\n",
    "# merge on patient_id\n",
    "df_merged = df_patient_info.merge(df_subj_embeddings, on='patient_id', how='inner')"
   ]
  },
  {
   "cell_type": "code",
   "execution_count": 71,
   "id": "36f8dda3",
   "metadata": {},
   "outputs": [],
   "source": [
    "# save the merged dataframe into a CSV file\n",
    "df_merged.to_csv(\"data/result/patient_full_embeddings.csv\", index=False)"
   ]
  },
  {
   "cell_type": "code",
   "execution_count": 72,
   "id": "571c94bc",
   "metadata": {},
   "outputs": [
    {
     "name": "stdout",
     "output_type": "stream",
     "text": [
      "(1227, 133)\n"
     ]
    }
   ],
   "source": [
    "RANDOM_STATE = 42\n",
    "\n",
    "df = pd.read_csv(\"data/result/patient_full_embeddings.csv\")\n",
    "\n",
    "# 1.a – rimuovi identificativo\n",
    "df = df.drop(columns=[\"patient_id\"])\n",
    "\n",
    "# remove every row having NaN values\n",
    "df = df.dropna()\n",
    "\n",
    "print(df.shape)\n",
    "\n",
    "# 1.b – separa X, y\n",
    "y = df[\"disease\"]\n",
    "X = df.drop(columns=[\"disease\"])\n",
    "\n",
    "# 1.c – train/hold-out split (80/20 stratificato)\n",
    "X_train, X_test, y_train, y_test = train_test_split(\n",
    "    X, y, test_size=0.20, stratify=y, random_state=RANDOM_STATE\n",
    ")"
   ]
  },
  {
   "cell_type": "code",
   "execution_count": 73,
   "id": "95d811ff",
   "metadata": {},
   "outputs": [],
   "source": [
    "numeric_cols = X.select_dtypes(include=[\"number\"]).columns\n",
    "categorical_cols = X.select_dtypes(exclude=[\"number\"]).columns   # es. sex, apoE, ecc.\n",
    "\n",
    "numeric_pipe = Pipeline([\n",
    "    (\"imputer\", SimpleImputer(strategy=\"median\"))\n",
    "    \n",
    "])\n",
    "\n",
    "categorical_pipe = Pipeline([\n",
    "    (\"imputer\", SimpleImputer(strategy=\"most_frequent\")),\n",
    "    (\"onehot\",  OneHotEncoder(handle_unknown=\"ignore\"))\n",
    "])\n",
    "\n",
    "preprocess = ColumnTransformer([\n",
    "    (\"num\", numeric_pipe, numeric_cols),\n",
    "    (\"cat\", categorical_pipe, categorical_cols)\n",
    "])"
   ]
  },
  {
   "cell_type": "code",
   "execution_count": 74,
   "id": "15f7fdd3",
   "metadata": {},
   "outputs": [],
   "source": [
    "rf = RandomForestClassifier(\n",
    "    n_estimators=500,\n",
    "    class_weight=\"balanced\",\n",
    "    random_state=RANDOM_STATE\n",
    ")\n",
    "\n",
    "pipeline = Pipeline([\n",
    "    (\"prep\", preprocess),\n",
    "    (\"rf\",   rf)\n",
    "])"
   ]
  },
  {
   "cell_type": "code",
   "execution_count": 75,
   "id": "d9eea067",
   "metadata": {},
   "outputs": [
    {
     "name": "stdout",
     "output_type": "stream",
     "text": [
      "Fitting 5 folds for each of 27 candidates, totalling 135 fits\n",
      "Best params: {'rf__max_depth': 10, 'rf__min_samples_leaf': 4, 'rf__n_estimators': 800}\n",
      "CV f1-macro: 0.682\n"
     ]
    }
   ],
   "source": [
    "param_grid = {\n",
    "    \"rf__n_estimators\":   [300, 500, 800],\n",
    "    \"rf__max_depth\":      [None, 10, 20],\n",
    "    \"rf__min_samples_leaf\": [1, 2, 4]\n",
    "}\n",
    "\n",
    "cv = StratifiedKFold(n_splits=5, shuffle=True, random_state=RANDOM_STATE)\n",
    "\n",
    "grid = GridSearchCV(\n",
    "    pipeline,\n",
    "    param_grid,\n",
    "    cv=cv,\n",
    "    scoring=\"f1_macro\",\n",
    "    n_jobs=-1,\n",
    "    verbose=1\n",
    ")\n",
    "\n",
    "grid.fit(X_train, y_train)\n",
    "\n",
    "print(\"Best params:\", grid.best_params_)\n",
    "print(\"CV f1-macro:\", grid.best_score_.round(3))"
   ]
  },
  {
   "cell_type": "code",
   "execution_count": 76,
   "id": "fb4d513e",
   "metadata": {},
   "outputs": [
    {
     "name": "stdout",
     "output_type": "stream",
     "text": [
      "\n",
      "=== Test-set metrics ===\n",
      "Accuracy : 0.756\n",
      "F1-macro : 0.678\n",
      "\n",
      "Classification report:\n",
      "              precision    recall  f1-score   support\n",
      "\n",
      "          AD      0.786     0.891     0.835       165\n",
      "         MCI      1.000     0.522     0.686        23\n",
      "          NC      0.574     0.466     0.514        58\n",
      "\n",
      "    accuracy                          0.756       246\n",
      "   macro avg      0.787     0.626     0.678       246\n",
      "weighted avg      0.756     0.756     0.746       246\n",
      "\n",
      "Confusion matrix:\n",
      " [[147   0  18]\n",
      " [  9  12   2]\n",
      " [ 31   0  27]]\n"
     ]
    }
   ],
   "source": [
    "best_model = grid.best_estimator_\n",
    "\n",
    "y_pred = best_model.predict(X_test)\n",
    "\n",
    "print(\"\\n=== Test-set metrics ===\")\n",
    "print(\"Accuracy :\", accuracy_score(y_test, y_pred).round(3))\n",
    "print(\"F1-macro :\", f1_score(y_test, y_pred, average=\"macro\").round(3))\n",
    "print(\"\\nClassification report:\")\n",
    "print(classification_report(y_test, y_pred, digits=3))\n",
    "\n",
    "print(\"Confusion matrix:\\n\", confusion_matrix(y_test, y_pred))"
   ]
  },
  {
   "cell_type": "code",
   "execution_count": 77,
   "id": "2feba815",
   "metadata": {},
   "outputs": [],
   "source": [
    "y_pred_std = y_pred"
   ]
  },
  {
   "cell_type": "markdown",
   "id": "168d6324",
   "metadata": {},
   "source": [
    "### Alternative training over the original dataset"
   ]
  },
  {
   "cell_type": "code",
   "execution_count": null,
   "id": "320e1793",
   "metadata": {},
   "outputs": [],
   "source": [
    "import numpy as np\n",
    "from sklearn.preprocessing import StandardScaler, OneHotEncoder\n",
    "from sklearn.compose import ColumnTransformer\n",
    "\n",
    "n_num = len(numeric_cols)\n",
    "n_cat = len(categorical_cols)\n",
    "cat_ord_idx = list(range(n_num, n_num + n_cat))   \n",
    "\n",
    "preprocess_final = ColumnTransformer([\n",
    "    (\"num_scale\", StandardScaler(), list(range(n_num))),   \n",
    "    (\"cat_ohe\", OneHotEncoder(handle_unknown=\"ignore\"), cat_ord_idx)\n",
    "], remainder=\"passthrough\")\n"
   ]
  },
  {
   "cell_type": "code",
   "execution_count": null,
   "id": "de9af367",
   "metadata": {},
   "outputs": [
    {
     "name": "stdout",
     "output_type": "stream",
     "text": [
      "Fitting 5 folds for each of 108 candidates, totalling 540 fits\n"
     ]
    },
    {
     "name": "stderr",
     "output_type": "stream",
     "text": [
      "c:\\Users\\e1204\\anaconda3\\Lib\\site-packages\\imblearn\\ensemble\\_forest.py:546: FutureWarning: The default of `sampling_strategy` will change from `'auto'` to `'all'` in version 0.13. This change will follow the implementation proposed in the original paper. Set to `'all'` to silence this warning and adopt the future behaviour.\n",
      "  warn(\n",
      "c:\\Users\\e1204\\anaconda3\\Lib\\site-packages\\imblearn\\ensemble\\_forest.py:558: FutureWarning: The default of `replacement` will change from `False` to `True` in version 0.13. This change will follow the implementation proposed in the original paper. Set to `True` to silence this warning and adopt the future behaviour.\n",
      "  warn(\n"
     ]
    },
    {
     "data": {
      "text/html": [
       "<style>#sk-container-id-2 {color: black;background-color: white;}#sk-container-id-2 pre{padding: 0;}#sk-container-id-2 div.sk-toggleable {background-color: white;}#sk-container-id-2 label.sk-toggleable__label {cursor: pointer;display: block;width: 100%;margin-bottom: 0;padding: 0.3em;box-sizing: border-box;text-align: center;}#sk-container-id-2 label.sk-toggleable__label-arrow:before {content: \"▸\";float: left;margin-right: 0.25em;color: #696969;}#sk-container-id-2 label.sk-toggleable__label-arrow:hover:before {color: black;}#sk-container-id-2 div.sk-estimator:hover label.sk-toggleable__label-arrow:before {color: black;}#sk-container-id-2 div.sk-toggleable__content {max-height: 0;max-width: 0;overflow: hidden;text-align: left;background-color: #f0f8ff;}#sk-container-id-2 div.sk-toggleable__content pre {margin: 0.2em;color: black;border-radius: 0.25em;background-color: #f0f8ff;}#sk-container-id-2 input.sk-toggleable__control:checked~div.sk-toggleable__content {max-height: 200px;max-width: 100%;overflow: auto;}#sk-container-id-2 input.sk-toggleable__control:checked~label.sk-toggleable__label-arrow:before {content: \"▾\";}#sk-container-id-2 div.sk-estimator input.sk-toggleable__control:checked~label.sk-toggleable__label {background-color: #d4ebff;}#sk-container-id-2 div.sk-label input.sk-toggleable__control:checked~label.sk-toggleable__label {background-color: #d4ebff;}#sk-container-id-2 input.sk-hidden--visually {border: 0;clip: rect(1px 1px 1px 1px);clip: rect(1px, 1px, 1px, 1px);height: 1px;margin: -1px;overflow: hidden;padding: 0;position: absolute;width: 1px;}#sk-container-id-2 div.sk-estimator {font-family: monospace;background-color: #f0f8ff;border: 1px dotted black;border-radius: 0.25em;box-sizing: border-box;margin-bottom: 0.5em;}#sk-container-id-2 div.sk-estimator:hover {background-color: #d4ebff;}#sk-container-id-2 div.sk-parallel-item::after {content: \"\";width: 100%;border-bottom: 1px solid gray;flex-grow: 1;}#sk-container-id-2 div.sk-label:hover label.sk-toggleable__label {background-color: #d4ebff;}#sk-container-id-2 div.sk-serial::before {content: \"\";position: absolute;border-left: 1px solid gray;box-sizing: border-box;top: 0;bottom: 0;left: 50%;z-index: 0;}#sk-container-id-2 div.sk-serial {display: flex;flex-direction: column;align-items: center;background-color: white;padding-right: 0.2em;padding-left: 0.2em;position: relative;}#sk-container-id-2 div.sk-item {position: relative;z-index: 1;}#sk-container-id-2 div.sk-parallel {display: flex;align-items: stretch;justify-content: center;background-color: white;position: relative;}#sk-container-id-2 div.sk-item::before, #sk-container-id-2 div.sk-parallel-item::before {content: \"\";position: absolute;border-left: 1px solid gray;box-sizing: border-box;top: 0;bottom: 0;left: 50%;z-index: -1;}#sk-container-id-2 div.sk-parallel-item {display: flex;flex-direction: column;z-index: 1;position: relative;background-color: white;}#sk-container-id-2 div.sk-parallel-item:first-child::after {align-self: flex-end;width: 50%;}#sk-container-id-2 div.sk-parallel-item:last-child::after {align-self: flex-start;width: 50%;}#sk-container-id-2 div.sk-parallel-item:only-child::after {width: 0;}#sk-container-id-2 div.sk-dashed-wrapped {border: 1px dashed gray;margin: 0 0.4em 0.5em 0.4em;box-sizing: border-box;padding-bottom: 0.4em;background-color: white;}#sk-container-id-2 div.sk-label label {font-family: monospace;font-weight: bold;display: inline-block;line-height: 1.2em;}#sk-container-id-2 div.sk-label-container {text-align: center;}#sk-container-id-2 div.sk-container {/* jupyter's `normalize.less` sets `[hidden] { display: none; }` but bootstrap.min.css set `[hidden] { display: none !important; }` so we also need the `!important` here to be able to override the default hidden behavior on the sphinx rendered scikit-learn.org. See: https://github.com/scikit-learn/scikit-learn/issues/21755 */display: inline-block !important;position: relative;}#sk-container-id-2 div.sk-text-repr-fallback {display: none;}</style><div id=\"sk-container-id-2\" class=\"sk-top-container\"><div class=\"sk-text-repr-fallback\"><pre>GridSearchCV(cv=StratifiedKFold(n_splits=5, random_state=42, shuffle=True),\n",
       "             estimator=Pipeline(steps=[(&#x27;ord&#x27;,\n",
       "                                        ColumnTransformer(transformers=[(&#x27;num&#x27;,\n",
       "                                                                         Pipeline(steps=[(&#x27;imp&#x27;,\n",
       "                                                                                          SimpleImputer(strategy=&#x27;median&#x27;))]),\n",
       "                                                                         Index([&#x27;age&#x27;, &#x27;apoe4&#x27;, &#x27;0&#x27;, &#x27;1&#x27;, &#x27;2&#x27;, &#x27;3&#x27;, &#x27;4&#x27;, &#x27;5&#x27;, &#x27;6&#x27;, &#x27;7&#x27;,\n",
       "       ...\n",
       "       &#x27;118&#x27;, &#x27;119&#x27;, &#x27;120&#x27;, &#x27;121&#x27;, &#x27;122&#x27;, &#x27;123&#x27;, &#x27;124&#x27;, &#x27;125&#x27;, &#x27;126&#x27;, &#x27;127&#x27;],\n",
       "      dtype=&#x27;object&#x27;, length=130)),\n",
       "                                                                        (...\n",
       "                                                                          29, ...]),\n",
       "                                                                        (&#x27;cat_ohe&#x27;,\n",
       "                                                                         OneHotEncoder(handle_unknown=&#x27;ignore&#x27;),\n",
       "                                                                         [130,\n",
       "                                                                          131])])),\n",
       "                                       (&#x27;clf&#x27;,\n",
       "                                        BalancedRandomForestClassifier(random_state=42))]),\n",
       "             n_jobs=-1,\n",
       "             param_grid={&#x27;clf__criterion&#x27;: [&#x27;gini&#x27;, &#x27;entropy&#x27;],\n",
       "                         &#x27;clf__max_depth&#x27;: [None, 15, 25],\n",
       "                         &#x27;clf__max_features&#x27;: [&#x27;sqrt&#x27;, 0.2],\n",
       "                         &#x27;clf__min_samples_leaf&#x27;: [1, 3, 5],\n",
       "                         &#x27;clf__n_estimators&#x27;: [800, 1200, 1500]},\n",
       "             scoring=&#x27;f1_macro&#x27;, verbose=2)</pre><b>In a Jupyter environment, please rerun this cell to show the HTML representation or trust the notebook. <br />On GitHub, the HTML representation is unable to render, please try loading this page with nbviewer.org.</b></div><div class=\"sk-container\" hidden><div class=\"sk-item sk-dashed-wrapped\"><div class=\"sk-label-container\"><div class=\"sk-label sk-toggleable\"><input class=\"sk-toggleable__control sk-hidden--visually\" id=\"sk-estimator-id-10\" type=\"checkbox\" ><label for=\"sk-estimator-id-10\" class=\"sk-toggleable__label sk-toggleable__label-arrow\">GridSearchCV</label><div class=\"sk-toggleable__content\"><pre>GridSearchCV(cv=StratifiedKFold(n_splits=5, random_state=42, shuffle=True),\n",
       "             estimator=Pipeline(steps=[(&#x27;ord&#x27;,\n",
       "                                        ColumnTransformer(transformers=[(&#x27;num&#x27;,\n",
       "                                                                         Pipeline(steps=[(&#x27;imp&#x27;,\n",
       "                                                                                          SimpleImputer(strategy=&#x27;median&#x27;))]),\n",
       "                                                                         Index([&#x27;age&#x27;, &#x27;apoe4&#x27;, &#x27;0&#x27;, &#x27;1&#x27;, &#x27;2&#x27;, &#x27;3&#x27;, &#x27;4&#x27;, &#x27;5&#x27;, &#x27;6&#x27;, &#x27;7&#x27;,\n",
       "       ...\n",
       "       &#x27;118&#x27;, &#x27;119&#x27;, &#x27;120&#x27;, &#x27;121&#x27;, &#x27;122&#x27;, &#x27;123&#x27;, &#x27;124&#x27;, &#x27;125&#x27;, &#x27;126&#x27;, &#x27;127&#x27;],\n",
       "      dtype=&#x27;object&#x27;, length=130)),\n",
       "                                                                        (...\n",
       "                                                                          29, ...]),\n",
       "                                                                        (&#x27;cat_ohe&#x27;,\n",
       "                                                                         OneHotEncoder(handle_unknown=&#x27;ignore&#x27;),\n",
       "                                                                         [130,\n",
       "                                                                          131])])),\n",
       "                                       (&#x27;clf&#x27;,\n",
       "                                        BalancedRandomForestClassifier(random_state=42))]),\n",
       "             n_jobs=-1,\n",
       "             param_grid={&#x27;clf__criterion&#x27;: [&#x27;gini&#x27;, &#x27;entropy&#x27;],\n",
       "                         &#x27;clf__max_depth&#x27;: [None, 15, 25],\n",
       "                         &#x27;clf__max_features&#x27;: [&#x27;sqrt&#x27;, 0.2],\n",
       "                         &#x27;clf__min_samples_leaf&#x27;: [1, 3, 5],\n",
       "                         &#x27;clf__n_estimators&#x27;: [800, 1200, 1500]},\n",
       "             scoring=&#x27;f1_macro&#x27;, verbose=2)</pre></div></div></div><div class=\"sk-parallel\"><div class=\"sk-parallel-item\"><div class=\"sk-item\"><div class=\"sk-label-container\"><div class=\"sk-label sk-toggleable\"><input class=\"sk-toggleable__control sk-hidden--visually\" id=\"sk-estimator-id-11\" type=\"checkbox\" ><label for=\"sk-estimator-id-11\" class=\"sk-toggleable__label sk-toggleable__label-arrow\">estimator: Pipeline</label><div class=\"sk-toggleable__content\"><pre>Pipeline(steps=[(&#x27;ord&#x27;,\n",
       "                 ColumnTransformer(transformers=[(&#x27;num&#x27;,\n",
       "                                                  Pipeline(steps=[(&#x27;imp&#x27;,\n",
       "                                                                   SimpleImputer(strategy=&#x27;median&#x27;))]),\n",
       "                                                  Index([&#x27;age&#x27;, &#x27;apoe4&#x27;, &#x27;0&#x27;, &#x27;1&#x27;, &#x27;2&#x27;, &#x27;3&#x27;, &#x27;4&#x27;, &#x27;5&#x27;, &#x27;6&#x27;, &#x27;7&#x27;,\n",
       "       ...\n",
       "       &#x27;118&#x27;, &#x27;119&#x27;, &#x27;120&#x27;, &#x27;121&#x27;, &#x27;122&#x27;, &#x27;123&#x27;, &#x27;124&#x27;, &#x27;125&#x27;, &#x27;126&#x27;, &#x27;127&#x27;],\n",
       "      dtype=&#x27;object&#x27;, length=130)),\n",
       "                                                 (&#x27;cat&#x27;,\n",
       "                                                  Pipeline(steps=[(&#x27;imp&#x27;,\n",
       "                                                                   SimpleImputer(strategy=&#x27;most_frequent&#x27;)),\n",
       "                                                                  (&#x27;enc&#x27;,\n",
       "                                                                   Ordina...\n",
       "                 SMOTENC(categorical_features=[130, 131], k_neighbors=3,\n",
       "                         random_state=42)),\n",
       "                (&#x27;cleaner&#x27;, TomekLinks()),\n",
       "                (&#x27;prep&#x27;,\n",
       "                 ColumnTransformer(remainder=&#x27;passthrough&#x27;,\n",
       "                                   transformers=[(&#x27;num_scale&#x27;, StandardScaler(),\n",
       "                                                  [0, 1, 2, 3, 4, 5, 6, 7, 8, 9,\n",
       "                                                   10, 11, 12, 13, 14, 15, 16,\n",
       "                                                   17, 18, 19, 20, 21, 22, 23,\n",
       "                                                   24, 25, 26, 27, 28, 29, ...]),\n",
       "                                                 (&#x27;cat_ohe&#x27;,\n",
       "                                                  OneHotEncoder(handle_unknown=&#x27;ignore&#x27;),\n",
       "                                                  [130, 131])])),\n",
       "                (&#x27;clf&#x27;, BalancedRandomForestClassifier(random_state=42))])</pre></div></div></div><div class=\"sk-serial\"><div class=\"sk-item\"><div class=\"sk-serial\"><div class=\"sk-item sk-dashed-wrapped\"><div class=\"sk-label-container\"><div class=\"sk-label sk-toggleable\"><input class=\"sk-toggleable__control sk-hidden--visually\" id=\"sk-estimator-id-12\" type=\"checkbox\" ><label for=\"sk-estimator-id-12\" class=\"sk-toggleable__label sk-toggleable__label-arrow\">ord: ColumnTransformer</label><div class=\"sk-toggleable__content\"><pre>ColumnTransformer(transformers=[(&#x27;num&#x27;,\n",
       "                                 Pipeline(steps=[(&#x27;imp&#x27;,\n",
       "                                                  SimpleImputer(strategy=&#x27;median&#x27;))]),\n",
       "                                 Index([&#x27;age&#x27;, &#x27;apoe4&#x27;, &#x27;0&#x27;, &#x27;1&#x27;, &#x27;2&#x27;, &#x27;3&#x27;, &#x27;4&#x27;, &#x27;5&#x27;, &#x27;6&#x27;, &#x27;7&#x27;,\n",
       "       ...\n",
       "       &#x27;118&#x27;, &#x27;119&#x27;, &#x27;120&#x27;, &#x27;121&#x27;, &#x27;122&#x27;, &#x27;123&#x27;, &#x27;124&#x27;, &#x27;125&#x27;, &#x27;126&#x27;, &#x27;127&#x27;],\n",
       "      dtype=&#x27;object&#x27;, length=130)),\n",
       "                                (&#x27;cat&#x27;,\n",
       "                                 Pipeline(steps=[(&#x27;imp&#x27;,\n",
       "                                                  SimpleImputer(strategy=&#x27;most_frequent&#x27;)),\n",
       "                                                 (&#x27;enc&#x27;,\n",
       "                                                  OrdinalEncoder(handle_unknown=&#x27;use_encoded_value&#x27;,\n",
       "                                                                 unknown_value=-1))]),\n",
       "                                 Index([&#x27;country&#x27;, &#x27;sex&#x27;], dtype=&#x27;object&#x27;))])</pre></div></div></div><div class=\"sk-parallel\"><div class=\"sk-parallel-item\"><div class=\"sk-item\"><div class=\"sk-label-container\"><div class=\"sk-label sk-toggleable\"><input class=\"sk-toggleable__control sk-hidden--visually\" id=\"sk-estimator-id-13\" type=\"checkbox\" ><label for=\"sk-estimator-id-13\" class=\"sk-toggleable__label sk-toggleable__label-arrow\">num</label><div class=\"sk-toggleable__content\"><pre>Index([&#x27;age&#x27;, &#x27;apoe4&#x27;, &#x27;0&#x27;, &#x27;1&#x27;, &#x27;2&#x27;, &#x27;3&#x27;, &#x27;4&#x27;, &#x27;5&#x27;, &#x27;6&#x27;, &#x27;7&#x27;,\n",
       "       ...\n",
       "       &#x27;118&#x27;, &#x27;119&#x27;, &#x27;120&#x27;, &#x27;121&#x27;, &#x27;122&#x27;, &#x27;123&#x27;, &#x27;124&#x27;, &#x27;125&#x27;, &#x27;126&#x27;, &#x27;127&#x27;],\n",
       "      dtype=&#x27;object&#x27;, length=130)</pre></div></div></div><div class=\"sk-serial\"><div class=\"sk-item\"><div class=\"sk-serial\"><div class=\"sk-item\"><div class=\"sk-estimator sk-toggleable\"><input class=\"sk-toggleable__control sk-hidden--visually\" id=\"sk-estimator-id-14\" type=\"checkbox\" ><label for=\"sk-estimator-id-14\" class=\"sk-toggleable__label sk-toggleable__label-arrow\">SimpleImputer</label><div class=\"sk-toggleable__content\"><pre>SimpleImputer(strategy=&#x27;median&#x27;)</pre></div></div></div></div></div></div></div></div><div class=\"sk-parallel-item\"><div class=\"sk-item\"><div class=\"sk-label-container\"><div class=\"sk-label sk-toggleable\"><input class=\"sk-toggleable__control sk-hidden--visually\" id=\"sk-estimator-id-15\" type=\"checkbox\" ><label for=\"sk-estimator-id-15\" class=\"sk-toggleable__label sk-toggleable__label-arrow\">cat</label><div class=\"sk-toggleable__content\"><pre>Index([&#x27;country&#x27;, &#x27;sex&#x27;], dtype=&#x27;object&#x27;)</pre></div></div></div><div class=\"sk-serial\"><div class=\"sk-item\"><div class=\"sk-serial\"><div class=\"sk-item\"><div class=\"sk-estimator sk-toggleable\"><input class=\"sk-toggleable__control sk-hidden--visually\" id=\"sk-estimator-id-16\" type=\"checkbox\" ><label for=\"sk-estimator-id-16\" class=\"sk-toggleable__label sk-toggleable__label-arrow\">SimpleImputer</label><div class=\"sk-toggleable__content\"><pre>SimpleImputer(strategy=&#x27;most_frequent&#x27;)</pre></div></div></div><div class=\"sk-item\"><div class=\"sk-estimator sk-toggleable\"><input class=\"sk-toggleable__control sk-hidden--visually\" id=\"sk-estimator-id-17\" type=\"checkbox\" ><label for=\"sk-estimator-id-17\" class=\"sk-toggleable__label sk-toggleable__label-arrow\">OrdinalEncoder</label><div class=\"sk-toggleable__content\"><pre>OrdinalEncoder(handle_unknown=&#x27;use_encoded_value&#x27;, unknown_value=-1)</pre></div></div></div></div></div></div></div></div></div></div><div class=\"sk-item\"><div class=\"sk-estimator sk-toggleable\"><input class=\"sk-toggleable__control sk-hidden--visually\" id=\"sk-estimator-id-18\" type=\"checkbox\" ><label for=\"sk-estimator-id-18\" class=\"sk-toggleable__label sk-toggleable__label-arrow\">SMOTENC</label><div class=\"sk-toggleable__content\"><pre>SMOTENC(categorical_features=[130, 131], k_neighbors=3, random_state=42)</pre></div></div></div><div class=\"sk-item\"><div class=\"sk-estimator sk-toggleable\"><input class=\"sk-toggleable__control sk-hidden--visually\" id=\"sk-estimator-id-19\" type=\"checkbox\" ><label for=\"sk-estimator-id-19\" class=\"sk-toggleable__label sk-toggleable__label-arrow\">TomekLinks</label><div class=\"sk-toggleable__content\"><pre>TomekLinks()</pre></div></div></div><div class=\"sk-item sk-dashed-wrapped\"><div class=\"sk-label-container\"><div class=\"sk-label sk-toggleable\"><input class=\"sk-toggleable__control sk-hidden--visually\" id=\"sk-estimator-id-20\" type=\"checkbox\" ><label for=\"sk-estimator-id-20\" class=\"sk-toggleable__label sk-toggleable__label-arrow\">prep: ColumnTransformer</label><div class=\"sk-toggleable__content\"><pre>ColumnTransformer(remainder=&#x27;passthrough&#x27;,\n",
       "                  transformers=[(&#x27;num_scale&#x27;, StandardScaler(),\n",
       "                                 [0, 1, 2, 3, 4, 5, 6, 7, 8, 9, 10, 11, 12, 13,\n",
       "                                  14, 15, 16, 17, 18, 19, 20, 21, 22, 23, 24,\n",
       "                                  25, 26, 27, 28, 29, ...]),\n",
       "                                (&#x27;cat_ohe&#x27;,\n",
       "                                 OneHotEncoder(handle_unknown=&#x27;ignore&#x27;),\n",
       "                                 [130, 131])])</pre></div></div></div><div class=\"sk-parallel\"><div class=\"sk-parallel-item\"><div class=\"sk-item\"><div class=\"sk-label-container\"><div class=\"sk-label sk-toggleable\"><input class=\"sk-toggleable__control sk-hidden--visually\" id=\"sk-estimator-id-21\" type=\"checkbox\" ><label for=\"sk-estimator-id-21\" class=\"sk-toggleable__label sk-toggleable__label-arrow\">num_scale</label><div class=\"sk-toggleable__content\"><pre>[0, 1, 2, 3, 4, 5, 6, 7, 8, 9, 10, 11, 12, 13, 14, 15, 16, 17, 18, 19, 20, 21, 22, 23, 24, 25, 26, 27, 28, 29, 30, 31, 32, 33, 34, 35, 36, 37, 38, 39, 40, 41, 42, 43, 44, 45, 46, 47, 48, 49, 50, 51, 52, 53, 54, 55, 56, 57, 58, 59, 60, 61, 62, 63, 64, 65, 66, 67, 68, 69, 70, 71, 72, 73, 74, 75, 76, 77, 78, 79, 80, 81, 82, 83, 84, 85, 86, 87, 88, 89, 90, 91, 92, 93, 94, 95, 96, 97, 98, 99, 100, 101, 102, 103, 104, 105, 106, 107, 108, 109, 110, 111, 112, 113, 114, 115, 116, 117, 118, 119, 120, 121, 122, 123, 124, 125, 126, 127, 128, 129]</pre></div></div></div><div class=\"sk-serial\"><div class=\"sk-item\"><div class=\"sk-estimator sk-toggleable\"><input class=\"sk-toggleable__control sk-hidden--visually\" id=\"sk-estimator-id-22\" type=\"checkbox\" ><label for=\"sk-estimator-id-22\" class=\"sk-toggleable__label sk-toggleable__label-arrow\">StandardScaler</label><div class=\"sk-toggleable__content\"><pre>StandardScaler()</pre></div></div></div></div></div></div><div class=\"sk-parallel-item\"><div class=\"sk-item\"><div class=\"sk-label-container\"><div class=\"sk-label sk-toggleable\"><input class=\"sk-toggleable__control sk-hidden--visually\" id=\"sk-estimator-id-23\" type=\"checkbox\" ><label for=\"sk-estimator-id-23\" class=\"sk-toggleable__label sk-toggleable__label-arrow\">cat_ohe</label><div class=\"sk-toggleable__content\"><pre>[130, 131]</pre></div></div></div><div class=\"sk-serial\"><div class=\"sk-item\"><div class=\"sk-estimator sk-toggleable\"><input class=\"sk-toggleable__control sk-hidden--visually\" id=\"sk-estimator-id-24\" type=\"checkbox\" ><label for=\"sk-estimator-id-24\" class=\"sk-toggleable__label sk-toggleable__label-arrow\">OneHotEncoder</label><div class=\"sk-toggleable__content\"><pre>OneHotEncoder(handle_unknown=&#x27;ignore&#x27;)</pre></div></div></div></div></div></div><div class=\"sk-parallel-item\"><div class=\"sk-item\"><div class=\"sk-label-container\"><div class=\"sk-label sk-toggleable\"><input class=\"sk-toggleable__control sk-hidden--visually\" id=\"sk-estimator-id-25\" type=\"checkbox\" ><label for=\"sk-estimator-id-25\" class=\"sk-toggleable__label sk-toggleable__label-arrow\">remainder</label><div class=\"sk-toggleable__content\"><pre></pre></div></div></div><div class=\"sk-serial\"><div class=\"sk-item\"><div class=\"sk-estimator sk-toggleable\"><input class=\"sk-toggleable__control sk-hidden--visually\" id=\"sk-estimator-id-26\" type=\"checkbox\" ><label for=\"sk-estimator-id-26\" class=\"sk-toggleable__label sk-toggleable__label-arrow\">passthrough</label><div class=\"sk-toggleable__content\"><pre>passthrough</pre></div></div></div></div></div></div></div></div><div class=\"sk-item\"><div class=\"sk-estimator sk-toggleable\"><input class=\"sk-toggleable__control sk-hidden--visually\" id=\"sk-estimator-id-27\" type=\"checkbox\" ><label for=\"sk-estimator-id-27\" class=\"sk-toggleable__label sk-toggleable__label-arrow\">BalancedRandomForestClassifier</label><div class=\"sk-toggleable__content\"><pre>BalancedRandomForestClassifier(random_state=42)</pre></div></div></div></div></div></div></div></div></div></div></div></div>"
      ],
      "text/plain": [
       "GridSearchCV(cv=StratifiedKFold(n_splits=5, random_state=42, shuffle=True),\n",
       "             estimator=Pipeline(steps=[('ord',\n",
       "                                        ColumnTransformer(transformers=[('num',\n",
       "                                                                         Pipeline(steps=[('imp',\n",
       "                                                                                          SimpleImputer(strategy='median'))]),\n",
       "                                                                         Index(['age', 'apoe4', '0', '1', '2', '3', '4', '5', '6', '7',\n",
       "       ...\n",
       "       '118', '119', '120', '121', '122', '123', '124', '125', '126', '127'],\n",
       "      dtype='object', length=130)),\n",
       "                                                                        (...\n",
       "                                                                          29, ...]),\n",
       "                                                                        ('cat_ohe',\n",
       "                                                                         OneHotEncoder(handle_unknown='ignore'),\n",
       "                                                                         [130,\n",
       "                                                                          131])])),\n",
       "                                       ('clf',\n",
       "                                        BalancedRandomForestClassifier(random_state=42))]),\n",
       "             n_jobs=-1,\n",
       "             param_grid={'clf__criterion': ['gini', 'entropy'],\n",
       "                         'clf__max_depth': [None, 15, 25],\n",
       "                         'clf__max_features': ['sqrt', 0.2],\n",
       "                         'clf__min_samples_leaf': [1, 3, 5],\n",
       "                         'clf__n_estimators': [800, 1200, 1500]},\n",
       "             scoring='f1_macro', verbose=2)"
      ]
     },
     "execution_count": 82,
     "metadata": {},
     "output_type": "execute_result"
    }
   ],
   "source": [
    "from imblearn.pipeline import Pipeline as ImbPipe\n",
    "from sklearn.pipeline import Pipeline\n",
    "from sklearn.impute import SimpleImputer\n",
    "from sklearn.preprocessing import OrdinalEncoder\n",
    "from imblearn.over_sampling import SMOTENC\n",
    "from imblearn.under_sampling import TomekLinks\n",
    "from imblearn.ensemble import BalancedRandomForestClassifier\n",
    "from sklearn.model_selection import GridSearchCV, StratifiedKFold\n",
    "\n",
    "RANDOM_STATE = 42\n",
    "\n",
    "num_ord = Pipeline([\n",
    "    (\"imp\", SimpleImputer(strategy=\"median\"))\n",
    "])\n",
    "cat_ord = Pipeline([\n",
    "    (\"imp\", SimpleImputer(strategy=\"most_frequent\")),\n",
    "    (\"enc\", OrdinalEncoder(handle_unknown=\"use_encoded_value\", unknown_value=-1))\n",
    "])\n",
    "ord_encoder = ColumnTransformer([\n",
    "    (\"num\", num_ord, numeric_cols),\n",
    "    (\"cat\", cat_ord, categorical_cols)\n",
    "])\n",
    "\n",
    "cat_idx = list(range(len(numeric_cols), len(numeric_cols) + len(categorical_cols)))\n",
    "sampler = SMOTENC(categorical_features=cat_idx, k_neighbors=3, random_state=RANDOM_STATE)\n",
    "cleaner = TomekLinks()\n",
    "\n",
    "n_num = len(numeric_cols)\n",
    "cat_ord_idx = list(range(n_num, n_num + len(categorical_cols)))\n",
    "preprocess_final = ColumnTransformer([\n",
    "    (\"num_scale\", StandardScaler(), list(range(n_num))),\n",
    "    (\"cat_ohe\",  OneHotEncoder(handle_unknown=\"ignore\"), cat_ord_idx)\n",
    "], remainder=\"passthrough\")\n",
    "\n",
    "clf = BalancedRandomForestClassifier(random_state=RANDOM_STATE)\n",
    "\n",
    "pipe = ImbPipe([\n",
    "    (\"ord\",     ord_encoder),\n",
    "    (\"sampler\", sampler),\n",
    "    (\"cleaner\", cleaner),\n",
    "    (\"prep\",    preprocess_final),\n",
    "    (\"clf\",     clf)\n",
    "])\n",
    "\n",
    "param_grid = {\n",
    "    \"clf__n_estimators\": [800, 1200, 1500],\n",
    "    \"clf__max_depth\":    [None, 15, 25],\n",
    "    \"clf__criterion\":    [\"gini\", \"entropy\"],\n",
    "    \"clf__max_features\": [\"sqrt\", 0.2],\n",
    "    \"clf__min_samples_leaf\": [1, 3, 5]\n",
    "}\n",
    "\n",
    "# best parameters: {'clf__criterion': 'entropy', 'clf__max_depth': None, 'clf__max_features': 0.2, 'clf__min_samples_leaf': 5, 'clf__n_estimators': 1500}\n",
    "\n",
    "cv = StratifiedKFold(5, shuffle=True, random_state=RANDOM_STATE)\n",
    "\n",
    "grid = GridSearchCV(pipe, param_grid, cv=cv,\n",
    "                    scoring=\"f1_macro\", n_jobs=-1, verbose=2)\n",
    "grid.fit(X_train, y_train)\n"
   ]
  },
  {
   "cell_type": "code",
   "execution_count": 84,
   "id": "f26561d4",
   "metadata": {},
   "outputs": [
    {
     "name": "stdout",
     "output_type": "stream",
     "text": [
      "\n",
      "=== Test-set metrics ===\n",
      "Accuracy : 0.752\n",
      "F1-macro : 0.692\n",
      "\n",
      "Classification report:\n",
      "              precision    recall  f1-score   support\n",
      "\n",
      "          AD      0.817     0.836     0.826       165\n",
      "         MCI      0.867     0.565     0.684        23\n",
      "          NC      0.548     0.586     0.567        58\n",
      "\n",
      "    accuracy                          0.752       246\n",
      "   macro avg      0.744     0.663     0.692       246\n",
      "weighted avg      0.758     0.752     0.752       246\n",
      "\n",
      "Confusion matrix:\n",
      " [[138   1  26]\n",
      " [  8  13   2]\n",
      " [ 23   1  34]]\n"
     ]
    }
   ],
   "source": [
    "best_model = grid.best_estimator_\n",
    "\n",
    "y_pred = best_model.predict(X_test)\n",
    "\n",
    "print(\"\\n=== Test-set metrics ===\")\n",
    "print(\"Accuracy :\", accuracy_score(y_test, y_pred).round(3))\n",
    "print(\"F1-macro :\", f1_score(y_test, y_pred, average=\"macro\").round(3))\n",
    "print(\"\\nClassification report:\")\n",
    "print(classification_report(y_test, y_pred, digits=3))\n",
    "\n",
    "print(\"Confusion matrix:\\n\", confusion_matrix(y_test, y_pred))"
   ]
  },
  {
   "cell_type": "code",
   "execution_count": 110,
   "id": "7242120a",
   "metadata": {},
   "outputs": [
    {
     "name": "stdout",
     "output_type": "stream",
     "text": [
      "{'clf__criterion': 'entropy', 'clf__max_depth': None, 'clf__max_features': 0.2, 'clf__min_samples_leaf': 5, 'clf__n_estimators': 1500}\n"
     ]
    }
   ],
   "source": [
    "print(grid.best_params_)"
   ]
  },
  {
   "cell_type": "code",
   "execution_count": null,
   "id": "cd23581d",
   "metadata": {},
   "outputs": [
    {
     "name": "stdout",
     "output_type": "stream",
     "text": [
      "Modello salvato in: C:\\Users\\e1204\\miRNA-to-Feature-Correlation\\models\\balanced_rf_smote_nc.pkl\n"
     ]
    }
   ],
   "source": [
    "import joblib\n",
    "from pathlib import Path\n",
    "\n",
    "model_dir = Path(\"models\")\n",
    "model_dir.mkdir(parents=True, exist_ok=True)\n",
    "\n",
    "model_file = model_dir / \"balanced_rf_smote_nc.pkl\"\n",
    "\n",
    "joblib.dump(grid.best_estimator_, model_file)\n",
    "\n",
    "print(f\"Modello salvato in: {model_file.resolve()}\")\n"
   ]
  },
  {
   "cell_type": "code",
   "execution_count": 86,
   "id": "7a090519",
   "metadata": {},
   "outputs": [],
   "source": [
    "# to load back the model\n",
    "\n",
    "import joblib\n",
    "\n",
    "loaded_model = joblib.load(\"models/balanced_rf_smote_nc.pkl\")\n"
   ]
  },
  {
   "cell_type": "markdown",
   "id": "3c480479",
   "metadata": {},
   "source": [
    "#### Explainability exploration"
   ]
  },
  {
   "cell_type": "code",
   "execution_count": 112,
   "id": "23ea92bd",
   "metadata": {},
   "outputs": [
    {
     "name": "stdout",
     "output_type": "stream",
     "text": [
      "(128, 96)\n",
      "           hsa-miR-92a-3p  hsa-miR-182-5p  hsa-miR-130a-3p  hsa-miR-150-5p  \\\n",
      "Feature_0        0.000000             0.0              0.0        0.021316   \n",
      "Feature_1        0.000000             0.0              0.0        0.000000   \n",
      "Feature_2        0.076347             0.0              0.0        0.000000   \n",
      "Feature_3        0.000000             0.0              0.0        0.165882   \n",
      "Feature_4        0.032386             0.0              0.0        0.248664   \n",
      "\n",
      "           hsa-miR-484  hsa-miR-518c-5p  hsa-miR-520d-3p  hsa-miR-557  \\\n",
      "Feature_0    -0.086612              0.0              0.0     0.000000   \n",
      "Feature_1     0.083286              0.0              0.0     0.140222   \n",
      "Feature_2     0.000000              0.0              0.0     0.000000   \n",
      "Feature_3    -0.064268              0.0              0.0    -0.078583   \n",
      "Feature_4    -0.072204              0.0              0.0     0.000000   \n",
      "\n",
      "           hsa-miR-611  hsa-miR-638  ...  hsa-miR-6851-5p  hsa-miR-6769b-5p  \\\n",
      "Feature_0          0.0    -0.185422  ...         0.095612               0.0   \n",
      "Feature_1          0.0     0.133205  ...        -0.078761               0.0   \n",
      "Feature_2          0.0    -0.050327  ...         0.048135               0.0   \n",
      "Feature_3          0.0    -0.147889  ...         0.061759               0.0   \n",
      "Feature_4          0.0    -0.128860  ...         0.056914               0.0   \n",
      "\n",
      "           hsa-miR-6862-3p  hsa-miR-6869-5p  hsa-miR-6890-5p  hsa-miR-6892-3p  \\\n",
      "Feature_0              0.0         0.028766              0.0              0.0   \n",
      "Feature_1              0.0         0.093004              0.0              0.0   \n",
      "Feature_2              0.0         0.000000              0.0              0.0   \n",
      "Feature_3              0.0         0.000000              0.0              0.0   \n",
      "Feature_4              0.0         0.000000              0.0              0.0   \n",
      "\n",
      "           hsa-miR-6895-5p  hsa-miR-7704  hsa-miR-8060  hsa-miR-8072  \n",
      "Feature_0         0.140403     -0.295761           0.0     -0.048222  \n",
      "Feature_1         0.000000      0.069865           0.0      0.198793  \n",
      "Feature_2         0.205997      0.187024           0.0     -0.143634  \n",
      "Feature_3         0.038551     -0.476032           0.0     -0.139082  \n",
      "Feature_4         0.314500     -0.156342           0.0     -0.142895  \n",
      "\n",
      "[5 rows x 96 columns]\n"
     ]
    }
   ],
   "source": [
    "lasso_coef = pd.read_csv('data/result/pruned_lasso_coefficients_nonzero.csv', index_col=0)\n",
    "\n",
    "print(lasso_coef.shape)\n",
    "print(lasso_coef.head())"
   ]
  },
  {
   "cell_type": "code",
   "execution_count": 115,
   "id": "afc1d5dd",
   "metadata": {},
   "outputs": [
    {
     "name": "stdout",
     "output_type": "stream",
     "text": [
      "(1, 96)\n",
      "<class 'numpy.ndarray'>\n"
     ]
    }
   ],
   "source": [
    "# Extracting the first row as a single example\n",
    "X_single = lasso_coef.iloc[0, :].values.reshape(1, -1)  # Reshape to 2D array (1 sample, n features)\n",
    "\n",
    "print(X_single.shape)\n",
    "print(type(X_single))\n"
   ]
  },
  {
   "cell_type": "code",
   "execution_count": 162,
   "id": "9a7c8c6c",
   "metadata": {},
   "outputs": [],
   "source": [
    "def explain_single_prediction(X_single, pipeline, numeric_cols):\n",
    "    # Trasformazione ordinale e ricostruzione DataFrame per nomi colonne\n",
    "    X_ord_array = pipeline.named_steps['ord'].transform(X_single)\n",
    "    X_ord = pd.DataFrame(X_ord_array, columns=numeric_cols)\n",
    "    \n",
    "    # Preprocessing finale\n",
    "    X_preprocessed = pipeline.named_steps['prep'].transform(X_ord)\n",
    "    rf_model = pipeline.named_steps['clf']\n",
    "    \n",
    "    pred_class = rf_model.predict(X_preprocessed)[0]\n",
    "    pred_proba = rf_model.predict_proba(X_preprocessed).max()\n",
    "    \n",
    "    explainer = shap.TreeExplainer(rf_model)\n",
    "    shap_values = explainer.shap_values(X_preprocessed)\n",
    "    \n",
    "    class_labels = rf_model.classes_\n",
    "    pred_class_idx = np.where(class_labels == pred_class)[0][0]\n",
    "    shap_feat = shap_values[pred_class_idx][0]\n",
    "    \n",
    "    preprocessor = pipeline.named_steps['prep']\n",
    "    try:\n",
    "        numeric_indices = preprocessor.transformers_[0][2]\n",
    "        numeric_features = X_ord.columns[numeric_indices]\n",
    "        \n",
    "        ohe = preprocessor.transformers_[1][1]\n",
    "        cat_features = preprocessor.transformers_[1][2]\n",
    "        ohe_feature_names = ohe.get_feature_names_out(cat_features)\n",
    "        \n",
    "        feature_names = np.concatenate([numeric_features, ohe_feature_names])\n",
    "    except Exception as e:\n",
    "        print(\"Errore nel recupero feature_names:\", e)\n",
    "        feature_names = [f\"feat_{i}\" for i in range(len(shap_feat))]\n",
    "    \n",
    "    print(len(feature_names), len(shap_feat))\n",
    "    \n",
    "    df_shap = pd.DataFrame({\n",
    "        \"feature\": feature_names,\n",
    "        \"shap_value\": shap_feat,\n",
    "        \"abs_shap\": np.abs(shap_feat)\n",
    "    }).sort_values(\"abs_shap\", ascending=False)\n",
    "    \n",
    "    return {\n",
    "        \"pred_class\": pred_class,\n",
    "        \"proba_predetta\": pred_proba,\n",
    "        \"shap_df\": df_shap\n",
    "    }\n"
   ]
  },
  {
   "cell_type": "code",
   "execution_count": 163,
   "id": "83677430",
   "metadata": {},
   "outputs": [
    {
     "ename": "ValueError",
     "evalue": "Shape of passed values is (1, 132), indices imply (1, 130)",
     "output_type": "error",
     "traceback": [
      "\u001b[1;31m---------------------------------------------------------------------------\u001b[0m",
      "\u001b[1;31mValueError\u001b[0m                                Traceback (most recent call last)",
      "Cell \u001b[1;32mIn[163], line 6\u001b[0m\n\u001b[0;32m      3\u001b[0m idx \u001b[38;5;241m=\u001b[39m \u001b[38;5;241m0\u001b[39m\n\u001b[0;32m      4\u001b[0m X_single \u001b[38;5;241m=\u001b[39m X_test\u001b[38;5;241m.\u001b[39miloc[[idx]]\n\u001b[1;32m----> 6\u001b[0m report \u001b[38;5;241m=\u001b[39m explain_single_prediction(X_single, best_model, numeric_cols)\n\u001b[0;32m      7\u001b[0m \u001b[38;5;28mprint\u001b[39m(\u001b[38;5;124mf\u001b[39m\u001b[38;5;124m\"\u001b[39m\u001b[38;5;124mClasse predetta: \u001b[39m\u001b[38;5;132;01m{\u001b[39;00mreport[\u001b[38;5;124m'\u001b[39m\u001b[38;5;124mpred_class\u001b[39m\u001b[38;5;124m'\u001b[39m]\u001b[38;5;132;01m}\u001b[39;00m\u001b[38;5;124m (p=\u001b[39m\u001b[38;5;132;01m{\u001b[39;00mreport[\u001b[38;5;124m'\u001b[39m\u001b[38;5;124mproba_predetta\u001b[39m\u001b[38;5;124m'\u001b[39m]\u001b[38;5;132;01m:\u001b[39;00m\u001b[38;5;124m.3f\u001b[39m\u001b[38;5;132;01m}\u001b[39;00m\u001b[38;5;124m)\u001b[39m\u001b[38;5;124m\"\u001b[39m)\n\u001b[0;32m      8\u001b[0m \u001b[38;5;28mprint\u001b[39m(report[\u001b[38;5;124m'\u001b[39m\u001b[38;5;124mshap_df\u001b[39m\u001b[38;5;124m'\u001b[39m]\u001b[38;5;241m.\u001b[39mhead(\u001b[38;5;241m10\u001b[39m))\n",
      "Cell \u001b[1;32mIn[162], line 4\u001b[0m, in \u001b[0;36mexplain_single_prediction\u001b[1;34m(X_single, pipeline, numeric_cols)\u001b[0m\n\u001b[0;32m      1\u001b[0m \u001b[38;5;28;01mdef\u001b[39;00m \u001b[38;5;21mexplain_single_prediction\u001b[39m(X_single, pipeline, numeric_cols):\n\u001b[0;32m      2\u001b[0m     \u001b[38;5;66;03m# Trasformazione ordinale e ricostruzione DataFrame per nomi colonne\u001b[39;00m\n\u001b[0;32m      3\u001b[0m     X_ord_array \u001b[38;5;241m=\u001b[39m pipeline\u001b[38;5;241m.\u001b[39mnamed_steps[\u001b[38;5;124m'\u001b[39m\u001b[38;5;124mord\u001b[39m\u001b[38;5;124m'\u001b[39m]\u001b[38;5;241m.\u001b[39mtransform(X_single)\n\u001b[1;32m----> 4\u001b[0m     X_ord \u001b[38;5;241m=\u001b[39m pd\u001b[38;5;241m.\u001b[39mDataFrame(X_ord_array, columns\u001b[38;5;241m=\u001b[39mnumeric_cols)\n\u001b[0;32m      6\u001b[0m     \u001b[38;5;66;03m# Preprocessing finale\u001b[39;00m\n\u001b[0;32m      7\u001b[0m     X_preprocessed \u001b[38;5;241m=\u001b[39m pipeline\u001b[38;5;241m.\u001b[39mnamed_steps[\u001b[38;5;124m'\u001b[39m\u001b[38;5;124mprep\u001b[39m\u001b[38;5;124m'\u001b[39m]\u001b[38;5;241m.\u001b[39mtransform(X_ord)\n",
      "File \u001b[1;32mc:\\Users\\e1204\\anaconda3\\Lib\\site-packages\\pandas\\core\\frame.py:782\u001b[0m, in \u001b[0;36mDataFrame.__init__\u001b[1;34m(self, data, index, columns, dtype, copy)\u001b[0m\n\u001b[0;32m    771\u001b[0m         mgr \u001b[38;5;241m=\u001b[39m dict_to_mgr(\n\u001b[0;32m    772\u001b[0m             \u001b[38;5;66;03m# error: Item \"ndarray\" of \"Union[ndarray, Series, Index]\" has no\u001b[39;00m\n\u001b[0;32m    773\u001b[0m             \u001b[38;5;66;03m# attribute \"name\"\u001b[39;00m\n\u001b[1;32m   (...)\u001b[0m\n\u001b[0;32m    779\u001b[0m             copy\u001b[38;5;241m=\u001b[39m_copy,\n\u001b[0;32m    780\u001b[0m         )\n\u001b[0;32m    781\u001b[0m     \u001b[38;5;28;01melse\u001b[39;00m:\n\u001b[1;32m--> 782\u001b[0m         mgr \u001b[38;5;241m=\u001b[39m ndarray_to_mgr(\n\u001b[0;32m    783\u001b[0m             data,\n\u001b[0;32m    784\u001b[0m             index,\n\u001b[0;32m    785\u001b[0m             columns,\n\u001b[0;32m    786\u001b[0m             dtype\u001b[38;5;241m=\u001b[39mdtype,\n\u001b[0;32m    787\u001b[0m             copy\u001b[38;5;241m=\u001b[39mcopy,\n\u001b[0;32m    788\u001b[0m             typ\u001b[38;5;241m=\u001b[39mmanager,\n\u001b[0;32m    789\u001b[0m         )\n\u001b[0;32m    791\u001b[0m \u001b[38;5;66;03m# For data is list-like, or Iterable (will consume into list)\u001b[39;00m\n\u001b[0;32m    792\u001b[0m \u001b[38;5;28;01melif\u001b[39;00m is_list_like(data):\n",
      "File \u001b[1;32mc:\\Users\\e1204\\anaconda3\\Lib\\site-packages\\pandas\\core\\internals\\construction.py:336\u001b[0m, in \u001b[0;36mndarray_to_mgr\u001b[1;34m(values, index, columns, dtype, copy, typ)\u001b[0m\n\u001b[0;32m    331\u001b[0m \u001b[38;5;66;03m# _prep_ndarraylike ensures that values.ndim == 2 at this point\u001b[39;00m\n\u001b[0;32m    332\u001b[0m index, columns \u001b[38;5;241m=\u001b[39m _get_axes(\n\u001b[0;32m    333\u001b[0m     values\u001b[38;5;241m.\u001b[39mshape[\u001b[38;5;241m0\u001b[39m], values\u001b[38;5;241m.\u001b[39mshape[\u001b[38;5;241m1\u001b[39m], index\u001b[38;5;241m=\u001b[39mindex, columns\u001b[38;5;241m=\u001b[39mcolumns\n\u001b[0;32m    334\u001b[0m )\n\u001b[1;32m--> 336\u001b[0m _check_values_indices_shape_match(values, index, columns)\n\u001b[0;32m    338\u001b[0m \u001b[38;5;28;01mif\u001b[39;00m typ \u001b[38;5;241m==\u001b[39m \u001b[38;5;124m\"\u001b[39m\u001b[38;5;124marray\u001b[39m\u001b[38;5;124m\"\u001b[39m:\n\u001b[0;32m    339\u001b[0m     \u001b[38;5;28;01mif\u001b[39;00m \u001b[38;5;28missubclass\u001b[39m(values\u001b[38;5;241m.\u001b[39mdtype\u001b[38;5;241m.\u001b[39mtype, \u001b[38;5;28mstr\u001b[39m):\n",
      "File \u001b[1;32mc:\\Users\\e1204\\anaconda3\\Lib\\site-packages\\pandas\\core\\internals\\construction.py:420\u001b[0m, in \u001b[0;36m_check_values_indices_shape_match\u001b[1;34m(values, index, columns)\u001b[0m\n\u001b[0;32m    418\u001b[0m passed \u001b[38;5;241m=\u001b[39m values\u001b[38;5;241m.\u001b[39mshape\n\u001b[0;32m    419\u001b[0m implied \u001b[38;5;241m=\u001b[39m (\u001b[38;5;28mlen\u001b[39m(index), \u001b[38;5;28mlen\u001b[39m(columns))\n\u001b[1;32m--> 420\u001b[0m \u001b[38;5;28;01mraise\u001b[39;00m \u001b[38;5;167;01mValueError\u001b[39;00m(\u001b[38;5;124mf\u001b[39m\u001b[38;5;124m\"\u001b[39m\u001b[38;5;124mShape of passed values is \u001b[39m\u001b[38;5;132;01m{\u001b[39;00mpassed\u001b[38;5;132;01m}\u001b[39;00m\u001b[38;5;124m, indices imply \u001b[39m\u001b[38;5;132;01m{\u001b[39;00mimplied\u001b[38;5;132;01m}\u001b[39;00m\u001b[38;5;124m\"\u001b[39m)\n",
      "\u001b[1;31mValueError\u001b[0m: Shape of passed values is (1, 132), indices imply (1, 130)"
     ]
    }
   ],
   "source": [
    "numeric_cols = X.select_dtypes(include=[\"number\"]).columns\n",
    "\n",
    "idx = 0\n",
    "X_single = X_test.iloc[[idx]]\n",
    "\n",
    "report = explain_single_prediction(X_single, best_model, numeric_cols)\n",
    "print(f\"Classe predetta: {report['pred_class']} (p={report['proba_predetta']:.3f})\")\n",
    "print(report['shap_df'].head(10))\n",
    "\n"
   ]
  },
  {
   "cell_type": "markdown",
   "id": "0ad4c98d",
   "metadata": {},
   "source": [
    "### Second attempt of alternative training of a Random Forest model"
   ]
  },
  {
   "cell_type": "code",
   "execution_count": 33,
   "id": "c6986d7f",
   "metadata": {},
   "outputs": [],
   "source": [
    "import pandas as pd\n",
    "import numpy as np\n",
    "\n",
    "from sklearn.model_selection import train_test_split, StratifiedKFold, RandomizedSearchCV\n",
    "from sklearn.compose import ColumnTransformer\n",
    "from sklearn.preprocessing import StandardScaler, RobustScaler, MinMaxScaler\n",
    "from sklearn.pipeline import Pipeline\n",
    "from sklearn.impute import SimpleImputer\n",
    "from sklearn.preprocessing import OneHotEncoder\n",
    "from sklearn.metrics import classification_report, confusion_matrix, ConfusionMatrixDisplay\n",
    "\n",
    "from sklearn.ensemble import RandomForestClassifier\n",
    "\n",
    "from imblearn.ensemble import BalancedRandomForestClassifier"
   ]
  },
  {
   "cell_type": "code",
   "execution_count": 34,
   "id": "468e9258",
   "metadata": {},
   "outputs": [
    {
     "name": "stdout",
     "output_type": "stream",
     "text": [
      "(1256, 134)\n"
     ]
    },
    {
     "data": {
      "application/vnd.microsoft.datawrangler.viewer.v0+json": {
       "columns": [
        {
         "name": "index",
         "rawType": "int64",
         "type": "integer"
        },
        {
         "name": "patient_id",
         "rawType": "object",
         "type": "string"
        },
        {
         "name": "country",
         "rawType": "object",
         "type": "string"
        },
        {
         "name": "age",
         "rawType": "float64",
         "type": "float"
        },
        {
         "name": "sex",
         "rawType": "object",
         "type": "string"
        },
        {
         "name": "apoe4",
         "rawType": "float64",
         "type": "float"
        },
        {
         "name": "disease",
         "rawType": "object",
         "type": "string"
        },
        {
         "name": "0",
         "rawType": "float64",
         "type": "float"
        },
        {
         "name": "1",
         "rawType": "float64",
         "type": "float"
        },
        {
         "name": "2",
         "rawType": "float64",
         "type": "float"
        },
        {
         "name": "3",
         "rawType": "float64",
         "type": "float"
        },
        {
         "name": "4",
         "rawType": "float64",
         "type": "float"
        },
        {
         "name": "5",
         "rawType": "float64",
         "type": "float"
        },
        {
         "name": "6",
         "rawType": "float64",
         "type": "float"
        },
        {
         "name": "7",
         "rawType": "float64",
         "type": "float"
        },
        {
         "name": "8",
         "rawType": "float64",
         "type": "float"
        },
        {
         "name": "9",
         "rawType": "float64",
         "type": "float"
        },
        {
         "name": "10",
         "rawType": "float64",
         "type": "float"
        },
        {
         "name": "11",
         "rawType": "float64",
         "type": "float"
        },
        {
         "name": "12",
         "rawType": "float64",
         "type": "float"
        },
        {
         "name": "13",
         "rawType": "float64",
         "type": "float"
        },
        {
         "name": "14",
         "rawType": "float64",
         "type": "float"
        },
        {
         "name": "15",
         "rawType": "float64",
         "type": "float"
        },
        {
         "name": "16",
         "rawType": "float64",
         "type": "float"
        },
        {
         "name": "17",
         "rawType": "float64",
         "type": "float"
        },
        {
         "name": "18",
         "rawType": "float64",
         "type": "float"
        },
        {
         "name": "19",
         "rawType": "float64",
         "type": "float"
        },
        {
         "name": "20",
         "rawType": "float64",
         "type": "float"
        },
        {
         "name": "21",
         "rawType": "float64",
         "type": "float"
        },
        {
         "name": "22",
         "rawType": "float64",
         "type": "float"
        },
        {
         "name": "23",
         "rawType": "float64",
         "type": "float"
        },
        {
         "name": "24",
         "rawType": "float64",
         "type": "float"
        },
        {
         "name": "25",
         "rawType": "float64",
         "type": "float"
        },
        {
         "name": "26",
         "rawType": "float64",
         "type": "float"
        },
        {
         "name": "27",
         "rawType": "float64",
         "type": "float"
        },
        {
         "name": "28",
         "rawType": "float64",
         "type": "float"
        },
        {
         "name": "29",
         "rawType": "float64",
         "type": "float"
        },
        {
         "name": "30",
         "rawType": "float64",
         "type": "float"
        },
        {
         "name": "31",
         "rawType": "float64",
         "type": "float"
        },
        {
         "name": "32",
         "rawType": "float64",
         "type": "float"
        },
        {
         "name": "33",
         "rawType": "float64",
         "type": "float"
        },
        {
         "name": "34",
         "rawType": "float64",
         "type": "float"
        },
        {
         "name": "35",
         "rawType": "float64",
         "type": "float"
        },
        {
         "name": "36",
         "rawType": "float64",
         "type": "float"
        },
        {
         "name": "37",
         "rawType": "float64",
         "type": "float"
        },
        {
         "name": "38",
         "rawType": "float64",
         "type": "float"
        },
        {
         "name": "39",
         "rawType": "float64",
         "type": "float"
        },
        {
         "name": "40",
         "rawType": "float64",
         "type": "float"
        },
        {
         "name": "41",
         "rawType": "float64",
         "type": "float"
        },
        {
         "name": "42",
         "rawType": "float64",
         "type": "float"
        },
        {
         "name": "43",
         "rawType": "float64",
         "type": "float"
        },
        {
         "name": "44",
         "rawType": "float64",
         "type": "float"
        },
        {
         "name": "45",
         "rawType": "float64",
         "type": "float"
        },
        {
         "name": "46",
         "rawType": "float64",
         "type": "float"
        },
        {
         "name": "47",
         "rawType": "float64",
         "type": "float"
        },
        {
         "name": "48",
         "rawType": "float64",
         "type": "float"
        },
        {
         "name": "49",
         "rawType": "float64",
         "type": "float"
        },
        {
         "name": "50",
         "rawType": "float64",
         "type": "float"
        },
        {
         "name": "51",
         "rawType": "float64",
         "type": "float"
        },
        {
         "name": "52",
         "rawType": "float64",
         "type": "float"
        },
        {
         "name": "53",
         "rawType": "float64",
         "type": "float"
        },
        {
         "name": "54",
         "rawType": "float64",
         "type": "float"
        },
        {
         "name": "55",
         "rawType": "float64",
         "type": "float"
        },
        {
         "name": "56",
         "rawType": "float64",
         "type": "float"
        },
        {
         "name": "57",
         "rawType": "float64",
         "type": "float"
        },
        {
         "name": "58",
         "rawType": "float64",
         "type": "float"
        },
        {
         "name": "59",
         "rawType": "float64",
         "type": "float"
        },
        {
         "name": "60",
         "rawType": "float64",
         "type": "float"
        },
        {
         "name": "61",
         "rawType": "float64",
         "type": "float"
        },
        {
         "name": "62",
         "rawType": "float64",
         "type": "float"
        },
        {
         "name": "63",
         "rawType": "float64",
         "type": "float"
        },
        {
         "name": "64",
         "rawType": "float64",
         "type": "float"
        },
        {
         "name": "65",
         "rawType": "float64",
         "type": "float"
        },
        {
         "name": "66",
         "rawType": "float64",
         "type": "float"
        },
        {
         "name": "67",
         "rawType": "float64",
         "type": "float"
        },
        {
         "name": "68",
         "rawType": "float64",
         "type": "float"
        },
        {
         "name": "69",
         "rawType": "float64",
         "type": "float"
        },
        {
         "name": "70",
         "rawType": "float64",
         "type": "float"
        },
        {
         "name": "71",
         "rawType": "float64",
         "type": "float"
        },
        {
         "name": "72",
         "rawType": "float64",
         "type": "float"
        },
        {
         "name": "73",
         "rawType": "float64",
         "type": "float"
        },
        {
         "name": "74",
         "rawType": "float64",
         "type": "float"
        },
        {
         "name": "75",
         "rawType": "float64",
         "type": "float"
        },
        {
         "name": "76",
         "rawType": "float64",
         "type": "float"
        },
        {
         "name": "77",
         "rawType": "float64",
         "type": "float"
        },
        {
         "name": "78",
         "rawType": "float64",
         "type": "float"
        },
        {
         "name": "79",
         "rawType": "float64",
         "type": "float"
        },
        {
         "name": "80",
         "rawType": "float64",
         "type": "float"
        },
        {
         "name": "81",
         "rawType": "float64",
         "type": "float"
        },
        {
         "name": "82",
         "rawType": "float64",
         "type": "float"
        },
        {
         "name": "83",
         "rawType": "float64",
         "type": "float"
        },
        {
         "name": "84",
         "rawType": "float64",
         "type": "float"
        },
        {
         "name": "85",
         "rawType": "float64",
         "type": "float"
        },
        {
         "name": "86",
         "rawType": "float64",
         "type": "float"
        },
        {
         "name": "87",
         "rawType": "float64",
         "type": "float"
        },
        {
         "name": "88",
         "rawType": "float64",
         "type": "float"
        },
        {
         "name": "89",
         "rawType": "float64",
         "type": "float"
        },
        {
         "name": "90",
         "rawType": "float64",
         "type": "float"
        },
        {
         "name": "91",
         "rawType": "float64",
         "type": "float"
        },
        {
         "name": "92",
         "rawType": "float64",
         "type": "float"
        },
        {
         "name": "93",
         "rawType": "float64",
         "type": "float"
        },
        {
         "name": "94",
         "rawType": "float64",
         "type": "float"
        },
        {
         "name": "95",
         "rawType": "float64",
         "type": "float"
        },
        {
         "name": "96",
         "rawType": "float64",
         "type": "float"
        },
        {
         "name": "97",
         "rawType": "float64",
         "type": "float"
        },
        {
         "name": "98",
         "rawType": "float64",
         "type": "float"
        },
        {
         "name": "99",
         "rawType": "float64",
         "type": "float"
        },
        {
         "name": "100",
         "rawType": "float64",
         "type": "float"
        },
        {
         "name": "101",
         "rawType": "float64",
         "type": "float"
        },
        {
         "name": "102",
         "rawType": "float64",
         "type": "float"
        },
        {
         "name": "103",
         "rawType": "float64",
         "type": "float"
        },
        {
         "name": "104",
         "rawType": "float64",
         "type": "float"
        },
        {
         "name": "105",
         "rawType": "float64",
         "type": "float"
        },
        {
         "name": "106",
         "rawType": "float64",
         "type": "float"
        },
        {
         "name": "107",
         "rawType": "float64",
         "type": "float"
        },
        {
         "name": "108",
         "rawType": "float64",
         "type": "float"
        },
        {
         "name": "109",
         "rawType": "float64",
         "type": "float"
        },
        {
         "name": "110",
         "rawType": "float64",
         "type": "float"
        },
        {
         "name": "111",
         "rawType": "float64",
         "type": "float"
        },
        {
         "name": "112",
         "rawType": "float64",
         "type": "float"
        },
        {
         "name": "113",
         "rawType": "float64",
         "type": "float"
        },
        {
         "name": "114",
         "rawType": "float64",
         "type": "float"
        },
        {
         "name": "115",
         "rawType": "float64",
         "type": "float"
        },
        {
         "name": "116",
         "rawType": "float64",
         "type": "float"
        },
        {
         "name": "117",
         "rawType": "float64",
         "type": "float"
        },
        {
         "name": "118",
         "rawType": "float64",
         "type": "float"
        },
        {
         "name": "119",
         "rawType": "float64",
         "type": "float"
        },
        {
         "name": "120",
         "rawType": "float64",
         "type": "float"
        },
        {
         "name": "121",
         "rawType": "float64",
         "type": "float"
        },
        {
         "name": "122",
         "rawType": "float64",
         "type": "float"
        },
        {
         "name": "123",
         "rawType": "float64",
         "type": "float"
        },
        {
         "name": "124",
         "rawType": "float64",
         "type": "float"
        },
        {
         "name": "125",
         "rawType": "float64",
         "type": "float"
        },
        {
         "name": "126",
         "rawType": "float64",
         "type": "float"
        },
        {
         "name": "127",
         "rawType": "float64",
         "type": "float"
        }
       ],
       "ref": "e988c5c4-e14c-4c05-a3a6-eb2f49d30acf",
       "rows": [
        [
         "0",
         "AD_0001",
         "Japan",
         "79.0",
         "female",
         "0.0",
         "AD",
         "0.0669323821998191",
         "-0.0911537945792011",
         "-0.0091248168427139",
         "0.0972513585984743",
         "-0.0326484126990197",
         "-0.1584888924234533",
         "0.1688301885909797",
         "0.0874256139080219",
         "0.0034259060709057",
         "0.046647152672299",
         "-0.0620943219626012",
         "0.2993655473359583",
         "0.19276514909798",
         "0.1467151029030575",
         "-0.042441478168629",
         "-0.1906364818322651",
         "-0.0081562725904782",
         "0.0030938265919161",
         "-0.0498585565390653",
         "0.1395045914341069",
         "0.1721028283526494",
         "0.0527957757494063",
         "-0.0044237313442559",
         "-0.1552633651227314",
         "-0.1262157856280152",
         "-0.0721271793820091",
         "-0.14302693856016",
         "0.0511819853066568",
         "-0.0354827228359436",
         "0.1025149197621374",
         "-0.1123799100887009",
         "-0.0522856890783049",
         "0.0837127593072026",
         "-0.2275974967468632",
         "-0.2338140005988273",
         "0.1634597093979767",
         "0.1018579887380387",
         "-0.0047128905611087",
         "-0.1262828911924469",
         "0.0667969416682491",
         "-0.036526006211936",
         "0.0407018583745304",
         "0.1739582695868807",
         "0.0918050791098232",
         "-0.0433404020698146",
         "-0.0218485680091417",
         "0.3048254036883931",
         "0.0854397520788275",
         "0.0102423659368632",
         "0.1498048164702882",
         "-0.0624724463392718",
         "-0.0120074569588704",
         "0.1246155496706142",
         "-0.0516958327112499",
         "0.1383102989090854",
         "-0.0631114983910818",
         "0.0257931693395192",
         "0.0218998741755528",
         "-0.0562598231440854",
         "-0.0503016541187134",
         "0.0013843443850953",
         "-0.0198146144179097",
         "-0.1749736858717624",
         "0.0751466751021368",
         "0.3115721835398304",
         "0.0784921151779143",
         "0.1179533178800442",
         "0.0287001593450144",
         "0.0342295597473401",
         "-0.0288768961983295",
         "-0.0111711416448767",
         "0.1733955647609454",
         "-0.0515198752228663",
         "-0.1833856779511892",
         "0.1770975464202521",
         "-0.2123427775857336",
         "-0.120441997936504",
         "-0.0562157458570832",
         "-0.081284967696585",
         "-0.0444843964936294",
         "-0.1345195687961634",
         "-0.0169615772607767",
         "-0.0512487003950705",
         "0.1189573942042816",
         "0.1638331698898509",
         "-0.0519964059185011",
         "0.0939749967010565",
         "0.043418944791958",
         "0.0780166945300581",
         "0.0206724716606503",
         "-0.1886286693381535",
         "0.1218781060587241",
         "-0.0724981630552687",
         "-0.0394074652936917",
         "0.025875685179172",
         "-0.0737058757821148",
         "0.0756295281874636",
         "0.0972948623997087",
         "-0.0356398670908144",
         "0.0989379476479692",
         "-0.1918927169865746",
         "-0.2245968145569553",
         "0.1782945758375104",
         "0.1110839408708599",
         "0.0182760426396079",
         "-0.0254295135496342",
         "0.4391982706688266",
         "-0.083090852482251",
         "-0.0282804074254549",
         "-0.0547531966643815",
         "-0.1141072006486428",
         "0.0220250988365898",
         "-0.0515790456431056",
         "-0.0174021567405117",
         "0.0728974074945183",
         "-0.1421121307583267",
         "0.0693640304708076",
         "-0.1869569215215804",
         "-0.2344980328882156",
         "0.0903256249319609",
         "-0.0677869005319524",
         "-0.0769032865754455",
         "0.0992992467527859",
         "0.0664710701218977",
         "-0.0993580854789906",
         "0.0316820807497957",
         "0.0932153773791154",
         "-0.0323780528949679"
        ],
        [
         "1",
         "AD_0002",
         "Japan",
         "77.0",
         "female",
         "1.0",
         "AD",
         "0.0658030781539625",
         "-0.0908255421137339",
         "-0.0085165190763583",
         "0.0970013056842398",
         "-0.032478317215765",
         "-0.1565693209795353",
         "0.1683144526179062",
         "0.0845651229502837",
         "0.0015318529687228",
         "0.0478093753701302",
         "-0.0600744795509886",
         "0.2985718517232364",
         "0.1923210200652315",
         "0.1459104790248921",
         "-0.042497280974619",
         "-0.1900865163172646",
         "-0.0094557977691615",
         "0.0040825139005571",
         "-0.0491037615540722",
         "0.1403434143233906",
         "0.1706861264288909",
         "0.052111916473916",
         "-0.0061151817770717",
         "-0.1555310928045383",
         "-0.1268032126444594",
         "-0.0717916824143391",
         "-0.1427801267400424",
         "0.0510706568178472",
         "-0.0350093752532513",
         "0.1027401959314888",
         "-0.1120669912008705",
         "-0.0536972891688202",
         "0.0837405400947637",
         "-0.2273544679484107",
         "-0.2330244341962339",
         "0.1654400334923487",
         "0.1009488031716601",
         "-0.0053573185884009",
         "-0.1258855400963193",
         "0.0668354396305742",
         "-0.0359865211745629",
         "0.0412287836360366",
         "0.173047262288706",
         "0.0904324475432973",
         "-0.0423654965143038",
         "-0.0208216853528383",
         "0.3033400556037001",
         "0.0872939180473175",
         "0.0113760137862474",
         "0.1505794048779085",
         "-0.0637185741865773",
         "-0.0089479459113045",
         "0.1245167211955725",
         "-0.0497276426376423",
         "0.1361399894842015",
         "-0.0625388601458813",
         "0.0247428186800226",
         "0.0224515594310939",
         "-0.0545295305929576",
         "-0.0514437577917046",
         "0.0014932599210708",
         "-0.0196079694107492",
         "-0.1754313584806332",
         "0.0748738912218594",
         "0.3112326414147092",
         "0.0800078419656718",
         "0.117380732790904",
         "0.028956558739658",
         "0.0331251659428362",
         "-0.028706047761812",
         "-0.0126711666013798",
         "0.1731103004610817",
         "-0.0499801409369434",
         "-0.1828119849251019",
         "0.1787971943841056",
         "-0.21240412495977",
         "-0.1199013759203542",
         "-0.0568660012944301",
         "-0.0805156049273092",
         "-0.0431668641367681",
         "-0.1342471119869898",
         "-0.0179119432633908",
         "-0.0524479609154105",
         "0.118167004190997",
         "0.1625707496811308",
         "-0.0521925887244354",
         "0.0940322940916038",
         "0.0428391117206012",
         "0.0784292113294236",
         "0.0183011521701307",
         "-0.1884176047680812",
         "0.1209579813247413",
         "-0.0710307207621021",
         "-0.0391402780459431",
         "0.0272950597892719",
         "-0.0725494189826737",
         "0.0736499989067931",
         "0.0960200852161011",
         "-0.0341670590976053",
         "0.0981708174782469",
         "-0.189227551192908",
         "-0.225410081617432",
         "0.1771209323581894",
         "0.1094242928328439",
         "0.0179339780127683",
         "-0.0259536515755054",
         "0.4373567042370329",
         "-0.0826989233964471",
         "-0.0304419517484742",
         "-0.055501604810077",
         "-0.1155098475844952",
         "0.0193718843234512",
         "-0.0528468904208911",
         "-0.017779991624834",
         "0.0723249440270408",
         "-0.1431939285218061",
         "0.0684413899708876",
         "-0.1861817752745831",
         "-0.2335512678854557",
         "0.0902268415850109",
         "-0.0667374249168263",
         "-0.0737546186916321",
         "0.0965475903321396",
         "0.0669703989212828",
         "-0.1006916064701414",
         "0.0296336636321758",
         "0.0935049570244922",
         "-0.0324749237063777"
        ],
        [
         "2",
         "AD_0003",
         "Japan",
         "76.0",
         "female",
         "0.0",
         "AD",
         "0.0659810080604974",
         "-0.0905609327960274",
         "-0.0079458138412558",
         "0.0973322386577616",
         "-0.0324202960567631",
         "-0.1564116018270197",
         "0.1674846487791431",
         "0.0851005249316473",
         "0.0024216972617364",
         "0.0478859860310054",
         "-0.0599795189985862",
         "0.2988839262800059",
         "0.1922039902756593",
         "0.1462938087617125",
         "-0.0428594343660567",
         "-0.1901807294287014",
         "-0.0101681521174619",
         "0.0042398237388185",
         "-0.0492993420788412",
         "0.1400331014170309",
         "0.1712132452854396",
         "0.05294660584416",
         "-0.0056406974579768",
         "-0.1553295970211283",
         "-0.1265872726686284",
         "-0.071164287199441",
         "-0.1421457749899357",
         "0.0501973723568859",
         "-0.0352335919024057",
         "0.1032565768776017",
         "-0.1121696351980819",
         "-0.0526715270621434",
         "0.0837760011436261",
         "-0.2267329777431904",
         "-0.2334986364614548",
         "0.1647547239192526",
         "0.1008398226070985",
         "-0.0051215179549107",
         "-0.1256354170466247",
         "0.0664056133427068",
         "-0.0358548419195409",
         "0.0408736364466636",
         "0.1724901834438117",
         "0.0910516955973109",
         "-0.0420000285893946",
         "-0.020575084007833",
         "0.30384138092458",
         "0.0870253978088046",
         "0.0113313076815644",
         "0.1491492197255035",
         "-0.0633206712912821",
         "-0.0095348654910721",
         "0.1239253948117973",
         "-0.0505945825409645",
         "0.1361915461291018",
         "-0.0614331204117251",
         "0.0240341194945477",
         "0.0218257981690663",
         "-0.0552995086698718",
         "-0.051570825219667",
         "0.0012363195515232",
         "-0.0206913720331524",
         "-0.1748732225880774",
         "0.0758781096932316",
         "0.3108230650694101",
         "0.0802015904638189",
         "0.1173364120058116",
         "0.0291054559373257",
         "0.032745124464807",
         "-0.0300151479216812",
         "-0.0121677798649445",
         "0.1725526687029509",
         "-0.050259430573919",
         "-0.182317692390571",
         "0.1784091405320358",
         "-0.2128192558750038",
         "-0.1200858146020568",
         "-0.0566809599244554",
         "-0.0796280074243275",
         "-0.0430788538405058",
         "-0.1346058728082585",
         "-0.0173328357428904",
         "-0.0525101170481987",
         "0.1180613260087211",
         "0.1622883321957272",
         "-0.052419785778121",
         "0.094494186169892",
         "0.0434294658192018",
         "0.078101267114172",
         "0.0185745358958336",
         "-0.1883001537150135",
         "0.1202777016031847",
         "-0.0715625312787612",
         "-0.0390159611640409",
         "0.0265696173461993",
         "-0.0729636749461817",
         "0.0736070784989184",
         "0.0968744615963298",
         "-0.0339077093256743",
         "0.0984665344897041",
         "-0.1892184493753538",
         "-0.2249176679046177",
         "0.1774424727011912",
         "0.1095828154636686",
         "0.0183459495497264",
         "-0.0255401061510381",
         "0.4377817371745152",
         "-0.0819291496548232",
         "-0.0303899735663195",
         "-0.0545085894479039",
         "-0.1154743562731032",
         "0.0197783143792684",
         "-0.0526192848063271",
         "-0.0171666900524887",
         "0.0710969042070881",
         "-0.1428911966764948",
         "0.068661553539794",
         "-0.1855733317232368",
         "-0.2333439054055382",
         "0.089427816827591",
         "-0.0669424873105561",
         "-0.0747387179849803",
         "0.0975391520563729",
         "0.0666091406199376",
         "-0.1007856367293589",
         "0.0299017029970949",
         "0.0935844108746285",
         "-0.0331756565248645"
        ],
        [
         "3",
         "AD_0005",
         "Japan",
         "74.0",
         "male",
         "0.0",
         "AD",
         "0.0679187938639357",
         "-0.0914662542497406",
         "-0.0101794711619783",
         "0.097227480610615",
         "-0.0324199014518257",
         "-0.1608680094212971",
         "0.1690170414924614",
         "0.0907853875094479",
         "0.0047092040946348",
         "0.045266593201666",
         "-0.0643668627050038",
         "0.3001620865797676",
         "0.1934811904687687",
         "0.1480184205311268",
         "-0.041445415120608",
         "-0.191201033646009",
         "-0.0058730783784481",
         "0.0030271360897329",
         "-0.0498647470611536",
         "0.1391653033336652",
         "0.1732005993362715",
         "0.0528872175616994",
         "-0.0032668462438121",
         "-0.1552959038803566",
         "-0.1257533782725575",
         "-0.0729794899157914",
         "-0.1444341104402698",
         "0.0517018709204315",
         "-0.0357029395434058",
         "0.1022963873625958",
         "-0.1121883318885311",
         "-0.0512866635312054",
         "0.0833300983058823",
         "-0.229107088509955",
         "-0.2338142285341112",
         "0.1617402897811103",
         "0.1029174596696313",
         "-0.0033744911038602",
         "-0.1272708802818651",
         "0.0668183501280134",
         "-0.0370506040536447",
         "0.0398484747197607",
         "0.1751594128570935",
         "0.0930755421877004",
         "-0.0447066454979369",
         "-0.0224437827476611",
         "0.3058894316329257",
         "0.0830873422746182",
         "0.0093163758579947",
         "0.1494289379793433",
         "-0.0620782407176325",
         "-0.0152668980797468",
         "0.1249376894628065",
         "-0.0533066581680283",
         "0.1396988528085244",
         "-0.0638236517903631",
         "0.0274261109357623",
         "0.0213174909480216",
         "-0.0574619671228922",
         "-0.0485324623876264",
         "0.001718195734925",
         "-0.0191402849169584",
         "-0.1745518749633749",
         "0.0741153455267811",
         "0.3115636413771494",
         "0.0770272856630697",
         "0.1184486093345691",
         "0.0288842033132317",
         "0.0353691816427163",
         "-0.0278559108448969",
         "-0.0098041933039959",
         "0.1739948094739245",
         "-0.0532679392076444",
         "-0.1841165451415474",
         "0.1746738087089839",
         "-0.2122735758853381",
         "-0.1207498827440684",
         "-0.0554697107585176",
         "-0.0818696475104727",
         "-0.0455843067563737",
         "-0.1349814442270979",
         "-0.0157325810603141",
         "-0.0498634859719295",
         "0.1203139288237423",
         "0.165614385013732",
         "-0.0523730781691766",
         "0.09424227435206",
         "0.0434291733748706",
         "0.0783615560865101",
         "0.023545545276603",
         "-0.189019700777938",
         "0.1233074857353589",
         "-0.0733393811288752",
         "-0.0394785410428376",
         "0.0244972700545077",
         "-0.0751041855198792",
         "0.0779939811285488",
         "0.0978395831981709",
         "-0.0376462272009193",
         "0.0997073715774018",
         "-0.1938146373392516",
         "-0.2238716242474328",
         "0.1794227597099151",
         "0.1129068753987497",
         "0.0192161385098733",
         "-0.0248088136587114",
         "0.4411112797554258",
         "-0.0838100938970956",
         "-0.0257851038498307",
         "-0.0544692986249652",
         "-0.1135884684066356",
         "0.024146981060636",
         "-0.0511355919408517",
         "-0.0177715613352516",
         "0.0738075232516494",
         "-0.1401855999024104",
         "0.0698284092372338",
         "-0.188003887956865",
         "-0.2358319079915917",
         "0.0898024181355477",
         "-0.0697283291116596",
         "-0.0794342273493171",
         "0.1023338164207985",
         "0.0658362552164427",
         "-0.0982164637025266",
         "0.0345191747837396",
         "0.093079876785531",
         "-0.0322141399806441"
        ],
        [
         "4",
         "AD_0006",
         "Japan",
         "83.0",
         "female",
         "0.0",
         "AD",
         "0.0693966680558973",
         "-0.0918972673851278",
         "-0.011155434989649",
         "0.0975516022738611",
         "-0.0320222038333507",
         "-0.1631343762638623",
         "0.1706023149614347",
         "0.0927261902222957",
         "0.0050620805147695",
         "0.0447329319089949",
         "-0.0670563008165583",
         "0.3013516519094292",
         "0.1939904633031427",
         "0.1481106325695504",
         "-0.0417995997259252",
         "-0.1926405993860083",
         "-0.0046177886975981",
         "0.0037256956405292",
         "-0.0504906257705308",
         "0.1389113685854376",
         "0.1738644880151707",
         "0.0522594715201092",
         "-0.0028793155332395",
         "-0.156216999261202",
         "-0.1268129062177673",
         "-0.0744133312194995",
         "-0.1456989382664383",
         "0.0518840167409113",
         "-0.035297849190403",
         "0.1027304032166409",
         "-0.1124354010605913",
         "-0.0519184539277958",
         "0.0836535504011497",
         "-0.2307070186036711",
         "-0.2350710264971002",
         "0.1618830470472578",
         "0.1044742744216251",
         "-0.0030935858869226",
         "-0.1284391804227213",
         "0.067562462233917",
         "-0.0375330418735461",
         "0.0403521858384458",
         "0.1768732859246284",
         "0.0946095012095788",
         "-0.0460461941115359",
         "-0.0236926372386318",
         "0.3074899871812302",
         "0.0821775749385801",
         "0.0093240403649731",
         "0.1504902181072809",
         "-0.0611340486275578",
         "-0.0174027926759002",
         "0.1250525473038827",
         "-0.0543150614491115",
         "0.1413223004425732",
         "-0.06425066357109",
         "0.0283142381021669",
         "0.0208414222611357",
         "-0.0585262296904147",
         "-0.048262195361726",
         "0.0018848514070392",
         "-0.0186378969850326",
         "-0.1756051272844374",
         "0.0737015761292773",
         "0.3129140710023986",
         "0.0763226874634675",
         "0.1190128685838917",
         "0.0290207380886376",
         "0.036668981999318",
         "-0.0272182537048563",
         "-0.0094462866931479",
         "0.175531218683531",
         "-0.0536730394036643",
         "-0.185472401480493",
         "0.1740044544280342",
         "-0.2129246873083594",
         "-0.1206681767169782",
         "-0.055127210524908",
         "-0.082460168268342",
         "-0.0464106059361418",
         "-0.1358613165590572",
         "-0.0158913126440461",
         "-0.0485401349672792",
         "0.1213762999200365",
         "0.1669072201332186",
         "-0.0521510347047281",
         "0.0945741420932594",
         "0.0441563970835128",
         "0.0784991399601414",
         "0.0248284290817004",
         "-0.1900410005353795",
         "0.1252923452650612",
         "-0.0743790742629897",
         "-0.0400501506401535",
         "0.0244784413686447",
         "-0.0756428793035057",
         "0.0799053943927115",
         "0.0975738263557107",
         "-0.0395752225864391",
         "0.1008902596580624",
         "-0.1962163754450112",
         "-0.2244076045815663",
         "0.1814221016046007",
         "0.1142645077618665",
         "0.0201328568313369",
         "-0.0246537720642024",
         "0.4438043276400557",
         "-0.0846452267555773",
         "-0.0239613223165528",
         "-0.0551621351876598",
         "-0.1132820029194702",
         "0.0261711231760419",
         "-0.0506839833743495",
         "-0.0183340247810846",
         "0.0743412908637931",
         "-0.1409472410294421",
         "0.070591477655251",
         "-0.1896506775427011",
         "-0.2372895128137875",
         "0.0904460111007334",
         "-0.0708794964389697",
         "-0.0805855367895507",
         "0.1031400175121124",
         "0.065943011588263",
         "-0.0973771961681148",
         "0.0352570330596114",
         "0.0938317846226575",
         "-0.0318372153126589"
        ]
       ],
       "shape": {
        "columns": 134,
        "rows": 5
       }
      },
      "text/html": [
       "<div>\n",
       "<style scoped>\n",
       "    .dataframe tbody tr th:only-of-type {\n",
       "        vertical-align: middle;\n",
       "    }\n",
       "\n",
       "    .dataframe tbody tr th {\n",
       "        vertical-align: top;\n",
       "    }\n",
       "\n",
       "    .dataframe thead th {\n",
       "        text-align: right;\n",
       "    }\n",
       "</style>\n",
       "<table border=\"1\" class=\"dataframe\">\n",
       "  <thead>\n",
       "    <tr style=\"text-align: right;\">\n",
       "      <th></th>\n",
       "      <th>patient_id</th>\n",
       "      <th>country</th>\n",
       "      <th>age</th>\n",
       "      <th>sex</th>\n",
       "      <th>apoe4</th>\n",
       "      <th>disease</th>\n",
       "      <th>0</th>\n",
       "      <th>1</th>\n",
       "      <th>2</th>\n",
       "      <th>3</th>\n",
       "      <th>...</th>\n",
       "      <th>118</th>\n",
       "      <th>119</th>\n",
       "      <th>120</th>\n",
       "      <th>121</th>\n",
       "      <th>122</th>\n",
       "      <th>123</th>\n",
       "      <th>124</th>\n",
       "      <th>125</th>\n",
       "      <th>126</th>\n",
       "      <th>127</th>\n",
       "    </tr>\n",
       "  </thead>\n",
       "  <tbody>\n",
       "    <tr>\n",
       "      <th>0</th>\n",
       "      <td>AD_0001</td>\n",
       "      <td>Japan</td>\n",
       "      <td>79.0</td>\n",
       "      <td>female</td>\n",
       "      <td>0.0</td>\n",
       "      <td>AD</td>\n",
       "      <td>0.066932</td>\n",
       "      <td>-0.091154</td>\n",
       "      <td>-0.009125</td>\n",
       "      <td>0.097251</td>\n",
       "      <td>...</td>\n",
       "      <td>-0.234498</td>\n",
       "      <td>0.090326</td>\n",
       "      <td>-0.067787</td>\n",
       "      <td>-0.076903</td>\n",
       "      <td>0.099299</td>\n",
       "      <td>0.066471</td>\n",
       "      <td>-0.099358</td>\n",
       "      <td>0.031682</td>\n",
       "      <td>0.093215</td>\n",
       "      <td>-0.032378</td>\n",
       "    </tr>\n",
       "    <tr>\n",
       "      <th>1</th>\n",
       "      <td>AD_0002</td>\n",
       "      <td>Japan</td>\n",
       "      <td>77.0</td>\n",
       "      <td>female</td>\n",
       "      <td>1.0</td>\n",
       "      <td>AD</td>\n",
       "      <td>0.065803</td>\n",
       "      <td>-0.090826</td>\n",
       "      <td>-0.008517</td>\n",
       "      <td>0.097001</td>\n",
       "      <td>...</td>\n",
       "      <td>-0.233551</td>\n",
       "      <td>0.090227</td>\n",
       "      <td>-0.066737</td>\n",
       "      <td>-0.073755</td>\n",
       "      <td>0.096548</td>\n",
       "      <td>0.066970</td>\n",
       "      <td>-0.100692</td>\n",
       "      <td>0.029634</td>\n",
       "      <td>0.093505</td>\n",
       "      <td>-0.032475</td>\n",
       "    </tr>\n",
       "    <tr>\n",
       "      <th>2</th>\n",
       "      <td>AD_0003</td>\n",
       "      <td>Japan</td>\n",
       "      <td>76.0</td>\n",
       "      <td>female</td>\n",
       "      <td>0.0</td>\n",
       "      <td>AD</td>\n",
       "      <td>0.065981</td>\n",
       "      <td>-0.090561</td>\n",
       "      <td>-0.007946</td>\n",
       "      <td>0.097332</td>\n",
       "      <td>...</td>\n",
       "      <td>-0.233344</td>\n",
       "      <td>0.089428</td>\n",
       "      <td>-0.066942</td>\n",
       "      <td>-0.074739</td>\n",
       "      <td>0.097539</td>\n",
       "      <td>0.066609</td>\n",
       "      <td>-0.100786</td>\n",
       "      <td>0.029902</td>\n",
       "      <td>0.093584</td>\n",
       "      <td>-0.033176</td>\n",
       "    </tr>\n",
       "    <tr>\n",
       "      <th>3</th>\n",
       "      <td>AD_0005</td>\n",
       "      <td>Japan</td>\n",
       "      <td>74.0</td>\n",
       "      <td>male</td>\n",
       "      <td>0.0</td>\n",
       "      <td>AD</td>\n",
       "      <td>0.067919</td>\n",
       "      <td>-0.091466</td>\n",
       "      <td>-0.010179</td>\n",
       "      <td>0.097227</td>\n",
       "      <td>...</td>\n",
       "      <td>-0.235832</td>\n",
       "      <td>0.089802</td>\n",
       "      <td>-0.069728</td>\n",
       "      <td>-0.079434</td>\n",
       "      <td>0.102334</td>\n",
       "      <td>0.065836</td>\n",
       "      <td>-0.098216</td>\n",
       "      <td>0.034519</td>\n",
       "      <td>0.093080</td>\n",
       "      <td>-0.032214</td>\n",
       "    </tr>\n",
       "    <tr>\n",
       "      <th>4</th>\n",
       "      <td>AD_0006</td>\n",
       "      <td>Japan</td>\n",
       "      <td>83.0</td>\n",
       "      <td>female</td>\n",
       "      <td>0.0</td>\n",
       "      <td>AD</td>\n",
       "      <td>0.069397</td>\n",
       "      <td>-0.091897</td>\n",
       "      <td>-0.011155</td>\n",
       "      <td>0.097552</td>\n",
       "      <td>...</td>\n",
       "      <td>-0.237290</td>\n",
       "      <td>0.090446</td>\n",
       "      <td>-0.070879</td>\n",
       "      <td>-0.080586</td>\n",
       "      <td>0.103140</td>\n",
       "      <td>0.065943</td>\n",
       "      <td>-0.097377</td>\n",
       "      <td>0.035257</td>\n",
       "      <td>0.093832</td>\n",
       "      <td>-0.031837</td>\n",
       "    </tr>\n",
       "  </tbody>\n",
       "</table>\n",
       "<p>5 rows × 134 columns</p>\n",
       "</div>"
      ],
      "text/plain": [
       "  patient_id country   age     sex  apoe4 disease         0         1  \\\n",
       "0    AD_0001   Japan  79.0  female    0.0      AD  0.066932 -0.091154   \n",
       "1    AD_0002   Japan  77.0  female    1.0      AD  0.065803 -0.090826   \n",
       "2    AD_0003   Japan  76.0  female    0.0      AD  0.065981 -0.090561   \n",
       "3    AD_0005   Japan  74.0    male    0.0      AD  0.067919 -0.091466   \n",
       "4    AD_0006   Japan  83.0  female    0.0      AD  0.069397 -0.091897   \n",
       "\n",
       "          2         3  ...       118       119       120       121       122  \\\n",
       "0 -0.009125  0.097251  ... -0.234498  0.090326 -0.067787 -0.076903  0.099299   \n",
       "1 -0.008517  0.097001  ... -0.233551  0.090227 -0.066737 -0.073755  0.096548   \n",
       "2 -0.007946  0.097332  ... -0.233344  0.089428 -0.066942 -0.074739  0.097539   \n",
       "3 -0.010179  0.097227  ... -0.235832  0.089802 -0.069728 -0.079434  0.102334   \n",
       "4 -0.011155  0.097552  ... -0.237290  0.090446 -0.070879 -0.080586  0.103140   \n",
       "\n",
       "        123       124       125       126       127  \n",
       "0  0.066471 -0.099358  0.031682  0.093215 -0.032378  \n",
       "1  0.066970 -0.100692  0.029634  0.093505 -0.032475  \n",
       "2  0.066609 -0.100786  0.029902  0.093584 -0.033176  \n",
       "3  0.065836 -0.098216  0.034519  0.093080 -0.032214  \n",
       "4  0.065943 -0.097377  0.035257  0.093832 -0.031837  \n",
       "\n",
       "[5 rows x 134 columns]"
      ]
     },
     "execution_count": 34,
     "metadata": {},
     "output_type": "execute_result"
    }
   ],
   "source": [
    "DATA_PATH = \"data/result/patient_full_embeddings.csv\"\n",
    "df = pd.read_csv(DATA_PATH)\n",
    "\n",
    "print(df.shape)\n",
    "df.head()\n"
   ]
  },
  {
   "cell_type": "code",
   "execution_count": 35,
   "id": "640e4b5f",
   "metadata": {},
   "outputs": [
    {
     "name": "stdout",
     "output_type": "stream",
     "text": [
      "Colonne con NA: ['sex']\n"
     ]
    }
   ],
   "source": [
    "# Removing superfluous columns \n",
    "df = df.drop(columns=[\"patient_id\", \"country\", \"age\", \"apoe4\"])\n",
    "\n",
    "# country column is almost no informative, so we drop it\n",
    "# I preferred removing age and apoe4 to avoid any potential bias in the model\n",
    "\n",
    "# Checking missing values\n",
    "missing_cols = df.columns[df.isna().any()]\n",
    "print(\"Colonne con NA:\", missing_cols.tolist())\n"
   ]
  },
  {
   "cell_type": "code",
   "execution_count": 36,
   "id": "1f727a5f",
   "metadata": {},
   "outputs": [],
   "source": [
    "TARGET = \"disease\"\n",
    "y = df[TARGET]\n",
    "X = df.drop(columns=[TARGET])\n"
   ]
  },
  {
   "cell_type": "code",
   "execution_count": 37,
   "id": "0af83d07",
   "metadata": {},
   "outputs": [],
   "source": [
    "numeric_cols = X.select_dtypes(include=[\"number\"]).columns\n",
    "categorical_cols = X.select_dtypes(exclude=[\"number\"]).columns   # es. sex, apoE, ecc.\n",
    "\n",
    "\n",
    "numeric_transformer = Pipeline(steps=[\n",
    "    (\"imputer\", SimpleImputer(strategy=\"median\")),\n",
    "    (\"scaler\",  StandardScaler())        \n",
    "])\n",
    "\n",
    "\n",
    "categorical_transformer = Pipeline(steps=[\n",
    "    (\"imputer\", SimpleImputer(strategy=\"most_frequent\")),\n",
    "    (\"encoder\", OneHotEncoder(handle_unknown=\"ignore\"))\n",
    "])\n",
    "\n",
    "preprocess = ColumnTransformer(\n",
    "    transformers=[\n",
    "        (\"num\", numeric_transformer, numeric_cols),\n",
    "        (\"cat\", categorical_transformer, categorical_cols),\n",
    "    ],\n",
    "    remainder=\"drop\"          \n",
    ")\n"
   ]
  },
  {
   "cell_type": "code",
   "execution_count": 38,
   "id": "b33bad8b",
   "metadata": {},
   "outputs": [
    {
     "name": "stdout",
     "output_type": "stream",
     "text": [
      "disease\n",
      "AD     0.669323\n",
      "NC     0.239044\n",
      "MCI    0.091633\n",
      "Name: proportion, dtype: float64 \n",
      "\n",
      "disease\n",
      "AD     0.670635\n",
      "NC     0.238095\n",
      "MCI    0.091270\n",
      "Name: proportion, dtype: float64\n"
     ]
    }
   ],
   "source": [
    "X_train, X_test, y_train, y_test = train_test_split(\n",
    "    X, y, test_size=0.20, stratify=y, random_state=42\n",
    ")\n",
    "print(y_train.value_counts(normalize=True), \"\\n\")\n",
    "print(y_test.value_counts(normalize=True))\n"
   ]
  },
  {
   "cell_type": "code",
   "execution_count": 39,
   "id": "71ce59b4",
   "metadata": {},
   "outputs": [
    {
     "name": "stdout",
     "output_type": "stream",
     "text": [
      "       median  quantile       q25       q75\n",
      "0    0.065912  0.065912  0.064718  0.066900\n",
      "1   -0.090951 -0.090951 -0.091236 -0.090602\n",
      "2   -0.009187 -0.009187 -0.009945 -0.008332\n",
      "3    0.096710  0.096710  0.096215  0.097170\n",
      "4   -0.032758 -0.032758 -0.033074 -0.032474\n",
      "..        ...       ...       ...       ...\n",
      "123  0.066599  0.066599  0.066037  0.067222\n",
      "124 -0.099715 -0.099715 -0.100944 -0.098624\n",
      "125  0.031247  0.031247  0.029069  0.033113\n",
      "126  0.093197  0.093197  0.092727  0.093713\n",
      "127 -0.032368 -0.032368 -0.032765 -0.032002\n",
      "\n",
      "[128 rows x 4 columns]\n"
     ]
    }
   ],
   "source": [
    "# median, quantile, q25, q75 for numeric columns\n",
    "num_stats = (\n",
    "    X_train[numeric_cols]\n",
    "    .agg(['median', 'quantile'])\n",
    "    .T\n",
    "    .assign(q25 = X_train[numeric_cols].quantile(0.25),\n",
    "            q75 = X_train[numeric_cols].quantile(0.75))\n",
    ")\n",
    "print(num_stats)"
   ]
  },
  {
   "cell_type": "code",
   "execution_count": 40,
   "id": "16285380",
   "metadata": {},
   "outputs": [],
   "source": [
    "rf = RandomForestClassifier(\n",
    "    n_estimators=500,\n",
    "    class_weight=\"balanced\",    # considering the class imbalance\n",
    "    random_state=42,\n",
    "    n_jobs=-1\n",
    ")\n",
    "\n"
   ]
  },
  {
   "cell_type": "code",
   "execution_count": 41,
   "id": "8bb8e590",
   "metadata": {},
   "outputs": [
    {
     "name": "stdout",
     "output_type": "stream",
     "text": [
      "Fitting 5 folds for each of 30 candidates, totalling 150 fits\n",
      "Migliori iperparametri: {'model__n_estimators': 300, 'model__min_samples_split': 2, 'model__min_samples_leaf': 4, 'model__max_features': 'log2', 'model__max_depth': 10}\n"
     ]
    }
   ],
   "source": [
    "param_dist = {\n",
    "    \"model__n_estimators\": [300, 500, 800],\n",
    "    \"model__max_depth\": [None, 10, 20, 40],\n",
    "    \"model__min_samples_split\": [2, 5, 10],\n",
    "    \"model__min_samples_leaf\": [1, 2, 4],\n",
    "    \"model__max_features\": [\"sqrt\", \"log2\", None]\n",
    "}\n",
    "\n",
    "clf = Pipeline(steps=[\n",
    "    (\"preprocess\", preprocess),\n",
    "    (\"model\", rf)\n",
    "])\n",
    "\n",
    "cv = StratifiedKFold(n_splits=5, shuffle=True, random_state=42)\n",
    "\n",
    "search = RandomizedSearchCV(\n",
    "    clf,\n",
    "    param_distributions=param_dist,\n",
    "    n_iter=30,\n",
    "    scoring=\"f1_macro\",     # goal: balancing results across classes\n",
    "    n_jobs=-1,\n",
    "    cv=cv,\n",
    "    verbose=1,\n",
    "    random_state=42\n",
    ")\n",
    "search.fit(X_train, y_train)\n",
    "\n",
    "print(\"Migliori iperparametri:\", search.best_params_)\n"
   ]
  },
  {
   "cell_type": "code",
   "execution_count": 42,
   "id": "31bf0b62",
   "metadata": {},
   "outputs": [
    {
     "name": "stdout",
     "output_type": "stream",
     "text": [
      "              precision    recall  f1-score   support\n",
      "\n",
      "          AD      0.730     0.864     0.791       169\n",
      "         MCI      1.000     0.435     0.606        23\n",
      "          NC      0.381     0.267     0.314        60\n",
      "\n",
      "    accuracy                          0.683       252\n",
      "   macro avg      0.704     0.522     0.570       252\n",
      "weighted avg      0.672     0.683     0.661       252\n",
      "\n"
     ]
    },
    {
     "data": {
      "text/plain": [
       "<sklearn.metrics._plot.confusion_matrix.ConfusionMatrixDisplay at 0x1f662202490>"
      ]
     },
     "execution_count": 42,
     "metadata": {},
     "output_type": "execute_result"
    },
    {
     "data": {
      "image/png": "[encoded data removed]",
      "text/plain": [
       "<Figure size 640x480 with 2 Axes>"
      ]
     },
     "metadata": {},
     "output_type": "display_data"
    }
   ],
   "source": [
    "best_model = search.best_estimator_\n",
    "\n",
    "y_pred = best_model.predict(X_test)\n",
    "print(classification_report(y_test, y_pred, digits=3))\n",
    "\n",
    "cm = confusion_matrix(y_test, y_pred, labels=best_model.classes_)\n",
    "ConfusionMatrixDisplay(confusion_matrix=cm, display_labels=best_model.classes_).plot()\n"
   ]
  },
  {
   "cell_type": "code",
   "execution_count": 43,
   "id": "58040f86",
   "metadata": {},
   "outputs": [
    {
     "data": {
      "text/plain": [
       "['models/random_forest_mirna.pkl']"
      ]
     },
     "execution_count": 43,
     "metadata": {},
     "output_type": "execute_result"
    }
   ],
   "source": [
    "import joblib\n",
    "joblib.dump(best_model, \"models/random_forest_mirna.pkl\")\n"
   ]
  },
  {
   "cell_type": "markdown",
   "id": "bcdeb652",
   "metadata": {},
   "source": [
    "#### Explainability section"
   ]
  },
  {
   "cell_type": "code",
   "execution_count": 44,
   "id": "0c821762",
   "metadata": {},
   "outputs": [],
   "source": [
    "import joblib, shap, pandas as pd, numpy as np\n",
    "from pathlib import Path\n",
    "\n",
    "model_path = Path(\"models/random_forest_mirna.pkl\")\n",
    "best_model = joblib.load(model_path)\n",
    "\n",
    "DATA_PATH = Path(\"data/result/patient_full_embeddings.csv\")\n",
    "df      = pd.read_csv(DATA_PATH)\n",
    "\n",
    "# replicate the same preprocessing as in the training phase\n",
    "X   = df.drop(columns=[\"patient_id\", \"country\", \"disease\", \"age\", \"apoe4\"])\n",
    "y   = df[\"disease\"]\n",
    "\n"
   ]
  },
  {
   "cell_type": "code",
   "execution_count": 45,
   "id": "eb0a057c",
   "metadata": {},
   "outputs": [
    {
     "name": "stdout",
     "output_type": "stream",
     "text": [
      "130\n"
     ]
    }
   ],
   "source": [
    "# apply the same preprocessing (for the transformed features)\n",
    "pre = best_model.named_steps[\"preprocess\"]\n",
    "\n",
    "feature_names = pre.get_feature_names_out()\n",
    "print(len(feature_names))        \n"
   ]
  },
  {
   "cell_type": "code",
   "execution_count": 46,
   "id": "b5081285",
   "metadata": {},
   "outputs": [],
   "source": [
    "# Use shap.Explainer for tree-based models\n",
    "explainer = shap.Explainer(\n",
    "    best_model.named_steps[\"model\"],          \n",
    "    pre.transform(X),                         \n",
    "    feature_names=feature_names,\n",
    "    algorithm=\"tree\"\n",
    ")\n"
   ]
  },
  {
   "cell_type": "code",
   "execution_count": 47,
   "id": "6ac2a542",
   "metadata": {},
   "outputs": [
    {
     "name": "stderr",
     "output_type": "stream",
     "text": [
      " 98%|===================| 740/756 [00:21<00:00]        "
     ]
    },
    {
     "data": {
      "image/png": "[encoded data removed]",
      "text/plain": [
       "<Figure size 1150x660 with 3 Axes>"
      ]
     },
     "metadata": {},
     "output_type": "display_data"
    }
   ],
   "source": [
    "X_test_pre = pre.transform(X_test)\n",
    "\n",
    "shap_values = explainer(X_test_pre, check_additivity=False)  \n",
    "\n",
    "# graphical summary of SHAP values\n",
    "\n",
    "shap.summary_plot(\n",
    "    shap_values.values, X_test_pre, feature_names=feature_names,\n",
    "    show=False                   \n",
    ")\n"
   ]
  },
  {
   "cell_type": "code",
   "execution_count": 48,
   "id": "4c63be1b",
   "metadata": {},
   "outputs": [
    {
     "data": {
      "image/png": "[encoded data removed]",
      "text/plain": [
       "<Figure size 800x900 with 3 Axes>"
      ]
     },
     "metadata": {},
     "output_type": "display_data"
    }
   ],
   "source": [
    "def explain_instance(i):\n",
    "    pred = best_model.predict(X_test.iloc[[i]])[0]\n",
    "    cls  = np.where(best_model.classes_ == pred)[0][0]\n",
    "    ex   = shap.Explanation(\n",
    "        values      = shap_values.values[i,:,cls],\n",
    "        base_values = explainer.expected_value[cls],\n",
    "        data        = X_test_pre[i],\n",
    "        feature_names = feature_names\n",
    "    )\n",
    "    shap.plots.waterfall(ex, max_display=15)\n",
    "\n",
    "# explain the instance at the specified index\n",
    "explain_instance(0)\n"
   ]
  },
  {
   "cell_type": "code",
   "execution_count": 49,
   "id": "23f9e8de",
   "metadata": {},
   "outputs": [],
   "source": [
    "import numpy as np\n",
    "import pandas as pd\n",
    "import shap   \n",
    "\n",
    "def top_features_for_instance(shap_vals, feature_names, idx, N=10, class_id=None, X_test_pre=None):\n",
    "    \"\"\"\n",
    "    Returns a DataFrame with the N most influential features (in absolute value)\n",
    "    for the instance `idx` and for the class `class_id`, including the value of the preprocessed feature.\n",
    "    \"\"\"\n",
    "    sv = shap_vals.values if isinstance(shap_vals, shap.Explanation) else shap_vals\n",
    "\n",
    "    if class_id is None:\n",
    "        class_id = np.abs(sv[idx]).sum(axis=0).argmax()\n",
    "\n",
    "    vals  = sv[idx, :, class_id]\n",
    "    order = np.argsort(-np.abs(vals))[:N]\n",
    "\n",
    "    features     = np.array(feature_names)[order]\n",
    "    shap_values  = vals[order]\n",
    "    directions   = [\"+\" if v > 0 else \"-\" for v in shap_values]\n",
    "\n",
    "    # adding raw values if available\n",
    "    raw_values = X_test_pre[idx][order] if X_test_pre is not None else [\"?\"] * N\n",
    "\n",
    "    return pd.DataFrame({\n",
    "        \"feature\"       : features,\n",
    "        \"shap_value\"    : shap_values,\n",
    "        \"raw_value\"     : raw_values,\n",
    "        \"direction (+ ⇒ pro‑class)\" : directions\n",
    "    })\n",
    "\n"
   ]
  },
  {
   "cell_type": "markdown",
   "id": "3efbba17",
   "metadata": {},
   "source": [
    "Interpreting results:\n",
    "\n",
    "- Positive SHAP value: the feature contributes to push the prediction towards the predicted class\n",
    "- Negative SHAP value: the feature contributes to push the prediction away the predicted class\n",
    "\n",
    "- Positive raw value: the feature has a higher value with respect to the preprocessing\n",
    "- Negative raw value: the feature has a lower value with respect to the preprocessing\n",
    "\n",
    "- +: the feature favors the predicted class\n",
    "- -: the feature contrasts with the predicted class"
   ]
  },
  {
   "cell_type": "code",
   "execution_count": 50,
   "id": "dbdfd48f",
   "metadata": {},
   "outputs": [
    {
     "data": {
      "application/vnd.microsoft.datawrangler.viewer.v0+json": {
       "columns": [
        {
         "name": "index",
         "rawType": "int64",
         "type": "integer"
        },
        {
         "name": "feature",
         "rawType": "object",
         "type": "string"
        },
        {
         "name": "shap_value",
         "rawType": "float64",
         "type": "float"
        },
        {
         "name": "raw_value",
         "rawType": "float64",
         "type": "float"
        },
        {
         "name": "direction (+ ⇒ pro‑class)",
         "rawType": "object",
         "type": "string"
        }
       ],
       "ref": "4a5aa8be-98da-4365-9464-01f7cad56ef4",
       "rows": [
        [
         "0",
         "num__99",
         "-0.006590278539567293",
         "-0.034113593444951865",
         "-"
        ],
        [
         "1",
         "num__71",
         "-0.006398969236747689",
         "0.019246210789340343",
         "-"
        ],
        [
         "2",
         "num__90",
         "-0.006336027086570084",
         "0.00986032768827484",
         "-"
        ],
        [
         "3",
         "num__62",
         "0.005254535637085382",
         "-0.13287852421107174",
         "+"
        ],
        [
         "4",
         "num__127",
         "-0.005173130073480934",
         "0.020084095980503053",
         "-"
        ],
        [
         "5",
         "cat__sex_male",
         "0.005007398451555218",
         "0.0",
         "+"
        ],
        [
         "6",
         "num__37",
         "0.0045820387837807175",
         "-0.10772410138104248",
         "+"
        ],
        [
         "7",
         "num__31",
         "0.004373236195983736",
         "-0.11139586382354254",
         "+"
        ],
        [
         "8",
         "num__64",
         "-0.0043587015843513655",
         "0.012276273805440656",
         "-"
        ],
        [
         "9",
         "num__113",
         "-0.004295463887808637",
         "0.0765385759748201",
         "-"
        ],
        [
         "10",
         "cat__sex_female",
         "0.0042069993655093185",
         "1.0",
         "+"
        ],
        [
         "11",
         "num__102",
         "-0.003976395426975614",
         "-0.09290180462450624",
         "-"
        ],
        [
         "12",
         "num__110",
         "0.003797841731435483",
         "-0.10789543757992157",
         "+"
        ],
        [
         "13",
         "num__104",
         "0.0037907673639892892",
         "-0.10016497369073225",
         "+"
        ],
        [
         "14",
         "num__92",
         "0.003540358955112879",
         "0.12743897441191507",
         "+"
        ]
       ],
       "shape": {
        "columns": 4,
        "rows": 15
       }
      },
      "text/html": [
       "<div>\n",
       "<style scoped>\n",
       "    .dataframe tbody tr th:only-of-type {\n",
       "        vertical-align: middle;\n",
       "    }\n",
       "\n",
       "    .dataframe tbody tr th {\n",
       "        vertical-align: top;\n",
       "    }\n",
       "\n",
       "    .dataframe thead th {\n",
       "        text-align: right;\n",
       "    }\n",
       "</style>\n",
       "<table border=\"1\" class=\"dataframe\">\n",
       "  <thead>\n",
       "    <tr style=\"text-align: right;\">\n",
       "      <th></th>\n",
       "      <th>feature</th>\n",
       "      <th>shap_value</th>\n",
       "      <th>raw_value</th>\n",
       "      <th>direction (+ ⇒ pro‑class)</th>\n",
       "    </tr>\n",
       "  </thead>\n",
       "  <tbody>\n",
       "    <tr>\n",
       "      <th>0</th>\n",
       "      <td>num__99</td>\n",
       "      <td>-0.006590</td>\n",
       "      <td>-0.034114</td>\n",
       "      <td>-</td>\n",
       "    </tr>\n",
       "    <tr>\n",
       "      <th>1</th>\n",
       "      <td>num__71</td>\n",
       "      <td>-0.006399</td>\n",
       "      <td>0.019246</td>\n",
       "      <td>-</td>\n",
       "    </tr>\n",
       "    <tr>\n",
       "      <th>2</th>\n",
       "      <td>num__90</td>\n",
       "      <td>-0.006336</td>\n",
       "      <td>0.009860</td>\n",
       "      <td>-</td>\n",
       "    </tr>\n",
       "    <tr>\n",
       "      <th>3</th>\n",
       "      <td>num__62</td>\n",
       "      <td>0.005255</td>\n",
       "      <td>-0.132879</td>\n",
       "      <td>+</td>\n",
       "    </tr>\n",
       "    <tr>\n",
       "      <th>4</th>\n",
       "      <td>num__127</td>\n",
       "      <td>-0.005173</td>\n",
       "      <td>0.020084</td>\n",
       "      <td>-</td>\n",
       "    </tr>\n",
       "    <tr>\n",
       "      <th>5</th>\n",
       "      <td>cat__sex_male</td>\n",
       "      <td>0.005007</td>\n",
       "      <td>0.000000</td>\n",
       "      <td>+</td>\n",
       "    </tr>\n",
       "    <tr>\n",
       "      <th>6</th>\n",
       "      <td>num__37</td>\n",
       "      <td>0.004582</td>\n",
       "      <td>-0.107724</td>\n",
       "      <td>+</td>\n",
       "    </tr>\n",
       "    <tr>\n",
       "      <th>7</th>\n",
       "      <td>num__31</td>\n",
       "      <td>0.004373</td>\n",
       "      <td>-0.111396</td>\n",
       "      <td>+</td>\n",
       "    </tr>\n",
       "    <tr>\n",
       "      <th>8</th>\n",
       "      <td>num__64</td>\n",
       "      <td>-0.004359</td>\n",
       "      <td>0.012276</td>\n",
       "      <td>-</td>\n",
       "    </tr>\n",
       "    <tr>\n",
       "      <th>9</th>\n",
       "      <td>num__113</td>\n",
       "      <td>-0.004295</td>\n",
       "      <td>0.076539</td>\n",
       "      <td>-</td>\n",
       "    </tr>\n",
       "    <tr>\n",
       "      <th>10</th>\n",
       "      <td>cat__sex_female</td>\n",
       "      <td>0.004207</td>\n",
       "      <td>1.000000</td>\n",
       "      <td>+</td>\n",
       "    </tr>\n",
       "    <tr>\n",
       "      <th>11</th>\n",
       "      <td>num__102</td>\n",
       "      <td>-0.003976</td>\n",
       "      <td>-0.092902</td>\n",
       "      <td>-</td>\n",
       "    </tr>\n",
       "    <tr>\n",
       "      <th>12</th>\n",
       "      <td>num__110</td>\n",
       "      <td>0.003798</td>\n",
       "      <td>-0.107895</td>\n",
       "      <td>+</td>\n",
       "    </tr>\n",
       "    <tr>\n",
       "      <th>13</th>\n",
       "      <td>num__104</td>\n",
       "      <td>0.003791</td>\n",
       "      <td>-0.100165</td>\n",
       "      <td>+</td>\n",
       "    </tr>\n",
       "    <tr>\n",
       "      <th>14</th>\n",
       "      <td>num__92</td>\n",
       "      <td>0.003540</td>\n",
       "      <td>0.127439</td>\n",
       "      <td>+</td>\n",
       "    </tr>\n",
       "  </tbody>\n",
       "</table>\n",
       "</div>"
      ],
      "text/plain": [
       "            feature  shap_value  raw_value direction (+ ⇒ pro‑class)\n",
       "0           num__99   -0.006590  -0.034114                         -\n",
       "1           num__71   -0.006399   0.019246                         -\n",
       "2           num__90   -0.006336   0.009860                         -\n",
       "3           num__62    0.005255  -0.132879                         +\n",
       "4          num__127   -0.005173   0.020084                         -\n",
       "5     cat__sex_male    0.005007   0.000000                         +\n",
       "6           num__37    0.004582  -0.107724                         +\n",
       "7           num__31    0.004373  -0.111396                         +\n",
       "8           num__64   -0.004359   0.012276                         -\n",
       "9          num__113   -0.004295   0.076539                         -\n",
       "10  cat__sex_female    0.004207   1.000000                         +\n",
       "11         num__102   -0.003976  -0.092902                         -\n",
       "12         num__110    0.003798  -0.107895                         +\n",
       "13         num__104    0.003791  -0.100165                         +\n",
       "14          num__92    0.003540   0.127439                         +"
      ]
     },
     "execution_count": 50,
     "metadata": {},
     "output_type": "execute_result"
    }
   ],
   "source": [
    "idx = 0  # an example\n",
    "\n",
    "pred_label = best_model.predict(X_test.iloc[[idx]])[0]\n",
    "class_id   = np.where(best_model.classes_ == pred_label)[0][0]\n",
    "\n",
    "df_top = top_features_for_instance(\n",
    "    shap_values, feature_names, idx, N=15, class_id=class_id, X_test_pre=X_test_pre\n",
    ")\n",
    "\n",
    "df_top\n"
   ]
  },
  {
   "cell_type": "markdown",
   "id": "ef35df10",
   "metadata": {},
   "source": [
    "### Traning (Lasso coefficient) a Random Forest model"
   ]
  },
  {
   "cell_type": "markdown",
   "id": "573baeb7",
   "metadata": {},
   "source": [
    "#### Computing the new dataset"
   ]
  },
  {
   "cell_type": "code",
   "execution_count": 123,
   "id": "a3735dd8",
   "metadata": {},
   "outputs": [],
   "source": [
    "# Extract dataframe containing for each patient a list of features weights\n",
    "df_emb = pd.read_csv(\"data/raw/subj_embeddings_train.csv\", index_col=0)\n",
    "\n",
    "# Extract previously computed Lasso coefficients\n",
    "df_lasso = pd.read_csv(\"data/result/lasso_coefficients.csv\", index_col=0)"
   ]
  },
  {
   "cell_type": "code",
   "execution_count": 124,
   "id": "eafc57a3",
   "metadata": {},
   "outputs": [],
   "source": [
    "# convert the columns of df_emb to string type for further comparison\n",
    "df_emb.columns = df_emb.columns.astype(str)\n",
    "\n",
    "# align feature names of the two dataframes\n",
    "df_lasso.index = df_lasso.index.str.replace(\"Feature_\", \"\", regex=False)\n",
    "\n",
    "# Secure the features present in both dataframes\n",
    "common_feat = df_emb.columns.intersection(df_lasso.index)\n",
    "\n",
    "df_emb_aligned   = df_emb[common_feat]               \n",
    "df_lasso_aligned = df_lasso.loc[common_feat]         "
   ]
  },
  {
   "cell_type": "code",
   "execution_count": 125,
   "id": "3c676360",
   "metadata": {},
   "outputs": [],
   "source": [
    "df_new = df_emb_aligned.dot(df_lasso_aligned)  "
   ]
  },
  {
   "cell_type": "code",
   "execution_count": 126,
   "id": "89cff2d0",
   "metadata": {},
   "outputs": [
    {
     "name": "stdout",
     "output_type": "stream",
     "text": [
      "Creato: data/result/patient_miRNA_weights.csv  (1256 pazienti × 300 miRNA)\n"
     ]
    }
   ],
   "source": [
    "df_new.to_csv(\"data/result/patient_miRNA_weights.csv\")\n",
    "\n",
    "print(\"Creato: data/result/patient_miRNA_weights.csv  \"\n",
    "      f\"({df_new.shape[0]} pazienti × {df_new.shape[1]} miRNA)\")"
   ]
  },
  {
   "cell_type": "markdown",
   "id": "34f4e5e7",
   "metadata": {},
   "source": [
    "#### Reducing the Dataset for training purpose"
   ]
  },
  {
   "cell_type": "code",
   "execution_count": 127,
   "id": "362958c4",
   "metadata": {},
   "outputs": [
    {
     "name": "stdout",
     "output_type": "stream",
     "text": [
      "Keeping 101 over 300 miRNA (≈95 % of cumulative importance)\n"
     ]
    }
   ],
   "source": [
    "W = pd.read_csv(\"data/result/lasso_coefficients.csv\", index_col=0)\n",
    "\n",
    "# compute the overall importance of each miRNA by summing the absolute values of the coefficients across all features\n",
    "miRNA_score = W.abs().sum(axis=0).sort_values(ascending=False)\n",
    "\n",
    "# Keep the miRNAs that explain at least 95% of the total weight\n",
    "cum = miRNA_score.cumsum() / miRNA_score.sum()\n",
    "keep = cum[cum <= 0.95].index       \n",
    "\n",
    "print(f\"Keeping {len(keep)} over {len(miRNA_score)} miRNA (≈95 % of cumulative importance)\")\n",
    "\n",
    "# Reduce the dataframe patients × miRNA\n",
    "df_new = pd.read_csv(\"data/result/patient_miRNA_weights.csv\", index_col=0)\n",
    "df_new_sel = df_new[keep]\n",
    "\n",
    "df_new_sel.to_csv(\"data/result/patient_miRNA_top.csv\")"
   ]
  },
  {
   "cell_type": "markdown",
   "id": "0f60aee8",
   "metadata": {},
   "source": [
    "#### Extending the dataset with the patients information"
   ]
  },
  {
   "cell_type": "code",
   "execution_count": 128,
   "id": "fb350964",
   "metadata": {},
   "outputs": [
    {
     "name": "stdout",
     "output_type": "stream",
     "text": [
      "Output dataset: 1256 patients × 108 columns\n"
     ]
    }
   ],
   "source": [
    "import pandas as pd\n",
    "\n",
    "# Load the two tables\n",
    "df_info = pd.read_csv(\"data/result/patient_info.csv\")          \n",
    "\n",
    "# Selected miRNA expressions\n",
    "df_mirna = pd.read_csv(\"data/result/patient_miRNA_top.csv\", index_col=0)\n",
    "\n",
    "df_mirna = df_mirna.rename_axis('patient_id').reset_index()\n",
    "\n",
    "# perform the merge on patient_id, keeping only patients present in both tables (for security reasons)\n",
    "df_merged = df_info.merge(df_mirna, on='patient_id', how='inner')\n",
    "\n",
    "print(f\"Output dataset: {df_merged.shape[0]} patients × {df_merged.shape[1]} columns\")\n",
    "\n",
    "df_merged.to_csv(\"data/result/patient_full_features.csv\", index=False)\n"
   ]
  },
  {
   "cell_type": "markdown",
   "id": "284ff27a",
   "metadata": {},
   "source": [
    "#### Training the model based on lasso coefficients"
   ]
  },
  {
   "cell_type": "code",
   "execution_count": 129,
   "id": "157920f4",
   "metadata": {},
   "outputs": [],
   "source": [
    "RANDOM_STATE = 42\n",
    "\n",
    "df = pd.read_csv(\"data/result/patient_full_features.csv\")\n",
    "\n",
    "# Remove patient_id column\n",
    "df = df.drop(columns=[\"patient_id\"])\n",
    "\n",
    "y = df[\"disease\"]\n",
    "X = df.drop(columns=[\"disease\"])\n",
    "\n",
    "X_train, X_test, y_train, y_test = train_test_split(\n",
    "    X, y, test_size=0.20, stratify=y, random_state=RANDOM_STATE\n",
    ")"
   ]
  },
  {
   "cell_type": "code",
   "execution_count": 130,
   "id": "908f36c0",
   "metadata": {},
   "outputs": [],
   "source": [
    "numeric_cols = X.select_dtypes(include=[\"number\"]).columns\n",
    "categorical_cols = X.select_dtypes(exclude=[\"number\"]).columns   \n",
    "\n",
    "numeric_pipe = Pipeline([\n",
    "    (\"imputer\", SimpleImputer(strategy=\"median\"))\n",
    "    \n",
    "])\n",
    "\n",
    "categorical_pipe = Pipeline([\n",
    "    (\"imputer\", SimpleImputer(strategy=\"most_frequent\")),\n",
    "    (\"onehot\",  OneHotEncoder(handle_unknown=\"ignore\"))\n",
    "])\n",
    "\n",
    "preprocess = ColumnTransformer([\n",
    "    (\"num\", numeric_pipe, numeric_cols),\n",
    "    (\"cat\", categorical_pipe, categorical_cols)\n",
    "])"
   ]
  },
  {
   "cell_type": "code",
   "execution_count": 131,
   "id": "0645865c",
   "metadata": {},
   "outputs": [],
   "source": [
    "rf = RandomForestClassifier(\n",
    "    n_estimators=500,\n",
    "    class_weight=\"balanced\",\n",
    "    random_state=RANDOM_STATE\n",
    ")\n",
    "\n",
    "pipeline = Pipeline([\n",
    "    (\"prep\", preprocess),\n",
    "    (\"rf\",   rf)\n",
    "])"
   ]
  },
  {
   "cell_type": "code",
   "execution_count": 132,
   "id": "8832d469",
   "metadata": {},
   "outputs": [
    {
     "name": "stdout",
     "output_type": "stream",
     "text": [
      "Fitting 5 folds for each of 27 candidates, totalling 135 fits\n",
      "Best params: {'rf__max_depth': 10, 'rf__min_samples_leaf': 4, 'rf__n_estimators': 800}\n",
      "CV f1-macro: 0.676\n"
     ]
    }
   ],
   "source": [
    "param_grid = {\n",
    "    \"rf__n_estimators\":   [300, 500, 800],\n",
    "    \"rf__max_depth\":      [None, 10, 20],\n",
    "    \"rf__min_samples_leaf\": [1, 2, 4]\n",
    "}\n",
    "\n",
    "cv = StratifiedKFold(n_splits=5, shuffle=True, random_state=RANDOM_STATE)\n",
    "\n",
    "grid = GridSearchCV(\n",
    "    pipeline,\n",
    "    param_grid,\n",
    "    cv=cv,\n",
    "    scoring=\"f1_macro\",\n",
    "    n_jobs=-1,\n",
    "    verbose=1\n",
    ")\n",
    "\n",
    "grid.fit(X_train, y_train)\n",
    "\n",
    "print(\"Best params:\", grid.best_params_)\n",
    "print(\"CV f1-macro:\", grid.best_score_.round(3))"
   ]
  },
  {
   "cell_type": "code",
   "execution_count": 133,
   "id": "5f2eed36",
   "metadata": {},
   "outputs": [
    {
     "name": "stdout",
     "output_type": "stream",
     "text": [
      "\n",
      "=== Test-set metrics ===\n",
      "Accuracy : 0.726\n",
      "F1-macro : 0.618\n",
      "\n",
      "Classification report:\n",
      "              precision    recall  f1-score   support\n",
      "\n",
      "          AD      0.763     0.876     0.815       169\n",
      "         MCI      1.000     0.391     0.562        23\n",
      "          NC      0.531     0.433     0.477        60\n",
      "\n",
      "    accuracy                          0.726       252\n",
      "   macro avg      0.764     0.567     0.618       252\n",
      "weighted avg      0.729     0.726     0.712       252\n",
      "\n",
      "Confusion matrix:\n",
      " [[148   0  21]\n",
      " [ 12   9   2]\n",
      " [ 34   0  26]]\n"
     ]
    }
   ],
   "source": [
    "best_model = grid.best_estimator_\n",
    "\n",
    "y_pred = best_model.predict(X_test)\n",
    "\n",
    "print(\"\\n=== Test-set metrics ===\")\n",
    "print(\"Accuracy :\", accuracy_score(y_test, y_pred).round(3))\n",
    "print(\"F1-macro :\", f1_score(y_test, y_pred, average=\"macro\").round(3))\n",
    "print(\"\\nClassification report:\")\n",
    "print(classification_report(y_test, y_pred, digits=3))\n",
    "\n",
    "print(\"Confusion matrix:\\n\", confusion_matrix(y_test, y_pred))"
   ]
  },
  {
   "cell_type": "code",
   "execution_count": 134,
   "id": "f2344342",
   "metadata": {},
   "outputs": [],
   "source": [
    "y_pred_lasso = y_pred"
   ]
  },
  {
   "cell_type": "markdown",
   "id": "304d1ab3",
   "metadata": {},
   "source": [
    "### Verifying correspondence between models\n",
    "\n",
    "At this moment: between\n",
    "\n",
    "- original dataset and lasso dataset"
   ]
  },
  {
   "cell_type": "code",
   "execution_count": 135,
   "id": "a5b3c584",
   "metadata": {},
   "outputs": [],
   "source": [
    "\n",
    "\n",
    "def compare_predictions(\n",
    "        pred_base,\n",
    "        pred_comp,\n",
    "        y_true: Optional[pd.Series] = None,\n",
    "        classes: List[str] = (\"AD\", \"MCI\", \"NC\"),\n",
    "        digits: int = 2\n",
    "    ) -> Dict[str, float]:\n",
    "    \"\"\"\n",
    "    Compare two prediction vectors (base vs. comparison) and optionally\n",
    "    the true labels. Returns a dictionary of percentages.\n",
    "\n",
    "    ▸ pred_base  : predictions of the base model\n",
    "    ▸ pred_comp  : predictions of the comparison model\n",
    "    ▸ y_true     : (opz.) real labels to check correctness\n",
    "    ▸ classes    : list of classes\n",
    "    \"\"\"\n",
    "\n",
    "    pred_base  = pd.Series(pred_base).reset_index(drop=True)\n",
    "    pred_comp  = pd.Series(pred_comp).reset_index(drop=True)\n",
    "\n",
    "    if len(pred_base) != len(pred_comp):\n",
    "        raise ValueError(\"Le predizioni hanno lunghezze diverse\")\n",
    "\n",
    "    same_pred_mask = (pred_base == pred_comp)\n",
    "    pct_same_pred  = same_pred_mask.mean() * 100\n",
    "\n",
    "    pct_same_correct = None\n",
    "    if y_true is not None:\n",
    "        y_true = pd.Series(y_true).reset_index(drop=True)\n",
    "        if len(y_true) != len(pred_base):\n",
    "            raise ValueError(\"y_true deve avere la stessa lunghezza delle predizioni\")\n",
    "        pct_same_correct = (same_pred_mask & (pred_base == y_true)).mean() * 100\n",
    "\n",
    "    pct_class_same = {\n",
    "        cls: ((pred_base == cls) & (pred_comp == cls)).mean() * 100\n",
    "        for cls in classes\n",
    "    }\n",
    "\n",
    "    cond_agree = {}\n",
    "    for cls in classes:\n",
    "        mask_ref = (pred_base == cls)\n",
    "        if mask_ref.sum() == 0:\n",
    "            cond_agree[cls] = float(\"nan\")\n",
    "        else:\n",
    "            cond_agree[cls] = (pred_comp[mask_ref] == cls).mean() * 100\n",
    "\n",
    "    print(f\"Corresponding predictions ..................: {pct_same_pred:.{digits}f}%\")\n",
    "    if pct_same_correct is not None:\n",
    "        print(f\"Corresponding and correct predictions ..: {pct_same_correct:.{digits}f}%\")\n",
    "    for cls in classes:\n",
    "        print(f\" · Global concordance '{cls}'    : {pct_class_same[cls]:.{digits}f}%\")\n",
    "    for cls in classes:\n",
    "        n_ref = (pred_base == cls).sum()\n",
    "        print(f\" · Conditioned on ='{cls}' (n={n_ref}) -> \"\n",
    "              f\"{cond_agree[cls]:.{digits}f}%\")\n",
    "\n",
    "    return {\n",
    "        \"pct_same_pred\": pct_same_pred,\n",
    "        \"pct_same_correct\": pct_same_correct,\n",
    "        \"pct_class_same\": pct_class_same,\n",
    "        \"conditional_agreement\": cond_agree\n",
    "    }\n"
   ]
  },
  {
   "cell_type": "code",
   "execution_count": 136,
   "id": "d4df2df7",
   "metadata": {},
   "outputs": [
    {
     "name": "stdout",
     "output_type": "stream",
     "text": [
      "Corresponding predictions ..................: 92.46%\n",
      "Corresponding and correct predictions ..: 70.24%\n",
      " · Global concordance 'AD'    : 75.40%\n",
      " · Global concordance 'MCI'    : 3.57%\n",
      " · Global concordance 'NC'    : 13.49%\n",
      " · Conditioned on ='AD' (n=205) -> 92.68%\n",
      " · Conditioned on ='MCI' (n=10) -> 90.00%\n",
      " · Conditioned on ='NC' (n=37) -> 91.89%\n"
     ]
    }
   ],
   "source": [
    "# Comparison #1: y_pred_std vs. y_pred_lasso\n",
    "\n",
    "metrics = compare_predictions(\n",
    "    y_pred_std,        \n",
    "    y_pred_lasso,      \n",
    "    y_true=y_test      \n",
    ")"
   ]
  },
  {
   "cell_type": "markdown",
   "id": "444e0908",
   "metadata": {},
   "source": [
    "### Mappping miRNA influence over a prediction based on extracted features"
   ]
  },
  {
   "cell_type": "code",
   "execution_count": 51,
   "id": "b92b708e",
   "metadata": {},
   "outputs": [],
   "source": [
    "import re\n",
    "import pandas as pd\n",
    "import numpy as np\n"
   ]
  },
  {
   "cell_type": "code",
   "execution_count": 52,
   "id": "fa466f09",
   "metadata": {},
   "outputs": [],
   "source": [
    "mapping_df = pd.read_csv(\n",
    "    \"data/result/pruned_lasso_coefficients_nonzero.csv\",\n",
    "    index_col=0          \n",
    ")\n"
   ]
  },
  {
   "cell_type": "code",
   "execution_count": 53,
   "id": "6f4562c0",
   "metadata": {},
   "outputs": [],
   "source": [
    "# def shap_to_mirna_with_pred(\n",
    "#         x_raw_row: pd.DataFrame,\n",
    "#         best_model,\n",
    "#         shap_vals,\n",
    "#         feature_names: list[str],\n",
    "#         mapping_df: pd.DataFrame,\n",
    "#         idx: int,\n",
    "#         top_n_feat: int | None = None\n",
    "#     ) -> tuple[dict, pd.DataFrame]:\n",
    "#     import re, numpy as np, pandas as pd, shap\n",
    "\n",
    "#     # ---------- ①  inferenza del modello ----------\n",
    "#     proba = best_model.predict_proba(x_raw_row)[0]\n",
    "#     classes = best_model.classes_\n",
    "#     pred_label = classes[np.argmax(proba)]\n",
    "#     pred_info = {\n",
    "#         \"predicted_label\": pred_label,\n",
    "#         \"probabilities\": dict(zip(classes, proba.round(4)))\n",
    "#     }\n",
    "\n",
    "#     # ---------- ②  costruisci DataFrame SHAP per la singola riga ----------\n",
    "#     sv = shap_vals.values if isinstance(shap_vals, shap.Explanation) else shap_vals\n",
    "#     data = shap_vals.data if isinstance(shap_vals, shap.Explanation) else None\n",
    "\n",
    "#     class_id = np.where(classes == pred_label)[0][0]\n",
    "#     shap_vec = sv[idx, :, class_id]\n",
    "\n",
    "#     shap_df = pd.DataFrame({\n",
    "#         \"feature\": feature_names,\n",
    "#         \"shap_value\": shap_vec,\n",
    "#         \"raw_value\": data[idx] if data is not None else [np.nan] * len(feature_names)  # nuova colonna\n",
    "#     }).assign(abs_val=lambda d: d.shap_value.abs()) \\\n",
    "#       .sort_values(\"abs_val\", ascending=False) \\\n",
    "#       .drop(columns=\"abs_val\")\n",
    "\n",
    "#     if top_n_feat is not None:\n",
    "#         shap_df = shap_df.head(top_n_feat)\n",
    "\n",
    "#     # ---------- ③  aggrega sulle espressioni miRNA ----------\n",
    "#     total = pd.Series(0.0, index=mapping_df.columns)\n",
    "\n",
    "#     for _, row in shap_df.iterrows():\n",
    "#         m = re.search(r'(\\d+)', row[\"feature\"])\n",
    "#         feat_key = f\"Feature_{m.group(1)}\" if m else row[\"feature\"]\n",
    "\n",
    "#         if feat_key in mapping_df.index:\n",
    "#             total = total.add(mapping_df.loc[feat_key] * row[\"shap_value\"], fill_value=0.0)\n",
    "\n",
    "#     mirna_df = (\n",
    "#         total[total != 0]\n",
    "#         .sort_values(ascending=False)\n",
    "#         .rename(\"aggregated_weight\")\n",
    "#         .reset_index()\n",
    "#         .rename(columns={\"index\": \"miRNA\"})\n",
    "#     )\n",
    "\n",
    "#     return pred_info, mirna_df\n"
   ]
  },
  {
   "cell_type": "code",
   "execution_count": 54,
   "id": "bb56a5d4",
   "metadata": {},
   "outputs": [],
   "source": [
    "# idx = 0\n",
    "# x_row = X_test.iloc[[idx]]                       # riga grezza\n",
    "# pred_info, mirna_df = shap_to_mirna_with_pred(\n",
    "#     x_row, best_model, shap_values, feature_names,\n",
    "#     mapping_df, idx, top_n_feat=50\n",
    "# )\n",
    "\n",
    "# print(pred_info)        # {'predicted_label': 'NC', 'probabilities': {'AD': 0.433, ...}}\n",
    "# mirna_df.head(10)       # tabella miRNA ↔ peso aggregato\n"
   ]
  },
  {
   "cell_type": "code",
   "execution_count": 55,
   "id": "55f0ebc7",
   "metadata": {},
   "outputs": [],
   "source": [
    "# print(mirna_df.head(10))  # (k, 2) con k miRNA e i loro pesi aggregati"
   ]
  },
  {
   "cell_type": "code",
   "execution_count": 56,
   "id": "9f01072c",
   "metadata": {},
   "outputs": [],
   "source": [
    "def mirna_explain(\n",
    "        shap_df: pd.DataFrame,      # feature, shap_value, raw_value\n",
    "        mapping_df: pd.DataFrame,\n",
    "        top_k_feat_per_mirna: int = 3\n",
    "    ) -> pd.DataFrame:\n",
    "    \"\"\"\n",
    "    Aligning explainability at feature-level and miRNA-level.\n",
    "\n",
    "    Parameters\n",
    "    ----------\n",
    "    shap_df : DataFrame with columns ['feature', 'shap_value', 'raw_value'].\n",
    "    mapping_df : DataFrame idx='Feature_x', columns=miRNA, values=coeff.\n",
    "    top_k_feat_per_mirna : how many feature names to return (stringa \"feat1, feat2 ...\").\n",
    "\n",
    "    Returns\n",
    "    -------\n",
    "    df_mirna : miRNA, aggregated_weight, agg_raw, n_features, top_features\n",
    "    \"\"\"\n",
    "    import re\n",
    "    from collections import defaultdict\n",
    "    import numpy as np\n",
    "    import pandas as pd\n",
    "\n",
    "    agg_weight  = defaultdict(float)    # aggregated SHAP weights per miRNA\n",
    "    agg_raw     = defaultdict(float)    # aggregated raw values per miRNA\n",
    "    feat_list   = defaultdict(list)     # list of most influent features per miRNA\n",
    "\n",
    "    for _, row in shap_df.iterrows():\n",
    "        # processing (needed to match the mapping_df index)\n",
    "        m = re.search(r'(\\d+)', row['feature'])\n",
    "        feat_key = f\"Feature_{m.group(1)}\" if m else row['feature']\n",
    "        if feat_key not in mapping_df.index:\n",
    "            continue\n",
    "\n",
    "        coeff_series = mapping_df.loc[feat_key]\n",
    "\n",
    "        # update aggregated values\n",
    "        agg_weight.update({mi: agg_weight[mi] + coeff_series[mi] * row['shap_value']\n",
    "                           for mi in coeff_series.index})\n",
    "        agg_raw.update({mi: agg_raw[mi] + coeff_series[mi] * row['raw_value']\n",
    "                        for mi in coeff_series.index})\n",
    "        for mi in coeff_series.index:\n",
    "            if len(feat_list[mi]) < top_k_feat_per_mirna:\n",
    "                feat_list[mi].append(row['feature'])\n",
    "\n",
    "    df = (\n",
    "        pd.DataFrame({\n",
    "            \"miRNA\":   agg_weight.keys(),\n",
    "            \"aggregated_weight\": agg_weight.values(),\n",
    "            \"agg_raw\": [agg_raw[mi] for mi in agg_weight.keys()],\n",
    "            \"n_features\": [len(feat_list[mi]) for mi in agg_weight.keys()],\n",
    "            \"top_features\": [\", \".join(feat_list[mi]) for mi in agg_weight.keys()]\n",
    "        })\n",
    "        .query(\"aggregated_weight != 0\")\n",
    "        .sort_values(\"aggregated_weight\", ascending=False)\n",
    "        .reset_index(drop=True)\n",
    "    )\n",
    "    return df\n"
   ]
  },
  {
   "cell_type": "code",
   "execution_count": 57,
   "id": "b3ce45ca",
   "metadata": {},
   "outputs": [
    {
     "data": {
      "application/vnd.microsoft.datawrangler.viewer.v0+json": {
       "columns": [
        {
         "name": "index",
         "rawType": "int64",
         "type": "integer"
        },
        {
         "name": "miRNA",
         "rawType": "object",
         "type": "string"
        },
        {
         "name": "aggregated_weight",
         "rawType": "float64",
         "type": "float"
        },
        {
         "name": "agg_raw",
         "rawType": "float64",
         "type": "float"
        },
        {
         "name": "n_features",
         "rawType": "int64",
         "type": "integer"
        },
        {
         "name": "top_features",
         "rawType": "object",
         "type": "string"
        }
       ],
       "ref": "76ca238b-7828-40e0-8c79-b06c77492eff",
       "rows": [
        [
         "0",
         "hsa-miR-6729-5p",
         "0.014074991014019246",
         "-0.49737907018919364",
         "3",
         "num__99, num__71, num__90"
        ],
        [
         "1",
         "hsa-miR-6087",
         "0.011537135540414972",
         "-0.2244075062868393",
         "3",
         "num__99, num__71, num__90"
        ],
        [
         "2",
         "hsa-miR-4734",
         "0.007556061393481274",
         "-0.1739146643629725",
         "3",
         "num__99, num__71, num__90"
        ],
        [
         "3",
         "hsa-miR-2861",
         "0.007169800651015378",
         "-0.33914128559788875",
         "3",
         "num__99, num__71, num__90"
        ],
        [
         "4",
         "hsa-miR-7704",
         "0.004836494376961259",
         "-0.29396765379217943",
         "3",
         "num__99, num__71, num__90"
        ],
        [
         "5",
         "hsa-miR-6895-5p",
         "0.0036537926359173087",
         "-0.09433584652929428",
         "3",
         "num__99, num__71, num__90"
        ],
        [
         "6",
         "hsa-miR-1268a",
         "0.0032136061899920893",
         "0.003140273854286634",
         "3",
         "num__99, num__71, num__90"
        ],
        [
         "7",
         "hsa-miR-3663-3p",
         "0.0031984253979241324",
         "-0.1051863122443012",
         "3",
         "num__99, num__71, num__90"
        ],
        [
         "8",
         "hsa-miR-3665",
         "0.0030652811926555733",
         "-0.09707898639065603",
         "3",
         "num__99, num__71, num__90"
        ],
        [
         "9",
         "hsa-miR-6090",
         "0.003022062357151534",
         "-0.1802492584448567",
         "3",
         "num__99, num__71, num__90"
        ]
       ],
       "shape": {
        "columns": 5,
        "rows": 10
       }
      },
      "text/html": [
       "<div>\n",
       "<style scoped>\n",
       "    .dataframe tbody tr th:only-of-type {\n",
       "        vertical-align: middle;\n",
       "    }\n",
       "\n",
       "    .dataframe tbody tr th {\n",
       "        vertical-align: top;\n",
       "    }\n",
       "\n",
       "    .dataframe thead th {\n",
       "        text-align: right;\n",
       "    }\n",
       "</style>\n",
       "<table border=\"1\" class=\"dataframe\">\n",
       "  <thead>\n",
       "    <tr style=\"text-align: right;\">\n",
       "      <th></th>\n",
       "      <th>miRNA</th>\n",
       "      <th>aggregated_weight</th>\n",
       "      <th>agg_raw</th>\n",
       "      <th>n_features</th>\n",
       "      <th>top_features</th>\n",
       "    </tr>\n",
       "  </thead>\n",
       "  <tbody>\n",
       "    <tr>\n",
       "      <th>0</th>\n",
       "      <td>hsa-miR-6729-5p</td>\n",
       "      <td>0.014075</td>\n",
       "      <td>-0.497379</td>\n",
       "      <td>3</td>\n",
       "      <td>num__99, num__71, num__90</td>\n",
       "    </tr>\n",
       "    <tr>\n",
       "      <th>1</th>\n",
       "      <td>hsa-miR-6087</td>\n",
       "      <td>0.011537</td>\n",
       "      <td>-0.224408</td>\n",
       "      <td>3</td>\n",
       "      <td>num__99, num__71, num__90</td>\n",
       "    </tr>\n",
       "    <tr>\n",
       "      <th>2</th>\n",
       "      <td>hsa-miR-4734</td>\n",
       "      <td>0.007556</td>\n",
       "      <td>-0.173915</td>\n",
       "      <td>3</td>\n",
       "      <td>num__99, num__71, num__90</td>\n",
       "    </tr>\n",
       "    <tr>\n",
       "      <th>3</th>\n",
       "      <td>hsa-miR-2861</td>\n",
       "      <td>0.007170</td>\n",
       "      <td>-0.339141</td>\n",
       "      <td>3</td>\n",
       "      <td>num__99, num__71, num__90</td>\n",
       "    </tr>\n",
       "    <tr>\n",
       "      <th>4</th>\n",
       "      <td>hsa-miR-7704</td>\n",
       "      <td>0.004836</td>\n",
       "      <td>-0.293968</td>\n",
       "      <td>3</td>\n",
       "      <td>num__99, num__71, num__90</td>\n",
       "    </tr>\n",
       "    <tr>\n",
       "      <th>5</th>\n",
       "      <td>hsa-miR-6895-5p</td>\n",
       "      <td>0.003654</td>\n",
       "      <td>-0.094336</td>\n",
       "      <td>3</td>\n",
       "      <td>num__99, num__71, num__90</td>\n",
       "    </tr>\n",
       "    <tr>\n",
       "      <th>6</th>\n",
       "      <td>hsa-miR-1268a</td>\n",
       "      <td>0.003214</td>\n",
       "      <td>0.003140</td>\n",
       "      <td>3</td>\n",
       "      <td>num__99, num__71, num__90</td>\n",
       "    </tr>\n",
       "    <tr>\n",
       "      <th>7</th>\n",
       "      <td>hsa-miR-3663-3p</td>\n",
       "      <td>0.003198</td>\n",
       "      <td>-0.105186</td>\n",
       "      <td>3</td>\n",
       "      <td>num__99, num__71, num__90</td>\n",
       "    </tr>\n",
       "    <tr>\n",
       "      <th>8</th>\n",
       "      <td>hsa-miR-3665</td>\n",
       "      <td>0.003065</td>\n",
       "      <td>-0.097079</td>\n",
       "      <td>3</td>\n",
       "      <td>num__99, num__71, num__90</td>\n",
       "    </tr>\n",
       "    <tr>\n",
       "      <th>9</th>\n",
       "      <td>hsa-miR-6090</td>\n",
       "      <td>0.003022</td>\n",
       "      <td>-0.180249</td>\n",
       "      <td>3</td>\n",
       "      <td>num__99, num__71, num__90</td>\n",
       "    </tr>\n",
       "  </tbody>\n",
       "</table>\n",
       "</div>"
      ],
      "text/plain": [
       "             miRNA  aggregated_weight   agg_raw  n_features  \\\n",
       "0  hsa-miR-6729-5p           0.014075 -0.497379           3   \n",
       "1     hsa-miR-6087           0.011537 -0.224408           3   \n",
       "2     hsa-miR-4734           0.007556 -0.173915           3   \n",
       "3     hsa-miR-2861           0.007170 -0.339141           3   \n",
       "4     hsa-miR-7704           0.004836 -0.293968           3   \n",
       "5  hsa-miR-6895-5p           0.003654 -0.094336           3   \n",
       "6    hsa-miR-1268a           0.003214  0.003140           3   \n",
       "7  hsa-miR-3663-3p           0.003198 -0.105186           3   \n",
       "8     hsa-miR-3665           0.003065 -0.097079           3   \n",
       "9     hsa-miR-6090           0.003022 -0.180249           3   \n",
       "\n",
       "                top_features  \n",
       "0  num__99, num__71, num__90  \n",
       "1  num__99, num__71, num__90  \n",
       "2  num__99, num__71, num__90  \n",
       "3  num__99, num__71, num__90  \n",
       "4  num__99, num__71, num__90  \n",
       "5  num__99, num__71, num__90  \n",
       "6  num__99, num__71, num__90  \n",
       "7  num__99, num__71, num__90  \n",
       "8  num__99, num__71, num__90  \n",
       "9  num__99, num__71, num__90  "
      ]
     },
     "execution_count": 57,
     "metadata": {},
     "output_type": "execute_result"
    }
   ],
   "source": [
    "shap_df = top_features_for_instance(\n",
    "    shap_values, feature_names, idx,\n",
    "    N=50, class_id=class_id, X_test_pre=X_test_pre\n",
    ")\n",
    "\n",
    "mirna_detailed = mirna_explain(shap_df, mapping_df, top_k_feat_per_mirna=3)\n",
    "\n",
    "mirna_detailed.head(10)\n"
   ]
  }
 ],
 "metadata": {
  "kernelspec": {
   "display_name": "base",
   "language": "python",
   "name": "python3"
  },
  "language_info": {
   "codemirror_mode": {
    "name": "ipython",
    "version": 3
   },
   "file_extension": ".py",
   "mimetype": "text/x-python",
   "name": "python",
   "nbconvert_exporter": "python",
   "pygments_lexer": "ipython3",
   "version": "3.11.7"
  }
 },
 "nbformat": 4,
 "nbformat_minor": 5
}
