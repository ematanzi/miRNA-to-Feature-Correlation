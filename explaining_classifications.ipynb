{
 "cells": [
  {
   "cell_type": "markdown",
   "id": "b0263b26",
   "metadata": {},
   "source": [
    "## Pre-processing"
   ]
  },
  {
   "cell_type": "markdown",
   "id": "5466d410",
   "metadata": {},
   "source": [
    "### Installing requirements"
   ]
  },
  {
   "cell_type": "code",
   "execution_count": null,
   "id": "24d3e9e6",
   "metadata": {},
   "outputs": [],
   "source": [
    "pip install -r requirements.txt"
   ]
  },
  {
   "cell_type": "markdown",
   "id": "857c151f",
   "metadata": {},
   "source": [
    "### Extracting matrices"
   ]
  },
  {
   "cell_type": "markdown",
   "id": "f48f9916",
   "metadata": {},
   "source": [
    "#### Extracting dataframes from .csv files"
   ]
  },
  {
   "cell_type": "code",
   "execution_count": 2,
   "id": "863f301e",
   "metadata": {},
   "outputs": [],
   "source": [
    "import pandas as pd\n",
    "\n",
    "def extract_matrix_from_csv(file_path):\n",
    "    df = pd.read_csv(file_path, header=None)\n",
    "    matrix = df.values\n",
    "    return matrix\n",
    "\n",
    "def save_matrix_to_csv(matrix, output_path):\n",
    "    df = pd.DataFrame(matrix)\n",
    "    df.to_csv(output_path, index=False, header=False)"
   ]
  },
  {
   "cell_type": "code",
   "execution_count": 3,
   "id": "0d4d08e7",
   "metadata": {},
   "outputs": [
    {
     "name": "stderr",
     "output_type": "stream",
     "text": [
      "C:\\Users\\e1204\\AppData\\Local\\Temp\\ipykernel_23004\\32011830.py:4: DtypeWarning: Columns (1,2,3,4,5,6,7,8,9,10,11,12,13,14,15,16,17,18,19,20,21,22,23,24,25,26,27,28,29,30,31,32,33,34,35,36,37,38,39,40,41,42,43,44,45,46,47,48,49,50,51,52,53,54,55,56,57,58,59,60,61,62,63,64,65,66,67,68,69,70,71,72,73,74,75,76,77,78,79,80,81,82,83,84,85,86,87,88,89,90,91,92,93,94,95,96,97,98,99,100,101,102,103,104,105,106,107,108,109,110,111,112,113,114,115,116,117,118,119,120,121,122,123,124,125,126,127,128,129,130,131,132,133,134,135,136,137,138,139,140,141,142,143,144,145,146,147,148,149,150,151,152,153,154,155,156,157,158,159,160,161,162,163,164,165,166,167,168,169,170,171,172,173,174,175,176,177,178,179,180,181,182,183,184,185,186,187,188,189,190,191,192,193,194,195,196,197,198,199,200,201,202,203,204,205,206,207,208,209,210,211,212,213,214,215,216,217,218,219,220,221,222,223,224,225,226,227,228,229,230,231,232,233,234,235,236,237,238,239,240,241,242,243,244,245,246,247,248,249,250,251,252,253,254,255,256,257,258,259,260,261,262,263,264,265,266,267,268,269,270,271,272,273,274,275,276,277,278,279,280,281,282,283,284,285,286,287,288,289,290,291,292,293,294,295,296,297,298,299,300,301,302,303,304,305,306,307,308,309,310,311,312,313,314,315,316,317,318,319,320,321,322,323,324,325,326,327,328,329,330,331,332,333,334,335,336,337,338,339,340,341,342,343,344,345,346,347,348,349,350,351,352,353,354,355,356,357,358,359,360,361,362,363,364,365,366,367,368,369,370,371,372,373,374,375,376,377,378,379,380,381,382,383,384,385,386,387,388,389,390,391,392,393,394,395,396,397,398,399,400,401,402,403,404,405,406,407,408,409,410,411,412,413,414,415,416,417,418,419,420,421,422,423,424,425,426,427,428,429,430,431,432,433,434,435,436,437,438,439,440,441,442,443,444,445,446,447,448,449,450,451,452,453,454,455,456,457,458,459,460,461,462,463,464,465,466,467,468,469,470,471,472,473,474,475,476,477,478,479,480,481,482,483,484,485,486,487,488,489,490,491,492,493,494,495,496,497,498,499,500,501,502,503,504,505,506,507,508,509,510,511,512,513,514,515,516,517,518,519,520,521,522,523,524,525,526,527,528,529,530,531,532,533,534,535,536,537,538,539,540,541,542,543,544,545,546,547,548,549,550,551,552,553,554,555,556,557,558,559,560,561,562,563,564,565,566,567,568,569,570,571,572,573,574,575,576,577,578,579,580,581,582,583,584,585,586,587,588,589,590,591,592,593,594,595,596,597,598,599,600,601,602,603,604,605,606,607,608,609,610,611,612,613,614,615,616,617,618,619,620,621,622,623,624,625,626,627,628,629,630,631,632,633,634,635,636,637,638,639,640,641,642,643,644,645,646,647,648,649,650,651,652,653,654,655,656,657,658,659,660,661,662,663,664,665,666,667,668,669,670,671,672,673,674,675,676,677,678,679,680,681,682,683,684,685,686,687,688,689,690,691,692,693,694,695,696,697,698,699,700,701,702,703,704,705,706,707,708,709,710,711,712,713,714,715,716,717,718,719,720,721,722,723,724,725,726,727,728,729,730,731,732,733,734,735,736,737,738,739,740,741,742,743,744,745,746,747,748,749,750,751,752,753,754,755,756,757,758,759,760,761,762,763,764,765,766,767,768,769,770,771,772,773,774,775,776,777,778,779,780,781,782,783,784,785,786,787,788,789,790,791,792,793,794,795,796,797,798,799,800,801,802,803,804,805,806,807,808,809,810,811,812,813,814,815,816,817,818,819,820,821,822,823,824,825,826,827,828,829,830,831,832,833,834,835,836,837,838,839,840,841,842,843,844,845,846,847,848,849,850,851,852,853,854,855,856,857,858,859,860,861,862,863,864,865,866,867,868,869,870,871,872,873,874,875,876,877,878,879,880,881,882,883,884,885,886,887,888,889,890,891,892,893,894,895,896,897,898,899,900,901,902,903,904,905,906,907,908,909,910,911,912,913,914,915,916,917,918,919,920,921,922,923,924,925,926,927,928,929,930,931,932,933,934,935,936,937,938,939,940,941,942,943,944,945,946,947,948,949,950,951,952,953,954,955,956,957,958,959,960,961,962,963,964,965,966,967,968,969,970,971,972,973,974,975,976,977,978,979,980,981,982,983,984,985,986,987,988,989,990,991,992,993,994,995,996,997,998,999,1000,1001,1002,1003,1004,1005,1006,1007,1008,1009,1010,1011,1012,1013,1014,1015,1016,1017,1018,1019,1020,1021,1022,1023,1024,1025,1026,1027,1028,1029,1030,1031,1032,1033,1034,1035,1036,1037,1038,1039,1040,1041,1042,1043,1044,1045,1046,1047,1048,1049,1050,1051,1052,1053,1054,1055,1056,1057,1058,1059,1060,1061,1062,1063,1064,1065,1066,1067,1068,1069,1070,1071,1072,1073,1074,1075,1076,1077,1078,1079,1080,1081,1082,1083,1084,1085,1086,1087,1088,1089,1090,1091,1092,1093,1094,1095,1096,1097,1098,1099,1100,1101,1102,1103,1104,1105,1106,1107,1108,1109,1110,1111,1112,1113,1114,1115,1116,1117,1118,1119,1120,1121,1122,1123,1124,1125,1126,1127,1128,1129,1130,1131,1132,1133,1134,1135,1136,1137,1138,1139,1140,1141,1142,1143,1144,1145,1146,1147,1148,1149,1150,1151,1152,1153,1154,1155,1156,1157,1158,1159,1160,1161,1162,1163,1164,1165,1166,1167,1168,1169,1170,1171,1172,1173,1174,1175,1176,1177,1178,1179,1180,1181,1182,1183,1184,1185,1186,1187,1188,1189,1190,1191,1192,1193,1194,1195,1196,1197,1198,1199,1200,1201,1202,1203,1204,1205,1206,1207,1208,1209,1210,1211,1212,1213,1214,1215,1216,1217,1218,1219,1220,1221,1222,1223,1224,1225,1226,1227,1228,1229,1230,1231,1232,1233,1234,1235,1236,1237,1238,1239,1240,1241,1242,1243,1244,1245,1246,1247,1248,1249,1250,1251,1252,1253,1254,1255,1256,1257,1258,1259,1260,1261,1262,1263,1264,1265,1266,1267,1268,1269,1270,1271,1272,1273,1274,1275,1276,1277,1278,1279,1280,1281,1282,1283,1284,1285,1286,1287,1288,1289,1290,1291,1292,1293,1294,1295,1296,1297,1298,1299,1300,1301,1302,1303,1304,1305,1306,1307,1308,1309,1310,1311,1312,1313,1314,1315,1316,1317,1318,1319,1320,1321,1322,1323,1324,1325,1326,1327,1328,1329,1330,1331,1332,1333,1334,1335,1336,1337,1338,1339,1340,1341,1342,1343,1344,1345,1346,1347,1348,1349,1350,1351,1352,1353,1354,1355,1356,1357,1358,1359,1360,1361,1362,1363,1364,1365,1366,1367,1368,1369,1370,1371,1372,1373,1374,1375,1376,1377,1378,1379,1380,1381,1382,1383,1384,1385,1386,1387,1388,1389,1390,1391,1392,1393,1394,1395,1396,1397,1398,1399,1400,1401,1402,1403,1404,1405,1406,1407,1408,1409,1410,1411,1412,1413,1414,1415,1416,1417,1418,1419,1420,1421,1422,1423,1424,1425,1426,1427,1428,1429,1430,1431,1432,1433,1434,1435,1436,1437,1438,1439,1440,1441,1442,1443,1444,1445,1446,1447,1448,1449,1450,1451,1452,1453,1454,1455,1456,1457,1458,1459,1460,1461,1462,1463,1464,1465,1466,1467,1468,1469,1470,1471,1472,1473,1474,1475,1476,1477,1478,1479,1480,1481,1482,1483,1484,1485,1486,1487,1488,1489,1490,1491,1492,1493,1494,1495,1496,1497,1498,1499,1500,1501,1502,1503,1504,1505,1506,1507,1508,1509,1510,1511,1512,1513,1514,1515,1516,1517,1518,1519,1520,1521,1522,1523,1524,1525,1526,1527,1528,1529,1530,1531,1532,1533,1534,1535,1536,1537,1538,1539,1540,1541,1542,1543,1544,1545,1546,1547,1548,1549,1550,1551,1552,1553,1554,1555,1556,1557,1558,1559,1560,1561,1562,1563,1564,1565,1566,1567,1568,1569,1570,1571,1572,1573,1574,1575,1576,1577,1578,1579,1580,1581,1582,1583,1584,1585,1586,1587,1588,1589,1590,1591,1592,1593,1594,1595,1596,1597,1598,1599,1600,1601,1602,1603,1604,1605,1606,1607,1608,1609,1610,1611,1612,1613,1614,1615,1616,1617,1618,1619,1620,1621,1622,1623,1624,1625,1626,1627,1628,1629,1630,1631,1632,1633,1634,1635,1636,1637,1638,1639,1640,1641,1642,1643,1644,1645,1646,1647,1648,1649,1650,1651,1652,1653,1654,1655,1656,1657,1658,1659,1660,1661,1662,1663,1664,1665,1666,1667,1668,1669,1670,1671,1672,1673,1674,1675,1676,1677,1678,1679,1680,1681,1682,1683,1684,1685,1686,1687,1688,1689,1690,1691,1692,1693,1694,1695,1696,1697,1698,1699,1700,1701,1702,1703,1704,1705,1706,1707,1708,1709,1710,1711,1712,1713,1714,1715,1716,1717,1718,1719,1720,1721,1722,1723,1724,1725,1726,1727,1728,1729,1730,1731,1732,1733,1734,1735,1736,1737,1738,1739,1740,1741,1742,1743,1744,1745,1746,1747,1748,1749,1750,1751,1752,1753,1754,1755,1756,1757,1758,1759,1760,1761,1762,1763,1764,1765,1766,1767,1768,1769,1770,1771,1772,1773,1774,1775,1776,1777,1778,1779,1780,1781,1782,1783,1784,1785,1786,1787,1788,1789,1790,1791,1792,1793,1794,1795,1796,1797,1798,1799,1800,1801,1802,1803,1804,1805,1806,1807,1808,1809,1810,1811,1812,1813,1814,1815,1816,1817,1818,1819,1820,1821,1822,1823,1824,1825,1826,1827,1828,1829,1830,1831,1832,1833,1834,1835,1836,1837,1838,1839,1840,1841,1842,1843,1844,1845,1846,1847,1848,1849,1850,1851,1852,1853,1854,1855,1856,1857,1858,1859,1860,1861,1862,1863,1864,1865,1866,1867,1868,1869,1870,1871,1872,1873,1874,1875,1876,1877,1878,1879,1880,1881,1882,1883,1884,1885,1886,1887,1888,1889,1890,1891,1892,1893,1894,1895,1896,1897,1898,1899,1900,1901,1902,1903,1904,1905,1906,1907,1908,1909,1910,1911,1912,1913,1914,1915,1916,1917,1918,1919,1920,1921,1922,1923,1924,1925,1926,1927,1928,1929,1930,1931,1932,1933,1934,1935,1936,1937,1938,1939,1940,1941,1942,1943,1944,1945,1946,1947,1948,1949,1950,1951,1952,1953,1954,1955,1956,1957,1958,1959,1960,1961,1962,1963,1964,1965,1966,1967,1968,1969,1970,1971,1972,1973,1974,1975,1976,1977,1978,1979,1980,1981,1982,1983,1984,1985,1986,1987,1988,1989,1990,1991,1992,1993,1994,1995,1996,1997,1998,1999,2000,2001,2002,2003,2004,2005,2006,2007,2008,2009,2010,2011,2012,2013,2014,2015,2016,2017,2018,2019,2020,2021,2022,2023,2024,2025,2026,2027,2028,2029,2030,2031,2032,2033,2034,2035,2036,2037,2038,2039,2040,2041,2042,2043,2044,2045,2046,2047,2048,2049,2050,2051,2052,2053,2054,2055,2056,2057,2058,2059,2060,2061,2062,2063,2064,2065,2066,2067,2068,2069,2070,2071,2072,2073,2074,2075,2076,2077,2078,2079,2080,2081,2082,2083,2084,2085,2086,2087,2088,2089,2090,2091,2092,2093,2094,2095,2096,2097,2098,2099,2100,2101,2102,2103,2104,2105,2106,2107,2108,2109,2110,2111,2112,2113,2114,2115,2116,2117,2118,2119,2120,2121,2122,2123,2124,2125,2126,2127,2128,2129,2130,2131,2132,2133,2134,2135,2136,2137,2138,2139,2140,2141,2142,2143,2144,2145,2146,2147,2148,2149,2150,2151,2152,2153,2154,2155,2156,2157,2158,2159,2160,2161,2162,2163,2164,2165,2166,2167,2168,2169,2170,2171,2172,2173,2174,2175,2176,2177,2178,2179,2180,2181,2182,2183,2184,2185,2186,2187,2188,2189,2190,2191,2192,2193,2194,2195,2196,2197,2198,2199,2200,2201,2202,2203,2204,2205,2206,2207,2208,2209,2210,2211,2212,2213,2214,2215,2216,2217,2218,2219,2220,2221,2222,2223,2224,2225,2226,2227,2228,2229,2230,2231,2232,2233,2234,2235,2236,2237,2238,2239,2240,2241,2242,2243,2244,2245,2246,2247,2248,2249,2250,2251,2252,2253,2254,2255,2256,2257,2258,2259,2260,2261,2262,2263,2264,2265,2266,2267,2268,2269,2270,2271,2272,2273,2274,2275,2276,2277,2278,2279,2280,2281,2282,2283,2284,2285,2286,2287,2288,2289,2290,2291,2292,2293,2294,2295,2296,2297,2298,2299,2300,2301,2302,2303,2304,2305,2306,2307,2308,2309,2310,2311,2312,2313,2314,2315,2316,2317,2318,2319,2320,2321,2322,2323,2324,2325,2326,2327,2328,2329,2330,2331,2332,2333,2334,2335,2336,2337,2338,2339,2340,2341,2342,2343,2344,2345,2346,2347,2348,2349,2350,2351,2352,2353,2354,2355,2356,2357,2358,2359,2360,2361,2362,2363,2364,2365,2366,2367,2368,2369,2370,2371,2372,2373,2374,2375,2376,2377,2378,2379,2380,2381,2382,2383,2384,2385,2386,2387,2388,2389,2390,2391,2392,2393,2394,2395,2396,2397,2398,2399,2400,2401,2402,2403,2404,2405,2406,2407,2408,2409,2410,2411,2412,2413,2414,2415,2416,2417,2418,2419,2420,2421,2422,2423,2424,2425,2426,2427,2428,2429,2430,2431,2432,2433,2434,2435,2436,2437,2438,2439,2440,2441,2442,2443,2444,2445,2446,2447,2448,2449,2450,2451,2452,2453,2454,2455,2456,2457,2458,2459,2460,2461,2462,2463,2464,2465,2466,2467,2468,2469,2470,2471,2472,2473,2474,2475,2476,2477,2478,2479,2480,2481,2482,2483,2484,2485,2486,2487,2488,2489,2490,2491,2492,2493,2494,2495,2496,2497,2498,2499,2500,2501,2502,2503,2504,2505,2506,2507,2508,2509,2510,2511,2512,2513,2514,2515,2516,2517,2518,2519,2520,2521,2522,2523,2524,2525,2526,2527,2528,2529,2530,2531,2532,2533,2534,2535,2536,2537,2538,2539,2540,2541,2542,2543,2544,2545,2546,2547,2548,2549,2550,2551,2552,2553,2554,2555,2556,2557,2558,2559,2560,2561,2562,2563,2564,2565,2566,2567,2568,2569,2570,2571,2572,2573,2574,2575,2576,2577,2578,2579,2580,2581,2582,2583,2584,2585,2587,2589,2591,2592,2593,2594,2595,2596,2597,2598,2599,2600,2601,2602,2603,2604,2605,2606,2607,2608,2609) have mixed types. Specify dtype option on import or set low_memory=False.\n",
      "  df = pd.read_csv(file_path, header=None)\n"
     ]
    }
   ],
   "source": [
    "df_concat_final = extract_matrix_from_csv('data/raw/df_concat_final.csv')\n",
    "\n",
    "feature_imporance_prod_final = extract_matrix_from_csv('data/raw/feature_importance_prod_final.csv')\n",
    "\n",
    "graph_embeddings = extract_matrix_from_csv('data/raw/graph_embeddings.csv')\n",
    "\n",
    "subj_embeddings_train = extract_matrix_from_csv('data/raw/subj_embeddings_train.csv')"
   ]
  },
  {
   "cell_type": "markdown",
   "id": "401d2bf5",
   "metadata": {},
   "source": [
    "#### Extracting P from subj_embeddings_train.csv"
   ]
  },
  {
   "cell_type": "code",
   "execution_count": 4,
   "id": "d1877f8a",
   "metadata": {},
   "outputs": [],
   "source": [
    "P_df = pd.read_csv('data/raw/subj_embeddings_train.csv')\n",
    "\n",
    "# save the values of the first column as a list\n",
    "P_patients = P_df.iloc[:, 0].tolist()\n",
    "\n",
    "# compute P as the ndarray of df\n",
    "P = P_df.values[:, 1:]"
   ]
  },
  {
   "cell_type": "markdown",
   "id": "9d80be3c",
   "metadata": {},
   "source": [
    "#### Extract X from df_concat_final.csv\n",
    "\n",
    "Here, since df_concat_final.csv also contains some personal information of the patients, not associated to their genetic information, we save them in a separated file, before removing them to obtain a matrix that is coherent with the others."
   ]
  },
  {
   "cell_type": "code",
   "execution_count": 5,
   "id": "86da3fa5",
   "metadata": {},
   "outputs": [],
   "source": [
    "X_df = pd.read_csv('data/raw/df_concat_final.csv') \n",
    "\n",
    "# rename the first column of df\n",
    "X_df.rename(columns={X_df.columns[0]: 'patient_id'}, inplace=True)\n",
    "\n",
    "patient_info_list = ['patient_id', 'country', 'age', 'sex', 'sex', 'apoe4', 'disease']\n",
    "\n",
    "X_df_subset = X_df[patient_info_list]\n",
    "\n",
    "# remove the extra column named 'sex' (there are two columns with the same name and same values)\n",
    "X_df_subset = X_df_subset.loc[:, ~X_df_subset.columns.duplicated()]\n",
    "\n",
    "# create a file containing only patient information (could be useful in a further analysis)\n",
    "X_df_subset.to_csv('data/result/patient_info.csv', index=False)"
   ]
  },
  {
   "cell_type": "code",
   "execution_count": 6,
   "id": "267aa3b4",
   "metadata": {},
   "outputs": [],
   "source": [
    "# save the values of the first column as a list\n",
    "X_patients = X_df_subset.iloc[:, 0].tolist()\n",
    "\n",
    "# remove the columns in df being in patient_info_list\n",
    "X_df = X_df.drop(columns=patient_info_list)\n",
    "\n",
    "# save the names of the remaining columns as a list\n",
    "X_features = X_df_subset.columns[1:].tolist()\n",
    "\n",
    "# get the list of columns containing at least one NaN value\n",
    "nan_columns = X_df.columns[X_df.isnull().any()].tolist()\n",
    "\n",
    "# save the column names in df being in nan_columns in a list\n",
    "nan_columns_list = nan_columns.copy()\n",
    "\n",
    "# remove the columns in df being in nan_columns\n",
    "X_df = X_df.drop(columns=nan_columns)\n",
    "\n",
    "X = X_df.values\n",
    "\n",
    "# save the column names in df not being in nan_columns in a list\n",
    "X_miRNA = X_df.columns.tolist()"
   ]
  },
  {
   "cell_type": "markdown",
   "id": "af014a03",
   "metadata": {},
   "source": [
    "#### Extract H from graph_embeddings.csv"
   ]
  },
  {
   "cell_type": "code",
   "execution_count": 7,
   "id": "b19015e1",
   "metadata": {},
   "outputs": [
    {
     "name": "stdout",
     "output_type": "stream",
     "text": [
      "set()\n"
     ]
    }
   ],
   "source": [
    "df_ge = pd.read_csv('data/raw/graph_embeddings.csv')\n",
    "df_cf = pd.read_csv('data/raw/df_concat_final.csv')\n",
    "\n",
    "# extract the column names from df_cf\n",
    "column_names = df_cf.columns.tolist()\n",
    "\n",
    "# remove 'Unnamed: 0' from the list of column names\n",
    "if 'Unnamed: 0' in column_names:\n",
    "    column_names.remove('Unnamed: 0')\n",
    "\n",
    "# check if there any duplicate column names in column_names\n",
    "duplicate_columns = set([x for x in column_names if column_names.count(x) > 1])\n",
    "print(duplicate_columns)\n",
    "\n",
    "# delete all the rows in df_ge where 'Unnamed: 0' is not equal to a value in column_names\n",
    "df_ge = df_ge[df_ge['Unnamed: 0'].isin(column_names)]       # this will keep only the rows where the patient identifier is in column_names\n",
    "\n",
    "# check if there are any rows in ge with the same 'Unnamed: 0' value\n",
    "duplicates = df_ge.duplicated(subset=['Unnamed: 0'], keep=False)\n",
    "\n",
    "# delete the rows in df_ge where 'Unnamed: 0' is duplicated\n",
    "df_ge = df_ge[~duplicates]\n",
    "df_ge = df_ge.reset_index(drop=True)\n",
    "\n",
    "# delete the rows in df_ge where 'Unnamed: 0' is a value in nan_columns_list\n",
    "df_ge = df_ge[~df_ge['Unnamed: 0'].isin(nan_columns_list)]\n",
    "\n",
    "H = df_ge.drop(columns=['Unnamed: 0']).values"
   ]
  },
  {
   "cell_type": "code",
   "execution_count": 8,
   "id": "b1963628",
   "metadata": {},
   "outputs": [],
   "source": [
    "# save the values of the first column as a list\n",
    "row_names_list = df_ge.iloc[:, 0].tolist()\n",
    "\n",
    "H_miRNA = row_names_list.copy()"
   ]
  },
  {
   "cell_type": "markdown",
   "id": "5feb8937",
   "metadata": {},
   "source": [
    "#### Extracting the feature importance from feature_importance_prod_final.csv"
   ]
  },
  {
   "cell_type": "code",
   "execution_count": 10,
   "id": "35ab9cca",
   "metadata": {},
   "outputs": [],
   "source": [
    "fi_df = pd.read_csv('data/raw/feature_importance_prod_final.csv')\n",
    "\n",
    "# sort the dataframe by the integer values of the column \"Feature\"\n",
    "fi_df['Feature'] = fi_df['Feature'].astype(int)\n",
    "fi_df = fi_df.sort_values(by='Feature')\n",
    "\n",
    "# remove the \"Importance\" column\n",
    "fi_df = fi_df.drop(columns=['Importance'])\n",
    "\n",
    "# obtain a new .csv file with the sorted dataframe\n",
    "fi_df.to_csv('data/result/feature_importance_sorted.csv', index=False)\n",
    "\n",
    "feature_importance = fi_df.values[:, 1:]  # Exclude the 'Feature' column"
   ]
  },
  {
   "cell_type": "markdown",
   "id": "d2efd006",
   "metadata": {},
   "source": [
    "#### Verifying correctness in matrix creation"
   ]
  },
  {
   "cell_type": "code",
   "execution_count": 11,
   "id": "7d4f7260",
   "metadata": {},
   "outputs": [
    {
     "name": "stdout",
     "output_type": "stream",
     "text": [
      "(1256, 128)\n",
      "(1256, 2558)\n",
      "(2558, 128)\n"
     ]
    }
   ],
   "source": [
    "print(P.shape)\n",
    "print(X.shape)\n",
    "print(H.shape)"
   ]
  },
  {
   "cell_type": "code",
   "execution_count": 12,
   "id": "b7096962",
   "metadata": {},
   "outputs": [
    {
     "name": "stdout",
     "output_type": "stream",
     "text": [
      "X_miRNA and H_miRNA are the same.\n",
      "P_patients and X_patients are the same.\n"
     ]
    }
   ],
   "source": [
    "# check if X_miRNA and H_miRNA are the same\n",
    "if X_miRNA == H_miRNA:\n",
    "    print(\"X_miRNA and H_miRNA are the same.\")\n",
    "else:\n",
    "    print(\"X_miRNA and H_miRNA are different.\")\n",
    "\n",
    "# check if P_patients and X_patients are the same\n",
    "if P_patients == X_patients:\n",
    "    print(\"P_patients and X_patients are the same.\")\n",
    "else:\n",
    "    print(\"P_patients and X_patients are different.\")"
   ]
  },
  {
   "cell_type": "markdown",
   "id": "ec4fd3a0",
   "metadata": {},
   "source": [
    "#### Checking the fact that P is not actually the product between X and H\n",
    "\n",
    "but scaling with StandardScaler will allow us to check the true relationship between matrices."
   ]
  },
  {
   "cell_type": "code",
   "execution_count": 17,
   "id": "14eadb79",
   "metadata": {},
   "outputs": [
    {
     "name": "stdout",
     "output_type": "stream",
     "text": [
      "R² global  : -107920739.21457087\n",
      "MSE global : 1554301.665152844\n"
     ]
    }
   ],
   "source": [
    "import numpy as np\n",
    "from sklearn.metrics import r2_score, mean_squared_error\n",
    "from sklearn.preprocessing import StandardScaler\n",
    "from numpy.linalg import pinv\n",
    "\n",
    "P_hat = X @ H                           # n_paz × 128\n",
    "R2_global = r2_score(P.ravel(), P_hat.ravel())\n",
    "MSE_global = mean_squared_error(P, P_hat)\n",
    "\n",
    "print(\"R² global  :\", R2_global)\n",
    "print(\"MSE global :\", MSE_global)\n"
   ]
  },
  {
   "cell_type": "code",
   "execution_count": 18,
   "id": "3e3ac5a4",
   "metadata": {},
   "outputs": [],
   "source": [
    "scaler_X = StandardScaler().fit(X)\n",
    "scaler_P = StandardScaler().fit(P)\n",
    "\n",
    "Xz = scaler_X.transform(X)    # shape (n, m)\n",
    "Pz = scaler_P.transform(P)    # shape (n, 128)"
   ]
  },
  {
   "cell_type": "code",
   "execution_count": 19,
   "id": "c6c38439",
   "metadata": {},
   "outputs": [
    {
     "name": "stdout",
     "output_type": "stream",
     "text": [
      "R² pseudo-inverse: 1.0\n"
     ]
    }
   ],
   "source": [
    "W_pinv = pinv(Xz) @ Pz        # shape (m, 128)  (m = n° miRNA)\n",
    "P_hat  = Xz @ W_pinv          # rebuilding P from X\n",
    "\n",
    "r2_pinv = r2_score(Pz.ravel(), P_hat.ravel())\n",
    "print(\"R² pseudo-inverse:\", r2_pinv)"
   ]
  },
  {
   "cell_type": "markdown",
   "id": "3e1169e5",
   "metadata": {},
   "source": [
    "## Estimation of the correlation between miRNA expressions and extracted features"
   ]
  },
  {
   "cell_type": "markdown",
   "id": "9064dfb0",
   "metadata": {},
   "source": [
    "### Lasso coefficients computation\n",
    "\n",
    "Why Lasso on the entire dataset?\n",
    "\n",
    "* The method for obtaining the 128 genetic features for each patient already exists; we are not interested in evaluating its ability to use the starting miRNAs to obtain the features. We just need a mapping between the correspondences found between patients and the features and measurements of the miRNA expressions of the patients themselves.\n",
    "\n",
    "* Lasso is able to return a mapping corresponding to a sparse matrix, which is very useful in our case for highlighting weaker relationships that can be neglected in order to reduce the number of features, understood as columns of the dataset."
   ]
  },
  {
   "cell_type": "markdown",
   "id": "eedf23ef",
   "metadata": {},
   "source": [
    "#### Identifying the most important features to reduce dataset dimensionality"
   ]
  },
  {
   "cell_type": "code",
   "execution_count": 20,
   "id": "9f67f475",
   "metadata": {},
   "outputs": [],
   "source": [
    "import os\n",
    "import numpy as np\n",
    "from sklearn.linear_model import LassoCV\n",
    "from tqdm import tqdm"
   ]
  },
  {
   "cell_type": "code",
   "execution_count": 21,
   "id": "20a4b022",
   "metadata": {},
   "outputs": [
    {
     "name": "stdout",
     "output_type": "stream",
     "text": [
      "\n",
      "Eseguo Lasso per le feature da posizione 0 a 19:\n"
     ]
    },
    {
     "name": "stderr",
     "output_type": "stream",
     "text": [
      "Batch Lasso: 100%|██████████| 20/20 [39:14<00:00, 117.70s/feature]\n"
     ]
    },
    {
     "name": "stdout",
     "output_type": "stream",
     "text": [
      "✔️ Coefficienti salvati (range 0-19) in: data/result/lasso_coefficients_incremental.csv\n"
     ]
    }
   ],
   "source": [
    "start = 0   # Initial feature index (included)\n",
    "end = 20    # final feature index (not included)\n",
    "\n",
    "# extracting the top features based on the feature importance in a previous classification\n",
    "importance_df = pd.read_csv(\"data/result/feature_importance_sorted.csv\")\n",
    "importance_df = importance_df.sort_values(by=\"Normalized_Importance\", ascending=False)\n",
    "top_features = importance_df[\"Feature\"].values  \n",
    "\n",
    "selected_features = top_features[start:end]\n",
    "batch_k = len(selected_features)\n",
    "\n",
    "scaler_X = StandardScaler()\n",
    "scaler_P = StandardScaler()\n",
    "X_scaled = scaler_X.fit_transform(X)\n",
    "P_scaled = scaler_P.fit_transform(P)\n",
    "\n",
    "coeff_matrix = np.zeros((batch_k, X.shape[1]))\n",
    "\n",
    "print(f\"\\nEseguo Lasso per le feature da posizione {start} a {end - 1}:\")\n",
    "for i, feat_idx in tqdm(enumerate(selected_features), total=batch_k, desc=\"Batch Lasso\", unit=\"feature\"):\n",
    "    y = P_scaled[:, feat_idx]\n",
    "    lasso = LassoCV(cv=5, max_iter=10000)\n",
    "    lasso.fit(X_scaled, y)\n",
    "    coeff_matrix[i, :] = lasso.coef_\n",
    "\n",
    "coeff_df = pd.DataFrame(\n",
    "    coeff_matrix,\n",
    "    index=[f\"Feature_{i}\" for i in selected_features],\n",
    "    columns=row_names_list  \n",
    ")\n",
    "\n",
    "output_path = \"data/result/lasso_coefficients_incremental.csv\"\n",
    "\n",
    "if os.path.exists(output_path):\n",
    "    existing = pd.read_csv(output_path, index_col=0)\n",
    "    combined = pd.concat([existing, coeff_df])\n",
    "    combined.to_csv(output_path)\n",
    "else:\n",
    "    coeff_df.to_csv(output_path)\n",
    "\n",
    "print(f\"✔️ Coefficienti salvati (range {start}-{end-1}) in: {output_path}\")\n"
   ]
  },
  {
   "cell_type": "markdown",
   "id": "946af349",
   "metadata": {},
   "source": [
    "#### Re-traning Lasso on the reduced dataset"
   ]
  },
  {
   "cell_type": "code",
   "execution_count": 22,
   "id": "0779d08b",
   "metadata": {},
   "outputs": [],
   "source": [
    "top_k = 300\n",
    "\n",
    "coeff_df = pd.read_csv(\"data/result/lasso_coefficients_incremental.csv\", index_col=0)\n",
    "\n",
    "miRNA_influenza = coeff_df.abs().sum(axis=0) \n",
    "\n",
    "miRNA_ranked = miRNA_influenza.sort_values(ascending=False)\n",
    "miRNA_keep = miRNA_ranked.head(top_k).index.tolist()"
   ]
  },
  {
   "cell_type": "code",
   "execution_count": 23,
   "id": "01d9c63e",
   "metadata": {},
   "outputs": [
    {
     "name": "stdout",
     "output_type": "stream",
     "text": [
      "(1256, 300)\n"
     ]
    }
   ],
   "source": [
    "df_miRNA = pd.read_csv(\"data/raw/df_concat_final.csv\", index_col=0)\n",
    "\n",
    "miRNA_keep_sorted = [m for m in df_miRNA.columns if m in miRNA_keep]\n",
    "\n",
    "df_miRNA_filtered = df_miRNA[miRNA_keep_sorted]\n",
    "\n",
    "df_target = pd.read_csv(\"data/raw/subj_embeddings_train.csv\", index_col=0)\n",
    "\n",
    "print(df_miRNA_filtered.shape)"
   ]
  },
  {
   "cell_type": "code",
   "execution_count": 24,
   "id": "79b0c959",
   "metadata": {},
   "outputs": [
    {
     "name": "stdout",
     "output_type": "stream",
     "text": [
      "\n",
      "Executing Lasso over all the 128 target features:\n"
     ]
    },
    {
     "name": "stderr",
     "output_type": "stream",
     "text": [
      "Lasso regressions: 100%|██████████| 128/128 [02:34<00:00,  1.21s/feature]"
     ]
    },
    {
     "name": "stdout",
     "output_type": "stream",
     "text": [
      "\n",
      " Feature |     R² |        MSE\n",
      "------------------------------\n",
      "       0 |  0.997 |     0.0025\n",
      "       1 |  0.993 |     0.0067\n",
      "       2 |  0.995 |     0.0051\n",
      "       3 |  0.997 |     0.0034\n",
      "       4 |  0.998 |     0.0018\n",
      "       5 |  0.999 |     0.0013\n",
      "       6 |  0.997 |     0.0025\n",
      "       7 |  0.999 |     0.0012\n",
      "       8 |  0.999 |     0.0007\n",
      "       9 |  0.996 |     0.0035\n",
      "      10 |  0.998 |     0.0018\n",
      "      11 |  0.999 |     0.0012\n",
      "      12 |  0.998 |     0.0016\n",
      "      13 |  0.982 |     0.0180\n",
      "      14 |  0.997 |     0.0028\n",
      "      15 |  0.998 |     0.0018\n",
      "      16 |  0.997 |     0.0026\n",
      "      17 |  0.998 |     0.0017\n",
      "      18 |  0.996 |     0.0036\n",
      "      19 |  0.998 |     0.0017\n",
      "      20 |  0.997 |     0.0034\n",
      "      21 |  0.976 |     0.0245\n",
      "      22 |  0.999 |     0.0007\n",
      "      23 |  0.997 |     0.0025\n",
      "      24 |  0.998 |     0.0016\n",
      "      25 |  0.900 |     0.0997\n",
      "      26 |  0.996 |     0.0043\n",
      "      27 |  0.985 |     0.0147\n",
      "      28 |  0.999 |     0.0011\n",
      "      29 |  0.997 |     0.0031\n",
      "      30 |  0.999 |     0.0008\n",
      "      31 |  0.979 |     0.0209\n",
      "      32 |  0.998 |     0.0021\n",
      "      33 |  0.998 |     0.0024\n",
      "      34 |  0.999 |     0.0012\n",
      "      35 |  0.998 |     0.0022\n",
      "      36 |  0.999 |     0.0009\n",
      "      37 |  0.999 |     0.0012\n",
      "      38 |  0.999 |     0.0010\n",
      "      39 |  0.999 |     0.0009\n",
      "      40 |  0.999 |     0.0012\n",
      "      41 |  0.987 |     0.0128\n",
      "      42 |  0.997 |     0.0026\n",
      "      43 |  0.999 |     0.0008\n",
      "      44 |  0.998 |     0.0017\n",
      "      45 |  0.999 |     0.0009\n",
      "      46 |  0.998 |     0.0021\n",
      "      47 |  0.997 |     0.0026\n",
      "      48 |  0.999 |     0.0007\n",
      "      49 |  0.999 |     0.0013\n",
      "      50 |  0.997 |     0.0026\n",
      "      51 |  0.999 |     0.0011\n",
      "      52 |  0.998 |     0.0023\n",
      "      53 |  0.999 |     0.0011\n",
      "      54 |  0.998 |     0.0021\n",
      "      55 |  0.997 |     0.0029\n",
      "      56 |  0.992 |     0.0083\n",
      "      57 |  0.999 |     0.0009\n",
      "      58 |  0.998 |     0.0015\n",
      "      59 |  0.997 |     0.0026\n",
      "      60 |  0.994 |     0.0061\n",
      "      61 |  0.996 |     0.0035\n",
      "      62 |  0.999 |     0.0007\n",
      "      63 |  0.998 |     0.0025\n",
      "      64 |  0.998 |     0.0017\n",
      "      65 |  0.998 |     0.0015\n",
      "      66 |  0.994 |     0.0063\n",
      "      67 |  0.999 |     0.0009\n",
      "      68 |  0.998 |     0.0020\n",
      "      69 |  0.985 |     0.0150\n",
      "      70 |  0.999 |     0.0012\n",
      "      71 |  0.997 |     0.0028\n",
      "      72 |  0.997 |     0.0027\n",
      "      73 |  0.994 |     0.0064\n",
      "      74 |  0.996 |     0.0036\n",
      "      75 |  0.999 |     0.0014\n",
      "      76 |  0.996 |     0.0040\n",
      "      77 |  0.999 |     0.0008\n",
      "      78 |  0.995 |     0.0048\n",
      "      79 |  0.999 |     0.0008\n",
      "      80 |  0.996 |     0.0038\n",
      "      81 |  0.999 |     0.0014\n",
      "      82 |  0.996 |     0.0037\n",
      "      83 |  0.998 |     0.0018\n",
      "      84 |  0.998 |     0.0017\n",
      "      85 |  0.999 |     0.0008\n",
      "      86 |  0.999 |     0.0007\n",
      "      87 |  0.999 |     0.0005\n",
      "      88 |  0.999 |     0.0009\n",
      "      89 |  0.998 |     0.0021\n",
      "      90 |  0.996 |     0.0036\n",
      "      91 |  0.994 |     0.0063\n",
      "      92 |  0.998 |     0.0020\n",
      "      93 |  0.999 |     0.0010\n",
      "      94 |  0.999 |     0.0014\n",
      "      95 |  0.999 |     0.0008\n",
      "      96 |  0.995 |     0.0053\n",
      "      97 |  0.999 |     0.0014\n",
      "      98 |  0.995 |     0.0054\n",
      "      99 |  0.985 |     0.0152\n",
      "     100 |  0.999 |     0.0015\n",
      "     101 |  0.999 |     0.0014\n",
      "     102 |  0.972 |     0.0279\n",
      "     103 |  0.997 |     0.0034\n",
      "     104 |  0.999 |     0.0013\n",
      "     105 |  0.995 |     0.0054\n",
      "     106 |  0.999 |     0.0013\n",
      "     107 |  0.999 |     0.0007\n",
      "     108 |  0.999 |     0.0014\n",
      "     109 |  0.999 |     0.0011\n",
      "     110 |  0.997 |     0.0032\n",
      "     111 |  0.998 |     0.0017\n",
      "     112 |  0.999 |     0.0011\n",
      "     113 |  0.912 |     0.0877\n",
      "     114 |  0.996 |     0.0042\n",
      "     115 |  0.999 |     0.0009\n",
      "     116 |  0.998 |     0.0018\n",
      "     117 |  0.996 |     0.0043\n",
      "     118 |  0.995 |     0.0047\n",
      "     119 |  0.970 |     0.0302\n",
      "     120 |  0.999 |     0.0012\n",
      "     121 |  0.999 |     0.0013\n",
      "     122 |  0.999 |     0.0011\n",
      "     123 |  0.998 |     0.0019\n",
      "     124 |  0.998 |     0.0024\n",
      "     125 |  0.999 |     0.0012\n",
      "     126 |  0.997 |     0.0029\n",
      "     127 |  0.999 |     0.0007\n"
     ]
    },
    {
     "name": "stderr",
     "output_type": "stream",
     "text": [
      "\n"
     ]
    }
   ],
   "source": [
    "# Convert to numpy arrays\n",
    "X = df_miRNA_filtered.values\n",
    "P = df_target.values\n",
    "\n",
    "# Standardize the data\n",
    "scaler_X = StandardScaler()\n",
    "scaler_P = StandardScaler()\n",
    "X_scaled = scaler_X.fit_transform(X)\n",
    "P_scaled = scaler_P.fit_transform(P)\n",
    "\n",
    "n_feat = P.shape[1]\n",
    "coeff_matrix = np.zeros((n_feat, X.shape[1]))\n",
    "\n",
    "print(f\"\\nExecuting Lasso over all the {n_feat} target features:\")\n",
    "for i in tqdm(range(n_feat), desc=\"Lasso regressions\", unit=\"feature\"):\n",
    "    y = P_scaled[:, i]\n",
    "    lasso = LassoCV(cv=5, max_iter=10000)\n",
    "    lasso.fit(X_scaled, y)\n",
    "    coeff_matrix[i, :] = lasso.coef_\n",
    "\n",
    "# save the coefficients to a CSV file\n",
    "coeff_df = pd.DataFrame(coeff_matrix, columns=df_miRNA_filtered.columns, index=[f\"Feature_{i}\" for i in range(n_feat)])\n",
    "coeff_df.to_csv(\"data/result/lasso_coefficients.csv\")\n",
    "\n",
    "# compute R^2 and MSE for each feature\n",
    "print(f\"\\n{'Feature':>8} | {'R²':>6} | {'MSE':>10}\")\n",
    "print(\"-\" * 30)\n",
    "for i in range(n_feat):\n",
    "    y_true = P_scaled[:, i]\n",
    "    y_pred = X_scaled @ coeff_matrix[i, :]\n",
    "    r2 = r2_score(y_true, y_pred)\n",
    "    mse = mean_squared_error(y_true, y_pred)\n",
    "    print(f\"{i:8d} | {r2:6.3f} | {mse:10.4f}\")\n"
   ]
  },
  {
   "cell_type": "markdown",
   "id": "4b6bdf76",
   "metadata": {},
   "source": [
    "#### Reconstructing P starting from lasso_coefficinets.csv"
   ]
  },
  {
   "cell_type": "code",
   "execution_count": 25,
   "id": "806177fb",
   "metadata": {},
   "outputs": [],
   "source": [
    "# Reduced and standardized data\n",
    "df_miRNA = pd.read_csv(\"data/raw/df_concat_final.csv\", index_col=0)\n",
    "miRNA_keep = pd.read_csv(\"data/result/lasso_coefficients.csv\", index_col=0).columns.tolist()\n",
    "df_miRNA_filtered = df_miRNA[miRNA_keep]\n",
    "X = df_miRNA_filtered.values\n",
    "\n",
    "# coherent standardization with training phase\n",
    "from sklearn.preprocessing import StandardScaler\n",
    "scaler_X = StandardScaler()\n",
    "X_scaled = scaler_X.fit_transform(X)\n",
    "\n",
    "coeff_df = pd.read_csv(\"data/result/lasso_coefficients.csv\", index_col=0)\n",
    "coeff_matrix = coeff_df.values  \n",
    "\n",
    "# Rebuilding targets: P_reconstructed = X_scaled @ coeff.T\n",
    "P_reconstructed = X_scaled @ coeff_matrix.T  \n"
   ]
  },
  {
   "cell_type": "code",
   "execution_count": null,
   "id": "3c021fd0",
   "metadata": {},
   "outputs": [],
   "source": [
    "# In case we had not saved the targets in a previous step, we can load them now\n",
    "df_target = pd.read_csv(\"data/raw/subj_embeddings_train.csv\", index_col=0)\n",
    "P = df_target.values\n",
    "\n",
    "scaler_P = StandardScaler()\n",
    "P_scaled = scaler_P.fit_transform(P)\n"
   ]
  },
  {
   "cell_type": "code",
   "execution_count": 28,
   "id": "33604929",
   "metadata": {},
   "outputs": [
    {
     "name": "stdout",
     "output_type": "stream",
     "text": [
      "Overall R²   : 0.9950\n",
      "Overall MSE  : 0.0050\n"
     ]
    }
   ],
   "source": [
    "r2_global  = r2_score(P_scaled, P_reconstructed, multioutput='variance_weighted')\n",
    "mse_global = mean_squared_error(P_scaled, P_reconstructed)   \n",
    "\n",
    "print(f\"Overall R²   : {r2_global:.4f}\")\n",
    "print(f\"Overall MSE  : {mse_global:.4f}\")"
   ]
  },
  {
   "cell_type": "markdown",
   "id": "d7835765",
   "metadata": {},
   "source": [
    "#### Furtherly augmenting coefficient matrix sparsity to identify the most important miRNAs per feature\n",
    "\n",
    "This is important to reduce the size of the dataset as much as possible so that there are not too many miRNAs corresponding to a single feature"
   ]
  },
  {
   "cell_type": "code",
   "execution_count": 29,
   "id": "b9ed1c19",
   "metadata": {},
   "outputs": [],
   "source": [
    "def prune_by_relative_threshold(weight_df, perc=0.1):\n",
    "\n",
    "    \"\"\"\n",
    "    Prune the weights in a DataFrame by a relative threshold.\n",
    "    For each row, keep only the weights that are greater than or equal to\n",
    "    a specified percentage of the maximum absolute weight in that row.\n",
    "    Parameters:\n",
    "    weight_df : pd.DataFrame\n",
    "        DataFrame containing the weights to be pruned.\n",
    "    perc : float, optional\n",
    "        Percentage threshold for pruning. Default is 0.1 (10%).\n",
    "    Returns:\n",
    "    pd.DataFrame\n",
    "        A new DataFrame with pruned weights.\n",
    "    \"\"\"\n",
    "\n",
    "    pruned = weight_df.copy()\n",
    "    for i in pruned.index:\n",
    "        row = pruned.loc[i].abs()\n",
    "        max_val = row.max()\n",
    "        keep = row[row >= perc * max_val].index\n",
    "        pruned.loc[i] = pruned.loc[i].where(pruned.columns.isin(keep), 0.0)\n",
    "    return pruned\n"
   ]
  },
  {
   "cell_type": "code",
   "execution_count": 30,
   "id": "880f9063",
   "metadata": {},
   "outputs": [],
   "source": [
    "# extract the dataframe from lasso_coefficients.csv\n",
    "lasso_coefficients_df = pd.read_csv(\"data/result/lasso_coefficients.csv\", index_col=0)\n",
    "\n",
    "pruned_lasso_coefficients_df = prune_by_relative_threshold(lasso_coefficients_df, perc=0.05)\n",
    "\n",
    "# save the pruned coefficients to a CSV file\n",
    "pruned_lasso_coefficients_df.to_csv(\"data/result/pruned_lasso_coefficients.csv\", index=True)"
   ]
  },
  {
   "cell_type": "code",
   "execution_count": 36,
   "id": "9a03c1a7",
   "metadata": {},
   "outputs": [
    {
     "name": "stdout",
     "output_type": "stream",
     "text": [
      "Shape of W_pruned: (128, 300)\n",
      "Shape of X_scaled: (1256, 300)\n",
      "R² global  : 0.9827\n",
      "MSE global : 0.0173\n"
     ]
    }
   ],
   "source": [
    "\n",
    "df_miRNA  = pd.read_csv(\"data/raw/df_concat_final.csv\",      index_col=0)   # (n_samples, n_miRNA_tot)\n",
    "df_target = pd.read_csv(\"data/raw/subj_embeddings_train.csv\", index_col=0)  # (n_samples, 127)\n",
    "\n",
    "\n",
    "miRNA_keep = pruned_lasso_coefficients_df.columns.tolist()\n",
    "df_miRNA_filtered = df_miRNA[miRNA_keep]         \n",
    "\n",
    "X = df_miRNA_filtered.values                     \n",
    "P = df_target.values                             \n",
    "\n",
    "\n",
    "scaler_X = StandardScaler()\n",
    "scaler_P = StandardScaler()\n",
    "\n",
    "X_scaled = scaler_X.fit_transform(X)\n",
    "P_scaled = scaler_P.fit_transform(P)\n",
    "\n",
    "\n",
    "W_pruned = pruned_lasso_coefficients_df.values   # shape: (127, k)\n",
    "\n",
    "print(f\"Shape of W_pruned: {W_pruned.shape}\")  # (127, k) where k is the number of miRNAs kept\n",
    "print(f\"Shape of X_scaled: {X_scaled.shape}\")  # (n_samples, n_miRNA_tot)\n",
    "\n",
    "# Verifica dimensioni coerenti\n",
    "assert X_scaled.shape[1] == W_pruned.shape[1], \"Col mismatch X vs W_pruned\"\n",
    "\n",
    "P_hat = X_scaled @ W_pruned.T                    # shape: (n_samples, 127)\n",
    "\n",
    "\n",
    "r2_global  = r2_score(P_scaled, P_hat, multioutput='variance_weighted')\n",
    "mse_global = mean_squared_error(P_scaled, P_hat)\n",
    "\n",
    "print(f\"R² global  : {r2_global:.4f}\")\n",
    "print(f\"MSE global : {mse_global:.4f}\")"
   ]
  },
  {
   "cell_type": "code",
   "execution_count": 37,
   "id": "77c951ce",
   "metadata": {},
   "outputs": [
    {
     "name": "stdout",
     "output_type": "stream",
     "text": [
      "Original shape  : (128, 300)\n",
      "Reduced shape   : (128, 93)\n"
     ]
    }
   ],
   "source": [
    "# keep only non-zero coefficients (no need to evaluate the capacity of the model to reconstruct P)\n",
    "pruned_nonzero_df = pruned_lasso_coefficients_df.loc[\n",
    "    :,                                  \n",
    "    (pruned_lasso_coefficients_df != 0).any(axis=0)  \n",
    "]\n",
    "\n",
    "print(\"Original shape  :\", pruned_lasso_coefficients_df.shape)\n",
    "print(\"Reduced shape   :\", pruned_nonzero_df.shape)\n",
    "\n",
    "pruned_nonzero_df.to_csv(\"data/result/pruned_lasso_coefficients_nonzero.csv\")\n"
   ]
  },
  {
   "cell_type": "markdown",
   "id": "44ac4d43",
   "metadata": {},
   "source": [
    "## Classifications with explainability"
   ]
  },
  {
   "cell_type": "markdown",
   "id": "291f1856",
   "metadata": {},
   "source": [
    "### Training a Random Forest model over the original dataset\n",
    "\n",
    "* My goal right now is not to identify the absolute best model for classification, although it would be nice to find one with good results.\n",
    "\n",
    "* The goal is to have a tree-based model, whose predictions can be applied to SHAP to add an additional level of explainability to the answers.\n",
    "\n",
    "* What is important is the support that a genetics-based explanation can provide to an expert for classifying a patient's condition."
   ]
  },
  {
   "cell_type": "code",
   "execution_count": 47,
   "id": "50cf60b4",
   "metadata": {},
   "outputs": [],
   "source": [
    "import pandas as pd\n",
    "import numpy as np\n",
    "\n",
    "from sklearn.model_selection import train_test_split, StratifiedKFold, RandomizedSearchCV\n",
    "from sklearn.compose import ColumnTransformer\n",
    "from sklearn.preprocessing import StandardScaler\n",
    "from sklearn.pipeline import Pipeline\n",
    "from sklearn.impute import SimpleImputer\n",
    "from sklearn.preprocessing import OneHotEncoder\n",
    "from sklearn.metrics import classification_report, confusion_matrix, ConfusionMatrixDisplay\n",
    "\n",
    "from sklearn.ensemble import RandomForestClassifier"
   ]
  },
  {
   "cell_type": "code",
   "execution_count": 48,
   "id": "1859aaeb",
   "metadata": {},
   "outputs": [
    {
     "name": "stdout",
     "output_type": "stream",
     "text": [
      "(1256, 134)\n"
     ]
    },
    {
     "data": {
      "application/vnd.microsoft.datawrangler.viewer.v0+json": {
       "columns": [
        {
         "name": "index",
         "rawType": "int64",
         "type": "integer"
        },
        {
         "name": "patient_id",
         "rawType": "object",
         "type": "string"
        },
        {
         "name": "country",
         "rawType": "object",
         "type": "string"
        },
        {
         "name": "age",
         "rawType": "float64",
         "type": "float"
        },
        {
         "name": "sex",
         "rawType": "object",
         "type": "string"
        },
        {
         "name": "apoe4",
         "rawType": "float64",
         "type": "float"
        },
        {
         "name": "disease",
         "rawType": "object",
         "type": "string"
        },
        {
         "name": "0",
         "rawType": "float64",
         "type": "float"
        },
        {
         "name": "1",
         "rawType": "float64",
         "type": "float"
        },
        {
         "name": "2",
         "rawType": "float64",
         "type": "float"
        },
        {
         "name": "3",
         "rawType": "float64",
         "type": "float"
        },
        {
         "name": "4",
         "rawType": "float64",
         "type": "float"
        },
        {
         "name": "5",
         "rawType": "float64",
         "type": "float"
        },
        {
         "name": "6",
         "rawType": "float64",
         "type": "float"
        },
        {
         "name": "7",
         "rawType": "float64",
         "type": "float"
        },
        {
         "name": "8",
         "rawType": "float64",
         "type": "float"
        },
        {
         "name": "9",
         "rawType": "float64",
         "type": "float"
        },
        {
         "name": "10",
         "rawType": "float64",
         "type": "float"
        },
        {
         "name": "11",
         "rawType": "float64",
         "type": "float"
        },
        {
         "name": "12",
         "rawType": "float64",
         "type": "float"
        },
        {
         "name": "13",
         "rawType": "float64",
         "type": "float"
        },
        {
         "name": "14",
         "rawType": "float64",
         "type": "float"
        },
        {
         "name": "15",
         "rawType": "float64",
         "type": "float"
        },
        {
         "name": "16",
         "rawType": "float64",
         "type": "float"
        },
        {
         "name": "17",
         "rawType": "float64",
         "type": "float"
        },
        {
         "name": "18",
         "rawType": "float64",
         "type": "float"
        },
        {
         "name": "19",
         "rawType": "float64",
         "type": "float"
        },
        {
         "name": "20",
         "rawType": "float64",
         "type": "float"
        },
        {
         "name": "21",
         "rawType": "float64",
         "type": "float"
        },
        {
         "name": "22",
         "rawType": "float64",
         "type": "float"
        },
        {
         "name": "23",
         "rawType": "float64",
         "type": "float"
        },
        {
         "name": "24",
         "rawType": "float64",
         "type": "float"
        },
        {
         "name": "25",
         "rawType": "float64",
         "type": "float"
        },
        {
         "name": "26",
         "rawType": "float64",
         "type": "float"
        },
        {
         "name": "27",
         "rawType": "float64",
         "type": "float"
        },
        {
         "name": "28",
         "rawType": "float64",
         "type": "float"
        },
        {
         "name": "29",
         "rawType": "float64",
         "type": "float"
        },
        {
         "name": "30",
         "rawType": "float64",
         "type": "float"
        },
        {
         "name": "31",
         "rawType": "float64",
         "type": "float"
        },
        {
         "name": "32",
         "rawType": "float64",
         "type": "float"
        },
        {
         "name": "33",
         "rawType": "float64",
         "type": "float"
        },
        {
         "name": "34",
         "rawType": "float64",
         "type": "float"
        },
        {
         "name": "35",
         "rawType": "float64",
         "type": "float"
        },
        {
         "name": "36",
         "rawType": "float64",
         "type": "float"
        },
        {
         "name": "37",
         "rawType": "float64",
         "type": "float"
        },
        {
         "name": "38",
         "rawType": "float64",
         "type": "float"
        },
        {
         "name": "39",
         "rawType": "float64",
         "type": "float"
        },
        {
         "name": "40",
         "rawType": "float64",
         "type": "float"
        },
        {
         "name": "41",
         "rawType": "float64",
         "type": "float"
        },
        {
         "name": "42",
         "rawType": "float64",
         "type": "float"
        },
        {
         "name": "43",
         "rawType": "float64",
         "type": "float"
        },
        {
         "name": "44",
         "rawType": "float64",
         "type": "float"
        },
        {
         "name": "45",
         "rawType": "float64",
         "type": "float"
        },
        {
         "name": "46",
         "rawType": "float64",
         "type": "float"
        },
        {
         "name": "47",
         "rawType": "float64",
         "type": "float"
        },
        {
         "name": "48",
         "rawType": "float64",
         "type": "float"
        },
        {
         "name": "49",
         "rawType": "float64",
         "type": "float"
        },
        {
         "name": "50",
         "rawType": "float64",
         "type": "float"
        },
        {
         "name": "51",
         "rawType": "float64",
         "type": "float"
        },
        {
         "name": "52",
         "rawType": "float64",
         "type": "float"
        },
        {
         "name": "53",
         "rawType": "float64",
         "type": "float"
        },
        {
         "name": "54",
         "rawType": "float64",
         "type": "float"
        },
        {
         "name": "55",
         "rawType": "float64",
         "type": "float"
        },
        {
         "name": "56",
         "rawType": "float64",
         "type": "float"
        },
        {
         "name": "57",
         "rawType": "float64",
         "type": "float"
        },
        {
         "name": "58",
         "rawType": "float64",
         "type": "float"
        },
        {
         "name": "59",
         "rawType": "float64",
         "type": "float"
        },
        {
         "name": "60",
         "rawType": "float64",
         "type": "float"
        },
        {
         "name": "61",
         "rawType": "float64",
         "type": "float"
        },
        {
         "name": "62",
         "rawType": "float64",
         "type": "float"
        },
        {
         "name": "63",
         "rawType": "float64",
         "type": "float"
        },
        {
         "name": "64",
         "rawType": "float64",
         "type": "float"
        },
        {
         "name": "65",
         "rawType": "float64",
         "type": "float"
        },
        {
         "name": "66",
         "rawType": "float64",
         "type": "float"
        },
        {
         "name": "67",
         "rawType": "float64",
         "type": "float"
        },
        {
         "name": "68",
         "rawType": "float64",
         "type": "float"
        },
        {
         "name": "69",
         "rawType": "float64",
         "type": "float"
        },
        {
         "name": "70",
         "rawType": "float64",
         "type": "float"
        },
        {
         "name": "71",
         "rawType": "float64",
         "type": "float"
        },
        {
         "name": "72",
         "rawType": "float64",
         "type": "float"
        },
        {
         "name": "73",
         "rawType": "float64",
         "type": "float"
        },
        {
         "name": "74",
         "rawType": "float64",
         "type": "float"
        },
        {
         "name": "75",
         "rawType": "float64",
         "type": "float"
        },
        {
         "name": "76",
         "rawType": "float64",
         "type": "float"
        },
        {
         "name": "77",
         "rawType": "float64",
         "type": "float"
        },
        {
         "name": "78",
         "rawType": "float64",
         "type": "float"
        },
        {
         "name": "79",
         "rawType": "float64",
         "type": "float"
        },
        {
         "name": "80",
         "rawType": "float64",
         "type": "float"
        },
        {
         "name": "81",
         "rawType": "float64",
         "type": "float"
        },
        {
         "name": "82",
         "rawType": "float64",
         "type": "float"
        },
        {
         "name": "83",
         "rawType": "float64",
         "type": "float"
        },
        {
         "name": "84",
         "rawType": "float64",
         "type": "float"
        },
        {
         "name": "85",
         "rawType": "float64",
         "type": "float"
        },
        {
         "name": "86",
         "rawType": "float64",
         "type": "float"
        },
        {
         "name": "87",
         "rawType": "float64",
         "type": "float"
        },
        {
         "name": "88",
         "rawType": "float64",
         "type": "float"
        },
        {
         "name": "89",
         "rawType": "float64",
         "type": "float"
        },
        {
         "name": "90",
         "rawType": "float64",
         "type": "float"
        },
        {
         "name": "91",
         "rawType": "float64",
         "type": "float"
        },
        {
         "name": "92",
         "rawType": "float64",
         "type": "float"
        },
        {
         "name": "93",
         "rawType": "float64",
         "type": "float"
        },
        {
         "name": "94",
         "rawType": "float64",
         "type": "float"
        },
        {
         "name": "95",
         "rawType": "float64",
         "type": "float"
        },
        {
         "name": "96",
         "rawType": "float64",
         "type": "float"
        },
        {
         "name": "97",
         "rawType": "float64",
         "type": "float"
        },
        {
         "name": "98",
         "rawType": "float64",
         "type": "float"
        },
        {
         "name": "99",
         "rawType": "float64",
         "type": "float"
        },
        {
         "name": "100",
         "rawType": "float64",
         "type": "float"
        },
        {
         "name": "101",
         "rawType": "float64",
         "type": "float"
        },
        {
         "name": "102",
         "rawType": "float64",
         "type": "float"
        },
        {
         "name": "103",
         "rawType": "float64",
         "type": "float"
        },
        {
         "name": "104",
         "rawType": "float64",
         "type": "float"
        },
        {
         "name": "105",
         "rawType": "float64",
         "type": "float"
        },
        {
         "name": "106",
         "rawType": "float64",
         "type": "float"
        },
        {
         "name": "107",
         "rawType": "float64",
         "type": "float"
        },
        {
         "name": "108",
         "rawType": "float64",
         "type": "float"
        },
        {
         "name": "109",
         "rawType": "float64",
         "type": "float"
        },
        {
         "name": "110",
         "rawType": "float64",
         "type": "float"
        },
        {
         "name": "111",
         "rawType": "float64",
         "type": "float"
        },
        {
         "name": "112",
         "rawType": "float64",
         "type": "float"
        },
        {
         "name": "113",
         "rawType": "float64",
         "type": "float"
        },
        {
         "name": "114",
         "rawType": "float64",
         "type": "float"
        },
        {
         "name": "115",
         "rawType": "float64",
         "type": "float"
        },
        {
         "name": "116",
         "rawType": "float64",
         "type": "float"
        },
        {
         "name": "117",
         "rawType": "float64",
         "type": "float"
        },
        {
         "name": "118",
         "rawType": "float64",
         "type": "float"
        },
        {
         "name": "119",
         "rawType": "float64",
         "type": "float"
        },
        {
         "name": "120",
         "rawType": "float64",
         "type": "float"
        },
        {
         "name": "121",
         "rawType": "float64",
         "type": "float"
        },
        {
         "name": "122",
         "rawType": "float64",
         "type": "float"
        },
        {
         "name": "123",
         "rawType": "float64",
         "type": "float"
        },
        {
         "name": "124",
         "rawType": "float64",
         "type": "float"
        },
        {
         "name": "125",
         "rawType": "float64",
         "type": "float"
        },
        {
         "name": "126",
         "rawType": "float64",
         "type": "float"
        },
        {
         "name": "127",
         "rawType": "float64",
         "type": "float"
        }
       ],
       "ref": "37a1fbc9-a132-4a4c-a01b-d2dc34202b40",
       "rows": [
        [
         "0",
         "AD_0001",
         "Japan",
         "79.0",
         "female",
         "0.0",
         "AD",
         "0.0669323821998191",
         "-0.0911537945792011",
         "-0.0091248168427139",
         "0.0972513585984743",
         "-0.0326484126990197",
         "-0.1584888924234533",
         "0.1688301885909797",
         "0.0874256139080219",
         "0.0034259060709057",
         "0.046647152672299",
         "-0.0620943219626012",
         "0.2993655473359583",
         "0.19276514909798",
         "0.1467151029030575",
         "-0.042441478168629",
         "-0.1906364818322651",
         "-0.0081562725904782",
         "0.0030938265919161",
         "-0.0498585565390653",
         "0.1395045914341069",
         "0.1721028283526494",
         "0.0527957757494063",
         "-0.0044237313442559",
         "-0.1552633651227314",
         "-0.1262157856280152",
         "-0.0721271793820091",
         "-0.14302693856016",
         "0.0511819853066568",
         "-0.0354827228359436",
         "0.1025149197621374",
         "-0.1123799100887009",
         "-0.0522856890783049",
         "0.0837127593072026",
         "-0.2275974967468632",
         "-0.2338140005988273",
         "0.1634597093979767",
         "0.1018579887380387",
         "-0.0047128905611087",
         "-0.1262828911924469",
         "0.0667969416682491",
         "-0.036526006211936",
         "0.0407018583745304",
         "0.1739582695868807",
         "0.0918050791098232",
         "-0.0433404020698146",
         "-0.0218485680091417",
         "0.3048254036883931",
         "0.0854397520788275",
         "0.0102423659368632",
         "0.1498048164702882",
         "-0.0624724463392718",
         "-0.0120074569588704",
         "0.1246155496706142",
         "-0.0516958327112499",
         "0.1383102989090854",
         "-0.0631114983910818",
         "0.0257931693395192",
         "0.0218998741755528",
         "-0.0562598231440854",
         "-0.0503016541187134",
         "0.0013843443850953",
         "-0.0198146144179097",
         "-0.1749736858717624",
         "0.0751466751021368",
         "0.3115721835398304",
         "0.0784921151779143",
         "0.1179533178800442",
         "0.0287001593450144",
         "0.0342295597473401",
         "-0.0288768961983295",
         "-0.0111711416448767",
         "0.1733955647609454",
         "-0.0515198752228663",
         "-0.1833856779511892",
         "0.1770975464202521",
         "-0.2123427775857336",
         "-0.120441997936504",
         "-0.0562157458570832",
         "-0.081284967696585",
         "-0.0444843964936294",
         "-0.1345195687961634",
         "-0.0169615772607767",
         "-0.0512487003950705",
         "0.1189573942042816",
         "0.1638331698898509",
         "-0.0519964059185011",
         "0.0939749967010565",
         "0.043418944791958",
         "0.0780166945300581",
         "0.0206724716606503",
         "-0.1886286693381535",
         "0.1218781060587241",
         "-0.0724981630552687",
         "-0.0394074652936917",
         "0.025875685179172",
         "-0.0737058757821148",
         "0.0756295281874636",
         "0.0972948623997087",
         "-0.0356398670908144",
         "0.0989379476479692",
         "-0.1918927169865746",
         "-0.2245968145569553",
         "0.1782945758375104",
         "0.1110839408708599",
         "0.0182760426396079",
         "-0.0254295135496342",
         "0.4391982706688266",
         "-0.083090852482251",
         "-0.0282804074254549",
         "-0.0547531966643815",
         "-0.1141072006486428",
         "0.0220250988365898",
         "-0.0515790456431056",
         "-0.0174021567405117",
         "0.0728974074945183",
         "-0.1421121307583267",
         "0.0693640304708076",
         "-0.1869569215215804",
         "-0.2344980328882156",
         "0.0903256249319609",
         "-0.0677869005319524",
         "-0.0769032865754455",
         "0.0992992467527859",
         "0.0664710701218977",
         "-0.0993580854789906",
         "0.0316820807497957",
         "0.0932153773791154",
         "-0.0323780528949679"
        ],
        [
         "1",
         "AD_0002",
         "Japan",
         "77.0",
         "female",
         "1.0",
         "AD",
         "0.0658030781539625",
         "-0.0908255421137339",
         "-0.0085165190763583",
         "0.0970013056842398",
         "-0.032478317215765",
         "-0.1565693209795353",
         "0.1683144526179062",
         "0.0845651229502837",
         "0.0015318529687228",
         "0.0478093753701302",
         "-0.0600744795509886",
         "0.2985718517232364",
         "0.1923210200652315",
         "0.1459104790248921",
         "-0.042497280974619",
         "-0.1900865163172646",
         "-0.0094557977691615",
         "0.0040825139005571",
         "-0.0491037615540722",
         "0.1403434143233906",
         "0.1706861264288909",
         "0.052111916473916",
         "-0.0061151817770717",
         "-0.1555310928045383",
         "-0.1268032126444594",
         "-0.0717916824143391",
         "-0.1427801267400424",
         "0.0510706568178472",
         "-0.0350093752532513",
         "0.1027401959314888",
         "-0.1120669912008705",
         "-0.0536972891688202",
         "0.0837405400947637",
         "-0.2273544679484107",
         "-0.2330244341962339",
         "0.1654400334923487",
         "0.1009488031716601",
         "-0.0053573185884009",
         "-0.1258855400963193",
         "0.0668354396305742",
         "-0.0359865211745629",
         "0.0412287836360366",
         "0.173047262288706",
         "0.0904324475432973",
         "-0.0423654965143038",
         "-0.0208216853528383",
         "0.3033400556037001",
         "0.0872939180473175",
         "0.0113760137862474",
         "0.1505794048779085",
         "-0.0637185741865773",
         "-0.0089479459113045",
         "0.1245167211955725",
         "-0.0497276426376423",
         "0.1361399894842015",
         "-0.0625388601458813",
         "0.0247428186800226",
         "0.0224515594310939",
         "-0.0545295305929576",
         "-0.0514437577917046",
         "0.0014932599210708",
         "-0.0196079694107492",
         "-0.1754313584806332",
         "0.0748738912218594",
         "0.3112326414147092",
         "0.0800078419656718",
         "0.117380732790904",
         "0.028956558739658",
         "0.0331251659428362",
         "-0.028706047761812",
         "-0.0126711666013798",
         "0.1731103004610817",
         "-0.0499801409369434",
         "-0.1828119849251019",
         "0.1787971943841056",
         "-0.21240412495977",
         "-0.1199013759203542",
         "-0.0568660012944301",
         "-0.0805156049273092",
         "-0.0431668641367681",
         "-0.1342471119869898",
         "-0.0179119432633908",
         "-0.0524479609154105",
         "0.118167004190997",
         "0.1625707496811308",
         "-0.0521925887244354",
         "0.0940322940916038",
         "0.0428391117206012",
         "0.0784292113294236",
         "0.0183011521701307",
         "-0.1884176047680812",
         "0.1209579813247413",
         "-0.0710307207621021",
         "-0.0391402780459431",
         "0.0272950597892719",
         "-0.0725494189826737",
         "0.0736499989067931",
         "0.0960200852161011",
         "-0.0341670590976053",
         "0.0981708174782469",
         "-0.189227551192908",
         "-0.225410081617432",
         "0.1771209323581894",
         "0.1094242928328439",
         "0.0179339780127683",
         "-0.0259536515755054",
         "0.4373567042370329",
         "-0.0826989233964471",
         "-0.0304419517484742",
         "-0.055501604810077",
         "-0.1155098475844952",
         "0.0193718843234512",
         "-0.0528468904208911",
         "-0.017779991624834",
         "0.0723249440270408",
         "-0.1431939285218061",
         "0.0684413899708876",
         "-0.1861817752745831",
         "-0.2335512678854557",
         "0.0902268415850109",
         "-0.0667374249168263",
         "-0.0737546186916321",
         "0.0965475903321396",
         "0.0669703989212828",
         "-0.1006916064701414",
         "0.0296336636321758",
         "0.0935049570244922",
         "-0.0324749237063777"
        ],
        [
         "2",
         "AD_0003",
         "Japan",
         "76.0",
         "female",
         "0.0",
         "AD",
         "0.0659810080604974",
         "-0.0905609327960274",
         "-0.0079458138412558",
         "0.0973322386577616",
         "-0.0324202960567631",
         "-0.1564116018270197",
         "0.1674846487791431",
         "0.0851005249316473",
         "0.0024216972617364",
         "0.0478859860310054",
         "-0.0599795189985862",
         "0.2988839262800059",
         "0.1922039902756593",
         "0.1462938087617125",
         "-0.0428594343660567",
         "-0.1901807294287014",
         "-0.0101681521174619",
         "0.0042398237388185",
         "-0.0492993420788412",
         "0.1400331014170309",
         "0.1712132452854396",
         "0.05294660584416",
         "-0.0056406974579768",
         "-0.1553295970211283",
         "-0.1265872726686284",
         "-0.071164287199441",
         "-0.1421457749899357",
         "0.0501973723568859",
         "-0.0352335919024057",
         "0.1032565768776017",
         "-0.1121696351980819",
         "-0.0526715270621434",
         "0.0837760011436261",
         "-0.2267329777431904",
         "-0.2334986364614548",
         "0.1647547239192526",
         "0.1008398226070985",
         "-0.0051215179549107",
         "-0.1256354170466247",
         "0.0664056133427068",
         "-0.0358548419195409",
         "0.0408736364466636",
         "0.1724901834438117",
         "0.0910516955973109",
         "-0.0420000285893946",
         "-0.020575084007833",
         "0.30384138092458",
         "0.0870253978088046",
         "0.0113313076815644",
         "0.1491492197255035",
         "-0.0633206712912821",
         "-0.0095348654910721",
         "0.1239253948117973",
         "-0.0505945825409645",
         "0.1361915461291018",
         "-0.0614331204117251",
         "0.0240341194945477",
         "0.0218257981690663",
         "-0.0552995086698718",
         "-0.051570825219667",
         "0.0012363195515232",
         "-0.0206913720331524",
         "-0.1748732225880774",
         "0.0758781096932316",
         "0.3108230650694101",
         "0.0802015904638189",
         "0.1173364120058116",
         "0.0291054559373257",
         "0.032745124464807",
         "-0.0300151479216812",
         "-0.0121677798649445",
         "0.1725526687029509",
         "-0.050259430573919",
         "-0.182317692390571",
         "0.1784091405320358",
         "-0.2128192558750038",
         "-0.1200858146020568",
         "-0.0566809599244554",
         "-0.0796280074243275",
         "-0.0430788538405058",
         "-0.1346058728082585",
         "-0.0173328357428904",
         "-0.0525101170481987",
         "0.1180613260087211",
         "0.1622883321957272",
         "-0.052419785778121",
         "0.094494186169892",
         "0.0434294658192018",
         "0.078101267114172",
         "0.0185745358958336",
         "-0.1883001537150135",
         "0.1202777016031847",
         "-0.0715625312787612",
         "-0.0390159611640409",
         "0.0265696173461993",
         "-0.0729636749461817",
         "0.0736070784989184",
         "0.0968744615963298",
         "-0.0339077093256743",
         "0.0984665344897041",
         "-0.1892184493753538",
         "-0.2249176679046177",
         "0.1774424727011912",
         "0.1095828154636686",
         "0.0183459495497264",
         "-0.0255401061510381",
         "0.4377817371745152",
         "-0.0819291496548232",
         "-0.0303899735663195",
         "-0.0545085894479039",
         "-0.1154743562731032",
         "0.0197783143792684",
         "-0.0526192848063271",
         "-0.0171666900524887",
         "0.0710969042070881",
         "-0.1428911966764948",
         "0.068661553539794",
         "-0.1855733317232368",
         "-0.2333439054055382",
         "0.089427816827591",
         "-0.0669424873105561",
         "-0.0747387179849803",
         "0.0975391520563729",
         "0.0666091406199376",
         "-0.1007856367293589",
         "0.0299017029970949",
         "0.0935844108746285",
         "-0.0331756565248645"
        ],
        [
         "3",
         "AD_0005",
         "Japan",
         "74.0",
         "male",
         "0.0",
         "AD",
         "0.0679187938639357",
         "-0.0914662542497406",
         "-0.0101794711619783",
         "0.097227480610615",
         "-0.0324199014518257",
         "-0.1608680094212971",
         "0.1690170414924614",
         "0.0907853875094479",
         "0.0047092040946348",
         "0.045266593201666",
         "-0.0643668627050038",
         "0.3001620865797676",
         "0.1934811904687687",
         "0.1480184205311268",
         "-0.041445415120608",
         "-0.191201033646009",
         "-0.0058730783784481",
         "0.0030271360897329",
         "-0.0498647470611536",
         "0.1391653033336652",
         "0.1732005993362715",
         "0.0528872175616994",
         "-0.0032668462438121",
         "-0.1552959038803566",
         "-0.1257533782725575",
         "-0.0729794899157914",
         "-0.1444341104402698",
         "0.0517018709204315",
         "-0.0357029395434058",
         "0.1022963873625958",
         "-0.1121883318885311",
         "-0.0512866635312054",
         "0.0833300983058823",
         "-0.229107088509955",
         "-0.2338142285341112",
         "0.1617402897811103",
         "0.1029174596696313",
         "-0.0033744911038602",
         "-0.1272708802818651",
         "0.0668183501280134",
         "-0.0370506040536447",
         "0.0398484747197607",
         "0.1751594128570935",
         "0.0930755421877004",
         "-0.0447066454979369",
         "-0.0224437827476611",
         "0.3058894316329257",
         "0.0830873422746182",
         "0.0093163758579947",
         "0.1494289379793433",
         "-0.0620782407176325",
         "-0.0152668980797468",
         "0.1249376894628065",
         "-0.0533066581680283",
         "0.1396988528085244",
         "-0.0638236517903631",
         "0.0274261109357623",
         "0.0213174909480216",
         "-0.0574619671228922",
         "-0.0485324623876264",
         "0.001718195734925",
         "-0.0191402849169584",
         "-0.1745518749633749",
         "0.0741153455267811",
         "0.3115636413771494",
         "0.0770272856630697",
         "0.1184486093345691",
         "0.0288842033132317",
         "0.0353691816427163",
         "-0.0278559108448969",
         "-0.0098041933039959",
         "0.1739948094739245",
         "-0.0532679392076444",
         "-0.1841165451415474",
         "0.1746738087089839",
         "-0.2122735758853381",
         "-0.1207498827440684",
         "-0.0554697107585176",
         "-0.0818696475104727",
         "-0.0455843067563737",
         "-0.1349814442270979",
         "-0.0157325810603141",
         "-0.0498634859719295",
         "0.1203139288237423",
         "0.165614385013732",
         "-0.0523730781691766",
         "0.09424227435206",
         "0.0434291733748706",
         "0.0783615560865101",
         "0.023545545276603",
         "-0.189019700777938",
         "0.1233074857353589",
         "-0.0733393811288752",
         "-0.0394785410428376",
         "0.0244972700545077",
         "-0.0751041855198792",
         "0.0779939811285488",
         "0.0978395831981709",
         "-0.0376462272009193",
         "0.0997073715774018",
         "-0.1938146373392516",
         "-0.2238716242474328",
         "0.1794227597099151",
         "0.1129068753987497",
         "0.0192161385098733",
         "-0.0248088136587114",
         "0.4411112797554258",
         "-0.0838100938970956",
         "-0.0257851038498307",
         "-0.0544692986249652",
         "-0.1135884684066356",
         "0.024146981060636",
         "-0.0511355919408517",
         "-0.0177715613352516",
         "0.0738075232516494",
         "-0.1401855999024104",
         "0.0698284092372338",
         "-0.188003887956865",
         "-0.2358319079915917",
         "0.0898024181355477",
         "-0.0697283291116596",
         "-0.0794342273493171",
         "0.1023338164207985",
         "0.0658362552164427",
         "-0.0982164637025266",
         "0.0345191747837396",
         "0.093079876785531",
         "-0.0322141399806441"
        ],
        [
         "4",
         "AD_0006",
         "Japan",
         "83.0",
         "female",
         "0.0",
         "AD",
         "0.0693966680558973",
         "-0.0918972673851278",
         "-0.011155434989649",
         "0.0975516022738611",
         "-0.0320222038333507",
         "-0.1631343762638623",
         "0.1706023149614347",
         "0.0927261902222957",
         "0.0050620805147695",
         "0.0447329319089949",
         "-0.0670563008165583",
         "0.3013516519094292",
         "0.1939904633031427",
         "0.1481106325695504",
         "-0.0417995997259252",
         "-0.1926405993860083",
         "-0.0046177886975981",
         "0.0037256956405292",
         "-0.0504906257705308",
         "0.1389113685854376",
         "0.1738644880151707",
         "0.0522594715201092",
         "-0.0028793155332395",
         "-0.156216999261202",
         "-0.1268129062177673",
         "-0.0744133312194995",
         "-0.1456989382664383",
         "0.0518840167409113",
         "-0.035297849190403",
         "0.1027304032166409",
         "-0.1124354010605913",
         "-0.0519184539277958",
         "0.0836535504011497",
         "-0.2307070186036711",
         "-0.2350710264971002",
         "0.1618830470472578",
         "0.1044742744216251",
         "-0.0030935858869226",
         "-0.1284391804227213",
         "0.067562462233917",
         "-0.0375330418735461",
         "0.0403521858384458",
         "0.1768732859246284",
         "0.0946095012095788",
         "-0.0460461941115359",
         "-0.0236926372386318",
         "0.3074899871812302",
         "0.0821775749385801",
         "0.0093240403649731",
         "0.1504902181072809",
         "-0.0611340486275578",
         "-0.0174027926759002",
         "0.1250525473038827",
         "-0.0543150614491115",
         "0.1413223004425732",
         "-0.06425066357109",
         "0.0283142381021669",
         "0.0208414222611357",
         "-0.0585262296904147",
         "-0.048262195361726",
         "0.0018848514070392",
         "-0.0186378969850326",
         "-0.1756051272844374",
         "0.0737015761292773",
         "0.3129140710023986",
         "0.0763226874634675",
         "0.1190128685838917",
         "0.0290207380886376",
         "0.036668981999318",
         "-0.0272182537048563",
         "-0.0094462866931479",
         "0.175531218683531",
         "-0.0536730394036643",
         "-0.185472401480493",
         "0.1740044544280342",
         "-0.2129246873083594",
         "-0.1206681767169782",
         "-0.055127210524908",
         "-0.082460168268342",
         "-0.0464106059361418",
         "-0.1358613165590572",
         "-0.0158913126440461",
         "-0.0485401349672792",
         "0.1213762999200365",
         "0.1669072201332186",
         "-0.0521510347047281",
         "0.0945741420932594",
         "0.0441563970835128",
         "0.0784991399601414",
         "0.0248284290817004",
         "-0.1900410005353795",
         "0.1252923452650612",
         "-0.0743790742629897",
         "-0.0400501506401535",
         "0.0244784413686447",
         "-0.0756428793035057",
         "0.0799053943927115",
         "0.0975738263557107",
         "-0.0395752225864391",
         "0.1008902596580624",
         "-0.1962163754450112",
         "-0.2244076045815663",
         "0.1814221016046007",
         "0.1142645077618665",
         "0.0201328568313369",
         "-0.0246537720642024",
         "0.4438043276400557",
         "-0.0846452267555773",
         "-0.0239613223165528",
         "-0.0551621351876598",
         "-0.1132820029194702",
         "0.0261711231760419",
         "-0.0506839833743495",
         "-0.0183340247810846",
         "0.0743412908637931",
         "-0.1409472410294421",
         "0.070591477655251",
         "-0.1896506775427011",
         "-0.2372895128137875",
         "0.0904460111007334",
         "-0.0708794964389697",
         "-0.0805855367895507",
         "0.1031400175121124",
         "0.065943011588263",
         "-0.0973771961681148",
         "0.0352570330596114",
         "0.0938317846226575",
         "-0.0318372153126589"
        ]
       ],
       "shape": {
        "columns": 134,
        "rows": 5
       }
      },
      "text/html": [
       "<div>\n",
       "<style scoped>\n",
       "    .dataframe tbody tr th:only-of-type {\n",
       "        vertical-align: middle;\n",
       "    }\n",
       "\n",
       "    .dataframe tbody tr th {\n",
       "        vertical-align: top;\n",
       "    }\n",
       "\n",
       "    .dataframe thead th {\n",
       "        text-align: right;\n",
       "    }\n",
       "</style>\n",
       "<table border=\"1\" class=\"dataframe\">\n",
       "  <thead>\n",
       "    <tr style=\"text-align: right;\">\n",
       "      <th></th>\n",
       "      <th>patient_id</th>\n",
       "      <th>country</th>\n",
       "      <th>age</th>\n",
       "      <th>sex</th>\n",
       "      <th>apoe4</th>\n",
       "      <th>disease</th>\n",
       "      <th>0</th>\n",
       "      <th>1</th>\n",
       "      <th>2</th>\n",
       "      <th>3</th>\n",
       "      <th>...</th>\n",
       "      <th>118</th>\n",
       "      <th>119</th>\n",
       "      <th>120</th>\n",
       "      <th>121</th>\n",
       "      <th>122</th>\n",
       "      <th>123</th>\n",
       "      <th>124</th>\n",
       "      <th>125</th>\n",
       "      <th>126</th>\n",
       "      <th>127</th>\n",
       "    </tr>\n",
       "  </thead>\n",
       "  <tbody>\n",
       "    <tr>\n",
       "      <th>0</th>\n",
       "      <td>AD_0001</td>\n",
       "      <td>Japan</td>\n",
       "      <td>79.0</td>\n",
       "      <td>female</td>\n",
       "      <td>0.0</td>\n",
       "      <td>AD</td>\n",
       "      <td>0.066932</td>\n",
       "      <td>-0.091154</td>\n",
       "      <td>-0.009125</td>\n",
       "      <td>0.097251</td>\n",
       "      <td>...</td>\n",
       "      <td>-0.234498</td>\n",
       "      <td>0.090326</td>\n",
       "      <td>-0.067787</td>\n",
       "      <td>-0.076903</td>\n",
       "      <td>0.099299</td>\n",
       "      <td>0.066471</td>\n",
       "      <td>-0.099358</td>\n",
       "      <td>0.031682</td>\n",
       "      <td>0.093215</td>\n",
       "      <td>-0.032378</td>\n",
       "    </tr>\n",
       "    <tr>\n",
       "      <th>1</th>\n",
       "      <td>AD_0002</td>\n",
       "      <td>Japan</td>\n",
       "      <td>77.0</td>\n",
       "      <td>female</td>\n",
       "      <td>1.0</td>\n",
       "      <td>AD</td>\n",
       "      <td>0.065803</td>\n",
       "      <td>-0.090826</td>\n",
       "      <td>-0.008517</td>\n",
       "      <td>0.097001</td>\n",
       "      <td>...</td>\n",
       "      <td>-0.233551</td>\n",
       "      <td>0.090227</td>\n",
       "      <td>-0.066737</td>\n",
       "      <td>-0.073755</td>\n",
       "      <td>0.096548</td>\n",
       "      <td>0.066970</td>\n",
       "      <td>-0.100692</td>\n",
       "      <td>0.029634</td>\n",
       "      <td>0.093505</td>\n",
       "      <td>-0.032475</td>\n",
       "    </tr>\n",
       "    <tr>\n",
       "      <th>2</th>\n",
       "      <td>AD_0003</td>\n",
       "      <td>Japan</td>\n",
       "      <td>76.0</td>\n",
       "      <td>female</td>\n",
       "      <td>0.0</td>\n",
       "      <td>AD</td>\n",
       "      <td>0.065981</td>\n",
       "      <td>-0.090561</td>\n",
       "      <td>-0.007946</td>\n",
       "      <td>0.097332</td>\n",
       "      <td>...</td>\n",
       "      <td>-0.233344</td>\n",
       "      <td>0.089428</td>\n",
       "      <td>-0.066942</td>\n",
       "      <td>-0.074739</td>\n",
       "      <td>0.097539</td>\n",
       "      <td>0.066609</td>\n",
       "      <td>-0.100786</td>\n",
       "      <td>0.029902</td>\n",
       "      <td>0.093584</td>\n",
       "      <td>-0.033176</td>\n",
       "    </tr>\n",
       "    <tr>\n",
       "      <th>3</th>\n",
       "      <td>AD_0005</td>\n",
       "      <td>Japan</td>\n",
       "      <td>74.0</td>\n",
       "      <td>male</td>\n",
       "      <td>0.0</td>\n",
       "      <td>AD</td>\n",
       "      <td>0.067919</td>\n",
       "      <td>-0.091466</td>\n",
       "      <td>-0.010179</td>\n",
       "      <td>0.097227</td>\n",
       "      <td>...</td>\n",
       "      <td>-0.235832</td>\n",
       "      <td>0.089802</td>\n",
       "      <td>-0.069728</td>\n",
       "      <td>-0.079434</td>\n",
       "      <td>0.102334</td>\n",
       "      <td>0.065836</td>\n",
       "      <td>-0.098216</td>\n",
       "      <td>0.034519</td>\n",
       "      <td>0.093080</td>\n",
       "      <td>-0.032214</td>\n",
       "    </tr>\n",
       "    <tr>\n",
       "      <th>4</th>\n",
       "      <td>AD_0006</td>\n",
       "      <td>Japan</td>\n",
       "      <td>83.0</td>\n",
       "      <td>female</td>\n",
       "      <td>0.0</td>\n",
       "      <td>AD</td>\n",
       "      <td>0.069397</td>\n",
       "      <td>-0.091897</td>\n",
       "      <td>-0.011155</td>\n",
       "      <td>0.097552</td>\n",
       "      <td>...</td>\n",
       "      <td>-0.237290</td>\n",
       "      <td>0.090446</td>\n",
       "      <td>-0.070879</td>\n",
       "      <td>-0.080586</td>\n",
       "      <td>0.103140</td>\n",
       "      <td>0.065943</td>\n",
       "      <td>-0.097377</td>\n",
       "      <td>0.035257</td>\n",
       "      <td>0.093832</td>\n",
       "      <td>-0.031837</td>\n",
       "    </tr>\n",
       "  </tbody>\n",
       "</table>\n",
       "<p>5 rows × 134 columns</p>\n",
       "</div>"
      ],
      "text/plain": [
       "  patient_id country   age     sex  apoe4 disease         0         1  \\\n",
       "0    AD_0001   Japan  79.0  female    0.0      AD  0.066932 -0.091154   \n",
       "1    AD_0002   Japan  77.0  female    1.0      AD  0.065803 -0.090826   \n",
       "2    AD_0003   Japan  76.0  female    0.0      AD  0.065981 -0.090561   \n",
       "3    AD_0005   Japan  74.0    male    0.0      AD  0.067919 -0.091466   \n",
       "4    AD_0006   Japan  83.0  female    0.0      AD  0.069397 -0.091897   \n",
       "\n",
       "          2         3  ...       118       119       120       121       122  \\\n",
       "0 -0.009125  0.097251  ... -0.234498  0.090326 -0.067787 -0.076903  0.099299   \n",
       "1 -0.008517  0.097001  ... -0.233551  0.090227 -0.066737 -0.073755  0.096548   \n",
       "2 -0.007946  0.097332  ... -0.233344  0.089428 -0.066942 -0.074739  0.097539   \n",
       "3 -0.010179  0.097227  ... -0.235832  0.089802 -0.069728 -0.079434  0.102334   \n",
       "4 -0.011155  0.097552  ... -0.237290  0.090446 -0.070879 -0.080586  0.103140   \n",
       "\n",
       "        123       124       125       126       127  \n",
       "0  0.066471 -0.099358  0.031682  0.093215 -0.032378  \n",
       "1  0.066970 -0.100692  0.029634  0.093505 -0.032475  \n",
       "2  0.066609 -0.100786  0.029902  0.093584 -0.033176  \n",
       "3  0.065836 -0.098216  0.034519  0.093080 -0.032214  \n",
       "4  0.065943 -0.097377  0.035257  0.093832 -0.031837  \n",
       "\n",
       "[5 rows x 134 columns]"
      ]
     },
     "execution_count": 48,
     "metadata": {},
     "output_type": "execute_result"
    }
   ],
   "source": [
    "DATA_PATH = \"data/result/patient_full_embeddings.csv\"\n",
    "df = pd.read_csv(DATA_PATH)\n",
    "\n",
    "print(df.shape)\n",
    "df.head()"
   ]
  },
  {
   "cell_type": "code",
   "execution_count": 49,
   "id": "c54d4979",
   "metadata": {},
   "outputs": [
    {
     "name": "stdout",
     "output_type": "stream",
     "text": [
      "Colonne con NA: ['sex']\n"
     ]
    }
   ],
   "source": [
    "# Removing superfluous columns \n",
    "# country column is almost no informative, so we drop it\n",
    "# I preferred removing age and apoe4 to avoid any potential bias in the model\n",
    "df = df.drop(columns=[\"patient_id\", \"country\", \"age\", \"apoe4\"])\n",
    "\n",
    "# Checking missing values\n",
    "missing_cols = df.columns[df.isna().any()]\n",
    "print(\"Colonne con NA:\", missing_cols.tolist())\n"
   ]
  },
  {
   "cell_type": "code",
   "execution_count": 50,
   "id": "adb317a5",
   "metadata": {},
   "outputs": [],
   "source": [
    "TARGET = \"disease\"\n",
    "y = df[TARGET]\n",
    "X = df.drop(columns=[TARGET])\n"
   ]
  },
  {
   "cell_type": "code",
   "execution_count": 51,
   "id": "fb4e9eb2",
   "metadata": {},
   "outputs": [],
   "source": [
    "numeric_cols = X.select_dtypes(include=[\"number\"]).columns\n",
    "categorical_cols = X.select_dtypes(exclude=[\"number\"]).columns  \n",
    "\n",
    "\n",
    "numeric_transformer = Pipeline(steps=[\n",
    "    (\"imputer\", SimpleImputer(strategy=\"median\")),\n",
    "    (\"scaler\",  StandardScaler())        \n",
    "])\n",
    "\n",
    "\n",
    "categorical_transformer = Pipeline(steps=[\n",
    "    (\"imputer\", SimpleImputer(strategy=\"most_frequent\")),\n",
    "    (\"encoder\", OneHotEncoder(handle_unknown=\"ignore\"))\n",
    "])\n",
    "\n",
    "preprocess = ColumnTransformer(\n",
    "    transformers=[\n",
    "        (\"num\", numeric_transformer, numeric_cols),\n",
    "        (\"cat\", categorical_transformer, categorical_cols),\n",
    "    ],\n",
    "    remainder=\"drop\"          \n",
    ")\n"
   ]
  },
  {
   "cell_type": "code",
   "execution_count": 52,
   "id": "75a37c79",
   "metadata": {},
   "outputs": [
    {
     "name": "stdout",
     "output_type": "stream",
     "text": [
      "disease\n",
      "AD     0.669323\n",
      "NC     0.239044\n",
      "MCI    0.091633\n",
      "Name: proportion, dtype: float64 \n",
      "\n",
      "disease\n",
      "AD     0.670635\n",
      "NC     0.238095\n",
      "MCI    0.091270\n",
      "Name: proportion, dtype: float64\n"
     ]
    }
   ],
   "source": [
    "X_train, X_test, y_train, y_test = train_test_split(\n",
    "    X, y, test_size=0.20, stratify=y, random_state=42\n",
    ")\n",
    "print(y_train.value_counts(normalize=True), \"\\n\")\n",
    "print(y_test.value_counts(normalize=True))\n"
   ]
  },
  {
   "cell_type": "code",
   "execution_count": 53,
   "id": "f1e4a6fb",
   "metadata": {},
   "outputs": [],
   "source": [
    "rf = RandomForestClassifier(\n",
    "    n_estimators=500,\n",
    "    class_weight=\"balanced\",    # considering the class imbalance\n",
    "    random_state=42,\n",
    "    n_jobs=-1\n",
    ")\n"
   ]
  },
  {
   "cell_type": "code",
   "execution_count": 54,
   "id": "a68a0c26",
   "metadata": {},
   "outputs": [
    {
     "name": "stdout",
     "output_type": "stream",
     "text": [
      "Fitting 5 folds for each of 30 candidates, totalling 150 fits\n",
      "Best hyperparameters: {'model__n_estimators': 300, 'model__min_samples_split': 2, 'model__min_samples_leaf': 4, 'model__max_features': 'log2', 'model__max_depth': 10}\n"
     ]
    }
   ],
   "source": [
    "param_dist = {\n",
    "    \"model__n_estimators\": [300, 500, 800],\n",
    "    \"model__max_depth\": [None, 10, 20, 40],\n",
    "    \"model__min_samples_split\": [2, 5, 10],\n",
    "    \"model__min_samples_leaf\": [1, 2, 4],\n",
    "    \"model__max_features\": [\"sqrt\", \"log2\", None]\n",
    "}\n",
    "\n",
    "clf = Pipeline(steps=[\n",
    "    (\"preprocess\", preprocess),\n",
    "    (\"model\", rf)\n",
    "])\n",
    "\n",
    "cv = StratifiedKFold(n_splits=5, shuffle=True, random_state=42)\n",
    "\n",
    "search = RandomizedSearchCV(\n",
    "    clf,\n",
    "    param_distributions=param_dist,\n",
    "    n_iter=30,\n",
    "    scoring=\"f1_macro\",     # goal: balancing results across classes\n",
    "    n_jobs=-1,\n",
    "    cv=cv,\n",
    "    verbose=1,\n",
    "    random_state=42\n",
    ")\n",
    "search.fit(X_train, y_train)\n",
    "\n",
    "print(\"Best hyperparameters:\", search.best_params_)\n"
   ]
  },
  {
   "cell_type": "code",
   "execution_count": 55,
   "id": "86c23d1e",
   "metadata": {},
   "outputs": [
    {
     "name": "stdout",
     "output_type": "stream",
     "text": [
      "              precision    recall  f1-score   support\n",
      "\n",
      "          AD      0.730     0.864     0.791       169\n",
      "         MCI      1.000     0.435     0.606        23\n",
      "          NC      0.381     0.267     0.314        60\n",
      "\n",
      "    accuracy                          0.683       252\n",
      "   macro avg      0.704     0.522     0.570       252\n",
      "weighted avg      0.672     0.683     0.661       252\n",
      "\n"
     ]
    },
    {
     "data": {
      "text/plain": [
       "<sklearn.metrics._plot.confusion_matrix.ConfusionMatrixDisplay at 0x1fde4b04310>"
      ]
     },
     "execution_count": 55,
     "metadata": {},
     "output_type": "execute_result"
    },
    {
     "data": {
      "image/png": "[encoded data removed]",
      "text/plain": [
       "<Figure size 640x480 with 2 Axes>"
      ]
     },
     "metadata": {},
     "output_type": "display_data"
    }
   ],
   "source": [
    "best_model = search.best_estimator_\n",
    "\n",
    "y_pred = best_model.predict(X_test)\n",
    "print(classification_report(y_test, y_pred, digits=3))\n",
    "\n",
    "cm = confusion_matrix(y_test, y_pred, labels=best_model.classes_)\n",
    "ConfusionMatrixDisplay(confusion_matrix=cm, display_labels=best_model.classes_).plot()"
   ]
  },
  {
   "cell_type": "code",
   "execution_count": 56,
   "id": "9b9dcf4a",
   "metadata": {},
   "outputs": [
    {
     "data": {
      "text/plain": [
       "['models/random_forest_mirna.pkl']"
      ]
     },
     "execution_count": 56,
     "metadata": {},
     "output_type": "execute_result"
    }
   ],
   "source": [
    "# save the obtained model (to avoid re-traning the model)\n",
    "import joblib\n",
    "joblib.dump(best_model, \"models/random_forest_mirna.pkl\")"
   ]
  },
  {
   "cell_type": "markdown",
   "id": "58169826",
   "metadata": {},
   "source": [
    "### Enhance classifications: explainability with SHAP"
   ]
  },
  {
   "cell_type": "code",
   "execution_count": 57,
   "id": "d35c3b77",
   "metadata": {},
   "outputs": [],
   "source": [
    "import joblib, shap, pandas as pd, numpy as np\n",
    "from pathlib import Path\n",
    "\n",
    "model_path = Path(\"models/random_forest_mirna.pkl\")\n",
    "best_model = joblib.load(model_path)\n",
    "\n",
    "DATA_PATH = Path(\"data/result/patient_full_embeddings.csv\")\n",
    "df      = pd.read_csv(DATA_PATH)\n",
    "\n",
    "# replicate the same preprocessing as in the training phase\n",
    "X   = df.drop(columns=[\"patient_id\", \"country\", \"disease\", \"age\", \"apoe4\"])\n",
    "y   = df[\"disease\"]\n"
   ]
  },
  {
   "cell_type": "code",
   "execution_count": 58,
   "id": "1b57e765",
   "metadata": {},
   "outputs": [
    {
     "name": "stdout",
     "output_type": "stream",
     "text": [
      "130\n"
     ]
    }
   ],
   "source": [
    "pre = best_model.named_steps[\"preprocess\"]\n",
    "\n",
    "feature_names = pre.get_feature_names_out()\n",
    "print(len(feature_names))        \n"
   ]
  },
  {
   "cell_type": "code",
   "execution_count": 59,
   "id": "b998d929",
   "metadata": {},
   "outputs": [],
   "source": [
    "# Use shap.Explainer for tree-based models\n",
    "explainer = shap.Explainer(\n",
    "    best_model.named_steps[\"model\"],          \n",
    "    pre.transform(X),                         \n",
    "    feature_names=feature_names,\n",
    "    algorithm=\"tree\"\n",
    ")"
   ]
  },
  {
   "cell_type": "code",
   "execution_count": 60,
   "id": "6f68afdb",
   "metadata": {},
   "outputs": [
    {
     "name": "stderr",
     "output_type": "stream",
     "text": [
      " 99%|===================| 750/756 [00:17<00:00]        "
     ]
    }
   ],
   "source": [
    "X_test_pre = pre.transform(X_test)\n",
    "\n",
    "shap_values = explainer(X_test_pre, check_additivity=False)  "
   ]
  },
  {
   "cell_type": "code",
   "execution_count": 61,
   "id": "1972fae4",
   "metadata": {},
   "outputs": [],
   "source": [
    "def top_features_for_instance(shap_vals, feature_names, idx, N=10, class_id=None, X_test_pre=None):\n",
    "    \"\"\"\n",
    "    Returns a DataFrame with the N most influential features (in absolute value)\n",
    "    for the instance `idx` and for the class `class_id`, including the value of the preprocessed feature.\n",
    "    \"\"\"\n",
    "    sv = shap_vals.values if isinstance(shap_vals, shap.Explanation) else shap_vals\n",
    "\n",
    "    if class_id is None:\n",
    "        class_id = np.abs(sv[idx]).sum(axis=0).argmax()\n",
    "\n",
    "    vals  = sv[idx, :, class_id]\n",
    "    order = np.argsort(-np.abs(vals))[:N]\n",
    "\n",
    "    features     = np.array(feature_names)[order]\n",
    "    shap_values  = vals[order]\n",
    "    directions   = [\"+\" if v > 0 else \"-\" for v in shap_values]\n",
    "\n",
    "    # adding raw values if available\n",
    "    raw_values = X_test_pre[idx][order] if X_test_pre is not None else [\"?\"] * N\n",
    "\n",
    "    return pd.DataFrame({\n",
    "        \"feature\"       : features,\n",
    "        \"shap_value\"    : shap_values,\n",
    "        \"raw_value\"     : raw_values,\n",
    "        \"direction (+ ⇒ pro‑class)\" : directions\n",
    "    })"
   ]
  },
  {
   "cell_type": "markdown",
   "id": "62eed1d8",
   "metadata": {},
   "source": [
    "Interpreting results:\n",
    "\n",
    "- Positive SHAP value: the feature contributes to push the prediction towards the predicted class\n",
    "- Negative SHAP value: the feature contributes to push the prediction away the predicted class\n",
    "\n",
    "- Positive raw value: the feature has a higher value with respect to the preprocessing\n",
    "- Negative raw value: the feature has a lower value with respect to the preprocessing\n",
    "\n",
    "- +: the feature favors the predicted class\n",
    "- -: the feature contrasts with the predicted class"
   ]
  },
  {
   "cell_type": "code",
   "execution_count": 62,
   "id": "155a7303",
   "metadata": {},
   "outputs": [
    {
     "data": {
      "application/vnd.microsoft.datawrangler.viewer.v0+json": {
       "columns": [
        {
         "name": "index",
         "rawType": "int64",
         "type": "integer"
        },
        {
         "name": "feature",
         "rawType": "object",
         "type": "string"
        },
        {
         "name": "shap_value",
         "rawType": "float64",
         "type": "float"
        },
        {
         "name": "raw_value",
         "rawType": "float64",
         "type": "float"
        },
        {
         "name": "direction (+ ⇒ pro‑class)",
         "rawType": "object",
         "type": "string"
        }
       ],
       "ref": "11de3c25-a434-44a4-a164-84edcb85ae91",
       "rows": [
        [
         "0",
         "num__99",
         "-0.006590278539567293",
         "-0.034113593444951865",
         "-"
        ],
        [
         "1",
         "num__71",
         "-0.006398969236747689",
         "0.019246210789340343",
         "-"
        ],
        [
         "2",
         "num__90",
         "-0.006336027086570084",
         "0.00986032768827484",
         "-"
        ],
        [
         "3",
         "num__62",
         "0.005254535637085382",
         "-0.13287852421107174",
         "+"
        ],
        [
         "4",
         "num__127",
         "-0.005173130073480934",
         "0.020084095980503053",
         "-"
        ],
        [
         "5",
         "cat__sex_male",
         "0.005007398451555218",
         "0.0",
         "+"
        ],
        [
         "6",
         "num__37",
         "0.0045820387837807175",
         "-0.10772410138104248",
         "+"
        ],
        [
         "7",
         "num__31",
         "0.004373236195983736",
         "-0.11139586382354254",
         "+"
        ],
        [
         "8",
         "num__64",
         "-0.0043587015843513655",
         "0.012276273805440656",
         "-"
        ],
        [
         "9",
         "num__113",
         "-0.004295463887808637",
         "0.0765385759748201",
         "-"
        ],
        [
         "10",
         "cat__sex_female",
         "0.0042069993655093185",
         "1.0",
         "+"
        ],
        [
         "11",
         "num__102",
         "-0.003976395426975614",
         "-0.09290180462450624",
         "-"
        ],
        [
         "12",
         "num__110",
         "0.003797841731435483",
         "-0.10789543757992157",
         "+"
        ],
        [
         "13",
         "num__104",
         "0.0037907673639892892",
         "-0.10016497369073225",
         "+"
        ],
        [
         "14",
         "num__92",
         "0.003540358955112879",
         "0.12743897441191507",
         "+"
        ]
       ],
       "shape": {
        "columns": 4,
        "rows": 15
       }
      },
      "text/html": [
       "<div>\n",
       "<style scoped>\n",
       "    .dataframe tbody tr th:only-of-type {\n",
       "        vertical-align: middle;\n",
       "    }\n",
       "\n",
       "    .dataframe tbody tr th {\n",
       "        vertical-align: top;\n",
       "    }\n",
       "\n",
       "    .dataframe thead th {\n",
       "        text-align: right;\n",
       "    }\n",
       "</style>\n",
       "<table border=\"1\" class=\"dataframe\">\n",
       "  <thead>\n",
       "    <tr style=\"text-align: right;\">\n",
       "      <th></th>\n",
       "      <th>feature</th>\n",
       "      <th>shap_value</th>\n",
       "      <th>raw_value</th>\n",
       "      <th>direction (+ ⇒ pro‑class)</th>\n",
       "    </tr>\n",
       "  </thead>\n",
       "  <tbody>\n",
       "    <tr>\n",
       "      <th>0</th>\n",
       "      <td>num__99</td>\n",
       "      <td>-0.006590</td>\n",
       "      <td>-0.034114</td>\n",
       "      <td>-</td>\n",
       "    </tr>\n",
       "    <tr>\n",
       "      <th>1</th>\n",
       "      <td>num__71</td>\n",
       "      <td>-0.006399</td>\n",
       "      <td>0.019246</td>\n",
       "      <td>-</td>\n",
       "    </tr>\n",
       "    <tr>\n",
       "      <th>2</th>\n",
       "      <td>num__90</td>\n",
       "      <td>-0.006336</td>\n",
       "      <td>0.009860</td>\n",
       "      <td>-</td>\n",
       "    </tr>\n",
       "    <tr>\n",
       "      <th>3</th>\n",
       "      <td>num__62</td>\n",
       "      <td>0.005255</td>\n",
       "      <td>-0.132879</td>\n",
       "      <td>+</td>\n",
       "    </tr>\n",
       "    <tr>\n",
       "      <th>4</th>\n",
       "      <td>num__127</td>\n",
       "      <td>-0.005173</td>\n",
       "      <td>0.020084</td>\n",
       "      <td>-</td>\n",
       "    </tr>\n",
       "    <tr>\n",
       "      <th>5</th>\n",
       "      <td>cat__sex_male</td>\n",
       "      <td>0.005007</td>\n",
       "      <td>0.000000</td>\n",
       "      <td>+</td>\n",
       "    </tr>\n",
       "    <tr>\n",
       "      <th>6</th>\n",
       "      <td>num__37</td>\n",
       "      <td>0.004582</td>\n",
       "      <td>-0.107724</td>\n",
       "      <td>+</td>\n",
       "    </tr>\n",
       "    <tr>\n",
       "      <th>7</th>\n",
       "      <td>num__31</td>\n",
       "      <td>0.004373</td>\n",
       "      <td>-0.111396</td>\n",
       "      <td>+</td>\n",
       "    </tr>\n",
       "    <tr>\n",
       "      <th>8</th>\n",
       "      <td>num__64</td>\n",
       "      <td>-0.004359</td>\n",
       "      <td>0.012276</td>\n",
       "      <td>-</td>\n",
       "    </tr>\n",
       "    <tr>\n",
       "      <th>9</th>\n",
       "      <td>num__113</td>\n",
       "      <td>-0.004295</td>\n",
       "      <td>0.076539</td>\n",
       "      <td>-</td>\n",
       "    </tr>\n",
       "    <tr>\n",
       "      <th>10</th>\n",
       "      <td>cat__sex_female</td>\n",
       "      <td>0.004207</td>\n",
       "      <td>1.000000</td>\n",
       "      <td>+</td>\n",
       "    </tr>\n",
       "    <tr>\n",
       "      <th>11</th>\n",
       "      <td>num__102</td>\n",
       "      <td>-0.003976</td>\n",
       "      <td>-0.092902</td>\n",
       "      <td>-</td>\n",
       "    </tr>\n",
       "    <tr>\n",
       "      <th>12</th>\n",
       "      <td>num__110</td>\n",
       "      <td>0.003798</td>\n",
       "      <td>-0.107895</td>\n",
       "      <td>+</td>\n",
       "    </tr>\n",
       "    <tr>\n",
       "      <th>13</th>\n",
       "      <td>num__104</td>\n",
       "      <td>0.003791</td>\n",
       "      <td>-0.100165</td>\n",
       "      <td>+</td>\n",
       "    </tr>\n",
       "    <tr>\n",
       "      <th>14</th>\n",
       "      <td>num__92</td>\n",
       "      <td>0.003540</td>\n",
       "      <td>0.127439</td>\n",
       "      <td>+</td>\n",
       "    </tr>\n",
       "  </tbody>\n",
       "</table>\n",
       "</div>"
      ],
      "text/plain": [
       "            feature  shap_value  raw_value direction (+ ⇒ pro‑class)\n",
       "0           num__99   -0.006590  -0.034114                         -\n",
       "1           num__71   -0.006399   0.019246                         -\n",
       "2           num__90   -0.006336   0.009860                         -\n",
       "3           num__62    0.005255  -0.132879                         +\n",
       "4          num__127   -0.005173   0.020084                         -\n",
       "5     cat__sex_male    0.005007   0.000000                         +\n",
       "6           num__37    0.004582  -0.107724                         +\n",
       "7           num__31    0.004373  -0.111396                         +\n",
       "8           num__64   -0.004359   0.012276                         -\n",
       "9          num__113   -0.004295   0.076539                         -\n",
       "10  cat__sex_female    0.004207   1.000000                         +\n",
       "11         num__102   -0.003976  -0.092902                         -\n",
       "12         num__110    0.003798  -0.107895                         +\n",
       "13         num__104    0.003791  -0.100165                         +\n",
       "14          num__92    0.003540   0.127439                         +"
      ]
     },
     "execution_count": 62,
     "metadata": {},
     "output_type": "execute_result"
    }
   ],
   "source": [
    "idx = 0  # an example\n",
    "\n",
    "pred_label = best_model.predict(X_test.iloc[[idx]])[0]\n",
    "class_id   = np.where(best_model.classes_ == pred_label)[0][0]\n",
    "\n",
    "df_top = top_features_for_instance(\n",
    "    shap_values, feature_names, idx, N=15, class_id=class_id, X_test_pre=X_test_pre\n",
    ")\n",
    "\n",
    "df_top"
   ]
  },
  {
   "cell_type": "markdown",
   "id": "d9b0ae10",
   "metadata": {},
   "source": [
    "### Mappping miRNA influence over a prediction based on extracted features"
   ]
  },
  {
   "cell_type": "code",
   "execution_count": 63,
   "id": "7f4427f0",
   "metadata": {},
   "outputs": [],
   "source": [
    "mapping_df = pd.read_csv(\n",
    "    \"data/result/pruned_lasso_coefficients_nonzero.csv\",\n",
    "    index_col=0          \n",
    ")"
   ]
  },
  {
   "cell_type": "code",
   "execution_count": 64,
   "id": "3cc0e66f",
   "metadata": {},
   "outputs": [],
   "source": [
    "def mirna_explain(\n",
    "        shap_df: pd.DataFrame,      # feature, shap_value, raw_value\n",
    "        mapping_df: pd.DataFrame,\n",
    "        top_k_feat_per_mirna: int = 3\n",
    "    ) -> pd.DataFrame:\n",
    "    \"\"\"\n",
    "    Aligning explainability at feature-level and miRNA-level.\n",
    "\n",
    "    Parameters\n",
    "    ----------\n",
    "    shap_df : DataFrame with columns ['feature', 'shap_value', 'raw_value'].\n",
    "    mapping_df : DataFrame idx='Feature_x', columns=miRNA, values=coeff.\n",
    "    top_k_feat_per_mirna : how many feature names to return (stringa \"feat1, feat2 ...\").\n",
    "\n",
    "    Returns\n",
    "    -------\n",
    "    df_mirna : miRNA, aggregated_weight, agg_raw, n_features, top_features\n",
    "    \"\"\"\n",
    "    import re\n",
    "    from collections import defaultdict\n",
    "    import numpy as np\n",
    "    import pandas as pd\n",
    "\n",
    "    agg_weight  = defaultdict(float)    # aggregated SHAP weights per miRNA\n",
    "    agg_raw     = defaultdict(float)    # aggregated raw values per miRNA\n",
    "    feat_list   = defaultdict(list)     # list of most influent features per miRNA\n",
    "\n",
    "    for _, row in shap_df.iterrows():\n",
    "        # processing (needed to match the mapping_df index)\n",
    "        m = re.search(r'(\\d+)', row['feature'])\n",
    "        feat_key = f\"Feature_{m.group(1)}\" if m else row['feature']\n",
    "        if feat_key not in mapping_df.index:\n",
    "            continue\n",
    "\n",
    "        coeff_series = mapping_df.loc[feat_key]\n",
    "\n",
    "        # update aggregated values\n",
    "        agg_weight.update({mi: agg_weight[mi] + coeff_series[mi] * row['shap_value']\n",
    "                           for mi in coeff_series.index})\n",
    "        agg_raw.update({mi: agg_raw[mi] + coeff_series[mi] * row['raw_value']\n",
    "                        for mi in coeff_series.index})\n",
    "        for mi in coeff_series.index:\n",
    "            if len(feat_list[mi]) < top_k_feat_per_mirna:\n",
    "                feat_list[mi].append(row['feature'])\n",
    "\n",
    "    df = (\n",
    "        pd.DataFrame({\n",
    "            \"miRNA\":   agg_weight.keys(),\n",
    "            \"aggregated_weight\": agg_weight.values(),\n",
    "            \"agg_raw\": [agg_raw[mi] for mi in agg_weight.keys()],\n",
    "            \"n_features\": [len(feat_list[mi]) for mi in agg_weight.keys()],\n",
    "            \"top_features\": [\", \".join(feat_list[mi]) for mi in agg_weight.keys()]\n",
    "        })\n",
    "        .query(\"aggregated_weight != 0\")\n",
    "        .sort_values(\"aggregated_weight\", ascending=False)\n",
    "        .reset_index(drop=True)\n",
    "    )\n",
    "    return df\n"
   ]
  },
  {
   "cell_type": "code",
   "execution_count": 65,
   "id": "9ce293fe",
   "metadata": {},
   "outputs": [
    {
     "data": {
      "application/vnd.microsoft.datawrangler.viewer.v0+json": {
       "columns": [
        {
         "name": "index",
         "rawType": "int64",
         "type": "integer"
        },
        {
         "name": "miRNA",
         "rawType": "object",
         "type": "string"
        },
        {
         "name": "aggregated_weight",
         "rawType": "float64",
         "type": "float"
        },
        {
         "name": "agg_raw",
         "rawType": "float64",
         "type": "float"
        },
        {
         "name": "n_features",
         "rawType": "int64",
         "type": "integer"
        },
        {
         "name": "top_features",
         "rawType": "object",
         "type": "string"
        }
       ],
       "ref": "ab1a4483-50ef-4332-ad7b-f909cc3f6802",
       "rows": [
        [
         "0",
         "hsa-miR-6729-5p",
         "0.014207900547990912",
         "-0.49445796375368173",
         "3",
         "num__99, num__71, num__90"
        ],
        [
         "1",
         "hsa-miR-6087",
         "0.011484819795826294",
         "-0.22439436036047566",
         "3",
         "num__99, num__71, num__90"
        ],
        [
         "2",
         "hsa-miR-4734",
         "0.0075351683593233056",
         "-0.17364440950147944",
         "3",
         "num__99, num__71, num__90"
        ],
        [
         "3",
         "hsa-miR-2861",
         "0.007235664610732754",
         "-0.3388525267508012",
         "3",
         "num__99, num__71, num__90"
        ],
        [
         "4",
         "hsa-miR-7704",
         "0.004653751534075915",
         "-0.29575043365156317",
         "3",
         "num__99, num__71, num__90"
        ],
        [
         "5",
         "hsa-miR-6895-5p",
         "0.0034417906177222207",
         "-0.09542200972398802",
         "3",
         "num__99, num__71, num__90"
        ],
        [
         "6",
         "hsa-miR-1268a",
         "0.0032190779702098164",
         "0.004115314800625457",
         "3",
         "num__99, num__71, num__90"
        ],
        [
         "7",
         "hsa-miR-3663-3p",
         "0.00317579116678189",
         "-0.10555046767332574",
         "3",
         "num__99, num__71, num__90"
        ],
        [
         "8",
         "hsa-miR-3665",
         "0.00300901369108432",
         "-0.09676455665908601",
         "3",
         "num__99, num__71, num__90"
        ],
        [
         "9",
         "hsa-miR-6125",
         "0.0029388387817503993",
         "-0.05755421822184043",
         "3",
         "num__99, num__71, num__90"
        ]
       ],
       "shape": {
        "columns": 5,
        "rows": 10
       }
      },
      "text/html": [
       "<div>\n",
       "<style scoped>\n",
       "    .dataframe tbody tr th:only-of-type {\n",
       "        vertical-align: middle;\n",
       "    }\n",
       "\n",
       "    .dataframe tbody tr th {\n",
       "        vertical-align: top;\n",
       "    }\n",
       "\n",
       "    .dataframe thead th {\n",
       "        text-align: right;\n",
       "    }\n",
       "</style>\n",
       "<table border=\"1\" class=\"dataframe\">\n",
       "  <thead>\n",
       "    <tr style=\"text-align: right;\">\n",
       "      <th></th>\n",
       "      <th>miRNA</th>\n",
       "      <th>aggregated_weight</th>\n",
       "      <th>agg_raw</th>\n",
       "      <th>n_features</th>\n",
       "      <th>top_features</th>\n",
       "    </tr>\n",
       "  </thead>\n",
       "  <tbody>\n",
       "    <tr>\n",
       "      <th>0</th>\n",
       "      <td>hsa-miR-6729-5p</td>\n",
       "      <td>0.014208</td>\n",
       "      <td>-0.494458</td>\n",
       "      <td>3</td>\n",
       "      <td>num__99, num__71, num__90</td>\n",
       "    </tr>\n",
       "    <tr>\n",
       "      <th>1</th>\n",
       "      <td>hsa-miR-6087</td>\n",
       "      <td>0.011485</td>\n",
       "      <td>-0.224394</td>\n",
       "      <td>3</td>\n",
       "      <td>num__99, num__71, num__90</td>\n",
       "    </tr>\n",
       "    <tr>\n",
       "      <th>2</th>\n",
       "      <td>hsa-miR-4734</td>\n",
       "      <td>0.007535</td>\n",
       "      <td>-0.173644</td>\n",
       "      <td>3</td>\n",
       "      <td>num__99, num__71, num__90</td>\n",
       "    </tr>\n",
       "    <tr>\n",
       "      <th>3</th>\n",
       "      <td>hsa-miR-2861</td>\n",
       "      <td>0.007236</td>\n",
       "      <td>-0.338853</td>\n",
       "      <td>3</td>\n",
       "      <td>num__99, num__71, num__90</td>\n",
       "    </tr>\n",
       "    <tr>\n",
       "      <th>4</th>\n",
       "      <td>hsa-miR-7704</td>\n",
       "      <td>0.004654</td>\n",
       "      <td>-0.295750</td>\n",
       "      <td>3</td>\n",
       "      <td>num__99, num__71, num__90</td>\n",
       "    </tr>\n",
       "    <tr>\n",
       "      <th>5</th>\n",
       "      <td>hsa-miR-6895-5p</td>\n",
       "      <td>0.003442</td>\n",
       "      <td>-0.095422</td>\n",
       "      <td>3</td>\n",
       "      <td>num__99, num__71, num__90</td>\n",
       "    </tr>\n",
       "    <tr>\n",
       "      <th>6</th>\n",
       "      <td>hsa-miR-1268a</td>\n",
       "      <td>0.003219</td>\n",
       "      <td>0.004115</td>\n",
       "      <td>3</td>\n",
       "      <td>num__99, num__71, num__90</td>\n",
       "    </tr>\n",
       "    <tr>\n",
       "      <th>7</th>\n",
       "      <td>hsa-miR-3663-3p</td>\n",
       "      <td>0.003176</td>\n",
       "      <td>-0.105550</td>\n",
       "      <td>3</td>\n",
       "      <td>num__99, num__71, num__90</td>\n",
       "    </tr>\n",
       "    <tr>\n",
       "      <th>8</th>\n",
       "      <td>hsa-miR-3665</td>\n",
       "      <td>0.003009</td>\n",
       "      <td>-0.096765</td>\n",
       "      <td>3</td>\n",
       "      <td>num__99, num__71, num__90</td>\n",
       "    </tr>\n",
       "    <tr>\n",
       "      <th>9</th>\n",
       "      <td>hsa-miR-6125</td>\n",
       "      <td>0.002939</td>\n",
       "      <td>-0.057554</td>\n",
       "      <td>3</td>\n",
       "      <td>num__99, num__71, num__90</td>\n",
       "    </tr>\n",
       "  </tbody>\n",
       "</table>\n",
       "</div>"
      ],
      "text/plain": [
       "             miRNA  aggregated_weight   agg_raw  n_features  \\\n",
       "0  hsa-miR-6729-5p           0.014208 -0.494458           3   \n",
       "1     hsa-miR-6087           0.011485 -0.224394           3   \n",
       "2     hsa-miR-4734           0.007535 -0.173644           3   \n",
       "3     hsa-miR-2861           0.007236 -0.338853           3   \n",
       "4     hsa-miR-7704           0.004654 -0.295750           3   \n",
       "5  hsa-miR-6895-5p           0.003442 -0.095422           3   \n",
       "6    hsa-miR-1268a           0.003219  0.004115           3   \n",
       "7  hsa-miR-3663-3p           0.003176 -0.105550           3   \n",
       "8     hsa-miR-3665           0.003009 -0.096765           3   \n",
       "9     hsa-miR-6125           0.002939 -0.057554           3   \n",
       "\n",
       "                top_features  \n",
       "0  num__99, num__71, num__90  \n",
       "1  num__99, num__71, num__90  \n",
       "2  num__99, num__71, num__90  \n",
       "3  num__99, num__71, num__90  \n",
       "4  num__99, num__71, num__90  \n",
       "5  num__99, num__71, num__90  \n",
       "6  num__99, num__71, num__90  \n",
       "7  num__99, num__71, num__90  \n",
       "8  num__99, num__71, num__90  \n",
       "9  num__99, num__71, num__90  "
      ]
     },
     "execution_count": 65,
     "metadata": {},
     "output_type": "execute_result"
    }
   ],
   "source": [
    "shap_df = top_features_for_instance(\n",
    "    shap_values, feature_names, idx,\n",
    "    N=50, class_id=class_id, X_test_pre=X_test_pre\n",
    ")\n",
    "\n",
    "mirna_detailed = mirna_explain(shap_df, mapping_df, top_k_feat_per_mirna=3)\n",
    "\n",
    "mirna_detailed.head(10)\n"
   ]
  }
 ],
 "metadata": {
  "kernelspec": {
   "display_name": "base",
   "language": "python",
   "name": "python3"
  },
  "language_info": {
   "codemirror_mode": {
    "name": "ipython",
    "version": 3
   },
   "file_extension": ".py",
   "mimetype": "text/x-python",
   "name": "python",
   "nbconvert_exporter": "python",
   "pygments_lexer": "ipython3",
   "version": "3.11.7"
  }
 },
 "nbformat": 4,
 "nbformat_minor": 5
}
